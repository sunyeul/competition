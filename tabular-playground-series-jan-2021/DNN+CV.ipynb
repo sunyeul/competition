{
 "cells": [
  {
   "cell_type": "code",
   "execution_count": 1,
   "metadata": {},
   "outputs": [],
   "source": [
    "%load_ext lab_black"
   ]
  },
  {
   "cell_type": "code",
   "execution_count": 2,
   "metadata": {},
   "outputs": [],
   "source": [
    "%config Completer.use_jedi = False"
   ]
  },
  {
   "cell_type": "code",
   "execution_count": 3,
   "metadata": {},
   "outputs": [],
   "source": [
    "import numpy as np\n",
    "import pandas as pd\n",
    "\n",
    "import matplotlib.pyplot as plt\n",
    "import seaborn as sns\n",
    "\n",
    "import time\n",
    "from tqdm.notebook import tqdm\n",
    "\n",
    "from sklearn.preprocessing import StandardScaler\n",
    "from sklearn.metrics import mean_squared_error\n",
    "from sklearn.model_selection import KFold\n",
    "from tensorflow import keras\n",
    "from tensorflow.keras import layers"
   ]
  },
  {
   "cell_type": "code",
   "execution_count": 4,
   "metadata": {},
   "outputs": [],
   "source": [
    "path = \"input/\""
   ]
  },
  {
   "cell_type": "code",
   "execution_count": 5,
   "metadata": {},
   "outputs": [],
   "source": [
    "train = pd.read_csv(path + \"train.csv\")\n",
    "test = pd.read_csv(path + \"test.csv\")\n",
    "submission = pd.read_csv(path + \"sample_submission.csv\")"
   ]
  },
  {
   "cell_type": "code",
   "execution_count": 6,
   "metadata": {},
   "outputs": [],
   "source": [
    "numerical_cols = [f\"cont{i}\" for i in range(1, 15)]\n",
    "target_col = \"target\"\n",
    "\n",
    "for c in numerical_cols:\n",
    "    prep = StandardScaler()\n",
    "    train[c] = prep.fit_transform(train[[c]])\n",
    "    test[c] = prep.transform(test[[c]])\n",
    "\n",
    "X_train = train.drop([\"id\", \"target\"], axis=1)\n",
    "y_train = train[\"target\"]\n",
    "X_test = test.drop(\"id\", axis=1)"
   ]
  },
  {
   "cell_type": "code",
   "execution_count": null,
   "metadata": {},
   "outputs": [
    {
     "name": "stdout",
     "output_type": "stream",
     "text": [
      "Epoch 1/1000\n",
      "8/8 [==============================] - 3s 379ms/step - loss: 41.2493 - root_mean_squared_error: 6.3555 - val_loss: 9.1889 - val_root_mean_squared_error: 3.0313\n",
      "Epoch 2/1000\n",
      "8/8 [==============================] - 3s 381ms/step - loss: 8.9020 - root_mean_squared_error: 2.9737 - val_loss: 3.2354 - val_root_mean_squared_error: 1.7987\n",
      "Epoch 3/1000\n",
      "8/8 [==============================] - 3s 424ms/step - loss: 3.9020 - root_mean_squared_error: 1.9738 - val_loss: 2.4752 - val_root_mean_squared_error: 1.5733\n",
      "Epoch 4/1000\n",
      "8/8 [==============================] - 4s 450ms/step - loss: 2.3217 - root_mean_squared_error: 1.5234 - val_loss: 2.4315 - val_root_mean_squared_error: 1.5593\n",
      "Epoch 5/1000\n",
      "8/8 [==============================] - 3s 418ms/step - loss: 2.0986 - root_mean_squared_error: 1.4479 - val_loss: 2.0022 - val_root_mean_squared_error: 1.4150\n",
      "Epoch 6/1000\n",
      "8/8 [==============================] - 4s 493ms/step - loss: 1.8837 - root_mean_squared_error: 1.3722 - val_loss: 1.7029 - val_root_mean_squared_error: 1.3050\n",
      "Epoch 7/1000\n",
      "8/8 [==============================] - 4s 492ms/step - loss: 1.6748 - root_mean_squared_error: 1.2941 - val_loss: 1.5755 - val_root_mean_squared_error: 1.2552\n",
      "Epoch 8/1000\n",
      "8/8 [==============================] - 4s 498ms/step - loss: 1.5664 - root_mean_squared_error: 1.2516 - val_loss: 1.5128 - val_root_mean_squared_error: 1.2300\n",
      "Epoch 9/1000\n",
      "8/8 [==============================] - 4s 509ms/step - loss: 1.4948 - root_mean_squared_error: 1.2226 - val_loss: 1.4665 - val_root_mean_squared_error: 1.2110\n",
      "Epoch 10/1000\n",
      "8/8 [==============================] - 4s 539ms/step - loss: 1.4489 - root_mean_squared_error: 1.2037 - val_loss: 1.4239 - val_root_mean_squared_error: 1.1933\n",
      "Epoch 11/1000\n",
      "8/8 [==============================] - 4s 495ms/step - loss: 1.4049 - root_mean_squared_error: 1.1853 - val_loss: 1.3866 - val_root_mean_squared_error: 1.1775\n",
      "Epoch 12/1000\n",
      "8/8 [==============================] - 4s 465ms/step - loss: 1.3697 - root_mean_squared_error: 1.1703 - val_loss: 1.3510 - val_root_mean_squared_error: 1.1623\n",
      "Epoch 13/1000\n",
      "8/8 [==============================] - 4s 473ms/step - loss: 1.3303 - root_mean_squared_error: 1.1534 - val_loss: 1.3185 - val_root_mean_squared_error: 1.1483\n",
      "Epoch 14/1000\n",
      "8/8 [==============================] - 4s 467ms/step - loss: 1.3013 - root_mean_squared_error: 1.1407 - val_loss: 1.2869 - val_root_mean_squared_error: 1.1344\n",
      "Epoch 15/1000\n",
      "8/8 [==============================] - 4s 469ms/step - loss: 1.2730 - root_mean_squared_error: 1.1283 - val_loss: 1.2569 - val_root_mean_squared_error: 1.1211\n",
      "Epoch 16/1000\n",
      "8/8 [==============================] - 4s 512ms/step - loss: 1.2472 - root_mean_squared_error: 1.1168 - val_loss: 1.2274 - val_root_mean_squared_error: 1.1079\n",
      "Epoch 17/1000\n",
      "8/8 [==============================] - 4s 454ms/step - loss: 1.2144 - root_mean_squared_error: 1.1020 - val_loss: 1.1982 - val_root_mean_squared_error: 1.0946\n",
      "Epoch 18/1000\n",
      "8/8 [==============================] - 4s 466ms/step - loss: 1.1869 - root_mean_squared_error: 1.0894 - val_loss: 1.1692 - val_root_mean_squared_error: 1.0813\n",
      "Epoch 19/1000\n",
      "8/8 [==============================] - 4s 478ms/step - loss: 1.1525 - root_mean_squared_error: 1.0736 - val_loss: 1.1400 - val_root_mean_squared_error: 1.0677\n",
      "Epoch 20/1000\n",
      "8/8 [==============================] - 4s 462ms/step - loss: 1.1220 - root_mean_squared_error: 1.0593 - val_loss: 1.1106 - val_root_mean_squared_error: 1.0539\n",
      "Epoch 21/1000\n",
      "8/8 [==============================] - ETA: 0s - loss: 1.0934 - root_mean_squared_error: 1.0457"
     ]
    }
   ],
   "source": [
    "cv = KFold(n_splits=5, shuffle=True, random_state=7)\n",
    "\n",
    "y_preds = []\n",
    "models = []\n",
    "oof_train = np.zeros((len(X_train),))\n",
    "\n",
    "for fold_id, (train_index, valid_index) in enumerate(cv.split(X_train, y_train)):\n",
    "    X_tr = X_train.loc[train_index, :]\n",
    "    X_val = X_train.loc[valid_index, :]\n",
    "    y_tr = y_train.loc[train_index]\n",
    "    y_val = y_train.loc[valid_index]\n",
    "\n",
    "    model = keras.Sequential([\n",
    "        layers.Dense(1024, activation='relu'),\n",
    "        layers.Dense(256, activation='relu'),\n",
    "        layers.Dense(64, activation='relu'),\n",
    "        layers.Dense(1, activation='linear'),\n",
    "    ])\n",
    "\n",
    "    model.compile(\n",
    "        optimizer='adam',\n",
    "        loss='mse',\n",
    "        metrics=[keras.metrics.RootMeanSquaredError()]\n",
    "    )\n",
    "\n",
    "    early_stopping = keras.callbacks.EarlyStopping(\n",
    "        patience=10,\n",
    "        min_delta=0.05,\n",
    "        restore_best_weights=True,\n",
    "    )\n",
    "\n",
    "    model.fit(\n",
    "        X_tr, y_tr,\n",
    "        validation_data=(X_val, y_val),\n",
    "        batch_size=30000,\n",
    "        epochs=1000,\n",
    "        callbacks=[early_stopping],\n",
    "    )\n",
    "\n",
    "    oof_train[valid_index] = model.predict(X_val).reshape(1, -1)[0]\n",
    "    y_pred = model.predict(X_test).reshape(1, -1)[0]\n",
    "\n",
    "    y_preds.append(y_pred)\n",
    "    models.append(model)"
   ]
  },
  {
   "cell_type": "code",
   "execution_count": null,
   "metadata": {},
   "outputs": [],
   "source": [
    "models[0].summary()"
   ]
  },
  {
   "cell_type": "code",
   "execution_count": null,
   "metadata": {},
   "outputs": [],
   "source": [
    "print(f\"CV: {mean_squared_error(y_train, oof_train, squared=False)}\")"
   ]
  },
  {
   "cell_type": "code",
   "execution_count": null,
   "metadata": {},
   "outputs": [],
   "source": [
    "y_pred = sum(y_preds) / len(y_preds)\n",
    "submission['target'] = y_pred\n",
    "submission.to_csv('submission.csv', index=False)\n",
    "submission.head()"
   ]
  }
 ],
 "metadata": {
  "kernelspec": {
   "display_name": "Python 3",
   "language": "python",
   "name": "python3"
  },
  "language_info": {
   "codemirror_mode": {
    "name": "ipython",
    "version": 3
   },
   "file_extension": ".py",
   "mimetype": "text/x-python",
   "name": "python",
   "nbconvert_exporter": "python",
   "pygments_lexer": "ipython3",
   "version": "3.8.2"
  }
 },
 "nbformat": 4,
 "nbformat_minor": 4
}
