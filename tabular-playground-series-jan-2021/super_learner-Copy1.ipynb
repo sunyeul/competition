{
 "cells": [
  {
   "cell_type": "code",
   "execution_count": 1,
   "metadata": {},
   "outputs": [],
   "source": [
    "%load_ext lab_black"
   ]
  },
  {
   "cell_type": "code",
   "execution_count": 2,
   "metadata": {},
   "outputs": [],
   "source": [
    "%config Completer.use_jedi = False"
   ]
  },
  {
   "cell_type": "code",
   "execution_count": 579,
   "metadata": {},
   "outputs": [],
   "source": [
    "import numpy as np\n",
    "import pandas as pd\n",
    "\n",
    "import matplotlib.pyplot as plt\n",
    "import seaborn as sns\n",
    "\n",
    "import time\n",
    "from tqdm.notebook import tqdm\n",
    "\n",
    "from sklearn.datasets import load_boston\n",
    "from sklearn.model_selection import train_test_split, KFold\n",
    "from sklearn.metrics import mean_squared_error, r2_score\n",
    "\n",
    "from sklearn.linear_model import LinearRegression\n",
    "from sklearn.ensemble import (\n",
    "    AdaBoostRegressor,\n",
    "    GradientBoostingRegressor,\n",
    "    RandomForestRegressor,\n",
    "    ExtraTreesRegressor,\n",
    ")\n",
    "\n",
    "from lightgbm import LGBMRegressor\n",
    "from xgboost import XGBRFRegressor, XGBRegressor\n",
    "from ngboost import NGBRegressor"
   ]
  },
  {
   "cell_type": "code",
   "execution_count": 580,
   "metadata": {},
   "outputs": [],
   "source": [
    "X = pd.DataFrame(load_boston()[\"data\"], columns=load_boston()[\"feature_names\"])\n",
    "y = pd.Series(load_boston()[\"target\"])"
   ]
  },
  {
   "cell_type": "code",
   "execution_count": 581,
   "metadata": {},
   "outputs": [],
   "source": [
    "def rmse_score(y_true, y_pred):\n",
    "    return np.sqrt(mean_squared_error(y_true, y_pred))"
   ]
  },
  {
   "cell_type": "code",
   "execution_count": 598,
   "metadata": {},
   "outputs": [],
   "source": [
    "# create a list of base-models\n",
    "def get_models():\n",
    "    models = list()\n",
    "    models.append(AdaBoostRegressor())\n",
    "    models.append(GradientBoostingRegressor())\n",
    "    models.append(RandomForestRegressor())\n",
    "    models.append(ExtraTreesRegressor())\n",
    "    models.append(LGBMRegressor())\n",
    "    models.append(XGBRegressor())\n",
    "    models.append(XGBRFRegressor())\n",
    "\n",
    "    return models"
   ]
  },
  {
   "cell_type": "code",
   "execution_count": 599,
   "metadata": {},
   "outputs": [],
   "source": [
    "def get_oof_pred(X, y, cv, models):\n",
    "    meta_X = pd.DataFrame()\n",
    "\n",
    "    for i, model in tqdm(enumerate(models), total=len(models)):\n",
    "\n",
    "        oof_pred = np.zeros_like(y)\n",
    "\n",
    "        for j, (train_idx, valid_idx) in tqdm(enumerate(cv), total=len(cv)):\n",
    "            X_train, y_train = X[train_idx], y[train_idx]\n",
    "            X_valid, y_valid = X[valid_idx], y[valid_idx]\n",
    "\n",
    "            model.fit(X_train, y_train)\n",
    "\n",
    "            y_pred = model.predict(X_valid)\n",
    "            oof_pred[valid_idx] = y_pred\n",
    "\n",
    "        meta_X[f\"{model.__class__.__name__}\"] = oof_pred\n",
    "        print(\n",
    "            f\"{model.__class__.__name__} Out of Fold RMSE: {rmse_score(y, oof_pred):.3f}\\tR2: {r2_score(y, oof_pred):.3f}\"\n",
    "        )\n",
    "\n",
    "    return meta_X.add_suffix(\"_oof\")"
   ]
  },
  {
   "cell_type": "code",
   "execution_count": 600,
   "metadata": {},
   "outputs": [],
   "source": [
    "def fit_base_models(X, y, models):\n",
    "    for model in tqdm(models, total=len(models)):\n",
    "        print(\"Fitting\", model.__class__.__name__, \"is done\")\n",
    "        model.fit(X, y)"
   ]
  },
  {
   "cell_type": "code",
   "execution_count": 681,
   "metadata": {},
   "outputs": [
    {
     "data": {
      "text/plain": [
       "array([-0.10416654,  0.14025199, -0.32022607,  0.77459095,  0.21355855,\n",
       "        0.28238713,  0.01346033,  0.02001236])"
      ]
     },
     "execution_count": 681,
     "metadata": {},
     "output_type": "execute_result"
    }
   ],
   "source": [
    "np.append(meta_model.coef_, meta_model.intercept_)"
   ]
  },
  {
   "cell_type": "code",
   "execution_count": 696,
   "metadata": {},
   "outputs": [],
   "source": [
    "def fit_meta_model(X, y):\n",
    "    model = ElasticNet(fit_intercept=True, max_iter=10_000)\n",
    "    #     model = BayesianRidge()\n",
    "    model.fit(X, y)\n",
    "\n",
    "    output_df = pd.DataFrame(\n",
    "        np.append(model.coef_, model.intercept_),\n",
    "        index=[f\"{model.__class__.__name__}\" for model in models] + [\"Intercept\"],\n",
    "        columns=[\"coef\"],\n",
    "    )\n",
    "\n",
    "    display(output_df)\n",
    "    return model"
   ]
  },
  {
   "cell_type": "code",
   "execution_count": 697,
   "metadata": {},
   "outputs": [],
   "source": [
    "def evaluate_models(X, y, models):\n",
    "    for model in tqdm(models, total=len(models)):\n",
    "        y_pred = model.predict(X)\n",
    "        rmse = rmse_score(y, y_pred)\n",
    "        r2 = r2_score(y, y_pred)\n",
    "        print(f\"{model.__class__.__name__}: RMSE {rmse:.3f}\\tR2: {r2:.3f}\")"
   ]
  },
  {
   "cell_type": "code",
   "execution_count": 698,
   "metadata": {},
   "outputs": [],
   "source": [
    "def super_learner_predict(X, models, meta_model):\n",
    "    meta_X = pd.DataFrame()\n",
    "    for i, model in tqdm(enumerate(models), total=len(models)):\n",
    "        meta_X[f\"{model.__class__.__name__}\"] = model.predict(X)\n",
    "    return meta_X, meta_model.predict(meta_X)"
   ]
  },
  {
   "cell_type": "code",
   "execution_count": 700,
   "metadata": {},
   "outputs": [],
   "source": [
    "X_train, X_test, y_train, y_test = train_test_split(X, y, test_size=0.2)\n",
    "cv = list(KFold(n_splits=10, shuffle=True).split(X_train))\n",
    "\n",
    "models = get_models()"
   ]
  },
  {
   "cell_type": "code",
   "execution_count": 701,
   "metadata": {},
   "outputs": [
    {
     "data": {
      "application/vnd.jupyter.widget-view+json": {
       "model_id": "581d033249f94a098d8e5b7be641fdf0",
       "version_major": 2,
       "version_minor": 0
      },
      "text/plain": [
       "  0%|          | 0/7 [00:00<?, ?it/s]"
      ]
     },
     "metadata": {},
     "output_type": "display_data"
    },
    {
     "data": {
      "application/vnd.jupyter.widget-view+json": {
       "model_id": "13d68629350f43b490f495a94216ff72",
       "version_major": 2,
       "version_minor": 0
      },
      "text/plain": [
       "  0%|          | 0/10 [00:00<?, ?it/s]"
      ]
     },
     "metadata": {},
     "output_type": "display_data"
    },
    {
     "name": "stdout",
     "output_type": "stream",
     "text": [
      "AdaBoostRegressor Out of Fold RMSE: 4.192\tR2: 0.794\n"
     ]
    },
    {
     "data": {
      "application/vnd.jupyter.widget-view+json": {
       "model_id": "c484fef2454242b4959b5334e7f4e1c8",
       "version_major": 2,
       "version_minor": 0
      },
      "text/plain": [
       "  0%|          | 0/10 [00:00<?, ?it/s]"
      ]
     },
     "metadata": {},
     "output_type": "display_data"
    },
    {
     "name": "stdout",
     "output_type": "stream",
     "text": [
      "GradientBoostingRegressor Out of Fold RMSE: 3.438\tR2: 0.861\n"
     ]
    },
    {
     "data": {
      "application/vnd.jupyter.widget-view+json": {
       "model_id": "f35abb0b8bd84ec8ac3a14eecbe31f16",
       "version_major": 2,
       "version_minor": 0
      },
      "text/plain": [
       "  0%|          | 0/10 [00:00<?, ?it/s]"
      ]
     },
     "metadata": {},
     "output_type": "display_data"
    },
    {
     "name": "stdout",
     "output_type": "stream",
     "text": [
      "RandomForestRegressor Out of Fold RMSE: 3.528\tR2: 0.854\n"
     ]
    },
    {
     "data": {
      "application/vnd.jupyter.widget-view+json": {
       "model_id": "25f78206bd7a404d9c86dfeacbe28142",
       "version_major": 2,
       "version_minor": 0
      },
      "text/plain": [
       "  0%|          | 0/10 [00:00<?, ?it/s]"
      ]
     },
     "metadata": {},
     "output_type": "display_data"
    },
    {
     "name": "stdout",
     "output_type": "stream",
     "text": [
      "ExtraTreesRegressor Out of Fold RMSE: 3.347\tR2: 0.869\n"
     ]
    },
    {
     "data": {
      "application/vnd.jupyter.widget-view+json": {
       "model_id": "5776bf0125544baabd7c8382285b05a5",
       "version_major": 2,
       "version_minor": 0
      },
      "text/plain": [
       "  0%|          | 0/10 [00:00<?, ?it/s]"
      ]
     },
     "metadata": {},
     "output_type": "display_data"
    },
    {
     "name": "stdout",
     "output_type": "stream",
     "text": [
      "LGBMRegressor Out of Fold RMSE: 3.653\tR2: 0.844\n"
     ]
    },
    {
     "data": {
      "application/vnd.jupyter.widget-view+json": {
       "model_id": "49e72f2f47494c7cad80b60e60ea8e9e",
       "version_major": 2,
       "version_minor": 0
      },
      "text/plain": [
       "  0%|          | 0/10 [00:00<?, ?it/s]"
      ]
     },
     "metadata": {},
     "output_type": "display_data"
    },
    {
     "name": "stdout",
     "output_type": "stream",
     "text": [
      "XGBRegressor Out of Fold RMSE: 3.326\tR2: 0.870\n"
     ]
    },
    {
     "data": {
      "application/vnd.jupyter.widget-view+json": {
       "model_id": "e423bbaa871442099b4f840308d5767f",
       "version_major": 2,
       "version_minor": 0
      },
      "text/plain": [
       "  0%|          | 0/10 [00:00<?, ?it/s]"
      ]
     },
     "metadata": {},
     "output_type": "display_data"
    },
    {
     "name": "stdout",
     "output_type": "stream",
     "text": [
      "XGBRFRegressor Out of Fold RMSE: 3.659\tR2: 0.843\n"
     ]
    }
   ],
   "source": [
    "meta_X = get_oof_pred(X_train.values, y_train.values, cv, models)"
   ]
  },
  {
   "cell_type": "code",
   "execution_count": 702,
   "metadata": {},
   "outputs": [
    {
     "data": {
      "text/html": [
       "<div>\n",
       "<style scoped>\n",
       "    .dataframe tbody tr th:only-of-type {\n",
       "        vertical-align: middle;\n",
       "    }\n",
       "\n",
       "    .dataframe tbody tr th {\n",
       "        vertical-align: top;\n",
       "    }\n",
       "\n",
       "    .dataframe thead th {\n",
       "        text-align: right;\n",
       "    }\n",
       "</style>\n",
       "<table border=\"1\" class=\"dataframe\">\n",
       "  <thead>\n",
       "    <tr style=\"text-align: right;\">\n",
       "      <th></th>\n",
       "      <th>AdaBoostRegressor_oof</th>\n",
       "      <th>GradientBoostingRegressor_oof</th>\n",
       "      <th>RandomForestRegressor_oof</th>\n",
       "      <th>ExtraTreesRegressor_oof</th>\n",
       "      <th>LGBMRegressor_oof</th>\n",
       "      <th>XGBRegressor_oof</th>\n",
       "      <th>XGBRFRegressor_oof</th>\n",
       "    </tr>\n",
       "  </thead>\n",
       "  <tbody>\n",
       "    <tr>\n",
       "      <th>AdaBoostRegressor_oof</th>\n",
       "      <td>1.000000</td>\n",
       "      <td>0.971843</td>\n",
       "      <td>0.973608</td>\n",
       "      <td>0.970099</td>\n",
       "      <td>0.962547</td>\n",
       "      <td>0.957766</td>\n",
       "      <td>0.975863</td>\n",
       "    </tr>\n",
       "    <tr>\n",
       "      <th>GradientBoostingRegressor_oof</th>\n",
       "      <td>0.971843</td>\n",
       "      <td>1.000000</td>\n",
       "      <td>0.988500</td>\n",
       "      <td>0.984956</td>\n",
       "      <td>0.979550</td>\n",
       "      <td>0.982522</td>\n",
       "      <td>0.986825</td>\n",
       "    </tr>\n",
       "    <tr>\n",
       "      <th>RandomForestRegressor_oof</th>\n",
       "      <td>0.973608</td>\n",
       "      <td>0.988500</td>\n",
       "      <td>1.000000</td>\n",
       "      <td>0.989977</td>\n",
       "      <td>0.978149</td>\n",
       "      <td>0.980795</td>\n",
       "      <td>0.995808</td>\n",
       "    </tr>\n",
       "    <tr>\n",
       "      <th>ExtraTreesRegressor_oof</th>\n",
       "      <td>0.970099</td>\n",
       "      <td>0.984956</td>\n",
       "      <td>0.989977</td>\n",
       "      <td>1.000000</td>\n",
       "      <td>0.979758</td>\n",
       "      <td>0.981016</td>\n",
       "      <td>0.987140</td>\n",
       "    </tr>\n",
       "    <tr>\n",
       "      <th>LGBMRegressor_oof</th>\n",
       "      <td>0.962547</td>\n",
       "      <td>0.979550</td>\n",
       "      <td>0.978149</td>\n",
       "      <td>0.979758</td>\n",
       "      <td>1.000000</td>\n",
       "      <td>0.972890</td>\n",
       "      <td>0.976278</td>\n",
       "    </tr>\n",
       "    <tr>\n",
       "      <th>XGBRegressor_oof</th>\n",
       "      <td>0.957766</td>\n",
       "      <td>0.982522</td>\n",
       "      <td>0.980795</td>\n",
       "      <td>0.981016</td>\n",
       "      <td>0.972890</td>\n",
       "      <td>1.000000</td>\n",
       "      <td>0.976437</td>\n",
       "    </tr>\n",
       "    <tr>\n",
       "      <th>XGBRFRegressor_oof</th>\n",
       "      <td>0.975863</td>\n",
       "      <td>0.986825</td>\n",
       "      <td>0.995808</td>\n",
       "      <td>0.987140</td>\n",
       "      <td>0.976278</td>\n",
       "      <td>0.976437</td>\n",
       "      <td>1.000000</td>\n",
       "    </tr>\n",
       "  </tbody>\n",
       "</table>\n",
       "</div>"
      ],
      "text/plain": [
       "                               AdaBoostRegressor_oof  \\\n",
       "AdaBoostRegressor_oof                       1.000000   \n",
       "GradientBoostingRegressor_oof               0.971843   \n",
       "RandomForestRegressor_oof                   0.973608   \n",
       "ExtraTreesRegressor_oof                     0.970099   \n",
       "LGBMRegressor_oof                           0.962547   \n",
       "XGBRegressor_oof                            0.957766   \n",
       "XGBRFRegressor_oof                          0.975863   \n",
       "\n",
       "                               GradientBoostingRegressor_oof  \\\n",
       "AdaBoostRegressor_oof                               0.971843   \n",
       "GradientBoostingRegressor_oof                       1.000000   \n",
       "RandomForestRegressor_oof                           0.988500   \n",
       "ExtraTreesRegressor_oof                             0.984956   \n",
       "LGBMRegressor_oof                                   0.979550   \n",
       "XGBRegressor_oof                                    0.982522   \n",
       "XGBRFRegressor_oof                                  0.986825   \n",
       "\n",
       "                               RandomForestRegressor_oof  \\\n",
       "AdaBoostRegressor_oof                           0.973608   \n",
       "GradientBoostingRegressor_oof                   0.988500   \n",
       "RandomForestRegressor_oof                       1.000000   \n",
       "ExtraTreesRegressor_oof                         0.989977   \n",
       "LGBMRegressor_oof                               0.978149   \n",
       "XGBRegressor_oof                                0.980795   \n",
       "XGBRFRegressor_oof                              0.995808   \n",
       "\n",
       "                               ExtraTreesRegressor_oof  LGBMRegressor_oof  \\\n",
       "AdaBoostRegressor_oof                         0.970099           0.962547   \n",
       "GradientBoostingRegressor_oof                 0.984956           0.979550   \n",
       "RandomForestRegressor_oof                     0.989977           0.978149   \n",
       "ExtraTreesRegressor_oof                       1.000000           0.979758   \n",
       "LGBMRegressor_oof                             0.979758           1.000000   \n",
       "XGBRegressor_oof                              0.981016           0.972890   \n",
       "XGBRFRegressor_oof                            0.987140           0.976278   \n",
       "\n",
       "                               XGBRegressor_oof  XGBRFRegressor_oof  \n",
       "AdaBoostRegressor_oof                  0.957766            0.975863  \n",
       "GradientBoostingRegressor_oof          0.982522            0.986825  \n",
       "RandomForestRegressor_oof              0.980795            0.995808  \n",
       "ExtraTreesRegressor_oof                0.981016            0.987140  \n",
       "LGBMRegressor_oof                      0.972890            0.976278  \n",
       "XGBRegressor_oof                       1.000000            0.976437  \n",
       "XGBRFRegressor_oof                     0.976437            1.000000  "
      ]
     },
     "execution_count": 702,
     "metadata": {},
     "output_type": "execute_result"
    }
   ],
   "source": [
    "meta_X.corr()"
   ]
  },
  {
   "cell_type": "code",
   "execution_count": 703,
   "metadata": {},
   "outputs": [
    {
     "data": {
      "application/vnd.jupyter.widget-view+json": {
       "model_id": "3d8362389953478ba742b87637c0f38c",
       "version_major": 2,
       "version_minor": 0
      },
      "text/plain": [
       "  0%|          | 0/7 [00:00<?, ?it/s]"
      ]
     },
     "metadata": {},
     "output_type": "display_data"
    },
    {
     "name": "stdout",
     "output_type": "stream",
     "text": [
      "Fitting AdaBoostRegressor is done\n",
      "Fitting GradientBoostingRegressor is done\n",
      "Fitting RandomForestRegressor is done\n",
      "Fitting ExtraTreesRegressor is done\n",
      "Fitting LGBMRegressor is done\n",
      "Fitting XGBRegressor is done\n",
      "Fitting XGBRFRegressor is done\n"
     ]
    }
   ],
   "source": [
    "fit_base_models(X_train.values, y_train.values, models)"
   ]
  },
  {
   "cell_type": "code",
   "execution_count": 704,
   "metadata": {},
   "outputs": [
    {
     "data": {
      "application/vnd.jupyter.widget-view+json": {
       "model_id": "112140bd8bac4c1ea98a51357a820137",
       "version_major": 2,
       "version_minor": 0
      },
      "text/plain": [
       "  0%|          | 0/7 [00:00<?, ?it/s]"
      ]
     },
     "metadata": {},
     "output_type": "display_data"
    },
    {
     "name": "stdout",
     "output_type": "stream",
     "text": [
      "AdaBoostRegressor: RMSE 2.893\tR2: 0.902\n",
      "GradientBoostingRegressor: RMSE 1.324\tR2: 0.979\n",
      "RandomForestRegressor: RMSE 1.275\tR2: 0.981\n",
      "ExtraTreesRegressor: RMSE 0.000\tR2: 1.000\n",
      "LGBMRegressor: RMSE 1.402\tR2: 0.977\n",
      "XGBRegressor: RMSE 0.018\tR2: 1.000\n",
      "XGBRFRegressor: RMSE 1.811\tR2: 0.962\n"
     ]
    }
   ],
   "source": [
    "evaluate_models(X_train.values, y_train.values, models)"
   ]
  },
  {
   "cell_type": "code",
   "execution_count": 705,
   "metadata": {},
   "outputs": [
    {
     "data": {
      "application/vnd.jupyter.widget-view+json": {
       "model_id": "1f1182bf95b548c490442030fcee171e",
       "version_major": 2,
       "version_minor": 0
      },
      "text/plain": [
       "  0%|          | 0/7 [00:00<?, ?it/s]"
      ]
     },
     "metadata": {},
     "output_type": "display_data"
    },
    {
     "name": "stdout",
     "output_type": "stream",
     "text": [
      "AdaBoostRegressor: RMSE 2.985\tR2: 0.890\n",
      "GradientBoostingRegressor: RMSE 2.879\tR2: 0.897\n",
      "RandomForestRegressor: RMSE 2.713\tR2: 0.909\n",
      "ExtraTreesRegressor: RMSE 2.804\tR2: 0.903\n",
      "LGBMRegressor: RMSE 3.072\tR2: 0.883\n",
      "XGBRegressor: RMSE 2.914\tR2: 0.895\n",
      "XGBRFRegressor: RMSE 2.896\tR2: 0.896\n"
     ]
    }
   ],
   "source": [
    "evaluate_models(X_test.values, y_test.values, models)"
   ]
  },
  {
   "cell_type": "code",
   "execution_count": 709,
   "metadata": {},
   "outputs": [
    {
     "data": {
      "text/html": [
       "<div>\n",
       "<style scoped>\n",
       "    .dataframe tbody tr th:only-of-type {\n",
       "        vertical-align: middle;\n",
       "    }\n",
       "\n",
       "    .dataframe tbody tr th {\n",
       "        vertical-align: top;\n",
       "    }\n",
       "\n",
       "    .dataframe thead th {\n",
       "        text-align: right;\n",
       "    }\n",
       "</style>\n",
       "<table border=\"1\" class=\"dataframe\">\n",
       "  <thead>\n",
       "    <tr style=\"text-align: right;\">\n",
       "      <th></th>\n",
       "      <th>coef</th>\n",
       "    </tr>\n",
       "  </thead>\n",
       "  <tbody>\n",
       "    <tr>\n",
       "      <th>AdaBoostRegressor</th>\n",
       "      <td>-0.000000</td>\n",
       "    </tr>\n",
       "    <tr>\n",
       "      <th>GradientBoostingRegressor</th>\n",
       "      <td>0.161140</td>\n",
       "    </tr>\n",
       "    <tr>\n",
       "      <th>RandomForestRegressor</th>\n",
       "      <td>0.000000</td>\n",
       "    </tr>\n",
       "    <tr>\n",
       "      <th>ExtraTreesRegressor</th>\n",
       "      <td>0.403546</td>\n",
       "    </tr>\n",
       "    <tr>\n",
       "      <th>LGBMRegressor</th>\n",
       "      <td>0.008802</td>\n",
       "    </tr>\n",
       "    <tr>\n",
       "      <th>XGBRegressor</th>\n",
       "      <td>0.436988</td>\n",
       "    </tr>\n",
       "    <tr>\n",
       "      <th>XGBRFRegressor</th>\n",
       "      <td>0.000000</td>\n",
       "    </tr>\n",
       "    <tr>\n",
       "      <th>Intercept</th>\n",
       "      <td>-0.202844</td>\n",
       "    </tr>\n",
       "  </tbody>\n",
       "</table>\n",
       "</div>"
      ],
      "text/plain": [
       "                               coef\n",
       "AdaBoostRegressor         -0.000000\n",
       "GradientBoostingRegressor  0.161140\n",
       "RandomForestRegressor      0.000000\n",
       "ExtraTreesRegressor        0.403546\n",
       "LGBMRegressor              0.008802\n",
       "XGBRegressor               0.436988\n",
       "XGBRFRegressor             0.000000\n",
       "Intercept                 -0.202844"
      ]
     },
     "metadata": {},
     "output_type": "display_data"
    }
   ],
   "source": [
    "meta_model = fit_meta_model(meta_X.values, y_train.values)\n",
    "\n",
    "# print(meta_model.coef_, meta_model.intercept_)"
   ]
  },
  {
   "cell_type": "code",
   "execution_count": 710,
   "metadata": {},
   "outputs": [
    {
     "data": {
      "application/vnd.jupyter.widget-view+json": {
       "model_id": "7c0432b258f5457ba5de2e86b1b31db1",
       "version_major": 2,
       "version_minor": 0
      },
      "text/plain": [
       "  0%|          | 0/7 [00:00<?, ?it/s]"
      ]
     },
     "metadata": {},
     "output_type": "display_data"
    }
   ],
   "source": [
    "meta_X_val, y_pred = super_learner_predict(X_test.values, models, meta_model)"
   ]
  },
  {
   "cell_type": "code",
   "execution_count": 711,
   "metadata": {},
   "outputs": [
    {
     "name": "stdout",
     "output_type": "stream",
     "text": [
      "Super Learner: RMSE 2.705\n",
      "Super Learner: R2 0.909\n"
     ]
    }
   ],
   "source": [
    "print(f\"Super Learner: RMSE {rmse_score(y_test, y_pred):.3f}\")\n",
    "print(f\"Super Learner: R2 {r2_score(y_test, y_pred):.3f}\")"
   ]
  },
  {
   "cell_type": "code",
   "execution_count": 712,
   "metadata": {},
   "outputs": [
    {
     "data": {
      "text/plain": [
       "<seaborn.axisgrid.JointGrid at 0x7f4e511533a0>"
      ]
     },
     "execution_count": 712,
     "metadata": {},
     "output_type": "execute_result"
    },
    {
     "data": {
      "image/png": "[encoded data removed]",
      "text/plain": [
       "<Figure size 432x432 with 3 Axes>"
      ]
     },
     "metadata": {
      "needs_background": "light"
     },
     "output_type": "display_data"
    }
   ],
   "source": [
    "sns.jointplot(x=y_test, y=y_pred, joint_kws={\"alpha\": 0.7})"
   ]
  },
  {
   "cell_type": "code",
   "execution_count": 713,
   "metadata": {},
   "outputs": [
    {
     "name": "stdout",
     "output_type": "stream",
     "text": [
      "Super Learner: RMSE 2.670\n",
      "Super Learner: R2 0.912\n"
     ]
    }
   ],
   "source": [
    "y_pred = np.array([model.predict(X_test.values) for model in models[1:]])\n",
    "\n",
    "y_pred = np.mean(y_pred, axis=0)\n",
    "\n",
    "print(f\"Super Learner: RMSE {rmse_score(y_test, y_pred):.3f}\")\n",
    "print(f\"Super Learner: R2 {r2_score(y_test, y_pred):.3f}\")"
   ]
  },
  {
   "cell_type": "code",
   "execution_count": 714,
   "metadata": {},
   "outputs": [
    {
     "data": {
      "text/plain": [
       "<seaborn.axisgrid.JointGrid at 0x7f4e5102da60>"
      ]
     },
     "execution_count": 714,
     "metadata": {},
     "output_type": "execute_result"
    },
    {
     "data": {
      "image/png": "[encoded data removed]",
      "text/plain": [
       "<Figure size 432x432 with 3 Axes>"
      ]
     },
     "metadata": {
      "needs_background": "light"
     },
     "output_type": "display_data"
    }
   ],
   "source": [
    "sns.jointplot(x=y_test, y=y_pred, joint_kws={\"alpha\": 0.7})"
   ]
  },
  {
   "cell_type": "code",
   "execution_count": null,
   "metadata": {},
   "outputs": [],
   "source": []
  },
  {
   "cell_type": "code",
   "execution_count": null,
   "metadata": {},
   "outputs": [],
   "source": []
  }
 ],
 "metadata": {
  "kernelspec": {
   "display_name": "Python 3",
   "language": "python",
   "name": "python3"
  },
  "language_info": {
   "codemirror_mode": {
    "name": "ipython",
    "version": 3
   },
   "file_extension": ".py",
   "mimetype": "text/x-python",
   "name": "python",
   "nbconvert_exporter": "python",
   "pygments_lexer": "ipython3",
   "version": "3.8.2"
  }
 },
 "nbformat": 4,
 "nbformat_minor": 4
}
