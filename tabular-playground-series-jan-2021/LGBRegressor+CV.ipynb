{
 "cells": [
  {
   "cell_type": "code",
   "execution_count": 66,
   "metadata": {},
   "outputs": [
    {
     "name": "stdout",
     "output_type": "stream",
     "text": [
      "The lab_black extension is already loaded. To reload it, use:\n",
      "  %reload_ext lab_black\n"
     ]
    }
   ],
   "source": [
    "%load_ext lab_black"
   ]
  },
  {
   "cell_type": "code",
   "execution_count": 67,
   "metadata": {},
   "outputs": [],
   "source": [
    "%config Completer.use_jedi = False"
   ]
  },
  {
   "cell_type": "code",
   "execution_count": 93,
   "metadata": {},
   "outputs": [],
   "source": [
    "import numpy as np\n",
    "import pandas as pd\n",
    "\n",
    "import matplotlib.pyplot as plt\n",
    "import seaborn as sns\n",
    "\n",
    "import time\n",
    "from contextlib import contextmanager\n",
    "from tqdm.notebook import tqdm\n",
    "\n",
    "from sklearn.model_selection import train_test_split, KFold, GroupKFold\n",
    "from sklearn.metrics import mean_squared_error\n",
    "from sklearn.preprocessing import QuantileTransformer, StandardScaler\n",
    "from sklearn.mixture import GaussianMixture\n",
    "\n",
    "from lightgbm import LGBMRegressor\n",
    "from xgboost import XGBRegressor\n",
    "from catboost import CatBoostRegressor\n",
    "from ngboost import NGBRegressor"
   ]
  },
  {
   "cell_type": "code",
   "execution_count": 69,
   "metadata": {},
   "outputs": [],
   "source": [
    "@contextmanager\n",
    "def timer(logger=None, format_str=\"{:.3f}[s]\", prefix=None, suffix=None):\n",
    "    if prefix:\n",
    "        format_str = str(prefix) + format_str\n",
    "    if suffix:\n",
    "        format_str = format_str + str(suffix)\n",
    "    start = time.time()\n",
    "    yield\n",
    "    d = time.time() - start\n",
    "    out_str = format_str.format(d)\n",
    "    if logger:\n",
    "        logger.info(out_str)\n",
    "    else:\n",
    "        print(out_str)"
   ]
  },
  {
   "cell_type": "code",
   "execution_count": 70,
   "metadata": {},
   "outputs": [],
   "source": [
    "path = \"input\""
   ]
  },
  {
   "cell_type": "code",
   "execution_count": 71,
   "metadata": {},
   "outputs": [],
   "source": [
    "train = pd.read_csv(path + \"/train.csv\", index_col=[\"id\"])\n",
    "test = pd.read_csv(path + \"/test.csv\", index_col=[\"id\"])\n",
    "submission = pd.read_csv(path + \"/sample_submission.csv\", index_col=[\"id\"])"
   ]
  },
  {
   "cell_type": "code",
   "execution_count": 72,
   "metadata": {},
   "outputs": [],
   "source": [
    "features = [\n",
    "    \"cont1\",\n",
    "    \"cont2\",\n",
    "    \"cont3\",\n",
    "    \"cont4\",\n",
    "    \"cont5\",\n",
    "    \"cont6\",\n",
    "    \"cont7\",\n",
    "    \"cont8\",\n",
    "    \"cont9\",\n",
    "    \"cont10\",\n",
    "    \"cont11\",\n",
    "    \"cont12\",\n",
    "    \"cont13\",\n",
    "    \"cont14\",\n",
    "]"
   ]
  },
  {
   "cell_type": "code",
   "execution_count": 73,
   "metadata": {},
   "outputs": [],
   "source": [
    "X = train[features]\n",
    "y = train[\"target\"]"
   ]
  },
  {
   "cell_type": "code",
   "execution_count": 76,
   "metadata": {},
   "outputs": [],
   "source": [
    "def rmse_score(y_true, y_pred):\n",
    "    return np.sqrt(mean_squared_error(y_true, y_pred))"
   ]
  },
  {
   "cell_type": "markdown",
   "metadata": {},
   "source": [
    "## LightGBM"
   ]
  },
  {
   "cell_type": "code",
   "execution_count": 99,
   "metadata": {},
   "outputs": [],
   "source": [
    "def fit_lgb(X, y, cv, params: dict = None, verbose: int = 100):\n",
    "    if params is None:\n",
    "        params = {}\n",
    "\n",
    "    models = []\n",
    "    oof_pred = np.zeros_like(y, dtype=np.float)\n",
    "\n",
    "    for i, (train_idx, valid_idx) in tqdm(enumerate(cv), total=len(cv)):\n",
    "        X_train, y_train = X[train_idx], y[train_idx]\n",
    "        X_valid, y_valid = X[valid_idx], y[valid_idx]\n",
    "\n",
    "        model = LGBMRegressor(**params)\n",
    "\n",
    "        with timer(prefix=f\"fit fold={i+1}\"):\n",
    "            model.fit(\n",
    "                X=X_train,\n",
    "                y=y_train,\n",
    "                eval_set=[(X_train, y_train), (X_valid, y_valid)],\n",
    "                eval_names=[\"Train\", \"Valid\"],\n",
    "                eval_metric=\"rmse\",\n",
    "                early_stopping_rounds=verbose,\n",
    "                verbose=verbose,\n",
    "            )\n",
    "\n",
    "        y_pred_i = model.predict(X[valid_idx])\n",
    "        oof_pred[valid_idx] = y_pred_i\n",
    "        models.append(model)\n",
    "\n",
    "        print(f\"Fold {i+1} RMSE: {rmse_score(y[valid_idx], y_pred_i):.4f}\")\n",
    "\n",
    "    score = rmse_score(y, oof_pred)\n",
    "    print(f\"FINISEHD | Whole RMSE: {score:.4f}\")\n",
    "\n",
    "    return oof_pred, models"
   ]
  },
  {
   "cell_type": "code",
   "execution_count": 100,
   "metadata": {},
   "outputs": [],
   "source": [
    "seed = 3665\n",
    "\n",
    "lgb_params = {\n",
    "    \"objective\": \"regression\",\n",
    "    \"metric\": \"rmse\",\n",
    "    \"learning_rate\": 0.05,\n",
    "    #     \"num_leaves\": 256,\n",
    "    #     \"max_depth\": -1,\n",
    "    \"n_estimators\": 5_000,\n",
    "    \"importance_type\": \"gain\",\n",
    "    \"random_state\": seed,\n",
    "}\n",
    "\n",
    "kfold = KFold(n_splits=5, shuffle=True, random_state=seed)\n",
    "\n",
    "cv = list(kfold.split(X))"
   ]
  },
  {
   "cell_type": "code",
   "execution_count": 101,
   "metadata": {},
   "outputs": [
    {
     "data": {
      "application/vnd.jupyter.widget-view+json": {
       "model_id": "ad80f8bdeb004d35a51ad2df5966ff27",
       "version_major": 2,
       "version_minor": 0
      },
      "text/plain": [
       "  0%|          | 0/5 [00:00<?, ?it/s]"
      ]
     },
     "metadata": {},
     "output_type": "display_data"
    },
    {
     "name": "stdout",
     "output_type": "stream",
     "text": [
      "Training until validation scores don't improve for 100 rounds\n",
      "[100]\tTrain's rmse: 0.702288\tValid's rmse: 0.707928\n",
      "[200]\tTrain's rmse: 0.694578\tValid's rmse: 0.703876\n",
      "[300]\tTrain's rmse: 0.689796\tValid's rmse: 0.702506\n",
      "[400]\tTrain's rmse: 0.68558\tValid's rmse: 0.701763\n",
      "[500]\tTrain's rmse: 0.681751\tValid's rmse: 0.701222\n",
      "[600]\tTrain's rmse: 0.678121\tValid's rmse: 0.700887\n",
      "[700]\tTrain's rmse: 0.674713\tValid's rmse: 0.700651\n",
      "[800]\tTrain's rmse: 0.671375\tValid's rmse: 0.700443\n",
      "[900]\tTrain's rmse: 0.668099\tValid's rmse: 0.700353\n",
      "[1000]\tTrain's rmse: 0.665127\tValid's rmse: 0.700291\n",
      "[1100]\tTrain's rmse: 0.66203\tValid's rmse: 0.700171\n",
      "[1200]\tTrain's rmse: 0.659044\tValid's rmse: 0.700186\n",
      "Early stopping, best iteration is:\n",
      "[1106]\tTrain's rmse: 0.661843\tValid's rmse: 0.700156\n",
      "fit fold=16.925[s]\n",
      "Fold 1 RMSE: 0.7002\n",
      "Training until validation scores don't improve for 100 rounds\n",
      "[100]\tTrain's rmse: 0.703369\tValid's rmse: 0.703944\n",
      "[200]\tTrain's rmse: 0.695572\tValid's rmse: 0.700065\n",
      "[300]\tTrain's rmse: 0.690656\tValid's rmse: 0.698904\n",
      "[400]\tTrain's rmse: 0.686411\tValid's rmse: 0.698083\n",
      "[500]\tTrain's rmse: 0.682696\tValid's rmse: 0.697751\n",
      "[600]\tTrain's rmse: 0.678967\tValid's rmse: 0.697379\n",
      "[700]\tTrain's rmse: 0.675547\tValid's rmse: 0.69713\n",
      "[800]\tTrain's rmse: 0.672237\tValid's rmse: 0.697006\n",
      "[900]\tTrain's rmse: 0.668911\tValid's rmse: 0.696784\n",
      "[1000]\tTrain's rmse: 0.665785\tValid's rmse: 0.69667\n",
      "[1100]\tTrain's rmse: 0.662655\tValid's rmse: 0.696525\n",
      "[1200]\tTrain's rmse: 0.659735\tValid's rmse: 0.696497\n",
      "Early stopping, best iteration is:\n",
      "[1162]\tTrain's rmse: 0.660788\tValid's rmse: 0.696468\n",
      "fit fold=29.696[s]\n",
      "Fold 2 RMSE: 0.6965\n",
      "Training until validation scores don't improve for 100 rounds\n",
      "[100]\tTrain's rmse: 0.703256\tValid's rmse: 0.703499\n",
      "[200]\tTrain's rmse: 0.695539\tValid's rmse: 0.699536\n",
      "[300]\tTrain's rmse: 0.690667\tValid's rmse: 0.698295\n",
      "[400]\tTrain's rmse: 0.686559\tValid's rmse: 0.697621\n",
      "[500]\tTrain's rmse: 0.682593\tValid's rmse: 0.697119\n",
      "[600]\tTrain's rmse: 0.679047\tValid's rmse: 0.696796\n",
      "[700]\tTrain's rmse: 0.675454\tValid's rmse: 0.696597\n",
      "[800]\tTrain's rmse: 0.672267\tValid's rmse: 0.696554\n",
      "[900]\tTrain's rmse: 0.66903\tValid's rmse: 0.696442\n",
      "[1000]\tTrain's rmse: 0.666018\tValid's rmse: 0.696421\n",
      "[1100]\tTrain's rmse: 0.662993\tValid's rmse: 0.696389\n",
      "[1200]\tTrain's rmse: 0.660035\tValid's rmse: 0.696377\n",
      "[1300]\tTrain's rmse: 0.65721\tValid's rmse: 0.696369\n",
      "Early stopping, best iteration is:\n",
      "[1256]\tTrain's rmse: 0.658428\tValid's rmse: 0.696321\n",
      "fit fold=311.525[s]\n",
      "Fold 3 RMSE: 0.6963\n",
      "Training until validation scores don't improve for 100 rounds\n",
      "[100]\tTrain's rmse: 0.702673\tValid's rmse: 0.706325\n",
      "[200]\tTrain's rmse: 0.695003\tValid's rmse: 0.702164\n",
      "[300]\tTrain's rmse: 0.690092\tValid's rmse: 0.700782\n",
      "[400]\tTrain's rmse: 0.686002\tValid's rmse: 0.700142\n",
      "[500]\tTrain's rmse: 0.682212\tValid's rmse: 0.699593\n",
      "[600]\tTrain's rmse: 0.67868\tValid's rmse: 0.699335\n",
      "[700]\tTrain's rmse: 0.675388\tValid's rmse: 0.699192\n",
      "[800]\tTrain's rmse: 0.672179\tValid's rmse: 0.698997\n",
      "[900]\tTrain's rmse: 0.669045\tValid's rmse: 0.698872\n",
      "[1000]\tTrain's rmse: 0.665942\tValid's rmse: 0.698719\n",
      "[1100]\tTrain's rmse: 0.66277\tValid's rmse: 0.698715\n",
      "[1200]\tTrain's rmse: 0.659817\tValid's rmse: 0.698755\n",
      "Early stopping, best iteration is:\n",
      "[1103]\tTrain's rmse: 0.662664\tValid's rmse: 0.698691\n",
      "fit fold=411.615[s]\n",
      "Fold 4 RMSE: 0.6987\n",
      "Training until validation scores don't improve for 100 rounds\n",
      "[100]\tTrain's rmse: 0.701583\tValid's rmse: 0.710826\n",
      "[200]\tTrain's rmse: 0.693935\tValid's rmse: 0.706738\n",
      "[300]\tTrain's rmse: 0.689284\tValid's rmse: 0.705619\n",
      "[400]\tTrain's rmse: 0.685092\tValid's rmse: 0.704895\n",
      "[500]\tTrain's rmse: 0.681346\tValid's rmse: 0.704525\n",
      "[600]\tTrain's rmse: 0.6778\tValid's rmse: 0.704218\n",
      "[700]\tTrain's rmse: 0.674287\tValid's rmse: 0.703894\n",
      "[800]\tTrain's rmse: 0.670939\tValid's rmse: 0.703728\n",
      "[900]\tTrain's rmse: 0.66766\tValid's rmse: 0.703629\n",
      "[1000]\tTrain's rmse: 0.664615\tValid's rmse: 0.703554\n",
      "[1100]\tTrain's rmse: 0.661567\tValid's rmse: 0.703466\n",
      "[1200]\tTrain's rmse: 0.658566\tValid's rmse: 0.703365\n",
      "[1300]\tTrain's rmse: 0.655535\tValid's rmse: 0.703283\n",
      "[1400]\tTrain's rmse: 0.652748\tValid's rmse: 0.70329\n",
      "Early stopping, best iteration is:\n",
      "[1317]\tTrain's rmse: 0.655034\tValid's rmse: 0.703264\n",
      "fit fold=510.030[s]\n",
      "Fold 5 RMSE: 0.7033\n",
      "FINISEHD | Whole RMSE: 0.6990\n"
     ]
    }
   ],
   "source": [
    "oof_pred, models = fit_lgb(X.values, y.values, cv, lgb_params)"
   ]
  },
  {
   "cell_type": "code",
   "execution_count": 102,
   "metadata": {},
   "outputs": [],
   "source": [
    "def visualize_importance(models, X, importance_type=\"gain\"):\n",
    "    feature_importance_df = pd.DataFrame()\n",
    "\n",
    "    for i, model in enumerate(models):\n",
    "        _df = pd.DataFrame()\n",
    "        _df[\"feature_importance\"] = model.feature_importances_\n",
    "        _df[\"column\"] = X.columns\n",
    "        _df[\"fold\"] = i + 1\n",
    "        feature_importance_df = pd.concat(\n",
    "            [feature_importance_df, _df], axis=0, ignore_index=True\n",
    "        )\n",
    "\n",
    "    order = (\n",
    "        feature_importance_df.groupby(\"column\")\n",
    "        .sum()[[\"feature_importance\"]]\n",
    "        .sort_values(\"feature_importance\", ascending=False)\n",
    "        .index[:50]\n",
    "    )\n",
    "\n",
    "    fig, ax = plt.subplots(figsize=(max(6, len(order) * 0.4), 7))\n",
    "    sns.boxenplot(\n",
    "        data=feature_importance_df,\n",
    "        x=\"column\",\n",
    "        y=\"feature_importance\",\n",
    "        order=order,\n",
    "        ax=ax,\n",
    "        palette=\"viridis\",\n",
    "    )\n",
    "    ax.tick_params(axis=\"x\", rotation=90)\n",
    "    ax.grid()\n",
    "    fig.tight_layout()\n",
    "    return fig, ax"
   ]
  },
  {
   "cell_type": "code",
   "execution_count": 103,
   "metadata": {},
   "outputs": [
    {
     "data": {
      "image/png": "[encoded data removed]",
      "text/plain": [
       "<Figure size 432x504 with 1 Axes>"
      ]
     },
     "metadata": {
      "needs_background": "light"
     },
     "output_type": "display_data"
    }
   ],
   "source": [
    "visualize_importance(models, X)\n",
    "\n",
    "plt.show()"
   ]
  },
  {
   "cell_type": "code",
   "execution_count": 90,
   "metadata": {},
   "outputs": [],
   "source": [
    "pred = np.array([model.predict(test) for model in models])\n",
    "pred = np.mean(pred, axis=0)"
   ]
  },
  {
   "cell_type": "code",
   "execution_count": 91,
   "metadata": {},
   "outputs": [
    {
     "data": {
      "image/png": "[encoded data removed]",
      "text/plain": [
       "<Figure size 432x288 with 1 Axes>"
      ]
     },
     "metadata": {
      "needs_background": "light"
     },
     "output_type": "display_data"
    }
   ],
   "source": [
    "sns.histplot(pred, label=\"pred\", color=\"skyblue\")\n",
    "sns.histplot(oof_pred, label=\"oof_pred\", color=\"orange\")\n",
    "\n",
    "plt.legend()\n",
    "plt.grid(True)\n",
    "plt.show()"
   ]
  },
  {
   "cell_type": "code",
   "execution_count": 92,
   "metadata": {},
   "outputs": [],
   "source": [
    "submission[\"target\"] = pred\n",
    "submission.to_csv(\"output/submission.csv\")"
   ]
  },
  {
   "cell_type": "code",
   "execution_count": null,
   "metadata": {},
   "outputs": [],
   "source": []
  },
  {
   "cell_type": "code",
   "execution_count": 114,
   "metadata": {},
   "outputs": [],
   "source": [
    "def fit_lgb(X, y, cv, scaler, params: dict = None, verbose: int = 100):\n",
    "    if params is None:\n",
    "        params = {}\n",
    "\n",
    "    models = []\n",
    "    scalers = []\n",
    "    oof_pred = np.zeros_like(y, dtype=np.float)\n",
    "\n",
    "    for i, (train_idx, valid_idx) in tqdm(enumerate(cv), total=len(cv)):\n",
    "        X_train, y_train = X[train_idx], y[train_idx]\n",
    "        X_valid, y_valid = X[valid_idx], y[valid_idx]\n",
    "\n",
    "        model = LGBMRegressor(**params)\n",
    "\n",
    "        scaled_y_train = scaler.fit_transform(y_train.reshape(-1, 1))[:, 0]\n",
    "        scaled_y_valid = scaler.transform(y_valid.reshape(-1, 1))[:, 0]\n",
    "\n",
    "        with timer(prefix=f\"fit fold={i+1}\"):\n",
    "            model.fit(\n",
    "                X=X_train,\n",
    "                y=scaled_y_train,\n",
    "                eval_set=[(X_train, scaled_y_train), (X_valid, scaled_y_valid)],\n",
    "                eval_names=[\"Train\", \"Valid\"],\n",
    "                eval_metric=\"rmse\",\n",
    "                early_stopping_rounds=verbose,\n",
    "                verbose=100,\n",
    "            )\n",
    "\n",
    "        y_pred_i = model.predict(X[valid_idx])\n",
    "        y_pred_i = scaler.inverse_transform(y_pred_i.reshape(-1, 1))[:, 0]\n",
    "        oof_pred[valid_idx] = y_pred_i\n",
    "        models.append(model)\n",
    "        scalers.append(scaler)\n",
    "\n",
    "        print(f\"Fold {i+1} RMSE: {rmse_score(y[valid_idx], y_pred_i):.4f}\")\n",
    "\n",
    "    score = rmse_score(y, oof_pred)\n",
    "    print(f\"FINISEHD | Whole RMSE: {score:.4f}\")\n",
    "\n",
    "    return oof_pred, models, scalers"
   ]
  },
  {
   "cell_type": "code",
   "execution_count": 116,
   "metadata": {},
   "outputs": [],
   "source": [
    "seed = 3665\n",
    "\n",
    "lgb_params = {\n",
    "    \"objective\": \"regression\",\n",
    "    \"metric\": \"rmse\",\n",
    "    \"learning_rate\": 0.05,\n",
    "    \"num_leaves\": 256,\n",
    "    #     \"max_depth\": -1,\n",
    "    \"n_estimators\": 5_000,\n",
    "    \"importance_type\": \"gain\",\n",
    "    \"random_state\": seed,\n",
    "}\n",
    "\n",
    "kfold = KFold(n_splits=5, shuffle=True, random_state=seed)\n",
    "\n",
    "cv = list(kfold.split(X))"
   ]
  },
  {
   "cell_type": "code",
   "execution_count": 117,
   "metadata": {},
   "outputs": [
    {
     "data": {
      "application/vnd.jupyter.widget-view+json": {
       "model_id": "85104bc4ca6c49039fc89bd90bd9ff57",
       "version_major": 2,
       "version_minor": 0
      },
      "text/plain": [
       "  0%|          | 0/5 [00:00<?, ?it/s]"
      ]
     },
     "metadata": {},
     "output_type": "display_data"
    },
    {
     "name": "stdout",
     "output_type": "stream",
     "text": [
      "Training until validation scores don't improve for 100 rounds\n",
      "[100]\tTrain's rmse: 0.905615\tValid's rmse: 0.955871\n",
      "[200]\tTrain's rmse: 0.865604\tValid's rmse: 0.953719\n",
      "[300]\tTrain's rmse: 0.833192\tValid's rmse: 0.953706\n",
      "Early stopping, best iteration is:\n",
      "[244]\tTrain's rmse: 0.850758\tValid's rmse: 0.953554\n",
      "fit fold=15.477[s]\n",
      "Fold 1 RMSE: 0.7048\n",
      "Training until validation scores don't improve for 100 rounds\n",
      "[100]\tTrain's rmse: 0.904527\tValid's rmse: 0.947074\n",
      "[200]\tTrain's rmse: 0.864815\tValid's rmse: 0.945165\n",
      "[300]\tTrain's rmse: 0.832455\tValid's rmse: 0.945255\n",
      "Early stopping, best iteration is:\n",
      "[258]\tTrain's rmse: 0.845728\tValid's rmse: 0.945144\n",
      "fit fold=25.538[s]\n",
      "Fold 2 RMSE: 0.7010\n",
      "Training until validation scores don't improve for 100 rounds\n",
      "[100]\tTrain's rmse: 0.90461\tValid's rmse: 0.947799\n",
      "[200]\tTrain's rmse: 0.864484\tValid's rmse: 0.945649\n",
      "[300]\tTrain's rmse: 0.832863\tValid's rmse: 0.945477\n",
      "Early stopping, best iteration is:\n",
      "[280]\tTrain's rmse: 0.838842\tValid's rmse: 0.945395\n",
      "fit fold=35.976[s]\n",
      "Fold 3 RMSE: 0.7010\n",
      "Training until validation scores don't improve for 100 rounds\n",
      "[100]\tTrain's rmse: 0.908117\tValid's rmse: 0.955476\n",
      "[200]\tTrain's rmse: 0.868744\tValid's rmse: 0.953533\n",
      "[300]\tTrain's rmse: 0.836593\tValid's rmse: 0.953373\n",
      "Early stopping, best iteration is:\n",
      "[288]\tTrain's rmse: 0.840176\tValid's rmse: 0.95329\n",
      "fit fold=46.932[s]\n",
      "Fold 4 RMSE: 0.7032\n",
      "Training until validation scores don't improve for 100 rounds\n",
      "[100]\tTrain's rmse: 0.909163\tValid's rmse: 0.963356\n",
      "[200]\tTrain's rmse: 0.869067\tValid's rmse: 0.961483\n",
      "[300]\tTrain's rmse: 0.837197\tValid's rmse: 0.961451\n",
      "Early stopping, best iteration is:\n",
      "[256]\tTrain's rmse: 0.850518\tValid's rmse: 0.961349\n",
      "fit fold=56.553[s]\n",
      "Fold 5 RMSE: 0.7078\n",
      "FINISEHD | Whole RMSE: 0.7036\n"
     ]
    }
   ],
   "source": [
    "oof_pred, models, scalers = fit_lgb(\n",
    "    X.values,\n",
    "    y.values,\n",
    "    cv,\n",
    "    QuantileTransformer(output_distribution=\"normal\"),\n",
    "    lgb_params,\n",
    ")"
   ]
  },
  {
   "cell_type": "code",
   "execution_count": 118,
   "metadata": {},
   "outputs": [
    {
     "data": {
      "image/png": "[encoded data removed]",
      "text/plain": [
       "<Figure size 432x504 with 1 Axes>"
      ]
     },
     "metadata": {
      "needs_background": "light"
     },
     "output_type": "display_data"
    }
   ],
   "source": [
    "visualize_importance(models, X)\n",
    "\n",
    "plt.show()"
   ]
  },
  {
   "cell_type": "code",
   "execution_count": 108,
   "metadata": {},
   "outputs": [],
   "source": [
    "pred = np.array(\n",
    "    [\n",
    "        scaler.inverse_transform(model.predict(test).reshape(-1, 1))[:, 0]\n",
    "        for model, scaler in zip(models, scalers)\n",
    "    ]\n",
    ")\n",
    "pred = np.mean(pred, axis=0)"
   ]
  },
  {
   "cell_type": "code",
   "execution_count": 109,
   "metadata": {},
   "outputs": [
    {
     "data": {
      "image/png": "[encoded data removed]",
      "text/plain": [
       "<Figure size 432x288 with 1 Axes>"
      ]
     },
     "metadata": {
      "needs_background": "light"
     },
     "output_type": "display_data"
    }
   ],
   "source": [
    "sns.kdeplot(pred, label=\"pred\", color=\"skyblue\")\n",
    "sns.kdeplot(oof_pred, label=\"oof_pred\", color=\"orange\")\n",
    "\n",
    "plt.legend()\n",
    "plt.grid(True)\n",
    "plt.show()"
   ]
  },
  {
   "cell_type": "code",
   "execution_count": 100,
   "metadata": {},
   "outputs": [],
   "source": [
    "submission[\"target\"] = pred\n",
    "submission.to_csv(\"output/submission.csv\")"
   ]
  },
  {
   "cell_type": "code",
   "execution_count": null,
   "metadata": {},
   "outputs": [],
   "source": []
  }
 ],
 "metadata": {
  "kernelspec": {
   "display_name": "Python 3",
   "language": "python",
   "name": "python3"
  },
  "language_info": {
   "codemirror_mode": {
    "name": "ipython",
    "version": 3
   },
   "file_extension": ".py",
   "mimetype": "text/x-python",
   "name": "python",
   "nbconvert_exporter": "python",
   "pygments_lexer": "ipython3",
   "version": "3.8.2"
  }
 },
 "nbformat": 4,
 "nbformat_minor": 4
}
