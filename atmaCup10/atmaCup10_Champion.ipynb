{
 "cells": [
  {
   "cell_type": "markdown",
   "id": "smoking-utility",
   "metadata": {
    "id": "varied-final"
   },
   "source": [
    "# atmaCup#10 - 美術作品の評価予測"
   ]
  },
  {
   "cell_type": "markdown",
   "id": "unauthorized-destruction",
   "metadata": {
    "id": "enormous-discovery"
   },
   "source": [
    "## Import Libraries"
   ]
  },
  {
   "cell_type": "code",
   "execution_count": 3,
   "id": "outer-radius",
   "metadata": {
    "executionInfo": {
     "elapsed": 611,
     "status": "ok",
     "timestamp": 1615116412253,
     "user": {
      "displayName": "김준형",
      "photoUrl": "https://lh3.googleusercontent.com/a-/AOh14GjoucIizMtFKPEd5GLr281FF-qhH43HTCNZtxOuTzA=s64",
      "userId": "17669351473013187910"
     },
     "user_tz": -540
    },
    "id": "secondary-slovenia"
   },
   "outputs": [],
   "source": [
    "import pandas as pd\n",
    "import numpy as np\n",
    "\n",
    "import lightgbm as lgb\n",
    "from lightgbm import LGBMRegressor\n",
    "from sklearn.model_selection import GroupKFold\n",
    "from sklearn.metrics import mean_squared_error as MSE, mean_squared_log_error as MSLE\n",
    "\n",
    "import matplotlib.pyplot as plt\n",
    "import seaborn as sns\n",
    "from pandas_profiling import ProfileReport\n",
    "from matplotlib_venn import venn2\n",
    "\n",
    "import os\n",
    "from typing import List, Tuple, Any\n",
    "from pathlib import Path\n",
    "from tqdm import tqdm\n",
    "from contextlib import contextmanager\n",
    "from time import time"
   ]
  },
  {
   "cell_type": "markdown",
   "id": "baking-indian",
   "metadata": {
    "id": "major-methodology"
   },
   "source": [
    "## Util Functions"
   ]
  },
  {
   "cell_type": "code",
   "execution_count": 4,
   "id": "comfortable-antarctica",
   "metadata": {
    "executionInfo": {
     "elapsed": 360,
     "status": "ok",
     "timestamp": 1615115317309,
     "user": {
      "displayName": "김준형",
      "photoUrl": "https://lh3.googleusercontent.com/a-/AOh14GjoucIizMtFKPEd5GLr281FF-qhH43HTCNZtxOuTzA=s64",
      "userId": "17669351473013187910"
     },
     "user_tz": -540
    },
    "id": "normal-announcement"
   },
   "outputs": [],
   "source": [
    "is_google_drive = False\n",
    "\n",
    "if is_google_drive:\n",
    "    def input_dir():\n",
    "        return Path(\"/content/drive/MyDrive/Python/Competition/atmaCup10/input\")\n",
    "\n",
    "    def output_dir():\n",
    "        return Path(\"/content/drive/MyDrive/Python/Competition/atmaCup10/output\")\n",
    "else:\n",
    "    def input_dir():\n",
    "        return Path(\"input\")\n",
    "\n",
    "    def output_dir():\n",
    "        return Path(\"output\")"
   ]
  },
  {
   "cell_type": "code",
   "execution_count": 5,
   "id": "enhanced-assurance",
   "metadata": {
    "executionInfo": {
     "elapsed": 437,
     "status": "ok",
     "timestamp": 1615115318305,
     "user": {
      "displayName": "김준형",
      "photoUrl": "https://lh3.googleusercontent.com/a-/AOh14GjoucIizMtFKPEd5GLr281FF-qhH43HTCNZtxOuTzA=s64",
      "userId": "17669351473013187910"
     },
     "user_tz": -540
    },
    "id": "eleven-brave"
   },
   "outputs": [],
   "source": [
    "@contextmanager\n",
    "def timer(logger=None, format_str='{:.3f}[s]', prefix=None, suffix=None):\n",
    "    if prefix: format_str = str(prefix) + format_str\n",
    "    if suffix: format_str = format_str + str(suffix)\n",
    "    start = time()\n",
    "    yield\n",
    "    d = time() - start\n",
    "    out_str = format_str.format(d)\n",
    "    if logger:\n",
    "        logger.info(out_str)\n",
    "    else:\n",
    "        print(out_str)"
   ]
  },
  {
   "cell_type": "markdown",
   "id": "unlikely-release",
   "metadata": {
    "id": "black-walter"
   },
   "source": [
    "## Load Data"
   ]
  },
  {
   "cell_type": "markdown",
   "id": "overall-desert",
   "metadata": {},
   "source": [
    "### art object"
   ]
  },
  {
   "cell_type": "code",
   "execution_count": 6,
   "id": "flying-partnership",
   "metadata": {
    "colab": {
     "base_uri": "https://localhost:8080/"
    },
    "executionInfo": {
     "elapsed": 1550,
     "status": "ok",
     "timestamp": 1615115320044,
     "user": {
      "displayName": "김준형",
      "photoUrl": "https://lh3.googleusercontent.com/a-/AOh14GjoucIizMtFKPEd5GLr281FF-qhH43HTCNZtxOuTzA=s64",
      "userId": "17669351473013187910"
     },
     "user_tz": -540
    },
    "id": "controlled-harvey",
    "outputId": "c2801ede-67a5-4a22-9a71-a06d21373e19"
   },
   "outputs": [
    {
     "name": "stdout",
     "output_type": "stream",
     "text": [
      "(12026, 19) (12008, 18)\n"
     ]
    }
   ],
   "source": [
    "train_df = pd.read_csv(os.path.join(input_dir() / \"train.csv\"))\n",
    "test_df = pd.read_csv(os.path.join(input_dir() / \"test.csv\"))\n",
    "print(train_df.shape, test_df.shape)"
   ]
  },
  {
   "cell_type": "code",
   "execution_count": 7,
   "id": "weekly-blend",
   "metadata": {
    "colab": {
     "base_uri": "https://localhost:8080/",
     "height": 684
    },
    "executionInfo": {
     "elapsed": 563,
     "status": "ok",
     "timestamp": 1615115350297,
     "user": {
      "displayName": "김준형",
      "photoUrl": "https://lh3.googleusercontent.com/a-/AOh14GjoucIizMtFKPEd5GLr281FF-qhH43HTCNZtxOuTzA=s64",
      "userId": "17669351473013187910"
     },
     "user_tz": -540
    },
    "id": "great-istanbul",
    "outputId": "4d648b76-5349-4c3b-89d7-adf6559ccd65"
   },
   "outputs": [
    {
     "data": {
      "text/html": [
       "<div>\n",
       "<style scoped>\n",
       "    .dataframe tbody tr th:only-of-type {\n",
       "        vertical-align: middle;\n",
       "    }\n",
       "\n",
       "    .dataframe tbody tr th {\n",
       "        vertical-align: top;\n",
       "    }\n",
       "\n",
       "    .dataframe thead th {\n",
       "        text-align: right;\n",
       "    }\n",
       "</style>\n",
       "<table border=\"1\" class=\"dataframe\">\n",
       "  <thead>\n",
       "    <tr style=\"text-align: right;\">\n",
       "      <th></th>\n",
       "      <th>0</th>\n",
       "      <th>1</th>\n",
       "      <th>2</th>\n",
       "      <th>3</th>\n",
       "      <th>4</th>\n",
       "    </tr>\n",
       "  </thead>\n",
       "  <tbody>\n",
       "    <tr>\n",
       "      <th>object_id</th>\n",
       "      <td>0011d6be41612ec9eae3</td>\n",
       "      <td>0012765f7a97ccc3e9e9</td>\n",
       "      <td>0017be8caa87206532cb</td>\n",
       "      <td>00181d86ff1a7b95864e</td>\n",
       "      <td>001c52ae28ec106d9cd5</td>\n",
       "    </tr>\n",
       "    <tr>\n",
       "      <th>art_series_id</th>\n",
       "      <td>93c092ba70beab248f31</td>\n",
       "      <td>95c14fb11c54281ad7e0</td>\n",
       "      <td>4c406890d208fe01f8fb</td>\n",
       "      <td>fa0891535500a4973db2</td>\n",
       "      <td>8065ed5063c5887e677d</td>\n",
       "    </tr>\n",
       "    <tr>\n",
       "      <th>title</th>\n",
       "      <td>The Avenue of Birches</td>\n",
       "      <td>Struik in bloei</td>\n",
       "      <td>Portret van een vrouw</td>\n",
       "      <td>A St Bernard Dog</td>\n",
       "      <td>Woelige zee met zeilschepen</td>\n",
       "    </tr>\n",
       "    <tr>\n",
       "      <th>description</th>\n",
       "      <td>NaN</td>\n",
       "      <td>NaN</td>\n",
       "      <td>Portret van eenvrouw, zittend naast een tafel.</td>\n",
       "      <td>Een sint-bernardshond, staand in een landschap...</td>\n",
       "      <td>Woelige zee met zeilschepen.</td>\n",
       "    </tr>\n",
       "    <tr>\n",
       "      <th>long_title</th>\n",
       "      <td>The Avenue of Birches, Jan Hackaert, 1660 - 1685</td>\n",
       "      <td>Struik in bloei, Richard Tepe (attributed to),...</td>\n",
       "      <td>Portret van een vrouw, Tresling &amp; Comp., 1860 ...</td>\n",
       "      <td>A St Bernard Dog, Bernard te Gempt, c. 1850 - ...</td>\n",
       "      <td>Woelige zee met zeilschepen, anonymous, 1825 -...</td>\n",
       "    </tr>\n",
       "    <tr>\n",
       "      <th>principal_maker</th>\n",
       "      <td>Jan Hackaert</td>\n",
       "      <td>Richard Tepe</td>\n",
       "      <td>Tresling &amp; Comp.</td>\n",
       "      <td>Bernard te Gempt</td>\n",
       "      <td>anonymous</td>\n",
       "    </tr>\n",
       "    <tr>\n",
       "      <th>principal_or_first_maker</th>\n",
       "      <td>Jan Hackaert</td>\n",
       "      <td>Richard Tepe</td>\n",
       "      <td>Tresling &amp; Comp.</td>\n",
       "      <td>Bernard te Gempt</td>\n",
       "      <td>anonymous</td>\n",
       "    </tr>\n",
       "    <tr>\n",
       "      <th>sub_title</th>\n",
       "      <td>h 66.5cm × w 53.7cm × t 2.5cm × d 4.7cm</td>\n",
       "      <td>h 165mm × w 223mm</td>\n",
       "      <td>h 87mm × w 56mm</td>\n",
       "      <td>h 179cm × w 248cm × t 4cm</td>\n",
       "      <td>h 13cm × w 17.5cm × d 0.7cm</td>\n",
       "    </tr>\n",
       "    <tr>\n",
       "      <th>copyright_holder</th>\n",
       "      <td>NaN</td>\n",
       "      <td>erven Richard Tepe</td>\n",
       "      <td>NaN</td>\n",
       "      <td>NaN</td>\n",
       "      <td>NaN</td>\n",
       "    </tr>\n",
       "    <tr>\n",
       "      <th>more_title</th>\n",
       "      <td>The Avenue of Birches</td>\n",
       "      <td>Struik in bloei</td>\n",
       "      <td>Portret van een vrouw</td>\n",
       "      <td>A St Bernard Dog</td>\n",
       "      <td>Woelige zee met zeilschepen</td>\n",
       "    </tr>\n",
       "    <tr>\n",
       "      <th>acquisition_method</th>\n",
       "      <td>purchase</td>\n",
       "      <td>purchase</td>\n",
       "      <td>gift</td>\n",
       "      <td>bequest</td>\n",
       "      <td>unknown</td>\n",
       "    </tr>\n",
       "    <tr>\n",
       "      <th>acquisition_date</th>\n",
       "      <td>1808-01-01T00:00:00</td>\n",
       "      <td>2000-01-01T00:00:00</td>\n",
       "      <td>2007-01-01T00:00:00</td>\n",
       "      <td>1881-01-01T00:00:00</td>\n",
       "      <td>1971-01-01T00:00:00</td>\n",
       "    </tr>\n",
       "    <tr>\n",
       "      <th>acquisition_credit_line</th>\n",
       "      <td>NaN</td>\n",
       "      <td>NaN</td>\n",
       "      <td>Gift of M.M. Boom, Leiden</td>\n",
       "      <td>J. Hilman Bequest, Amsterdam</td>\n",
       "      <td>NaN</td>\n",
       "    </tr>\n",
       "    <tr>\n",
       "      <th>dating_presenting_date</th>\n",
       "      <td>1660 - 1685</td>\n",
       "      <td>c. 1900 - c. 1930</td>\n",
       "      <td>1860 - 1880</td>\n",
       "      <td>c. 1850 - c. 1879</td>\n",
       "      <td>1825 - 1874</td>\n",
       "    </tr>\n",
       "    <tr>\n",
       "      <th>dating_sorting_date</th>\n",
       "      <td>1660.0</td>\n",
       "      <td>1900.0</td>\n",
       "      <td>1860.0</td>\n",
       "      <td>1850.0</td>\n",
       "      <td>1825.0</td>\n",
       "    </tr>\n",
       "    <tr>\n",
       "      <th>dating_period</th>\n",
       "      <td>17</td>\n",
       "      <td>19</td>\n",
       "      <td>19</td>\n",
       "      <td>19</td>\n",
       "      <td>19</td>\n",
       "    </tr>\n",
       "    <tr>\n",
       "      <th>dating_year_early</th>\n",
       "      <td>1660.0</td>\n",
       "      <td>1900.0</td>\n",
       "      <td>1860.0</td>\n",
       "      <td>1850.0</td>\n",
       "      <td>1825.0</td>\n",
       "    </tr>\n",
       "    <tr>\n",
       "      <th>dating_year_late</th>\n",
       "      <td>1685.0</td>\n",
       "      <td>1930.0</td>\n",
       "      <td>1880.0</td>\n",
       "      <td>1879.0</td>\n",
       "      <td>1874.0</td>\n",
       "    </tr>\n",
       "    <tr>\n",
       "      <th>likes</th>\n",
       "      <td>48</td>\n",
       "      <td>2</td>\n",
       "      <td>5</td>\n",
       "      <td>100</td>\n",
       "      <td>7</td>\n",
       "    </tr>\n",
       "  </tbody>\n",
       "</table>\n",
       "</div>"
      ],
      "text/plain": [
       "                                                                         0  \\\n",
       "object_id                                             0011d6be41612ec9eae3   \n",
       "art_series_id                                         93c092ba70beab248f31   \n",
       "title                                                The Avenue of Birches   \n",
       "description                                                            NaN   \n",
       "long_title                The Avenue of Birches, Jan Hackaert, 1660 - 1685   \n",
       "principal_maker                                               Jan Hackaert   \n",
       "principal_or_first_maker                                      Jan Hackaert   \n",
       "sub_title                          h 66.5cm × w 53.7cm × t 2.5cm × d 4.7cm   \n",
       "copyright_holder                                                       NaN   \n",
       "more_title                                           The Avenue of Birches   \n",
       "acquisition_method                                                purchase   \n",
       "acquisition_date                                       1808-01-01T00:00:00   \n",
       "acquisition_credit_line                                                NaN   \n",
       "dating_presenting_date                                         1660 - 1685   \n",
       "dating_sorting_date                                                 1660.0   \n",
       "dating_period                                                           17   \n",
       "dating_year_early                                                   1660.0   \n",
       "dating_year_late                                                    1685.0   \n",
       "likes                                                                   48   \n",
       "\n",
       "                                                                          1  \\\n",
       "object_id                                              0012765f7a97ccc3e9e9   \n",
       "art_series_id                                          95c14fb11c54281ad7e0   \n",
       "title                                                       Struik in bloei   \n",
       "description                                                             NaN   \n",
       "long_title                Struik in bloei, Richard Tepe (attributed to),...   \n",
       "principal_maker                                                Richard Tepe   \n",
       "principal_or_first_maker                                       Richard Tepe   \n",
       "sub_title                                                 h 165mm × w 223mm   \n",
       "copyright_holder                                         erven Richard Tepe   \n",
       "more_title                                                  Struik in bloei   \n",
       "acquisition_method                                                 purchase   \n",
       "acquisition_date                                        2000-01-01T00:00:00   \n",
       "acquisition_credit_line                                                 NaN   \n",
       "dating_presenting_date                                    c. 1900 - c. 1930   \n",
       "dating_sorting_date                                                  1900.0   \n",
       "dating_period                                                            19   \n",
       "dating_year_early                                                    1900.0   \n",
       "dating_year_late                                                     1930.0   \n",
       "likes                                                                     2   \n",
       "\n",
       "                                                                          2  \\\n",
       "object_id                                              0017be8caa87206532cb   \n",
       "art_series_id                                          4c406890d208fe01f8fb   \n",
       "title                                                 Portret van een vrouw   \n",
       "description                  Portret van eenvrouw, zittend naast een tafel.   \n",
       "long_title                Portret van een vrouw, Tresling & Comp., 1860 ...   \n",
       "principal_maker                                            Tresling & Comp.   \n",
       "principal_or_first_maker                                   Tresling & Comp.   \n",
       "sub_title                                                   h 87mm × w 56mm   \n",
       "copyright_holder                                                        NaN   \n",
       "more_title                                            Portret van een vrouw   \n",
       "acquisition_method                                                     gift   \n",
       "acquisition_date                                        2007-01-01T00:00:00   \n",
       "acquisition_credit_line                           Gift of M.M. Boom, Leiden   \n",
       "dating_presenting_date                                          1860 - 1880   \n",
       "dating_sorting_date                                                  1860.0   \n",
       "dating_period                                                            19   \n",
       "dating_year_early                                                    1860.0   \n",
       "dating_year_late                                                     1880.0   \n",
       "likes                                                                     5   \n",
       "\n",
       "                                                                          3  \\\n",
       "object_id                                              00181d86ff1a7b95864e   \n",
       "art_series_id                                          fa0891535500a4973db2   \n",
       "title                                                      A St Bernard Dog   \n",
       "description               Een sint-bernardshond, staand in een landschap...   \n",
       "long_title                A St Bernard Dog, Bernard te Gempt, c. 1850 - ...   \n",
       "principal_maker                                            Bernard te Gempt   \n",
       "principal_or_first_maker                                   Bernard te Gempt   \n",
       "sub_title                                         h 179cm × w 248cm × t 4cm   \n",
       "copyright_holder                                                        NaN   \n",
       "more_title                                                 A St Bernard Dog   \n",
       "acquisition_method                                                  bequest   \n",
       "acquisition_date                                        1881-01-01T00:00:00   \n",
       "acquisition_credit_line                        J. Hilman Bequest, Amsterdam   \n",
       "dating_presenting_date                                    c. 1850 - c. 1879   \n",
       "dating_sorting_date                                                  1850.0   \n",
       "dating_period                                                            19   \n",
       "dating_year_early                                                    1850.0   \n",
       "dating_year_late                                                     1879.0   \n",
       "likes                                                                   100   \n",
       "\n",
       "                                                                          4  \n",
       "object_id                                              001c52ae28ec106d9cd5  \n",
       "art_series_id                                          8065ed5063c5887e677d  \n",
       "title                                           Woelige zee met zeilschepen  \n",
       "description                                    Woelige zee met zeilschepen.  \n",
       "long_title                Woelige zee met zeilschepen, anonymous, 1825 -...  \n",
       "principal_maker                                                   anonymous  \n",
       "principal_or_first_maker                                          anonymous  \n",
       "sub_title                                       h 13cm × w 17.5cm × d 0.7cm  \n",
       "copyright_holder                                                        NaN  \n",
       "more_title                                      Woelige zee met zeilschepen  \n",
       "acquisition_method                                                  unknown  \n",
       "acquisition_date                                        1971-01-01T00:00:00  \n",
       "acquisition_credit_line                                                 NaN  \n",
       "dating_presenting_date                                          1825 - 1874  \n",
       "dating_sorting_date                                                  1825.0  \n",
       "dating_period                                                            19  \n",
       "dating_year_early                                                    1825.0  \n",
       "dating_year_late                                                     1874.0  \n",
       "likes                                                                     7  "
      ]
     },
     "execution_count": 7,
     "metadata": {},
     "output_type": "execute_result"
    }
   ],
   "source": [
    "train_df.head().T"
   ]
  },
  {
   "cell_type": "markdown",
   "id": "incomplete-delhi",
   "metadata": {
    "id": "controlled-sunset"
   },
   "source": [
    "os.makedirs(output_dir() / \"profile\", exist_ok=True)\n",
    "\n",
    "report = ProfileReport(train_df)\n",
    "report.to_file(os.path.join(output_dir() / 'profile/train_report.html'))"
   ]
  },
  {
   "cell_type": "markdown",
   "id": "surface-google",
   "metadata": {},
   "source": [
    "### Palette"
   ]
  },
  {
   "cell_type": "code",
   "execution_count": 8,
   "id": "generic-choir",
   "metadata": {},
   "outputs": [],
   "source": [
    "palette_df = pd.read_csv(os.path.join(input_dir() / \"palette.csv\"))"
   ]
  },
  {
   "cell_type": "code",
   "execution_count": 9,
   "id": "binary-cattle",
   "metadata": {},
   "outputs": [],
   "source": [
    "merge_df = pd.DataFrame({'object_id':palette_df.object_id.unique()})"
   ]
  },
  {
   "cell_type": "code",
   "execution_count": 10,
   "id": "prepared-chase",
   "metadata": {},
   "outputs": [],
   "source": [
    "merge_df = merge_df.merge(palette_df.groupby('object_id')[['color_r', 'color_g', 'color_b']] \\\n",
    "                           .mean().add_prefix('mean_'), on='object_id')"
   ]
  },
  {
   "cell_type": "code",
   "execution_count": 11,
   "id": "quiet-charm",
   "metadata": {},
   "outputs": [],
   "source": [
    "idxmax = palette_df.groupby('object_id')['ratio'].idxmax()\n",
    "palette_df = palette_df[palette_df.index.isin(idxmax)].drop(columns=['ratio'])"
   ]
  },
  {
   "cell_type": "code",
   "execution_count": 12,
   "id": "accomplished-michael",
   "metadata": {},
   "outputs": [],
   "source": [
    "merge_df = merge_df.merge(palette_df, on='object_id')"
   ]
  },
  {
   "cell_type": "code",
   "execution_count": 13,
   "id": "opened-village",
   "metadata": {},
   "outputs": [],
   "source": [
    "train_df = train_df.merge(merge_df, how='left', on='object_id')\n",
    "\n",
    "assert len(train_df) == 12_026, len(train_df)"
   ]
  },
  {
   "cell_type": "code",
   "execution_count": 14,
   "id": "industrial-parcel",
   "metadata": {},
   "outputs": [],
   "source": [
    "test_df = test_df.merge(merge_df, how='left', on='object_id')\n",
    "\n",
    "assert len(test_df) == 12_008, len(test_df)"
   ]
  },
  {
   "cell_type": "markdown",
   "id": "institutional-sudan",
   "metadata": {},
   "source": [
    "### Material"
   ]
  },
  {
   "cell_type": "code",
   "execution_count": 15,
   "id": "concrete-smoke",
   "metadata": {},
   "outputs": [],
   "source": [
    "material_df = pd.read_csv(os.path.join(input_dir() / \"material.csv\"))"
   ]
  },
  {
   "cell_type": "code",
   "execution_count": 16,
   "id": "guilty-factor",
   "metadata": {},
   "outputs": [],
   "source": [
    "vc = material_df['name'].value_counts()\n",
    "material_df['CE_name'] = material_df['name'].map(vc)\n",
    "\n",
    "idxmax = material_df.groupby('object_id')['CE_name'].idxmax()\n",
    "material_df = material_df[material_df.index.isin(idxmax)].drop(columns=['CE_name'])\n",
    "\n",
    "material_df.columns = ['object_id', 'material_name']"
   ]
  },
  {
   "cell_type": "code",
   "execution_count": 17,
   "id": "alternate-carroll",
   "metadata": {},
   "outputs": [],
   "source": [
    "train_df = train_df.merge(material_df, how='left', on='object_id')\n",
    "\n",
    "assert len(train_df) == 12_026, len(train_df)"
   ]
  },
  {
   "cell_type": "code",
   "execution_count": 18,
   "id": "tested-pitch",
   "metadata": {},
   "outputs": [],
   "source": [
    "test_df = test_df.merge(material_df, how='left', on='object_id')\n",
    "\n",
    "assert len(test_df) == 12_008, len(test_df)"
   ]
  },
  {
   "cell_type": "markdown",
   "id": "surface-regard",
   "metadata": {},
   "source": [
    "### Historical Person"
   ]
  },
  {
   "cell_type": "code",
   "execution_count": 19,
   "id": "listed-album",
   "metadata": {},
   "outputs": [],
   "source": [
    "historical_person_df = pd.read_csv(os.path.join(input_dir() / \"historical_person.csv\"))"
   ]
  },
  {
   "cell_type": "code",
   "execution_count": 20,
   "id": "underlying-crash",
   "metadata": {},
   "outputs": [],
   "source": [
    "vc = historical_person_df['name'].value_counts()\n",
    "historical_person_df['CE_name'] = historical_person_df['name'].map(vc)\n",
    "\n",
    "idxmax = historical_person_df.groupby('object_id')['CE_name'].idxmax()\n",
    "historical_person_df = historical_person_df[historical_person_df.index.isin(idxmax)].drop(columns=['CE_name'])\n",
    "\n",
    "historical_person_df.columns = ['object_id', 'person_name']"
   ]
  },
  {
   "cell_type": "code",
   "execution_count": 21,
   "id": "suffering-description",
   "metadata": {},
   "outputs": [],
   "source": [
    "train_df = train_df.merge(historical_person_df, how='left', on='object_id')\n",
    "\n",
    "assert len(train_df) == 12_026, len(train_df)"
   ]
  },
  {
   "cell_type": "code",
   "execution_count": 22,
   "id": "knowing-horse",
   "metadata": {},
   "outputs": [],
   "source": [
    "test_df = test_df.merge(historical_person_df, how='left', on='object_id')\n",
    "\n",
    "assert len(test_df) == 12_008, len(test_df)"
   ]
  },
  {
   "cell_type": "markdown",
   "id": "spare-monitor",
   "metadata": {},
   "source": [
    "### Object Colletion"
   ]
  },
  {
   "cell_type": "code",
   "execution_count": 23,
   "id": "homeless-aspect",
   "metadata": {},
   "outputs": [],
   "source": [
    "object_collection_df = pd.read_csv(os.path.join(input_dir() / \"object_collection.csv\"))"
   ]
  },
  {
   "cell_type": "code",
   "execution_count": 24,
   "id": "shared-chest",
   "metadata": {},
   "outputs": [],
   "source": [
    "vc = object_collection_df['name'].value_counts()\n",
    "object_collection_df['CE_name'] = object_collection_df['name'].map(vc)\n",
    "\n",
    "idxmax = object_collection_df.groupby('object_id')['CE_name'].idxmax()\n",
    "object_collection_df = object_collection_df[object_collection_df.index.isin(idxmax)].drop(columns=['CE_name'])\n",
    "\n",
    "object_collection_df.columns = ['object_id', 'collection_name']"
   ]
  },
  {
   "cell_type": "code",
   "execution_count": 25,
   "id": "defined-handling",
   "metadata": {},
   "outputs": [],
   "source": [
    "train_df = train_df.merge(object_collection_df, how='left', on='object_id')\n",
    "\n",
    "assert len(train_df) == 12_026, len(train_df)"
   ]
  },
  {
   "cell_type": "code",
   "execution_count": 26,
   "id": "controversial-tucson",
   "metadata": {},
   "outputs": [],
   "source": [
    "test_df = test_df.merge(object_collection_df, how='left', on='object_id')\n",
    "\n",
    "assert len(test_df) == 12_008, len(test_df)"
   ]
  },
  {
   "cell_type": "markdown",
   "id": "charged-prerequisite",
   "metadata": {},
   "source": [
    "### Production Place"
   ]
  },
  {
   "cell_type": "code",
   "execution_count": 27,
   "id": "catholic-nashville",
   "metadata": {},
   "outputs": [],
   "source": [
    "production_place_df = pd.read_csv(os.path.join(input_dir() / \"production_place.csv\"))"
   ]
  },
  {
   "cell_type": "code",
   "execution_count": 28,
   "id": "angry-competition",
   "metadata": {},
   "outputs": [],
   "source": [
    "vc = production_place_df['name'].value_counts()\n",
    "production_place_df['CE_name'] = production_place_df['name'].map(vc)\n",
    "\n",
    "idxmax = production_place_df.groupby('object_id')['CE_name'].idxmax()\n",
    "production_place_df = production_place_df[production_place_df.index.isin(idxmax)].drop(columns=['CE_name'])\n",
    "\n",
    "production_place_df.columns = ['object_id', 'place_name']"
   ]
  },
  {
   "cell_type": "code",
   "execution_count": 29,
   "id": "aboriginal-swift",
   "metadata": {},
   "outputs": [],
   "source": [
    "train_df = train_df.merge(production_place_df, how='left', on='object_id')\n",
    "\n",
    "assert len(train_df) == 12_026, len(train_df)"
   ]
  },
  {
   "cell_type": "code",
   "execution_count": 30,
   "id": "tropical-residence",
   "metadata": {},
   "outputs": [],
   "source": [
    "test_df = test_df.merge(production_place_df, how='left', on='object_id')\n",
    "\n",
    "assert len(test_df) == 12_008, len(test_df)"
   ]
  },
  {
   "cell_type": "markdown",
   "id": "superb-diesel",
   "metadata": {},
   "source": [
    "### Technique"
   ]
  },
  {
   "cell_type": "code",
   "execution_count": 31,
   "id": "technological-ranking",
   "metadata": {},
   "outputs": [],
   "source": [
    "technique_df = pd.read_csv(os.path.join(input_dir() / \"technique.csv\"))"
   ]
  },
  {
   "cell_type": "code",
   "execution_count": 32,
   "id": "built-checklist",
   "metadata": {},
   "outputs": [],
   "source": [
    "vc = technique_df['name'].value_counts()\n",
    "technique_df['CE_name'] = technique_df['name'].map(vc)\n",
    "\n",
    "idxmax = technique_df.groupby('object_id')['CE_name'].idxmax()\n",
    "technique_df = technique_df[technique_df.index.isin(idxmax)].drop(columns=['CE_name'])\n",
    "\n",
    "technique_df.columns = ['object_id', 'technique_name']"
   ]
  },
  {
   "cell_type": "code",
   "execution_count": 33,
   "id": "foreign-pasta",
   "metadata": {},
   "outputs": [],
   "source": [
    "train_df = train_df.merge(technique_df, how='left', on='object_id')\n",
    "\n",
    "assert len(train_df) == 12_026, len(train_df)"
   ]
  },
  {
   "cell_type": "code",
   "execution_count": 34,
   "id": "greatest-cruise",
   "metadata": {},
   "outputs": [],
   "source": [
    "test_df = test_df.merge(technique_df, how='left', on='object_id')\n",
    "\n",
    "assert len(test_df) == 12_008, len(test_df)"
   ]
  },
  {
   "cell_type": "markdown",
   "id": "other-legislation",
   "metadata": {},
   "source": [
    "### Maker"
   ]
  },
  {
   "cell_type": "code",
   "execution_count": 35,
   "id": "instant-birthday",
   "metadata": {},
   "outputs": [],
   "source": [
    "maker_df = pd.read_csv(os.path.join(input_dir() / \"maker.csv\"))"
   ]
  },
  {
   "cell_type": "code",
   "execution_count": 36,
   "id": "frequent-spirituality",
   "metadata": {},
   "outputs": [
    {
     "data": {
      "text/plain": [
       "Index(['name', 'place_of_birth', 'date_of_birth', 'date_of_death',\n",
       "       'place_of_death', 'nationality'],\n",
       "      dtype='object')"
      ]
     },
     "execution_count": 36,
     "metadata": {},
     "output_type": "execute_result"
    }
   ],
   "source": [
    "maker_df.columns"
   ]
  },
  {
   "cell_type": "code",
   "execution_count": 37,
   "id": "happy-client",
   "metadata": {},
   "outputs": [],
   "source": [
    "maker_df['year_of_birth'] = maker_df['date_of_birth'].apply(lambda x: x[:4] if not pd.isna(x) else x)\n",
    "maker_df['year_of_death'] = maker_df['date_of_death'].apply(lambda x: x[:4] if not pd.isna(x) else x)\n",
    "\n",
    "maker_df['period_of_birth'] = maker_df['date_of_birth'].apply(lambda x: x[:2] if not pd.isna(x) else x)\n",
    "maker_df['period_of_death'] = maker_df['date_of_death'].apply(lambda x: x[:2] if not pd.isna(x) else x)"
   ]
  },
  {
   "cell_type": "code",
   "execution_count": 38,
   "id": "loving-bulgaria",
   "metadata": {},
   "outputs": [],
   "source": [
    "train_df = train_df.merge(maker_df, how='left', left_on='principal_maker', right_on='name')"
   ]
  },
  {
   "cell_type": "code",
   "execution_count": 39,
   "id": "patient-prescription",
   "metadata": {},
   "outputs": [],
   "source": [
    "test_df = test_df.merge(maker_df, how='left', left_on='principal_maker', right_on='name')"
   ]
  },
  {
   "cell_type": "code",
   "execution_count": 40,
   "id": "resident-casino",
   "metadata": {
    "executionInfo": {
     "elapsed": 687,
     "status": "ok",
     "timestamp": 1615115350293,
     "user": {
      "displayName": "김준형",
      "photoUrl": "https://lh3.googleusercontent.com/a-/AOh14GjoucIizMtFKPEd5GLr281FF-qhH43HTCNZtxOuTzA=s64",
      "userId": "17669351473013187910"
     },
     "user_tz": -540
    },
    "id": "ultimate-haven"
   },
   "outputs": [],
   "source": [
    "whole_df = pd.concat([train_df.drop(columns=['likes']).reset_index(), \n",
    "                      test_df.reset_index()], axis=0)"
   ]
  },
  {
   "cell_type": "markdown",
   "id": "personal-bidding",
   "metadata": {
    "id": "third-psychology"
   },
   "source": [
    "## Feature Engineering"
   ]
  },
  {
   "cell_type": "code",
   "execution_count": 41,
   "id": "legislative-corruption",
   "metadata": {
    "executionInfo": {
     "elapsed": 542,
     "status": "ok",
     "timestamp": 1615115364330,
     "user": {
      "displayName": "김준형",
      "photoUrl": "https://lh3.googleusercontent.com/a-/AOh14GjoucIizMtFKPEd5GLr281FF-qhH43HTCNZtxOuTzA=s64",
      "userId": "17669351473013187910"
     },
     "user_tz": -540
    },
    "id": "quality-boards"
   },
   "outputs": [],
   "source": [
    "class BaseBlock(object):\n",
    "    def fit(self, input_df, y=None):\n",
    "        return self.transform(input_df)\n",
    "    \n",
    "    def transform(self, input_df):\n",
    "        return NotImplementedError()"
   ]
  },
  {
   "cell_type": "markdown",
   "id": "healthy-mortgage",
   "metadata": {
    "id": "oriental-prediction"
   },
   "source": [
    "### Numerical Features"
   ]
  },
  {
   "cell_type": "code",
   "execution_count": 42,
   "id": "hidden-wednesday",
   "metadata": {
    "executionInfo": {
     "elapsed": 423,
     "status": "ok",
     "timestamp": 1615115367509,
     "user": {
      "displayName": "김준형",
      "photoUrl": "https://lh3.googleusercontent.com/a-/AOh14GjoucIizMtFKPEd5GLr281FF-qhH43HTCNZtxOuTzA=s64",
      "userId": "17669351473013187910"
     },
     "user_tz": -540
    },
    "id": "strange-madonna"
   },
   "outputs": [],
   "source": [
    "def create_numerical_features(input_df):\n",
    "    use_cols = [\n",
    "        'dating_period',\n",
    "        'dating_year_early',\n",
    "        'dating_year_late',\n",
    "        'year_of_birth',\n",
    "        'year_of_death',\n",
    "        'period_of_birth',\n",
    "        'period_of_death',\n",
    "        'color_r',\n",
    "        'color_g',\n",
    "        'color_b',\n",
    "        'mean_color_r',\n",
    "        'mean_color_g',\n",
    "        'mean_color_b'\n",
    "    ]\n",
    "    \n",
    "    output_df = input_df[use_cols].copy()\n",
    "    output_df['dating_presenting_date'] = output_df['dating_year_late'] - output_df['dating_year_early']\n",
    "    output_df['maker_life_time'] = output_df['year_of_death'].astype(float) - output_df['year_of_birth'].astype(float)\n",
    "    \n",
    "    return output_df"
   ]
  },
  {
   "cell_type": "markdown",
   "id": "buried-buffalo",
   "metadata": {
    "id": "generous-cleanup"
   },
   "source": [
    "### String Length Feature"
   ]
  },
  {
   "cell_type": "code",
   "execution_count": 43,
   "id": "mental-range",
   "metadata": {
    "executionInfo": {
     "elapsed": 415,
     "status": "ok",
     "timestamp": 1615115369822,
     "user": {
      "displayName": "김준형",
      "photoUrl": "https://lh3.googleusercontent.com/a-/AOh14GjoucIizMtFKPEd5GLr281FF-qhH43HTCNZtxOuTzA=s64",
      "userId": "17669351473013187910"
     },
     "user_tz": -540
    },
    "id": "inside-painting"
   },
   "outputs": [],
   "source": [
    "class stringLengthBlock(BaseBlock):\n",
    "    def __init__(self, col:str):\n",
    "        self.col = col\n",
    "        \n",
    "    def transform(self, input_df):\n",
    "        output_df = pd.DataFrame()\n",
    "        col = self.col\n",
    "        \n",
    "        output_df[col] = input_df[col].str.len()\n",
    "        \n",
    "        return output_df.add_prefix('StringLength_')"
   ]
  },
  {
   "cell_type": "markdown",
   "id": "black-sample",
   "metadata": {},
   "source": [
    "### Aggregation Block"
   ]
  },
  {
   "cell_type": "code",
   "execution_count": 44,
   "id": "ranking-emergency",
   "metadata": {},
   "outputs": [],
   "source": [
    "class AggregationBlock(BaseBlock):\n",
    "    def __init__(self, table_name:str):\n",
    "        self.table_name = table_name\n",
    "    \n",
    "    def fit(self, input_df):\n",
    "        _df = pd.read_csv(os.path.join(input_dir() / f\"{self.table_name}.csv\"))\n",
    "        \n",
    "        vc = _df['name'].value_counts()\n",
    "        _df['CE_name'] = _df['name'].map(vc)\n",
    "        \n",
    "        self.agg_df = _df.groupby('object_id')['CE_name'].agg({'max', 'min', 'mean', 'std'})\n",
    "        \n",
    "        return self.transform(input_df)\n",
    "    \n",
    "    def transform(self, input_df):\n",
    "        output_df = input_df[['object_id']].merge(self.agg_df, \n",
    "                                                  how='left', \n",
    "                                                  on='object_id').drop(columns=['object_id'])\n",
    "        \n",
    "        return output_df.add_prefix(f'{self.table_name}_')"
   ]
  },
  {
   "cell_type": "markdown",
   "id": "changed-trustee",
   "metadata": {
    "id": "threaded-particular"
   },
   "source": [
    "### Count Encoding"
   ]
  },
  {
   "cell_type": "code",
   "execution_count": 45,
   "id": "certified-shore",
   "metadata": {
    "executionInfo": {
     "elapsed": 536,
     "status": "ok",
     "timestamp": 1615115371098,
     "user": {
      "displayName": "김준형",
      "photoUrl": "https://lh3.googleusercontent.com/a-/AOh14GjoucIizMtFKPEd5GLr281FF-qhH43HTCNZtxOuTzA=s64",
      "userId": "17669351473013187910"
     },
     "user_tz": -540
    },
    "id": "accurate-japan"
   },
   "outputs": [],
   "source": [
    "class CountEncoding(BaseBlock):\n",
    "    def __init__(self, col:str, base_df):\n",
    "        self.col = col\n",
    "        self.base_df = base_df\n",
    "        \n",
    "    def transform(self, input_df):\n",
    "        output_df = pd.DataFrame()\n",
    "        col = self.col\n",
    "\n",
    "        vc = self.base_df[col].value_counts()\n",
    "        output_df[col] = input_df[col].map(vc)\n",
    "        \n",
    "        return output_df.add_prefix(f\"CE_\")"
   ]
  },
  {
   "cell_type": "markdown",
   "id": "selected-trouble",
   "metadata": {},
   "source": [
    "### Target Encoding"
   ]
  },
  {
   "cell_type": "code",
   "execution_count": 46,
   "id": "primary-canberra",
   "metadata": {},
   "outputs": [],
   "source": [
    "class TargetEncoding(BaseBlock):\n",
    "    def __init__(self, col:str, target_col:str):\n",
    "        self.col = col\n",
    "        self.target_col = target_col\n",
    "        \n",
    "    def fit(self, input_df):\n",
    "        _df = input_df.groupby(self.col)[self.target_col].mean()\n",
    "        self.meta_df = _df\n",
    "        return self.transform(input_df)\n",
    "    \n",
    "    def transform(self, input_df):\n",
    "        output_df = pd.merge(input_df[self.col], self.meta_df, how='left', on=self.col).drop(columns=[self.col])\n",
    "        return output_df.add_prefix(f\"TE@{self.col}=\")"
   ]
  },
  {
   "cell_type": "markdown",
   "id": "different-stuff",
   "metadata": {},
   "source": [
    "### Tfidf Block"
   ]
  },
  {
   "cell_type": "code",
   "execution_count": 48,
   "id": "considered-corpus",
   "metadata": {},
   "outputs": [],
   "source": [
    "import texthero as hero\n",
    "import nltk"
   ]
  },
  {
   "cell_type": "code",
   "execution_count": 49,
   "id": "royal-sweden",
   "metadata": {},
   "outputs": [],
   "source": [
    "from sklearn.feature_extraction.text import TfidfVectorizer\n",
    "from sklearn.decomposition import TruncatedSVD\n",
    "from sklearn.pipeline import Pipeline"
   ]
  },
  {
   "cell_type": "code",
   "execution_count": 85,
   "id": "departmental-friday",
   "metadata": {},
   "outputs": [],
   "source": [
    "def text_normalization(text):\n",
    "\n",
    "    # 英語とオランダ語を stopword として指定\n",
    "    custom_stopwords = nltk.corpus.stopwords.words('dutch') + nltk.corpus.stopwords.words('english')\n",
    "\n",
    "    x = hero.clean(text, pipeline=[\n",
    "        hero.preprocessing.fillna,\n",
    "        hero.preprocessing.lowercase,\n",
    "        hero.preprocessing.remove_digits,\n",
    "        hero.preprocessing.remove_punctuation,\n",
    "        hero.preprocessing.remove_diacritics,\n",
    "        lambda x: hero.preprocessing.remove_stopwords(x, stopwords=custom_stopwords)\n",
    "    ])\n",
    "\n",
    "    return x\n",
    "\n",
    "class TfidfBlock(BaseBlock):\n",
    "    \"\"\"tfidf x SVD による圧縮を行なう block\"\"\"\n",
    "    def __init__(self, column: str):\n",
    "        \"\"\"\n",
    "        args:\n",
    "            column: str\n",
    "                変換対象のカラム名\n",
    "        \"\"\"\n",
    "        self.column = column\n",
    "\n",
    "    def preprocess(self, input_df):\n",
    "        x = text_normalization(input_df[self.column])\n",
    "        return x\n",
    "\n",
    "    def get_master(self, input_df):\n",
    "        \"\"\"tdidfを計算するための全体集合を返す. \n",
    "        デフォルトでは fit でわたされた dataframe を使うが, もっと別のデータを使うのも考えられる.\"\"\"\n",
    "        return input_df\n",
    "\n",
    "    def fit(self, input_df, y=None):\n",
    "        master_df = self.get_master(input_df)\n",
    "        text = self.preprocess(input_df)\n",
    "        self.pileline_ = Pipeline([\n",
    "            ('tfidf', TfidfVectorizer(max_features=10_000)),\n",
    "            ('svd', TruncatedSVD(n_components=50)),\n",
    "        ])\n",
    "\n",
    "        self.pileline_.fit(text)\n",
    "        return self.transform(input_df)\n",
    "\n",
    "    def transform(self, input_df):\n",
    "        text = self.preprocess(input_df)\n",
    "        z = self.pileline_.transform(text)\n",
    "\n",
    "        out_df = pd.DataFrame(z)\n",
    "        return out_df.add_prefix(f'{self.column}_tfidf_')"
   ]
  },
  {
   "cell_type": "markdown",
   "id": "affecting-tennessee",
   "metadata": {},
   "source": [
    "### Size Extraction Block"
   ]
  },
  {
   "cell_type": "code",
   "execution_count": 91,
   "id": "smaller-wireless",
   "metadata": {},
   "outputs": [],
   "source": [
    "class SizeExtractionBlock(BaseBlock):\n",
    "    def transform(self, input_df):\n",
    "        output_df = pd.DataFrame()\n",
    "        \n",
    "        for axis in ['h', 'w', 't', 'd']:\n",
    "            column_name = f\"size_{axis}\"\n",
    "            size_info = input_df['sub_title'].str.extract(r'{} (\\d*|\\d*\\.\\d*)(cm|mm)'.format(axis))\n",
    "            size_info = size_info.rename(columns={0:column_name, 1:'unit'})\n",
    "            size_info[column_name] = size_info[column_name].replace('', np.nan).astype(float)\n",
    "            size_info[column_name] = size_info.apply(lambda row: row[column_name] * 10 if row['unit']=='cm' else row[column_name], axis=1)\n",
    "            output_df[column_name] = size_info[column_name]\n",
    "            \n",
    "        return output_df"
   ]
  },
  {
   "cell_type": "markdown",
   "id": "individual-organ",
   "metadata": {
    "id": "integral-muscle"
   },
   "source": [
    "### One-hot Encoding"
   ]
  },
  {
   "cell_type": "code",
   "execution_count": 53,
   "id": "whole-carter",
   "metadata": {
    "executionInfo": {
     "elapsed": 433,
     "status": "ok",
     "timestamp": 1615115372197,
     "user": {
      "displayName": "김준형",
      "photoUrl": "https://lh3.googleusercontent.com/a-/AOh14GjoucIizMtFKPEd5GLr281FF-qhH43HTCNZtxOuTzA=s64",
      "userId": "17669351473013187910"
     },
     "user_tz": -540
    },
    "id": "dietary-neighborhood"
   },
   "outputs": [],
   "source": [
    "class OneHotEncoding(BaseBlock):\n",
    "    def __init__(self, col:str, threshold:int=40):\n",
    "        self.col = col\n",
    "        self.threshold = threshold\n",
    "        \n",
    "    def fit(self, input_df):\n",
    "        vc = input_df[self.col].dropna().value_counts()\n",
    "        cats = vc[vc > self.threshold].index\n",
    "        self.cats = cats\n",
    "        return self.transform(input_df)\n",
    "    \n",
    "    def transform(self, input_df):\n",
    "        x = pd.Categorical(input_df[self.col], categories=self.cats)\n",
    "        output_df = pd.get_dummies(x, dummy_na=False)\n",
    "        output_df.columns = output_df.columns.tolist()\n",
    "        \n",
    "        return output_df.add_prefix(f'OH@{self.col}=')"
   ]
  },
  {
   "cell_type": "markdown",
   "id": "finite-invasion",
   "metadata": {
    "id": "oriented-cisco"
   },
   "source": [
    "### Get Train Feature Data"
   ]
  },
  {
   "cell_type": "code",
   "execution_count": 54,
   "id": "impossible-architecture",
   "metadata": {
    "executionInfo": {
     "elapsed": 420,
     "status": "ok",
     "timestamp": 1615115374176,
     "user": {
      "displayName": "김준형",
      "photoUrl": "https://lh3.googleusercontent.com/a-/AOh14GjoucIizMtFKPEd5GLr281FF-qhH43HTCNZtxOuTzA=s64",
      "userId": "17669351473013187910"
     },
     "user_tz": -540
    },
    "id": "sticky-county"
   },
   "outputs": [],
   "source": [
    "class WrapperBlock(BaseBlock):\n",
    "    def __init__(self, function):\n",
    "        self.function = function\n",
    "\n",
    "    def transform(self, input_df):\n",
    "        return self.function(input_df)"
   ]
  },
  {
   "cell_type": "code",
   "execution_count": 56,
   "id": "regional-indian",
   "metadata": {},
   "outputs": [
    {
     "name": "stdout",
     "output_type": "stream",
     "text": [
      "<class 'pandas.core.frame.DataFrame'>\n",
      "Int64Index: 12026 entries, 0 to 12025\n",
      "Data columns (total 40 columns):\n",
      " #   Column                    Non-Null Count  Dtype  \n",
      "---  ------                    --------------  -----  \n",
      " 0   object_id                 12026 non-null  object \n",
      " 1   art_series_id             12026 non-null  object \n",
      " 2   title                     12026 non-null  object \n",
      " 3   description               8506 non-null   object \n",
      " 4   long_title                12026 non-null  object \n",
      " 5   principal_maker           12026 non-null  object \n",
      " 6   principal_or_first_maker  12025 non-null  object \n",
      " 7   sub_title                 11992 non-null  object \n",
      " 8   copyright_holder          713 non-null    object \n",
      " 9   more_title                11891 non-null  object \n",
      " 10  acquisition_method        11830 non-null  object \n",
      " 11  acquisition_date          11009 non-null  object \n",
      " 12  acquisition_credit_line   3525 non-null   object \n",
      " 13  dating_presenting_date    12016 non-null  object \n",
      " 14  dating_sorting_date       12016 non-null  float64\n",
      " 15  dating_period             12026 non-null  int64  \n",
      " 16  dating_year_early         12016 non-null  float64\n",
      " 17  dating_year_late          11988 non-null  float64\n",
      " 18  likes                     12026 non-null  int64  \n",
      " 19  mean_color_r              12007 non-null  float64\n",
      " 20  mean_color_g              12007 non-null  float64\n",
      " 21  mean_color_b              12007 non-null  float64\n",
      " 22  color_r                   12007 non-null  float64\n",
      " 23  color_g                   12007 non-null  float64\n",
      " 24  color_b                   12007 non-null  float64\n",
      " 25  material_name             11807 non-null  object \n",
      " 26  person_name               2312 non-null   object \n",
      " 27  collection_name           7116 non-null   object \n",
      " 28  place_name                7794 non-null   object \n",
      " 29  technique_name            8661 non-null   object \n",
      " 30  name                      12026 non-null  object \n",
      " 31  place_of_birth            7912 non-null   object \n",
      " 32  date_of_birth             8596 non-null   object \n",
      " 33  date_of_death             8179 non-null   object \n",
      " 34  place_of_death            7488 non-null   object \n",
      " 35  nationality               5 non-null      object \n",
      " 36  year_of_birth             8596 non-null   object \n",
      " 37  year_of_death             8179 non-null   object \n",
      " 38  period_of_birth           8596 non-null   object \n",
      " 39  period_of_death           8179 non-null   object \n",
      "dtypes: float64(9), int64(2), object(29)\n",
      "memory usage: 3.8+ MB\n"
     ]
    }
   ],
   "source": [
    "train_df.info()"
   ]
  },
  {
   "cell_type": "code",
   "execution_count": 57,
   "id": "wanted-vacuum",
   "metadata": {},
   "outputs": [
    {
     "data": {
      "image/png": "[encoded data removed]",
      "text/plain": [
       "<Figure size 864x2160 with 40 Axes>"
      ]
     },
     "metadata": {
      "needs_background": "light"
     },
     "output_type": "display_data"
    }
   ],
   "source": [
    "cols = train_df.drop(columns=['likes']).columns\n",
    "\n",
    "n_figs = len(cols)\n",
    "n_cols = 4\n",
    "n_rows = n_figs // n_cols + 1\n",
    "\n",
    "fix, axes = plt.subplots(figsize=(n_cols * 3, n_rows * 3), ncols=n_cols, nrows=n_rows)\n",
    "\n",
    "for col, ax in zip(cols, axes.ravel()):\n",
    "    ax.set_title(f'{col}')\n",
    "    venn2(subsets=[set(train_df[col].values), \n",
    "                   set(test_df[col].values)], \n",
    "          set_labels=['train', 'test'], \n",
    "          ax=ax)"
   ]
  },
  {
   "cell_type": "code",
   "execution_count": 108,
   "id": "scientific-deputy",
   "metadata": {
    "executionInfo": {
     "elapsed": 584,
     "status": "ok",
     "timestamp": 1615115374950,
     "user": {
      "displayName": "김준형",
      "photoUrl": "https://lh3.googleusercontent.com/a-/AOh14GjoucIizMtFKPEd5GLr281FF-qhH43HTCNZtxOuTzA=s64",
      "userId": "17669351473013187910"
     },
     "user_tz": -540
    },
    "id": "handmade-gilbert"
   },
   "outputs": [],
   "source": [
    "process_blocks = [\n",
    "    WrapperBlock(create_numerical_features),\n",
    "    \n",
    "    *[stringLengthBlock(col) for col in ['title', 'long_title', 'sub_title', 'more_title']],\n",
    "    \n",
    "    *[AggregationBlock(table_name) for table_name in ['material', 'historical_person']],\n",
    "    \n",
    "    *[CountEncoding(col, whole_df) for col in ['acquisition_method', 'title', 'dating_period',\n",
    "                                               'principal_maker', 'copyright_holder', 'acquisition_method', \n",
    "                                               'collection_name', 'place_name', 'technique_name']],\n",
    "    \n",
    "    *[TargetEncoding(col, 'likes') for col in ['dating_period', 'acquisition_method', \n",
    "                                               'collection_name', 'technique_name', 'nationality', \n",
    "                                               'period_of_birth', 'period_of_death']],\n",
    "    \n",
    "    *[TfidfBlock(col) for col in ['long_title', 'description']],\n",
    "    SizeExtractionBlock(),\n",
    "#     OneHotEncoding(col='acquisition_method', threshold=100),\n",
    "#     OneHotEncoding(col='principal_maker', threshold=200)\n",
    "]"
   ]
  },
  {
   "cell_type": "code",
   "execution_count": 109,
   "id": "educated-louisville",
   "metadata": {
    "executionInfo": {
     "elapsed": 468,
     "status": "ok",
     "timestamp": 1615115375546,
     "user": {
      "displayName": "김준형",
      "photoUrl": "https://lh3.googleusercontent.com/a-/AOh14GjoucIizMtFKPEd5GLr281FF-qhH43HTCNZtxOuTzA=s64",
      "userId": "17669351473013187910"
     },
     "user_tz": -540
    },
    "id": "silent-telling"
   },
   "outputs": [],
   "source": [
    "def get_function(block, is_train):\n",
    "  s = mapping = {\n",
    "      True: 'fit',\n",
    "      False: 'transform'\n",
    "  }.get(is_train)\n",
    "  return getattr(block, s)\n",
    "\n",
    "def to_features(input_df, blocks, is_train=False):\n",
    "    output_df = pd.DataFrame()\n",
    "\n",
    "    for block in tqdm(blocks, total=len(blocks)):\n",
    "        func = get_function(block, is_train)\n",
    "\n",
    "        with timer(prefix='create ' + func.__name__ + ' '):\n",
    "            _df = func(input_df)\n",
    "\n",
    "        assert len(_df) == len(input_df), block\n",
    "        output_df = pd.concat([output_df, _df], axis=1)\n",
    "\n",
    "    return output_df"
   ]
  },
  {
   "cell_type": "code",
   "execution_count": 110,
   "id": "essential-property",
   "metadata": {
    "colab": {
     "base_uri": "https://localhost:8080/"
    },
    "executionInfo": {
     "elapsed": 690,
     "status": "ok",
     "timestamp": 1615115376281,
     "user": {
      "displayName": "김준형",
      "photoUrl": "https://lh3.googleusercontent.com/a-/AOh14GjoucIizMtFKPEd5GLr281FF-qhH43HTCNZtxOuTzA=s64",
      "userId": "17669351473013187910"
     },
     "user_tz": -540
    },
    "id": "chief-republic",
    "outputId": "0f7d887e-617f-45c4-f0e3-d6731469bbf7"
   },
   "outputs": [
    {
     "name": "stderr",
     "output_type": "stream",
     "text": [
      " 23%|██████████████████████▌                                                                           | 6/26 [00:00<00:00, 54.47it/s]"
     ]
    },
    {
     "name": "stdout",
     "output_type": "stream",
     "text": [
      "create fit 0.010[s]\n",
      "create fit 0.005[s]\n",
      "create fit 0.005[s]\n",
      "create fit 0.005[s]\n",
      "create fit 0.006[s]\n",
      "create fit 0.060[s]\n",
      "create fit 0.032[s]\n",
      "create fit 0.006[s]\n",
      "create fit 0.010[s]\n",
      "create fit 0.003[s]\n",
      "create fit 0.006[s]\n",
      "create fit 0.005[s]\n"
     ]
    },
    {
     "name": "stderr",
     "output_type": "stream",
     "text": [
      " 85%|██████████████████████████████████████████████████████████████████████████████████               | 22/26 [00:00<00:00, 73.53it/s]"
     ]
    },
    {
     "name": "stdout",
     "output_type": "stream",
     "text": [
      "create fit 0.006[s]\n",
      "create fit 0.006[s]\n",
      "create fit 0.006[s]\n",
      "create fit 0.005[s]\n",
      "create fit 0.005[s]\n",
      "create fit 0.005[s]\n",
      "create fit 0.004[s]\n",
      "create fit 0.006[s]\n",
      "create fit 0.005[s]\n",
      "create fit 0.005[s]\n",
      "create fit 0.007[s]\n"
     ]
    },
    {
     "name": "stderr",
     "output_type": "stream",
     "text": [
      "c:\\users\\res12\\appdata\\local\\pypoetry\\cache\\virtualenvs\\python-6yvu1pyu-py3.9\\lib\\site-packages\\texthero\\preprocessing.py:72: FutureWarning: The default value of regex will change from True to False in a future version.\n",
      "  return input.str.replace(pattern, symbols)\n",
      "c:\\users\\res12\\appdata\\local\\pypoetry\\cache\\virtualenvs\\python-6yvu1pyu-py3.9\\lib\\site-packages\\texthero\\preprocessing.py:131: FutureWarning: The default value of regex will change from True to False in a future version.\n",
      "  return input.str.replace(rf\"([{string.punctuation}])+\", symbol)\n"
     ]
    },
    {
     "name": "stdout",
     "output_type": "stream",
     "text": [
      "create fit 2.144[s]\n",
      "create fit 3.906[s]\n"
     ]
    },
    {
     "name": "stderr",
     "output_type": "stream",
     "text": [
      "100%|█████████████████████████████████████████████████████████████████████████████████████████████████| 26/26 [00:06<00:00,  3.81it/s]\n",
      " 38%|█████████████████████████████████████▎                                                           | 10/26 [00:00<00:00, 94.28it/s]"
     ]
    },
    {
     "name": "stdout",
     "output_type": "stream",
     "text": [
      "create fit 0.409[s]\n",
      "create transform 0.011[s]\n",
      "create transform 0.007[s]\n",
      "create transform 0.005[s]\n",
      "create transform 0.005[s]\n",
      "create transform 0.007[s]\n",
      "create transform 0.011[s]\n",
      "create transform 0.008[s]\n",
      "create transform 0.004[s]\n",
      "create transform 0.011[s]\n",
      "create transform 0.002[s]\n",
      "create transform 0.006[s]\n",
      "create transform 0.006[s]\n",
      "create transform 0.005[s]\n",
      "create transform 0.005[s]\n",
      "create transform 0.006[s]\n",
      "create transform 0.005[s]\n",
      "create transform 0.003[s]\n"
     ]
    },
    {
     "name": "stderr",
     "output_type": "stream",
     "text": [
      " 77%|██████████████████████████████████████████████████████████████████████████▌                      | 20/26 [00:00<00:00, 94.18it/s]"
     ]
    },
    {
     "name": "stdout",
     "output_type": "stream",
     "text": [
      "create transform 0.004[s]\n",
      "create transform 0.005[s]\n",
      "create transform 0.004[s]\n",
      "create transform 0.005[s]\n",
      "create transform 0.003[s]\n",
      "create transform 0.005[s]\n",
      "create transform 0.985[s]\n",
      "create transform 2.174[s]\n"
     ]
    },
    {
     "name": "stderr",
     "output_type": "stream",
     "text": [
      "100%|█████████████████████████████████████████████████████████████████████████████████████████████████| 26/26 [00:03<00:00,  6.55it/s]"
     ]
    },
    {
     "name": "stdout",
     "output_type": "stream",
     "text": [
      "create transform 0.513[s]\n"
     ]
    },
    {
     "name": "stderr",
     "output_type": "stream",
     "text": [
      "\n"
     ]
    }
   ],
   "source": [
    "train_feat_df = to_features(train_df, process_blocks, is_train=True)\n",
    "test_feat_df = to_features(test_df, process_blocks)"
   ]
  },
  {
   "cell_type": "markdown",
   "id": "certified-participant",
   "metadata": {
    "id": "manufactured-amino"
   },
   "source": [
    "os.makedirs(output_dir() / \"profile\", exist_ok=True)\n",
    "\n",
    "feature_report = ProfileReport(train_feat_df)\n",
    "feature_report.to_file(os.path.join(output_dir() / 'profile/train_feat_report.html'))"
   ]
  },
  {
   "cell_type": "markdown",
   "id": "weekly-painting",
   "metadata": {
    "id": "english-replacement"
   },
   "source": [
    "## Train Model"
   ]
  },
  {
   "cell_type": "markdown",
   "id": "progressive-fluid",
   "metadata": {
    "id": "respective-boulder"
   },
   "source": [
    "### LGBM"
   ]
  },
  {
   "cell_type": "code",
   "execution_count": 111,
   "id": "hawaiian-storage",
   "metadata": {
    "executionInfo": {
     "elapsed": 449,
     "status": "ok",
     "timestamp": 1615116125824,
     "user": {
      "displayName": "김준형",
      "photoUrl": "https://lh3.googleusercontent.com/a-/AOh14GjoucIizMtFKPEd5GLr281FF-qhH43HTCNZtxOuTzA=s64",
      "userId": "17669351473013187910"
     },
     "user_tz": -540
    },
    "id": "provincial-edition"
   },
   "outputs": [],
   "source": [
    "def fit_lgbm(X, y, params:dict=None, fit_params:dict=None, cv:list=None):\n",
    "    if cv is None:\n",
    "        cv = KFold(n_splits=5, shuffle=True).split(X)\n",
    "    \n",
    "    models = []\n",
    "    oof_pred = np.zeros_like(y, dtype=np.float64)\n",
    "    \n",
    "    y_d = np.log1p(y)\n",
    "    \n",
    "    for i, (train_idx, valid_idx) in enumerate(cv):\n",
    "        X_train, y_train = X[train_idx], y_d[train_idx]\n",
    "        X_valid, y_valid = X[valid_idx], y_d[valid_idx]\n",
    "        \n",
    "        model = LGBMRegressor(**params)\n",
    "        with timer(prefix=f\"fit fold={i+1}\\t\", suffix=\"\\n\"):\n",
    "            model.fit(X_train, y_train,\n",
    "                        eval_set=[(X_train, y_train), (X_valid, y_valid)],\n",
    "                        **fit_params)\n",
    "        \n",
    "        fold_pred_d = model.predict(X_valid)\n",
    "        fold_pred = np.expm1(fold_pred_d)\n",
    "        fold_pred = np.where(fold_pred < 0 , 0, fold_pred)\n",
    "        oof_pred[valid_idx] = fold_pred\n",
    "        \n",
    "        models.append(model)\n",
    "        \n",
    "        fold_score = np.sqrt(MSE(y_valid, fold_pred_d))\n",
    "                                    \n",
    "        print(f\"fold {i+1} RMSLE: {fold_score:.2f}\")\n",
    "        print(\"=\"*40 + \"\\n\")\n",
    "        \n",
    "    oof_score = np.sqrt(MSLE(y, oof_pred))\n",
    "                                    \n",
    "    print(f\"FINISHED \\ whole score: {oof_score:.2f}\")\n",
    "    print(\"\\n\" + \"=\"*40 + \"\\n\")\n",
    "    return models, oof_pred"
   ]
  },
  {
   "cell_type": "code",
   "execution_count": 113,
   "id": "informal-title",
   "metadata": {
    "executionInfo": {
     "elapsed": 429,
     "status": "ok",
     "timestamp": 1615115618632,
     "user": {
      "displayName": "김준형",
      "photoUrl": "https://lh3.googleusercontent.com/a-/AOh14GjoucIizMtFKPEd5GLr281FF-qhH43HTCNZtxOuTzA=s64",
      "userId": "17669351473013187910"
     },
     "user_tz": -540
    },
    "id": "turned-writer"
   },
   "outputs": [],
   "source": [
    "SEED = 310\n",
    "\n",
    "LGBM_PARAMS = {\n",
    "    # 目的関数. これの意味で最小となるようなパラメータを探します. \n",
    "    'objective': 'rmse', \n",
    "\n",
    "     # 学習率. 小さいほどなめらかな決定境界が作られて性能向上に繋がる場合が多いです、\n",
    "    # がそれだけ木を作るため学習に時間がかかります\n",
    "    'learning_rate': .01,\n",
    "\n",
    "    # L2 Reguralization\n",
    "    'reg_lambda': 1.,\n",
    "    # こちらは L1 \n",
    "    'reg_alpha': .1,\n",
    "\n",
    "    # 木の深さ. 深い木を許容するほどより複雑な交互作用を考慮するようになります\n",
    "#     'max_depth': 5, \n",
    "    'num_leaves': 128,\n",
    "\n",
    "    # 木の最大数. early_stopping という枠組みで木の数は制御されるようにしていますのでとても大きい値を指定しておきます.\n",
    "    'n_estimators': 50_000, \n",
    "\n",
    "    # 木を作る際に考慮する特徴量の割合. 1以下を指定すると特徴をランダムに欠落させます。小さくすることで, まんべんなく特徴を使うという効果があります.\n",
    "    'colsample_bytree': .7, \n",
    "\n",
    "    # 最小分割でのデータ数. 小さいとより細かい粒度の分割方法を許容します.\n",
    "    'min_child_samples': 5,\n",
    "\n",
    "    # bagging の頻度と割合\n",
    "    'subsample_freq': 3,\n",
    "    'subsample': .9,\n",
    "\n",
    "    # 特徴重要度計算のロジック(後述)\n",
    "    'importance_type': 'gain', \n",
    "    'random_state': SEED\n",
    "}\n",
    "\n",
    "LGBM_FIT_PARAMS = {\n",
    "    'eval_metric': 'rmse',\n",
    "    'early_stopping_rounds': 500,\n",
    "    'verbose': 500,\n",
    "}"
   ]
  },
  {
   "cell_type": "code",
   "execution_count": 114,
   "id": "stuffed-nickel",
   "metadata": {
    "executionInfo": {
     "elapsed": 611,
     "status": "ok",
     "timestamp": 1615115619369,
     "user": {
      "displayName": "김준형",
      "photoUrl": "https://lh3.googleusercontent.com/a-/AOh14GjoucIizMtFKPEd5GLr281FF-qhH43HTCNZtxOuTzA=s64",
      "userId": "17669351473013187910"
     },
     "user_tz": -540
    },
    "id": "remarkable-fortune"
   },
   "outputs": [],
   "source": [
    "y = train_df['likes'].values\n",
    "\n",
    "fold = GroupKFold(n_splits=20)\n",
    "cv = fold.split(train_feat_df, y, groups=train_df['art_series_id'])"
   ]
  },
  {
   "cell_type": "code",
   "execution_count": 115,
   "id": "grave-feeling",
   "metadata": {
    "colab": {
     "base_uri": "https://localhost:8080/"
    },
    "executionInfo": {
     "elapsed": 172084,
     "status": "ok",
     "timestamp": 1615115793911,
     "user": {
      "displayName": "김준형",
      "photoUrl": "https://lh3.googleusercontent.com/a-/AOh14GjoucIizMtFKPEd5GLr281FF-qhH43HTCNZtxOuTzA=s64",
      "userId": "17669351473013187910"
     },
     "user_tz": -540
    },
    "id": "amateur-pharmacy",
    "outputId": "11c3870b-72a8-4374-b4d4-d9aa3d169f58"
   },
   "outputs": [
    {
     "name": "stdout",
     "output_type": "stream",
     "text": [
      "Training until validation scores don't improve for 500 rounds\n",
      "[500]\ttraining's rmse: 0.571366\tvalid_1's rmse: 1.04001\n",
      "[1000]\ttraining's rmse: 0.379539\tvalid_1's rmse: 1.02922\n",
      "[1500]\ttraining's rmse: 0.268815\tvalid_1's rmse: 1.02632\n",
      "[2000]\ttraining's rmse: 0.195301\tvalid_1's rmse: 1.02522\n",
      "[2500]\ttraining's rmse: 0.145786\tvalid_1's rmse: 1.02463\n",
      "Early stopping, best iteration is:\n",
      "[2406]\ttraining's rmse: 0.153587\tvalid_1's rmse: 1.02423\n",
      "fit fold=1\t63.999[s]\n",
      "\n",
      "fold 1 RMSLE: 1.02\n",
      "========================================\n",
      "\n",
      "Training until validation scores don't improve for 500 rounds\n",
      "[500]\ttraining's rmse: 0.572559\tvalid_1's rmse: 1.00542\n",
      "[1000]\ttraining's rmse: 0.37781\tvalid_1's rmse: 1.00016\n",
      "[1500]\ttraining's rmse: 0.268411\tvalid_1's rmse: 0.999965\n",
      "Early stopping, best iteration is:\n",
      "[1291]\ttraining's rmse: 0.308309\tvalid_1's rmse: 0.99903\n",
      "fit fold=2\t46.879[s]\n",
      "\n",
      "fold 2 RMSLE: 1.00\n",
      "========================================\n",
      "\n",
      "Training until validation scores don't improve for 500 rounds\n",
      "[500]\ttraining's rmse: 0.570471\tvalid_1's rmse: 1.06304\n",
      "[1000]\ttraining's rmse: 0.377848\tvalid_1's rmse: 1.05374\n",
      "[1500]\ttraining's rmse: 0.267383\tvalid_1's rmse: 1.05379\n",
      "Early stopping, best iteration is:\n",
      "[1076]\ttraining's rmse: 0.357998\tvalid_1's rmse: 1.05339\n",
      "fit fold=3\t58.305[s]\n",
      "\n",
      "fold 3 RMSLE: 1.05\n",
      "========================================\n",
      "\n",
      "Training until validation scores don't improve for 500 rounds\n",
      "[500]\ttraining's rmse: 0.573169\tvalid_1's rmse: 0.972627\n",
      "[1000]\ttraining's rmse: 0.379327\tvalid_1's rmse: 0.969722\n",
      "[1500]\ttraining's rmse: 0.2679\tvalid_1's rmse: 0.967649\n",
      "[2000]\ttraining's rmse: 0.195571\tvalid_1's rmse: 0.967787\n",
      "Early stopping, best iteration is:\n",
      "[1519]\ttraining's rmse: 0.264535\tvalid_1's rmse: 0.967486\n",
      "fit fold=4\t55.747[s]\n",
      "\n",
      "fold 4 RMSLE: 0.97\n",
      "========================================\n",
      "\n",
      "Training until validation scores don't improve for 500 rounds\n",
      "[500]\ttraining's rmse: 0.568327\tvalid_1's rmse: 1.10395\n",
      "[1000]\ttraining's rmse: 0.375431\tvalid_1's rmse: 1.09821\n",
      "[1500]\ttraining's rmse: 0.265485\tvalid_1's rmse: 1.09961\n",
      "Early stopping, best iteration is:\n",
      "[1044]\ttraining's rmse: 0.363144\tvalid_1's rmse: 1.09794\n",
      "fit fold=5\t43.481[s]\n",
      "\n",
      "fold 5 RMSLE: 1.10\n",
      "========================================\n",
      "\n",
      "Training until validation scores don't improve for 500 rounds\n",
      "[500]\ttraining's rmse: 0.571427\tvalid_1's rmse: 1.03845\n",
      "[1000]\ttraining's rmse: 0.376609\tvalid_1's rmse: 1.03629\n",
      "Early stopping, best iteration is:\n",
      "[871]\ttraining's rmse: 0.41562\tvalid_1's rmse: 1.03528\n",
      "fit fold=6\t39.042[s]\n",
      "\n",
      "fold 6 RMSLE: 1.04\n",
      "========================================\n",
      "\n",
      "Training until validation scores don't improve for 500 rounds\n",
      "[500]\ttraining's rmse: 0.570362\tvalid_1's rmse: 1.02559\n",
      "[1000]\ttraining's rmse: 0.378123\tvalid_1's rmse: 1.02248\n",
      "[1500]\ttraining's rmse: 0.268248\tvalid_1's rmse: 1.02102\n",
      "[2000]\ttraining's rmse: 0.196147\tvalid_1's rmse: 1.02091\n",
      "Early stopping, best iteration is:\n",
      "[1585]\ttraining's rmse: 0.254152\tvalid_1's rmse: 1.02038\n",
      "fit fold=7\t60.812[s]\n",
      "\n",
      "fold 7 RMSLE: 1.02\n",
      "========================================\n",
      "\n",
      "Training until validation scores don't improve for 500 rounds\n",
      "[500]\ttraining's rmse: 0.572885\tvalid_1's rmse: 0.956052\n",
      "[1000]\ttraining's rmse: 0.379221\tvalid_1's rmse: 0.953001\n",
      "Early stopping, best iteration is:\n",
      "[830]\ttraining's rmse: 0.431462\tvalid_1's rmse: 0.952196\n",
      "fit fold=8\t39.065[s]\n",
      "\n",
      "fold 8 RMSLE: 0.95\n",
      "========================================\n",
      "\n",
      "Training until validation scores don't improve for 500 rounds\n",
      "[500]\ttraining's rmse: 0.570127\tvalid_1's rmse: 1.0261\n",
      "[1000]\ttraining's rmse: 0.377553\tvalid_1's rmse: 1.01745\n",
      "[1500]\ttraining's rmse: 0.266147\tvalid_1's rmse: 1.01501\n",
      "[2000]\ttraining's rmse: 0.193847\tvalid_1's rmse: 1.0135\n",
      "[2500]\ttraining's rmse: 0.143956\tvalid_1's rmse: 1.01342\n",
      "Early stopping, best iteration is:\n",
      "[2319]\ttraining's rmse: 0.159892\tvalid_1's rmse: 1.01318\n",
      "fit fold=9\t71.919[s]\n",
      "\n",
      "fold 9 RMSLE: 1.01\n",
      "========================================\n",
      "\n",
      "Training until validation scores don't improve for 500 rounds\n",
      "[500]\ttraining's rmse: 0.571046\tvalid_1's rmse: 1.04525\n",
      "[1000]\ttraining's rmse: 0.378806\tvalid_1's rmse: 1.03488\n",
      "[1500]\ttraining's rmse: 0.268145\tvalid_1's rmse: 1.03034\n",
      "[2000]\ttraining's rmse: 0.195231\tvalid_1's rmse: 1.03016\n",
      "Early stopping, best iteration is:\n",
      "[1959]\ttraining's rmse: 0.20021\tvalid_1's rmse: 1.02993\n",
      "fit fold=10\t71.632[s]\n",
      "\n",
      "fold 10 RMSLE: 1.03\n",
      "========================================\n",
      "\n",
      "Training until validation scores don't improve for 500 rounds\n",
      "[500]\ttraining's rmse: 0.57384\tvalid_1's rmse: 0.917617\n",
      "[1000]\ttraining's rmse: 0.38007\tvalid_1's rmse: 0.909931\n",
      "[1500]\ttraining's rmse: 0.268497\tvalid_1's rmse: 0.907576\n",
      "[2000]\ttraining's rmse: 0.195797\tvalid_1's rmse: 0.907303\n",
      "Early stopping, best iteration is:\n",
      "[1943]\ttraining's rmse: 0.202765\tvalid_1's rmse: 0.906798\n",
      "fit fold=11\t65.129[s]\n",
      "\n",
      "fold 11 RMSLE: 0.91\n",
      "========================================\n",
      "\n",
      "Training until validation scores don't improve for 500 rounds\n",
      "[500]\ttraining's rmse: 0.571526\tvalid_1's rmse: 1.0126\n",
      "[1000]\ttraining's rmse: 0.377722\tvalid_1's rmse: 1.00719\n",
      "[1500]\ttraining's rmse: 0.268456\tvalid_1's rmse: 1.00738\n",
      "Early stopping, best iteration is:\n",
      "[1412]\ttraining's rmse: 0.283944\tvalid_1's rmse: 1.00682\n",
      "fit fold=12\t51.017[s]\n",
      "\n",
      "fold 12 RMSLE: 1.01\n",
      "========================================\n",
      "\n",
      "Training until validation scores don't improve for 500 rounds\n",
      "[500]\ttraining's rmse: 0.571144\tvalid_1's rmse: 1.00027\n",
      "[1000]\ttraining's rmse: 0.376797\tvalid_1's rmse: 0.996611\n",
      "Early stopping, best iteration is:\n",
      "[977]\ttraining's rmse: 0.383582\tvalid_1's rmse: 0.99596\n",
      "fit fold=13\t39.773[s]\n",
      "\n",
      "fold 13 RMSLE: 1.00\n",
      "========================================\n",
      "\n",
      "Training until validation scores don't improve for 500 rounds\n",
      "[500]\ttraining's rmse: 0.569485\tvalid_1's rmse: 1.05062\n",
      "[1000]\ttraining's rmse: 0.37475\tvalid_1's rmse: 1.0424\n",
      "[1500]\ttraining's rmse: 0.265304\tvalid_1's rmse: 1.04113\n",
      "[2000]\ttraining's rmse: 0.194219\tvalid_1's rmse: 1.04037\n",
      "[2500]\ttraining's rmse: 0.144284\tvalid_1's rmse: 1.04021\n",
      "Early stopping, best iteration is:\n",
      "[2261]\ttraining's rmse: 0.166405\tvalid_1's rmse: 1.03987\n",
      "fit fold=14\t73.124[s]\n",
      "\n",
      "fold 14 RMSLE: 1.04\n",
      "========================================\n",
      "\n",
      "Training until validation scores don't improve for 500 rounds\n",
      "[500]\ttraining's rmse: 0.567492\tvalid_1's rmse: 1.10477\n",
      "[1000]\ttraining's rmse: 0.375322\tvalid_1's rmse: 1.10251\n",
      "Early stopping, best iteration is:\n",
      "[884]\ttraining's rmse: 0.409755\tvalid_1's rmse: 1.1017\n",
      "fit fold=15\t40.731[s]\n",
      "\n",
      "fold 15 RMSLE: 1.10\n",
      "========================================\n",
      "\n",
      "Training until validation scores don't improve for 500 rounds\n",
      "[500]\ttraining's rmse: 0.57388\tvalid_1's rmse: 0.925385\n",
      "[1000]\ttraining's rmse: 0.379666\tvalid_1's rmse: 0.910225\n",
      "[1500]\ttraining's rmse: 0.26987\tvalid_1's rmse: 0.906218\n",
      "[2000]\ttraining's rmse: 0.197847\tvalid_1's rmse: 0.906022\n",
      "Early stopping, best iteration is:\n",
      "[1846]\ttraining's rmse: 0.217082\tvalid_1's rmse: 0.905548\n",
      "fit fold=16\t59.725[s]\n",
      "\n",
      "fold 16 RMSLE: 0.91\n",
      "========================================\n",
      "\n",
      "Training until validation scores don't improve for 500 rounds\n",
      "[500]\ttraining's rmse: 0.571893\tvalid_1's rmse: 1.06385\n",
      "[1000]\ttraining's rmse: 0.379391\tvalid_1's rmse: 1.05599\n",
      "[1500]\ttraining's rmse: 0.270209\tvalid_1's rmse: 1.05283\n",
      "[2000]\ttraining's rmse: 0.197943\tvalid_1's rmse: 1.05152\n",
      "[2500]\ttraining's rmse: 0.147267\tvalid_1's rmse: 1.05082\n",
      "[3000]\ttraining's rmse: 0.111205\tvalid_1's rmse: 1.05061\n",
      "[3500]\ttraining's rmse: 0.0850013\tvalid_1's rmse: 1.05026\n",
      "[4000]\ttraining's rmse: 0.0652641\tvalid_1's rmse: 1.05026\n",
      "Early stopping, best iteration is:\n",
      "[3543]\ttraining's rmse: 0.0830283\tvalid_1's rmse: 1.05018\n",
      "fit fold=17\t98.862[s]\n",
      "\n",
      "fold 17 RMSLE: 1.05\n",
      "========================================\n",
      "\n",
      "Training until validation scores don't improve for 500 rounds\n",
      "[500]\ttraining's rmse: 0.572097\tvalid_1's rmse: 0.992343\n",
      "[1000]\ttraining's rmse: 0.377912\tvalid_1's rmse: 0.984777\n",
      "[1500]\ttraining's rmse: 0.267743\tvalid_1's rmse: 0.984785\n",
      "Early stopping, best iteration is:\n",
      "[1141]\ttraining's rmse: 0.342479\tvalid_1's rmse: 0.983915\n",
      "fit fold=18\t44.328[s]\n",
      "\n",
      "fold 18 RMSLE: 0.98\n",
      "========================================\n",
      "\n",
      "Training until validation scores don't improve for 500 rounds\n",
      "[500]\ttraining's rmse: 0.571656\tvalid_1's rmse: 0.98393\n",
      "[1000]\ttraining's rmse: 0.377937\tvalid_1's rmse: 0.97997\n",
      "Early stopping, best iteration is:\n",
      "[899]\ttraining's rmse: 0.407447\tvalid_1's rmse: 0.979217\n",
      "fit fold=19\t38.394[s]\n",
      "\n",
      "fold 19 RMSLE: 0.98\n",
      "========================================\n",
      "\n",
      "Training until validation scores don't improve for 500 rounds\n",
      "[500]\ttraining's rmse: 0.567765\tvalid_1's rmse: 1.08741\n",
      "[1000]\ttraining's rmse: 0.375437\tvalid_1's rmse: 1.08293\n",
      "[1500]\ttraining's rmse: 0.266491\tvalid_1's rmse: 1.0826\n",
      "Early stopping, best iteration is:\n",
      "[1401]\ttraining's rmse: 0.284589\tvalid_1's rmse: 1.0817\n",
      "fit fold=20\t47.981[s]\n",
      "\n",
      "fold 20 RMSLE: 1.08\n",
      "========================================\n",
      "\n",
      "FINISHED \\ whole score: 1.01\n",
      "\n",
      "========================================\n",
      "\n"
     ]
    }
   ],
   "source": [
    "models, oof_pred = fit_lgbm(X=train_feat_df.values, \n",
    "                            y=y,\n",
    "                            cv=cv, \n",
    "                            params=LGBM_PARAMS, \n",
    "                            fit_params=LGBM_FIT_PARAMS)"
   ]
  },
  {
   "cell_type": "markdown",
   "id": "surprised-danger",
   "metadata": {
    "id": "ambient-tulsa",
    "tags": []
   },
   "source": [
    "## Feature Importance"
   ]
  },
  {
   "cell_type": "code",
   "execution_count": 116,
   "id": "classical-collect",
   "metadata": {
    "executionInfo": {
     "elapsed": 452,
     "status": "ok",
     "timestamp": 1615115799029,
     "user": {
      "displayName": "김준형",
      "photoUrl": "https://lh3.googleusercontent.com/a-/AOh14GjoucIizMtFKPEd5GLr281FF-qhH43HTCNZtxOuTzA=s64",
      "userId": "17669351473013187910"
     },
     "user_tz": -540
    },
    "id": "heated-frost"
   },
   "outputs": [],
   "source": [
    "def visualize_importance(models, train_feat_df, importance_type='gain'):\n",
    "    feature_importance_df = pd.DataFrame()\n",
    "\n",
    "    for i, model in enumerate(models):\n",
    "        _df = pd.DataFrame()\n",
    "        _df['feature_importance'] = model.feature_importances_\n",
    "        _df['column'] = train_feat_df.columns\n",
    "        _df['fold'] = i + 1\n",
    "\n",
    "    feature_importance_df = pd.concat([feature_importance_df,\n",
    "                                       _df], axis=0, ignore_index=True)\n",
    "\n",
    "    order = feature_importance_df.groupby('column')\\\n",
    "        .sum()[['feature_importance']]\\\n",
    "        .sort_values('feature_importance', ascending=False).index[:50]\n",
    "\n",
    "    fig, ax = plt.subplots(figsize=(8, max(6, len(order) * .25)))\n",
    "    sns.boxenplot(data=feature_importance_df, \n",
    "                  y='column', \n",
    "                  x='feature_importance', \n",
    "                  order=order, ax=ax, \n",
    "                  palette='viridis')\n",
    "    ax.tick_params(axis='x', rotation=90)\n",
    "    ax.grid(True)\n",
    "    fig.tight_layout()\n",
    "    return fig, ax"
   ]
  },
  {
   "cell_type": "code",
   "execution_count": 117,
   "id": "breathing-cycling",
   "metadata": {},
   "outputs": [
    {
     "name": "stdout",
     "output_type": "stream",
     "text": [
      "<class 'pandas.core.frame.DataFrame'>\n",
      "Int64Index: 12026 entries, 0 to 12025\n",
      "Columns: 147 entries, dating_period to size_d\n",
      "dtypes: float64(137), int64(6), object(4)\n",
      "memory usage: 13.6+ MB\n"
     ]
    }
   ],
   "source": [
    "train_feat_df.info()"
   ]
  },
  {
   "cell_type": "code",
   "execution_count": 118,
   "id": "requested-premium",
   "metadata": {
    "colab": {
     "base_uri": "https://localhost:8080/",
     "height": 478
    },
    "executionInfo": {
     "elapsed": 1155,
     "status": "ok",
     "timestamp": 1615115802670,
     "user": {
      "displayName": "김준형",
      "photoUrl": "https://lh3.googleusercontent.com/a-/AOh14GjoucIizMtFKPEd5GLr281FF-qhH43HTCNZtxOuTzA=s64",
      "userId": "17669351473013187910"
     },
     "user_tz": -540
    },
    "id": "neural-africa",
    "outputId": "f4f77f4a-ce71-4eff-d753-e378b628cb77"
   },
   "outputs": [
    {
     "data": {
      "text/plain": [
       "(<Figure size 576x900 with 1 Axes>,\n",
       " <AxesSubplot:xlabel='feature_importance', ylabel='column'>)"
      ]
     },
     "execution_count": 118,
     "metadata": {},
     "output_type": "execute_result"
    },
    {
     "data": {
      "image/png": "[encoded data removed]",
      "text/plain": [
       "<Figure size 576x900 with 1 Axes>"
      ]
     },
     "metadata": {
      "needs_background": "light"
     },
     "output_type": "display_data"
    }
   ],
   "source": [
    "visualize_importance(models, train_feat_df)"
   ]
  },
  {
   "cell_type": "markdown",
   "id": "conventional-logic",
   "metadata": {
    "id": "thirty-packing"
   },
   "source": [
    "## Inference"
   ]
  },
  {
   "cell_type": "code",
   "execution_count": 119,
   "id": "related-michael",
   "metadata": {
    "executionInfo": {
     "elapsed": 426,
     "status": "ok",
     "timestamp": 1615115807266,
     "user": {
      "displayName": "김준형",
      "photoUrl": "https://lh3.googleusercontent.com/a-/AOh14GjoucIizMtFKPEd5GLr281FF-qhH43HTCNZtxOuTzA=s64",
      "userId": "17669351473013187910"
     },
     "user_tz": -540
    },
    "id": "rough-investment"
   },
   "outputs": [],
   "source": [
    "def revert_to_real(y_log):\n",
    "    _pred = np.expm1(y_log)\n",
    "    _pred = np.where(_pred < 0, 0, _pred)\n",
    "    return _pred"
   ]
  },
  {
   "cell_type": "code",
   "execution_count": 120,
   "id": "acoustic-example",
   "metadata": {
    "executionInfo": {
     "elapsed": 33680,
     "status": "ok",
     "timestamp": 1615115843611,
     "user": {
      "displayName": "김준형",
      "photoUrl": "https://lh3.googleusercontent.com/a-/AOh14GjoucIizMtFKPEd5GLr281FF-qhH43HTCNZtxOuTzA=s64",
      "userId": "17669351473013187910"
     },
     "user_tz": -540
    },
    "id": "enormous-failure"
   },
   "outputs": [],
   "source": [
    "os.makedirs(output_dir() / 'csv', exist_ok=True)\n",
    "\n",
    "pred = np.array([model.predict(test_feat_df.values) for model in models])\n",
    "pred = np.mean(pred, axis=0)\n",
    "pred = revert_to_real(pred)"
   ]
  },
  {
   "cell_type": "code",
   "execution_count": 121,
   "id": "central-penalty",
   "metadata": {
    "colab": {
     "base_uri": "https://localhost:8080/",
     "height": 483
    },
    "executionInfo": {
     "elapsed": 1375,
     "status": "ok",
     "timestamp": 1615115844997,
     "user": {
      "displayName": "김준형",
      "photoUrl": "https://lh3.googleusercontent.com/a-/AOh14GjoucIizMtFKPEd5GLr281FF-qhH43HTCNZtxOuTzA=s64",
      "userId": "17669351473013187910"
     },
     "user_tz": -540
    },
    "id": "intended-franklin",
    "outputId": "33e8460b-92fc-4f92-adb9-0f2d141b284c"
   },
   "outputs": [
    {
     "data": {
      "image/png": "[encoded data removed]",
      "text/plain": [
       "<Figure size 576x576 with 1 Axes>"
      ]
     },
     "metadata": {
      "needs_background": "light"
     },
     "output_type": "display_data"
    }
   ],
   "source": [
    "fig, ax = plt.subplots(figsize=(8, 8))\n",
    "sns.histplot(np.log1p(pred), label='Test Predict', ax=ax, color='black')\n",
    "sns.histplot(np.log1p(oof_pred), label='Out Of Fold', ax=ax, color='C1')\n",
    "ax.legend()\n",
    "ax.grid()"
   ]
  },
  {
   "cell_type": "code",
   "execution_count": 122,
   "id": "modular-equipment",
   "metadata": {
    "executionInfo": {
     "elapsed": 623,
     "status": "ok",
     "timestamp": 1615115852047,
     "user": {
      "displayName": "김준형",
      "photoUrl": "https://lh3.googleusercontent.com/a-/AOh14GjoucIizMtFKPEd5GLr281FF-qhH43HTCNZtxOuTzA=s64",
      "userId": "17669351473013187910"
     },
     "user_tz": -540
    },
    "id": "arabic-chuck"
   },
   "outputs": [],
   "source": [
    "numbering = '0015'\n",
    "\n",
    "sub_df = pd.DataFrame({ 'likes': pred })\n",
    "\n",
    "assert len(sub_df) == 12_008\n",
    "\n",
    "sub_df.to_csv(os.path.join(output_dir() / f'csv/{numbering}__submission.csv'), index=False)"
   ]
  },
  {
   "cell_type": "code",
   "execution_count": null,
   "id": "secondary-narrow",
   "metadata": {
    "id": "p3NteqqVbk_f"
   },
   "outputs": [],
   "source": []
  }
 ],
 "metadata": {
  "colab": {
   "collapsed_sections": [],
   "name": "atmaCup10_challenger.ipynb",
   "provenance": []
  },
  "kernelspec": {
   "display_name": "Python 3",
   "language": "python",
   "name": "python3"
  },
  "language_info": {
   "codemirror_mode": {
    "name": "ipython",
    "version": 3
   },
   "file_extension": ".py",
   "mimetype": "text/x-python",
   "name": "python",
   "nbconvert_exporter": "python",
   "pygments_lexer": "ipython3",
   "version": "3.9.1"
  }
 },
 "nbformat": 4,
 "nbformat_minor": 5
}
