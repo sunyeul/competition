{
 "cells": [
  {
   "cell_type": "markdown",
   "id": "first-cooperation",
   "metadata": {},
   "source": [
    "# atmaCup#10 - EDA"
   ]
  },
  {
   "cell_type": "markdown",
   "id": "affiliated-kruger",
   "metadata": {},
   "source": [
    "## Import Libraries"
   ]
  },
  {
   "cell_type": "code",
   "execution_count": 1,
   "id": "existing-investigator",
   "metadata": {},
   "outputs": [],
   "source": [
    "import pandas as pd\n",
    "import numpy as np\n",
    "\n",
    "import matplotlib.pyplot as plt\n",
    "import seaborn as sns\n",
    "from matplotlib_venn import venn2\n",
    "\n",
    "\n",
    "import os\n",
    "from typing import List, Tuple, Any\n",
    "from pathlib import Path"
   ]
  },
  {
   "cell_type": "code",
   "execution_count": 2,
   "id": "overhead-strip",
   "metadata": {},
   "outputs": [],
   "source": [
    "def input_dir():\n",
    "    return Path(\"input\")"
   ]
  },
  {
   "cell_type": "markdown",
   "id": "lesbian-click",
   "metadata": {},
   "source": [
    "## art_object (train / test.csv の table)\n"
   ]
  },
  {
   "cell_type": "raw",
   "id": "binding-parks",
   "metadata": {},
   "source": [
    "object_id: 作品ID.\n",
    "art_series_id: シリーズものの作品ID\n",
    "title: 作品のタイトル\n",
    "description: 説明文\n",
    "long_title: 長いめのタイトル\n",
    "principal_maker: 主な製作者\n",
    "principal_or_first_maker: 第一製作者或いは主な製作者\n",
    "sub_title: 作品の大きさなどの情報\n",
    "copyright_holder: 権利保持者\n",
    "more_title: タイトル2\n",
    "acquisition_method: 収集方法 (作品を収集することを acquisition とよびます)\n",
    "acquisition_date: 収集された日\n",
    "acquisition_credit_line: 収集に際して資金提供などを行った場合の情報\n",
    "dating_presenting_date: 製作期間 (dating は作品を作った日のことを表す prefix です)\n",
    "dating_sorting_date: 並び替え表示の際に用いられる代表年\n",
    "dating_period: 制作のされた世紀\n",
    "dating_year_early: 製作期間の始まり・年\n",
    "dating_year_late: 製作期間のおわり・年\n",
    "like: 作品につけられたいいねの数。0以上の整数。この値が予測対象です。"
   ]
  },
  {
   "cell_type": "code",
   "execution_count": 3,
   "id": "romance-volleyball",
   "metadata": {},
   "outputs": [
    {
     "name": "stdout",
     "output_type": "stream",
     "text": [
      "(12026, 19) (12008, 18)\n"
     ]
    }
   ],
   "source": [
    "train_df = pd.read_csv(os.path.join(input_dir() / \"train.csv\"))\n",
    "test_df = pd.read_csv(os.path.join(input_dir() / \"test.csv\"))\n",
    "print(train_df.shape, test_df.shape)"
   ]
  },
  {
   "cell_type": "code",
   "execution_count": 4,
   "id": "appreciated-nicaragua",
   "metadata": {},
   "outputs": [
    {
     "data": {
      "text/html": [
       "<div>\n",
       "<style scoped>\n",
       "    .dataframe tbody tr th:only-of-type {\n",
       "        vertical-align: middle;\n",
       "    }\n",
       "\n",
       "    .dataframe tbody tr th {\n",
       "        vertical-align: top;\n",
       "    }\n",
       "\n",
       "    .dataframe thead th {\n",
       "        text-align: right;\n",
       "    }\n",
       "</style>\n",
       "<table border=\"1\" class=\"dataframe\">\n",
       "  <thead>\n",
       "    <tr style=\"text-align: right;\">\n",
       "      <th></th>\n",
       "      <th>0</th>\n",
       "      <th>1</th>\n",
       "      <th>2</th>\n",
       "      <th>3</th>\n",
       "      <th>4</th>\n",
       "    </tr>\n",
       "  </thead>\n",
       "  <tbody>\n",
       "    <tr>\n",
       "      <th>object_id</th>\n",
       "      <td>0011d6be41612ec9eae3</td>\n",
       "      <td>0012765f7a97ccc3e9e9</td>\n",
       "      <td>0017be8caa87206532cb</td>\n",
       "      <td>00181d86ff1a7b95864e</td>\n",
       "      <td>001c52ae28ec106d9cd5</td>\n",
       "    </tr>\n",
       "    <tr>\n",
       "      <th>art_series_id</th>\n",
       "      <td>93c092ba70beab248f31</td>\n",
       "      <td>95c14fb11c54281ad7e0</td>\n",
       "      <td>4c406890d208fe01f8fb</td>\n",
       "      <td>fa0891535500a4973db2</td>\n",
       "      <td>8065ed5063c5887e677d</td>\n",
       "    </tr>\n",
       "    <tr>\n",
       "      <th>title</th>\n",
       "      <td>The Avenue of Birches</td>\n",
       "      <td>Struik in bloei</td>\n",
       "      <td>Portret van een vrouw</td>\n",
       "      <td>A St Bernard Dog</td>\n",
       "      <td>Woelige zee met zeilschepen</td>\n",
       "    </tr>\n",
       "    <tr>\n",
       "      <th>description</th>\n",
       "      <td>NaN</td>\n",
       "      <td>NaN</td>\n",
       "      <td>Portret van eenvrouw, zittend naast een tafel.</td>\n",
       "      <td>Een sint-bernardshond, staand in een landschap...</td>\n",
       "      <td>Woelige zee met zeilschepen.</td>\n",
       "    </tr>\n",
       "    <tr>\n",
       "      <th>long_title</th>\n",
       "      <td>The Avenue of Birches, Jan Hackaert, 1660 - 1685</td>\n",
       "      <td>Struik in bloei, Richard Tepe (attributed to),...</td>\n",
       "      <td>Portret van een vrouw, Tresling &amp; Comp., 1860 ...</td>\n",
       "      <td>A St Bernard Dog, Bernard te Gempt, c. 1850 - ...</td>\n",
       "      <td>Woelige zee met zeilschepen, anonymous, 1825 -...</td>\n",
       "    </tr>\n",
       "    <tr>\n",
       "      <th>principal_maker</th>\n",
       "      <td>Jan Hackaert</td>\n",
       "      <td>Richard Tepe</td>\n",
       "      <td>Tresling &amp; Comp.</td>\n",
       "      <td>Bernard te Gempt</td>\n",
       "      <td>anonymous</td>\n",
       "    </tr>\n",
       "    <tr>\n",
       "      <th>principal_or_first_maker</th>\n",
       "      <td>Jan Hackaert</td>\n",
       "      <td>Richard Tepe</td>\n",
       "      <td>Tresling &amp; Comp.</td>\n",
       "      <td>Bernard te Gempt</td>\n",
       "      <td>anonymous</td>\n",
       "    </tr>\n",
       "    <tr>\n",
       "      <th>sub_title</th>\n",
       "      <td>h 66.5cm × w 53.7cm × t 2.5cm × d 4.7cm</td>\n",
       "      <td>h 165mm × w 223mm</td>\n",
       "      <td>h 87mm × w 56mm</td>\n",
       "      <td>h 179cm × w 248cm × t 4cm</td>\n",
       "      <td>h 13cm × w 17.5cm × d 0.7cm</td>\n",
       "    </tr>\n",
       "    <tr>\n",
       "      <th>copyright_holder</th>\n",
       "      <td>NaN</td>\n",
       "      <td>erven Richard Tepe</td>\n",
       "      <td>NaN</td>\n",
       "      <td>NaN</td>\n",
       "      <td>NaN</td>\n",
       "    </tr>\n",
       "    <tr>\n",
       "      <th>more_title</th>\n",
       "      <td>The Avenue of Birches</td>\n",
       "      <td>Struik in bloei</td>\n",
       "      <td>Portret van een vrouw</td>\n",
       "      <td>A St Bernard Dog</td>\n",
       "      <td>Woelige zee met zeilschepen</td>\n",
       "    </tr>\n",
       "    <tr>\n",
       "      <th>acquisition_method</th>\n",
       "      <td>purchase</td>\n",
       "      <td>purchase</td>\n",
       "      <td>gift</td>\n",
       "      <td>bequest</td>\n",
       "      <td>unknown</td>\n",
       "    </tr>\n",
       "    <tr>\n",
       "      <th>acquisition_date</th>\n",
       "      <td>1808-01-01T00:00:00</td>\n",
       "      <td>2000-01-01T00:00:00</td>\n",
       "      <td>2007-01-01T00:00:00</td>\n",
       "      <td>1881-01-01T00:00:00</td>\n",
       "      <td>1971-01-01T00:00:00</td>\n",
       "    </tr>\n",
       "    <tr>\n",
       "      <th>acquisition_credit_line</th>\n",
       "      <td>NaN</td>\n",
       "      <td>NaN</td>\n",
       "      <td>Gift of M.M. Boom, Leiden</td>\n",
       "      <td>J. Hilman Bequest, Amsterdam</td>\n",
       "      <td>NaN</td>\n",
       "    </tr>\n",
       "    <tr>\n",
       "      <th>dating_presenting_date</th>\n",
       "      <td>1660 - 1685</td>\n",
       "      <td>c. 1900 - c. 1930</td>\n",
       "      <td>1860 - 1880</td>\n",
       "      <td>c. 1850 - c. 1879</td>\n",
       "      <td>1825 - 1874</td>\n",
       "    </tr>\n",
       "    <tr>\n",
       "      <th>dating_sorting_date</th>\n",
       "      <td>1660.0</td>\n",
       "      <td>1900.0</td>\n",
       "      <td>1860.0</td>\n",
       "      <td>1850.0</td>\n",
       "      <td>1825.0</td>\n",
       "    </tr>\n",
       "    <tr>\n",
       "      <th>dating_period</th>\n",
       "      <td>17</td>\n",
       "      <td>19</td>\n",
       "      <td>19</td>\n",
       "      <td>19</td>\n",
       "      <td>19</td>\n",
       "    </tr>\n",
       "    <tr>\n",
       "      <th>dating_year_early</th>\n",
       "      <td>1660.0</td>\n",
       "      <td>1900.0</td>\n",
       "      <td>1860.0</td>\n",
       "      <td>1850.0</td>\n",
       "      <td>1825.0</td>\n",
       "    </tr>\n",
       "    <tr>\n",
       "      <th>dating_year_late</th>\n",
       "      <td>1685.0</td>\n",
       "      <td>1930.0</td>\n",
       "      <td>1880.0</td>\n",
       "      <td>1879.0</td>\n",
       "      <td>1874.0</td>\n",
       "    </tr>\n",
       "    <tr>\n",
       "      <th>likes</th>\n",
       "      <td>48</td>\n",
       "      <td>2</td>\n",
       "      <td>5</td>\n",
       "      <td>100</td>\n",
       "      <td>7</td>\n",
       "    </tr>\n",
       "  </tbody>\n",
       "</table>\n",
       "</div>"
      ],
      "text/plain": [
       "                                                                         0  \\\n",
       "object_id                                             0011d6be41612ec9eae3   \n",
       "art_series_id                                         93c092ba70beab248f31   \n",
       "title                                                The Avenue of Birches   \n",
       "description                                                            NaN   \n",
       "long_title                The Avenue of Birches, Jan Hackaert, 1660 - 1685   \n",
       "principal_maker                                               Jan Hackaert   \n",
       "principal_or_first_maker                                      Jan Hackaert   \n",
       "sub_title                          h 66.5cm × w 53.7cm × t 2.5cm × d 4.7cm   \n",
       "copyright_holder                                                       NaN   \n",
       "more_title                                           The Avenue of Birches   \n",
       "acquisition_method                                                purchase   \n",
       "acquisition_date                                       1808-01-01T00:00:00   \n",
       "acquisition_credit_line                                                NaN   \n",
       "dating_presenting_date                                         1660 - 1685   \n",
       "dating_sorting_date                                                 1660.0   \n",
       "dating_period                                                           17   \n",
       "dating_year_early                                                   1660.0   \n",
       "dating_year_late                                                    1685.0   \n",
       "likes                                                                   48   \n",
       "\n",
       "                                                                          1  \\\n",
       "object_id                                              0012765f7a97ccc3e9e9   \n",
       "art_series_id                                          95c14fb11c54281ad7e0   \n",
       "title                                                       Struik in bloei   \n",
       "description                                                             NaN   \n",
       "long_title                Struik in bloei, Richard Tepe (attributed to),...   \n",
       "principal_maker                                                Richard Tepe   \n",
       "principal_or_first_maker                                       Richard Tepe   \n",
       "sub_title                                                 h 165mm × w 223mm   \n",
       "copyright_holder                                         erven Richard Tepe   \n",
       "more_title                                                  Struik in bloei   \n",
       "acquisition_method                                                 purchase   \n",
       "acquisition_date                                        2000-01-01T00:00:00   \n",
       "acquisition_credit_line                                                 NaN   \n",
       "dating_presenting_date                                    c. 1900 - c. 1930   \n",
       "dating_sorting_date                                                  1900.0   \n",
       "dating_period                                                            19   \n",
       "dating_year_early                                                    1900.0   \n",
       "dating_year_late                                                     1930.0   \n",
       "likes                                                                     2   \n",
       "\n",
       "                                                                          2  \\\n",
       "object_id                                              0017be8caa87206532cb   \n",
       "art_series_id                                          4c406890d208fe01f8fb   \n",
       "title                                                 Portret van een vrouw   \n",
       "description                  Portret van eenvrouw, zittend naast een tafel.   \n",
       "long_title                Portret van een vrouw, Tresling & Comp., 1860 ...   \n",
       "principal_maker                                            Tresling & Comp.   \n",
       "principal_or_first_maker                                   Tresling & Comp.   \n",
       "sub_title                                                   h 87mm × w 56mm   \n",
       "copyright_holder                                                        NaN   \n",
       "more_title                                            Portret van een vrouw   \n",
       "acquisition_method                                                     gift   \n",
       "acquisition_date                                        2007-01-01T00:00:00   \n",
       "acquisition_credit_line                           Gift of M.M. Boom, Leiden   \n",
       "dating_presenting_date                                          1860 - 1880   \n",
       "dating_sorting_date                                                  1860.0   \n",
       "dating_period                                                            19   \n",
       "dating_year_early                                                    1860.0   \n",
       "dating_year_late                                                     1880.0   \n",
       "likes                                                                     5   \n",
       "\n",
       "                                                                          3  \\\n",
       "object_id                                              00181d86ff1a7b95864e   \n",
       "art_series_id                                          fa0891535500a4973db2   \n",
       "title                                                      A St Bernard Dog   \n",
       "description               Een sint-bernardshond, staand in een landschap...   \n",
       "long_title                A St Bernard Dog, Bernard te Gempt, c. 1850 - ...   \n",
       "principal_maker                                            Bernard te Gempt   \n",
       "principal_or_first_maker                                   Bernard te Gempt   \n",
       "sub_title                                         h 179cm × w 248cm × t 4cm   \n",
       "copyright_holder                                                        NaN   \n",
       "more_title                                                 A St Bernard Dog   \n",
       "acquisition_method                                                  bequest   \n",
       "acquisition_date                                        1881-01-01T00:00:00   \n",
       "acquisition_credit_line                        J. Hilman Bequest, Amsterdam   \n",
       "dating_presenting_date                                    c. 1850 - c. 1879   \n",
       "dating_sorting_date                                                  1850.0   \n",
       "dating_period                                                            19   \n",
       "dating_year_early                                                    1850.0   \n",
       "dating_year_late                                                     1879.0   \n",
       "likes                                                                   100   \n",
       "\n",
       "                                                                          4  \n",
       "object_id                                              001c52ae28ec106d9cd5  \n",
       "art_series_id                                          8065ed5063c5887e677d  \n",
       "title                                           Woelige zee met zeilschepen  \n",
       "description                                    Woelige zee met zeilschepen.  \n",
       "long_title                Woelige zee met zeilschepen, anonymous, 1825 -...  \n",
       "principal_maker                                                   anonymous  \n",
       "principal_or_first_maker                                          anonymous  \n",
       "sub_title                                       h 13cm × w 17.5cm × d 0.7cm  \n",
       "copyright_holder                                                        NaN  \n",
       "more_title                                      Woelige zee met zeilschepen  \n",
       "acquisition_method                                                  unknown  \n",
       "acquisition_date                                        1971-01-01T00:00:00  \n",
       "acquisition_credit_line                                                 NaN  \n",
       "dating_presenting_date                                          1825 - 1874  \n",
       "dating_sorting_date                                                  1825.0  \n",
       "dating_period                                                            19  \n",
       "dating_year_early                                                    1825.0  \n",
       "dating_year_late                                                     1874.0  \n",
       "likes                                                                     7  "
      ]
     },
     "execution_count": 4,
     "metadata": {},
     "output_type": "execute_result"
    }
   ],
   "source": [
    "train_df.head().T"
   ]
  },
  {
   "cell_type": "code",
   "execution_count": 5,
   "id": "artificial-alert",
   "metadata": {},
   "outputs": [
    {
     "name": "stdout",
     "output_type": "stream",
     "text": [
      "<class 'pandas.core.frame.DataFrame'>\n",
      "RangeIndex: 12026 entries, 0 to 12025\n",
      "Data columns (total 19 columns):\n",
      " #   Column                    Non-Null Count  Dtype  \n",
      "---  ------                    --------------  -----  \n",
      " 0   object_id                 12026 non-null  object \n",
      " 1   art_series_id             12026 non-null  object \n",
      " 2   title                     12026 non-null  object \n",
      " 3   description               8506 non-null   object \n",
      " 4   long_title                12026 non-null  object \n",
      " 5   principal_maker           12026 non-null  object \n",
      " 6   principal_or_first_maker  12025 non-null  object \n",
      " 7   sub_title                 11992 non-null  object \n",
      " 8   copyright_holder          713 non-null    object \n",
      " 9   more_title                11891 non-null  object \n",
      " 10  acquisition_method        11830 non-null  object \n",
      " 11  acquisition_date          11009 non-null  object \n",
      " 12  acquisition_credit_line   3525 non-null   object \n",
      " 13  dating_presenting_date    12016 non-null  object \n",
      " 14  dating_sorting_date       12016 non-null  float64\n",
      " 15  dating_period             12026 non-null  int64  \n",
      " 16  dating_year_early         12016 non-null  float64\n",
      " 17  dating_year_late          11988 non-null  float64\n",
      " 18  likes                     12026 non-null  int64  \n",
      "dtypes: float64(3), int64(2), object(14)\n",
      "memory usage: 1.7+ MB\n"
     ]
    }
   ],
   "source": [
    "train_df.info()"
   ]
  },
  {
   "cell_type": "code",
   "execution_count": 6,
   "id": "challenging-strike",
   "metadata": {},
   "outputs": [
    {
     "data": {
      "text/plain": [
       "Index(['object_id', 'art_series_id', 'title', 'description', 'long_title',\n",
       "       'principal_maker', 'principal_or_first_maker', 'sub_title',\n",
       "       'copyright_holder', 'more_title', 'acquisition_method',\n",
       "       'acquisition_date', 'acquisition_credit_line', 'dating_presenting_date',\n",
       "       'dating_sorting_date', 'dating_period', 'dating_year_early',\n",
       "       'dating_year_late', 'likes'],\n",
       "      dtype='object')"
      ]
     },
     "execution_count": 6,
     "metadata": {},
     "output_type": "execute_result"
    }
   ],
   "source": [
    "train_df.columns"
   ]
  },
  {
   "cell_type": "code",
   "execution_count": 7,
   "id": "purple-harvey",
   "metadata": {},
   "outputs": [
    {
     "data": {
      "text/plain": [
       "<AxesSubplot:ylabel='Frequency'>"
      ]
     },
     "execution_count": 7,
     "metadata": {},
     "output_type": "execute_result"
    },
    {
     "data": {
      "image/png": "[encoded data removed]",
      "text/plain": [
       "<Figure size 432x288 with 1 Axes>"
      ]
     },
     "metadata": {
      "needs_background": "light"
     },
     "output_type": "display_data"
    }
   ],
   "source": [
    "train_df['log_likes'] = np.log1p(train_df['likes'])\n",
    "train_df['log_likes'].plot.hist(bins=100)"
   ]
  },
  {
   "cell_type": "code",
   "execution_count": 8,
   "id": "supported-reward",
   "metadata": {},
   "outputs": [
    {
     "data": {
      "image/png": "[encoded data removed]",
      "text/plain": [
       "<Figure size 864x1080 with 20 Axes>"
      ]
     },
     "metadata": {
      "needs_background": "light"
     },
     "output_type": "display_data"
    }
   ],
   "source": [
    "cols = ['art_series_id', 'title', 'description', 'long_title',\n",
    "       'principal_maker', 'principal_or_first_maker', 'sub_title',\n",
    "       'copyright_holder', 'more_title', 'acquisition_method',\n",
    "       'acquisition_date', 'acquisition_credit_line', 'dating_presenting_date',\n",
    "       'dating_sorting_date', 'dating_period', 'dating_year_early',\n",
    "       'dating_year_late']\n",
    "\n",
    "n_figs = len(cols)\n",
    "n_cols = 4\n",
    "n_rows = n_figs // n_cols + 1\n",
    "\n",
    "fix, axes = plt.subplots(figsize=(n_cols * 3, n_rows * 3), ncols=n_cols, nrows=n_rows)\n",
    "\n",
    "for col, ax in zip(cols, axes.ravel()):\n",
    "    ax.set_title(f'{col}')\n",
    "    venn2(subsets=[set(train_df[col].values), \n",
    "                   set(test_df[col].values)], \n",
    "          set_labels=['train', 'test'], \n",
    "          ax=ax)"
   ]
  },
  {
   "cell_type": "markdown",
   "id": "burning-daisy",
   "metadata": {},
   "source": [
    "## color / palette"
   ]
  },
  {
   "cell_type": "code",
   "execution_count": 9,
   "id": "constitutional-jackson",
   "metadata": {},
   "outputs": [],
   "source": [
    "color_df = pd.read_csv(os.path.join(input_dir() / \"color.csv\"))\n",
    "palette_df = pd.read_csv(os.path.join(input_dir() / \"palette.csv\"))"
   ]
  },
  {
   "cell_type": "code",
   "execution_count": 10,
   "id": "public-helena",
   "metadata": {},
   "outputs": [
    {
     "data": {
      "text/html": [
       "<div>\n",
       "<style scoped>\n",
       "    .dataframe tbody tr th:only-of-type {\n",
       "        vertical-align: middle;\n",
       "    }\n",
       "\n",
       "    .dataframe tbody tr th {\n",
       "        vertical-align: top;\n",
       "    }\n",
       "\n",
       "    .dataframe thead th {\n",
       "        text-align: right;\n",
       "    }\n",
       "</style>\n",
       "<table border=\"1\" class=\"dataframe\">\n",
       "  <thead>\n",
       "    <tr style=\"text-align: right;\">\n",
       "      <th></th>\n",
       "      <th>object_id</th>\n",
       "      <th>percentage</th>\n",
       "      <th>hex</th>\n",
       "    </tr>\n",
       "  </thead>\n",
       "  <tbody>\n",
       "    <tr>\n",
       "      <th>0</th>\n",
       "      <td>001020bd00b149970f78</td>\n",
       "      <td>0</td>\n",
       "      <td>#C7C7B6</td>\n",
       "    </tr>\n",
       "    <tr>\n",
       "      <th>1</th>\n",
       "      <td>001020bd00b149970f78</td>\n",
       "      <td>9</td>\n",
       "      <td>#5E5333</td>\n",
       "    </tr>\n",
       "    <tr>\n",
       "      <th>2</th>\n",
       "      <td>001020bd00b149970f78</td>\n",
       "      <td>14</td>\n",
       "      <td>#3E321B</td>\n",
       "    </tr>\n",
       "    <tr>\n",
       "      <th>3</th>\n",
       "      <td>001020bd00b149970f78</td>\n",
       "      <td>3</td>\n",
       "      <td>#B8AF84</td>\n",
       "    </tr>\n",
       "    <tr>\n",
       "      <th>4</th>\n",
       "      <td>001020bd00b149970f78</td>\n",
       "      <td>62</td>\n",
       "      <td>#15120C</td>\n",
       "    </tr>\n",
       "  </tbody>\n",
       "</table>\n",
       "</div>"
      ],
      "text/plain": [
       "              object_id  percentage       hex\n",
       "0  001020bd00b149970f78           0   #C7C7B6\n",
       "1  001020bd00b149970f78           9   #5E5333\n",
       "2  001020bd00b149970f78          14   #3E321B\n",
       "3  001020bd00b149970f78           3   #B8AF84\n",
       "4  001020bd00b149970f78          62   #15120C"
      ]
     },
     "execution_count": 10,
     "metadata": {},
     "output_type": "execute_result"
    }
   ],
   "source": [
    "color_df.head()"
   ]
  },
  {
   "cell_type": "code",
   "execution_count": 11,
   "id": "boring-hamilton",
   "metadata": {},
   "outputs": [
    {
     "data": {
      "text/html": [
       "<div>\n",
       "<style scoped>\n",
       "    .dataframe tbody tr th:only-of-type {\n",
       "        vertical-align: middle;\n",
       "    }\n",
       "\n",
       "    .dataframe tbody tr th {\n",
       "        vertical-align: top;\n",
       "    }\n",
       "\n",
       "    .dataframe thead th {\n",
       "        text-align: right;\n",
       "    }\n",
       "</style>\n",
       "<table border=\"1\" class=\"dataframe\">\n",
       "  <thead>\n",
       "    <tr style=\"text-align: right;\">\n",
       "      <th></th>\n",
       "      <th>ratio</th>\n",
       "      <th>color_r</th>\n",
       "      <th>color_g</th>\n",
       "      <th>color_b</th>\n",
       "      <th>object_id</th>\n",
       "    </tr>\n",
       "  </thead>\n",
       "  <tbody>\n",
       "    <tr>\n",
       "      <th>0</th>\n",
       "      <td>0.013781</td>\n",
       "      <td>40</td>\n",
       "      <td>4</td>\n",
       "      <td>0</td>\n",
       "      <td>000405d9a5e3f49fc49d</td>\n",
       "    </tr>\n",
       "    <tr>\n",
       "      <th>1</th>\n",
       "      <td>0.040509</td>\n",
       "      <td>221</td>\n",
       "      <td>189</td>\n",
       "      <td>129</td>\n",
       "      <td>000405d9a5e3f49fc49d</td>\n",
       "    </tr>\n",
       "    <tr>\n",
       "      <th>2</th>\n",
       "      <td>0.036344</td>\n",
       "      <td>207</td>\n",
       "      <td>175</td>\n",
       "      <td>117</td>\n",
       "      <td>000405d9a5e3f49fc49d</td>\n",
       "    </tr>\n",
       "    <tr>\n",
       "      <th>3</th>\n",
       "      <td>0.033316</td>\n",
       "      <td>230</td>\n",
       "      <td>197</td>\n",
       "      <td>129</td>\n",
       "      <td>000405d9a5e3f49fc49d</td>\n",
       "    </tr>\n",
       "    <tr>\n",
       "      <th>4</th>\n",
       "      <td>0.039600</td>\n",
       "      <td>194</td>\n",
       "      <td>161</td>\n",
       "      <td>106</td>\n",
       "      <td>000405d9a5e3f49fc49d</td>\n",
       "    </tr>\n",
       "  </tbody>\n",
       "</table>\n",
       "</div>"
      ],
      "text/plain": [
       "      ratio  color_r  color_g  color_b             object_id\n",
       "0  0.013781       40        4        0  000405d9a5e3f49fc49d\n",
       "1  0.040509      221      189      129  000405d9a5e3f49fc49d\n",
       "2  0.036344      207      175      117  000405d9a5e3f49fc49d\n",
       "3  0.033316      230      197      129  000405d9a5e3f49fc49d\n",
       "4  0.039600      194      161      106  000405d9a5e3f49fc49d"
      ]
     },
     "execution_count": 11,
     "metadata": {},
     "output_type": "execute_result"
    }
   ],
   "source": [
    "palette_df.head()"
   ]
  },
  {
   "cell_type": "markdown",
   "id": "caring-option",
   "metadata": {},
   "source": [
    "## Material"
   ]
  },
  {
   "cell_type": "code",
   "execution_count": 12,
   "id": "moral-finger",
   "metadata": {},
   "outputs": [],
   "source": [
    "material_df = pd.read_csv(os.path.join(input_dir() / \"material.csv\"))"
   ]
  },
  {
   "cell_type": "code",
   "execution_count": 13,
   "id": "relative-dependence",
   "metadata": {},
   "outputs": [
    {
     "data": {
      "text/html": [
       "<div>\n",
       "<style scoped>\n",
       "    .dataframe tbody tr th:only-of-type {\n",
       "        vertical-align: middle;\n",
       "    }\n",
       "\n",
       "    .dataframe tbody tr th {\n",
       "        vertical-align: top;\n",
       "    }\n",
       "\n",
       "    .dataframe thead th {\n",
       "        text-align: right;\n",
       "    }\n",
       "</style>\n",
       "<table border=\"1\" class=\"dataframe\">\n",
       "  <thead>\n",
       "    <tr style=\"text-align: right;\">\n",
       "      <th></th>\n",
       "      <th>object_id</th>\n",
       "      <th>name</th>\n",
       "    </tr>\n",
       "  </thead>\n",
       "  <tbody>\n",
       "    <tr>\n",
       "      <th>0</th>\n",
       "      <td>000405d9a5e3f49fc49d</td>\n",
       "      <td>photographic paper</td>\n",
       "    </tr>\n",
       "    <tr>\n",
       "      <th>1</th>\n",
       "      <td>000405d9a5e3f49fc49d</td>\n",
       "      <td>cardboard</td>\n",
       "    </tr>\n",
       "    <tr>\n",
       "      <th>2</th>\n",
       "      <td>001020bd00b149970f78</td>\n",
       "      <td>oil paint (paint)</td>\n",
       "    </tr>\n",
       "    <tr>\n",
       "      <th>3</th>\n",
       "      <td>001020bd00b149970f78</td>\n",
       "      <td>panel</td>\n",
       "    </tr>\n",
       "    <tr>\n",
       "      <th>4</th>\n",
       "      <td>0011d6be41612ec9eae3</td>\n",
       "      <td>oil paint (paint)</td>\n",
       "    </tr>\n",
       "  </tbody>\n",
       "</table>\n",
       "</div>"
      ],
      "text/plain": [
       "              object_id                name\n",
       "0  000405d9a5e3f49fc49d  photographic paper\n",
       "1  000405d9a5e3f49fc49d           cardboard\n",
       "2  001020bd00b149970f78   oil paint (paint)\n",
       "3  001020bd00b149970f78               panel\n",
       "4  0011d6be41612ec9eae3   oil paint (paint)"
      ]
     },
     "execution_count": 13,
     "metadata": {},
     "output_type": "execute_result"
    }
   ],
   "source": [
    "material_df.head()"
   ]
  },
  {
   "cell_type": "markdown",
   "id": "acute-tiffany",
   "metadata": {},
   "source": [
    "## Historical Person"
   ]
  },
  {
   "cell_type": "code",
   "execution_count": 14,
   "id": "arbitrary-selection",
   "metadata": {},
   "outputs": [],
   "source": [
    "historical_person_df = pd.read_csv(os.path.join(input_dir() / \"historical_person.csv\"))"
   ]
  },
  {
   "cell_type": "code",
   "execution_count": 15,
   "id": "competent-reliance",
   "metadata": {},
   "outputs": [
    {
     "data": {
      "text/html": [
       "<div>\n",
       "<style scoped>\n",
       "    .dataframe tbody tr th:only-of-type {\n",
       "        vertical-align: middle;\n",
       "    }\n",
       "\n",
       "    .dataframe tbody tr th {\n",
       "        vertical-align: top;\n",
       "    }\n",
       "\n",
       "    .dataframe thead th {\n",
       "        text-align: right;\n",
       "    }\n",
       "</style>\n",
       "<table border=\"1\" class=\"dataframe\">\n",
       "  <thead>\n",
       "    <tr style=\"text-align: right;\">\n",
       "      <th></th>\n",
       "      <th>object_id</th>\n",
       "      <th>name</th>\n",
       "    </tr>\n",
       "  </thead>\n",
       "  <tbody>\n",
       "    <tr>\n",
       "      <th>0</th>\n",
       "      <td>00133be3ff222c9b74b0</td>\n",
       "      <td>Staten-Generaal</td>\n",
       "    </tr>\n",
       "    <tr>\n",
       "      <th>1</th>\n",
       "      <td>00133be3ff222c9b74b0</td>\n",
       "      <td>Álvarez de Toledo, Fernando (3e hertog van Alva)</td>\n",
       "    </tr>\n",
       "    <tr>\n",
       "      <th>2</th>\n",
       "      <td>0026e030a0209b834b3e</td>\n",
       "      <td>Raad van Beroerten</td>\n",
       "    </tr>\n",
       "    <tr>\n",
       "      <th>3</th>\n",
       "      <td>0026e030a0209b834b3e</td>\n",
       "      <td>Álvarez de Toledo, Fernando (3e hertog van Alva)</td>\n",
       "    </tr>\n",
       "    <tr>\n",
       "      <th>4</th>\n",
       "      <td>00440ec5a4783b4b6bdb</td>\n",
       "      <td>Dolle Mina</td>\n",
       "    </tr>\n",
       "  </tbody>\n",
       "</table>\n",
       "</div>"
      ],
      "text/plain": [
       "              object_id                                              name\n",
       "0  00133be3ff222c9b74b0                                   Staten-Generaal\n",
       "1  00133be3ff222c9b74b0  Álvarez de Toledo, Fernando (3e hertog van Alva)\n",
       "2  0026e030a0209b834b3e                                Raad van Beroerten\n",
       "3  0026e030a0209b834b3e  Álvarez de Toledo, Fernando (3e hertog van Alva)\n",
       "4  00440ec5a4783b4b6bdb                                        Dolle Mina"
      ]
     },
     "execution_count": 15,
     "metadata": {},
     "output_type": "execute_result"
    }
   ],
   "source": [
    "historical_person_df.head()"
   ]
  },
  {
   "cell_type": "markdown",
   "id": "theoretical-resort",
   "metadata": {},
   "source": [
    "## Object Colletion"
   ]
  },
  {
   "cell_type": "code",
   "execution_count": 16,
   "id": "advance-generation",
   "metadata": {},
   "outputs": [],
   "source": [
    "object_collection_df = pd.read_csv(os.path.join(input_dir() / \"object_collection.csv\"))"
   ]
  },
  {
   "cell_type": "code",
   "execution_count": 17,
   "id": "abandoned-soccer",
   "metadata": {},
   "outputs": [
    {
     "data": {
      "text/html": [
       "<div>\n",
       "<style scoped>\n",
       "    .dataframe tbody tr th:only-of-type {\n",
       "        vertical-align: middle;\n",
       "    }\n",
       "\n",
       "    .dataframe tbody tr th {\n",
       "        vertical-align: top;\n",
       "    }\n",
       "\n",
       "    .dataframe thead th {\n",
       "        text-align: right;\n",
       "    }\n",
       "</style>\n",
       "<table border=\"1\" class=\"dataframe\">\n",
       "  <thead>\n",
       "    <tr style=\"text-align: right;\">\n",
       "      <th></th>\n",
       "      <th>object_id</th>\n",
       "      <th>name</th>\n",
       "    </tr>\n",
       "  </thead>\n",
       "  <tbody>\n",
       "    <tr>\n",
       "      <th>0</th>\n",
       "      <td>001020bd00b149970f78</td>\n",
       "      <td>paintings</td>\n",
       "    </tr>\n",
       "    <tr>\n",
       "      <th>1</th>\n",
       "      <td>0011d6be41612ec9eae3</td>\n",
       "      <td>paintings</td>\n",
       "    </tr>\n",
       "    <tr>\n",
       "      <th>2</th>\n",
       "      <td>00133be3ff222c9b74b0</td>\n",
       "      <td>prints</td>\n",
       "    </tr>\n",
       "    <tr>\n",
       "      <th>3</th>\n",
       "      <td>00181d86ff1a7b95864e</td>\n",
       "      <td>paintings</td>\n",
       "    </tr>\n",
       "    <tr>\n",
       "      <th>4</th>\n",
       "      <td>001c52ae28ec106d9cd5</td>\n",
       "      <td>paintings</td>\n",
       "    </tr>\n",
       "  </tbody>\n",
       "</table>\n",
       "</div>"
      ],
      "text/plain": [
       "              object_id       name\n",
       "0  001020bd00b149970f78  paintings\n",
       "1  0011d6be41612ec9eae3  paintings\n",
       "2  00133be3ff222c9b74b0     prints\n",
       "3  00181d86ff1a7b95864e  paintings\n",
       "4  001c52ae28ec106d9cd5  paintings"
      ]
     },
     "execution_count": 17,
     "metadata": {},
     "output_type": "execute_result"
    }
   ],
   "source": [
    "object_collection_df.head()"
   ]
  },
  {
   "cell_type": "markdown",
   "id": "muslim-payment",
   "metadata": {},
   "source": [
    "## Production Place"
   ]
  },
  {
   "cell_type": "code",
   "execution_count": 18,
   "id": "central-football",
   "metadata": {},
   "outputs": [],
   "source": [
    "production_place_df = pd.read_csv(os.path.join(input_dir() / \"production_place.csv\"))"
   ]
  },
  {
   "cell_type": "code",
   "execution_count": 19,
   "id": "banner-current",
   "metadata": {},
   "outputs": [
    {
     "data": {
      "text/html": [
       "<div>\n",
       "<style scoped>\n",
       "    .dataframe tbody tr th:only-of-type {\n",
       "        vertical-align: middle;\n",
       "    }\n",
       "\n",
       "    .dataframe tbody tr th {\n",
       "        vertical-align: top;\n",
       "    }\n",
       "\n",
       "    .dataframe thead th {\n",
       "        text-align: right;\n",
       "    }\n",
       "</style>\n",
       "<table border=\"1\" class=\"dataframe\">\n",
       "  <thead>\n",
       "    <tr style=\"text-align: right;\">\n",
       "      <th></th>\n",
       "      <th>object_id</th>\n",
       "      <th>name</th>\n",
       "    </tr>\n",
       "  </thead>\n",
       "  <tbody>\n",
       "    <tr>\n",
       "      <th>0</th>\n",
       "      <td>0012765f7a97ccc3e9e9</td>\n",
       "      <td>Netherlands</td>\n",
       "    </tr>\n",
       "    <tr>\n",
       "      <th>1</th>\n",
       "      <td>00133be3ff222c9b74b0</td>\n",
       "      <td>Amsterdam</td>\n",
       "    </tr>\n",
       "    <tr>\n",
       "      <th>2</th>\n",
       "      <td>00133be3ff222c9b74b0</td>\n",
       "      <td>Northern Netherlands</td>\n",
       "    </tr>\n",
       "    <tr>\n",
       "      <th>3</th>\n",
       "      <td>0017be8caa87206532cb</td>\n",
       "      <td>Amsterdam</td>\n",
       "    </tr>\n",
       "    <tr>\n",
       "      <th>4</th>\n",
       "      <td>001b2b8c9d3aa1534dfe</td>\n",
       "      <td>Suriname</td>\n",
       "    </tr>\n",
       "  </tbody>\n",
       "</table>\n",
       "</div>"
      ],
      "text/plain": [
       "              object_id                  name\n",
       "0  0012765f7a97ccc3e9e9           Netherlands\n",
       "1  00133be3ff222c9b74b0             Amsterdam\n",
       "2  00133be3ff222c9b74b0  Northern Netherlands\n",
       "3  0017be8caa87206532cb             Amsterdam\n",
       "4  001b2b8c9d3aa1534dfe              Suriname"
      ]
     },
     "execution_count": 19,
     "metadata": {},
     "output_type": "execute_result"
    }
   ],
   "source": [
    "production_place_df.head()"
   ]
  },
  {
   "cell_type": "code",
   "execution_count": 20,
   "id": "enclosed-suggestion",
   "metadata": {},
   "outputs": [
    {
     "data": {
      "text/plain": [
       "Amsterdam               4270\n",
       "Netherlands             2206\n",
       "Northern Netherlands    1160\n",
       "Antwerp                 1082\n",
       "Paris                    947\n",
       "                        ... \n",
       "Avranches                  1\n",
       "? Utrecht                  1\n",
       "Caserta                    1\n",
       "? London                   1\n",
       "? New York (city)          1\n",
       "Name: name, Length: 144, dtype: int64"
      ]
     },
     "execution_count": 20,
     "metadata": {},
     "output_type": "execute_result"
    }
   ],
   "source": [
    "production_place_df.name.value_counts()"
   ]
  },
  {
   "cell_type": "code",
   "execution_count": 21,
   "id": "black-classroom",
   "metadata": {},
   "outputs": [],
   "source": [
    "production_place_df['?_is_in'] = production_place_df['name'].str.startswith(\"?\")"
   ]
  },
  {
   "cell_type": "code",
   "execution_count": 22,
   "id": "empty-feeding",
   "metadata": {},
   "outputs": [],
   "source": [
    "production_place_df['name'] = production_place_df['name'].apply(lambda row:row[2:] if row[0]=='?' else row)"
   ]
  },
  {
   "cell_type": "code",
   "execution_count": 23,
   "id": "athletic-donna",
   "metadata": {},
   "outputs": [
    {
     "data": {
      "text/plain": [
       "object_id\n",
       "0012765f7a97ccc3e9e9                        [Netherlands]\n",
       "00133be3ff222c9b74b0    [Amsterdam, Northern Netherlands]\n",
       "0017be8caa87206532cb                          [Amsterdam]\n",
       "001b2b8c9d3aa1534dfe                           [Suriname]\n",
       "001c52ae28ec106d9cd5               [Northern Netherlands]\n",
       "                                      ...                \n",
       "ffefbe1faf771aa4f790                          [Amsterdam]\n",
       "fff08e76cbb969eaddc7      [Northern Netherlands, Antwerp]\n",
       "fffbe07b997bec00e203                      [Great Britain]\n",
       "fffd43b134ba7197d890                             [London]\n",
       "ffff22ea12d7f99cff31                            [England]\n",
       "Name: name, Length: 15547, dtype: object"
      ]
     },
     "execution_count": 23,
     "metadata": {},
     "output_type": "execute_result"
    }
   ],
   "source": [
    "production_place_df.groupby(\"object_id\")['name'].apply(np.array)"
   ]
  },
  {
   "cell_type": "markdown",
   "id": "peripheral-recipient",
   "metadata": {},
   "source": [
    "## Technique"
   ]
  },
  {
   "cell_type": "code",
   "execution_count": 24,
   "id": "chemical-lincoln",
   "metadata": {},
   "outputs": [],
   "source": [
    "technique_df = pd.read_csv(os.path.join(input_dir() / \"technique.csv\"))"
   ]
  },
  {
   "cell_type": "code",
   "execution_count": 25,
   "id": "tribal-villa",
   "metadata": {},
   "outputs": [
    {
     "data": {
      "text/html": [
       "<div>\n",
       "<style scoped>\n",
       "    .dataframe tbody tr th:only-of-type {\n",
       "        vertical-align: middle;\n",
       "    }\n",
       "\n",
       "    .dataframe tbody tr th {\n",
       "        vertical-align: top;\n",
       "    }\n",
       "\n",
       "    .dataframe thead th {\n",
       "        text-align: right;\n",
       "    }\n",
       "</style>\n",
       "<table border=\"1\" class=\"dataframe\">\n",
       "  <thead>\n",
       "    <tr style=\"text-align: right;\">\n",
       "      <th></th>\n",
       "      <th>object_id</th>\n",
       "      <th>name</th>\n",
       "    </tr>\n",
       "  </thead>\n",
       "  <tbody>\n",
       "    <tr>\n",
       "      <th>0</th>\n",
       "      <td>000405d9a5e3f49fc49d</td>\n",
       "      <td>albumen print</td>\n",
       "    </tr>\n",
       "    <tr>\n",
       "      <th>1</th>\n",
       "      <td>0012765f7a97ccc3e9e9</td>\n",
       "      <td>salted paper print</td>\n",
       "    </tr>\n",
       "    <tr>\n",
       "      <th>2</th>\n",
       "      <td>0012765f7a97ccc3e9e9</td>\n",
       "      <td>albumen print</td>\n",
       "    </tr>\n",
       "    <tr>\n",
       "      <th>3</th>\n",
       "      <td>00133be3ff222c9b74b0</td>\n",
       "      <td>etching</td>\n",
       "    </tr>\n",
       "    <tr>\n",
       "      <th>4</th>\n",
       "      <td>0017be8caa87206532cb</td>\n",
       "      <td>albumen print</td>\n",
       "    </tr>\n",
       "  </tbody>\n",
       "</table>\n",
       "</div>"
      ],
      "text/plain": [
       "              object_id                name\n",
       "0  000405d9a5e3f49fc49d       albumen print\n",
       "1  0012765f7a97ccc3e9e9  salted paper print\n",
       "2  0012765f7a97ccc3e9e9       albumen print\n",
       "3  00133be3ff222c9b74b0             etching\n",
       "4  0017be8caa87206532cb       albumen print"
      ]
     },
     "execution_count": 25,
     "metadata": {},
     "output_type": "execute_result"
    }
   ],
   "source": [
    "technique_df.head()"
   ]
  },
  {
   "cell_type": "code",
   "execution_count": 26,
   "id": "lonely-train",
   "metadata": {},
   "outputs": [
    {
     "data": {
      "text/plain": [
       "etching                          5936\n",
       "engraving                        5563\n",
       "albumen print                    5544\n",
       "gelatin silver print             1158\n",
       "letterpress printing              722\n",
       "drypoint                          229\n",
       "salted paper print                221\n",
       "slide                             203\n",
       "painting                          184\n",
       "steel engraving                   161\n",
       "collotype                         103\n",
       "ambrotype                          74\n",
       "inkjet print                       68\n",
       "colour woodcut                     53\n",
       "brush                              48\n",
       "cyanotype                          43\n",
       "pen                                34\n",
       "gelatin silver slide on glass      26\n",
       "carbon print                       25\n",
       "ferrotyping                        24\n",
       "photolithography                   12\n",
       "gilding                            11\n",
       "counterproof                       10\n",
       "writing (processes)                 9\n",
       "lacquering                          8\n",
       "printing                            4\n",
       "printed matter                      2\n",
       "oil transfer print                  2\n",
       "cutting                             1\n",
       "litho etching                       1\n",
       "Valenciennes lace                   1\n",
       "perforating                         1\n",
       "Name: name, dtype: int64"
      ]
     },
     "execution_count": 26,
     "metadata": {},
     "output_type": "execute_result"
    }
   ],
   "source": [
    "technique_df['name'].value_counts()"
   ]
  },
  {
   "cell_type": "code",
   "execution_count": 27,
   "id": "romance-kernel",
   "metadata": {},
   "outputs": [
    {
     "data": {
      "text/plain": [
       "object_id\n",
       "000405d9a5e3f49fc49d                        [albumen print]\n",
       "0012765f7a97ccc3e9e9    [salted paper print, albumen print]\n",
       "00133be3ff222c9b74b0                              [etching]\n",
       "0017be8caa87206532cb                        [albumen print]\n",
       "001f4c71b4d53497b531                            [engraving]\n",
       "                                       ...                 \n",
       "fff4bbb55fd7702d294e                        [albumen print]\n",
       "fffbe07b997bec00e203                        [albumen print]\n",
       "fffd1675758205748d7f                        [albumen print]\n",
       "fffd43b134ba7197d890                        [albumen print]\n",
       "ffff22ea12d7f99cff31                        [albumen print]\n",
       "Name: name, Length: 17329, dtype: object"
      ]
     },
     "execution_count": 27,
     "metadata": {},
     "output_type": "execute_result"
    }
   ],
   "source": [
    "technique_df.groupby('object_id')['name'].apply(np.array)"
   ]
  },
  {
   "cell_type": "markdown",
   "id": "legendary-auditor",
   "metadata": {},
   "source": [
    "## maker / principal_maker / principal_maker_occupation"
   ]
  },
  {
   "cell_type": "raw",
   "id": "careful-cuisine",
   "metadata": {},
   "source": [
    "maker\n",
    "    name: 名前\n",
    "    date_of_birth: 誕生日 (or 年)\n",
    "    place_of_birth: 生まれた場所\n",
    "    date_of_death: 死亡日 (or 年)\n",
    "    place_of_death: 死亡した場所\n",
    "    nationality: 国籍\n",
    "\n",
    "principal_maker\n",
    "    id: principal_maker table のレコードに固有のID\n",
    "    object_id: 携わった作品. train/test の object_id とひも付きます.\n",
    "    qualification: どのような携わり方をしたか (ex. mentioned on object)\n",
    "    roles: 役割\n",
    "    productionPlaces: 制作場所\n",
    "    maker_name: 作家の名前. maker の name とひも付きます.\n",
    "\n",
    "principal_maker_occupation\n",
    "    id: principal_maker の id 列とひも付きます\n",
    "    name: 作家の行った作業名"
   ]
  },
  {
   "cell_type": "code",
   "execution_count": 28,
   "id": "checked-registration",
   "metadata": {},
   "outputs": [],
   "source": [
    "maker_df = pd.read_csv(os.path.join(input_dir() / \"maker.csv\"))\n",
    "pmaker_df = pd.read_csv(os.path.join(input_dir() / \"principal_maker.csv\"))\n",
    "pmaker_occup_df = pd.read_csv(os.path.join(input_dir() / \"principal_maker_occupation.csv\"))"
   ]
  },
  {
   "cell_type": "code",
   "execution_count": 29,
   "id": "urban-product",
   "metadata": {},
   "outputs": [
    {
     "data": {
      "text/html": [
       "<div>\n",
       "<style scoped>\n",
       "    .dataframe tbody tr th:only-of-type {\n",
       "        vertical-align: middle;\n",
       "    }\n",
       "\n",
       "    .dataframe tbody tr th {\n",
       "        vertical-align: top;\n",
       "    }\n",
       "\n",
       "    .dataframe thead th {\n",
       "        text-align: right;\n",
       "    }\n",
       "</style>\n",
       "<table border=\"1\" class=\"dataframe\">\n",
       "  <thead>\n",
       "    <tr style=\"text-align: right;\">\n",
       "      <th></th>\n",
       "      <th>name</th>\n",
       "      <th>place_of_birth</th>\n",
       "      <th>date_of_birth</th>\n",
       "      <th>date_of_death</th>\n",
       "      <th>place_of_death</th>\n",
       "      <th>nationality</th>\n",
       "    </tr>\n",
       "  </thead>\n",
       "  <tbody>\n",
       "    <tr>\n",
       "      <th>0</th>\n",
       "      <td>'t Hooft</td>\n",
       "      <td>NaN</td>\n",
       "      <td>NaN</td>\n",
       "      <td>NaN</td>\n",
       "      <td>NaN</td>\n",
       "      <td>NaN</td>\n",
       "    </tr>\n",
       "    <tr>\n",
       "      <th>1</th>\n",
       "      <td>A. &amp; G. Taylor</td>\n",
       "      <td>NaN</td>\n",
       "      <td>NaN</td>\n",
       "      <td>NaN</td>\n",
       "      <td>NaN</td>\n",
       "      <td>NaN</td>\n",
       "    </tr>\n",
       "    <tr>\n",
       "      <th>2</th>\n",
       "      <td>A. Böeseken</td>\n",
       "      <td>'s-Heerenberg</td>\n",
       "      <td>1834-01-12</td>\n",
       "      <td>1919-02-11</td>\n",
       "      <td>Rotterdam</td>\n",
       "      <td>NaN</td>\n",
       "    </tr>\n",
       "    <tr>\n",
       "      <th>3</th>\n",
       "      <td>A. Cucumus &amp; Cie.</td>\n",
       "      <td>NaN</td>\n",
       "      <td>NaN</td>\n",
       "      <td>NaN</td>\n",
       "      <td>NaN</td>\n",
       "      <td>NaN</td>\n",
       "    </tr>\n",
       "    <tr>\n",
       "      <th>4</th>\n",
       "      <td>A. Dandoy</td>\n",
       "      <td>NaN</td>\n",
       "      <td>NaN</td>\n",
       "      <td>NaN</td>\n",
       "      <td>NaN</td>\n",
       "      <td>NaN</td>\n",
       "    </tr>\n",
       "  </tbody>\n",
       "</table>\n",
       "</div>"
      ],
      "text/plain": [
       "                name place_of_birth date_of_birth date_of_death  \\\n",
       "0           't Hooft            NaN           NaN           NaN   \n",
       "1     A. & G. Taylor            NaN           NaN           NaN   \n",
       "2        A. Böeseken  's-Heerenberg    1834-01-12    1919-02-11   \n",
       "3  A. Cucumus & Cie.            NaN           NaN           NaN   \n",
       "4          A. Dandoy            NaN           NaN           NaN   \n",
       "\n",
       "  place_of_death nationality  \n",
       "0            NaN         NaN  \n",
       "1            NaN         NaN  \n",
       "2      Rotterdam         NaN  \n",
       "3            NaN         NaN  \n",
       "4            NaN         NaN  "
      ]
     },
     "execution_count": 29,
     "metadata": {},
     "output_type": "execute_result"
    }
   ],
   "source": [
    "maker_df.head()"
   ]
  },
  {
   "cell_type": "code",
   "execution_count": 30,
   "id": "dirty-relative",
   "metadata": {},
   "outputs": [
    {
     "data": {
      "text/html": [
       "<div>\n",
       "<style scoped>\n",
       "    .dataframe tbody tr th:only-of-type {\n",
       "        vertical-align: middle;\n",
       "    }\n",
       "\n",
       "    .dataframe tbody tr th {\n",
       "        vertical-align: top;\n",
       "    }\n",
       "\n",
       "    .dataframe thead th {\n",
       "        text-align: right;\n",
       "    }\n",
       "</style>\n",
       "<table border=\"1\" class=\"dataframe\">\n",
       "  <thead>\n",
       "    <tr style=\"text-align: right;\">\n",
       "      <th></th>\n",
       "      <th>id</th>\n",
       "      <th>object_id</th>\n",
       "      <th>qualification</th>\n",
       "      <th>roles</th>\n",
       "      <th>productionPlaces</th>\n",
       "      <th>maker_name</th>\n",
       "    </tr>\n",
       "  </thead>\n",
       "  <tbody>\n",
       "    <tr>\n",
       "      <th>0</th>\n",
       "      <td>1</td>\n",
       "      <td>000405d9a5e3f49fc49d</td>\n",
       "      <td>mentioned on object</td>\n",
       "      <td>NaN</td>\n",
       "      <td>NaN</td>\n",
       "      <td>Bernardus Bruining</td>\n",
       "    </tr>\n",
       "    <tr>\n",
       "      <th>1</th>\n",
       "      <td>2</td>\n",
       "      <td>001020bd00b149970f78</td>\n",
       "      <td>workshop of</td>\n",
       "      <td>painter</td>\n",
       "      <td>NaN</td>\n",
       "      <td>Jan Antonisz van Ravesteyn</td>\n",
       "    </tr>\n",
       "    <tr>\n",
       "      <th>2</th>\n",
       "      <td>3</td>\n",
       "      <td>0011d6be41612ec9eae3</td>\n",
       "      <td>NaN</td>\n",
       "      <td>painter</td>\n",
       "      <td>NaN</td>\n",
       "      <td>Jan Hackaert</td>\n",
       "    </tr>\n",
       "    <tr>\n",
       "      <th>3</th>\n",
       "      <td>4</td>\n",
       "      <td>0012765f7a97ccc3e9e9</td>\n",
       "      <td>attributed to</td>\n",
       "      <td>NaN</td>\n",
       "      <td>Netherlands</td>\n",
       "      <td>Richard Tepe</td>\n",
       "    </tr>\n",
       "    <tr>\n",
       "      <th>4</th>\n",
       "      <td>5</td>\n",
       "      <td>00133be3ff222c9b74b0</td>\n",
       "      <td>NaN</td>\n",
       "      <td>print maker</td>\n",
       "      <td>Northern Netherlands</td>\n",
       "      <td>Theodoor Koning</td>\n",
       "    </tr>\n",
       "  </tbody>\n",
       "</table>\n",
       "</div>"
      ],
      "text/plain": [
       "   id             object_id        qualification        roles  \\\n",
       "0   1  000405d9a5e3f49fc49d  mentioned on object          NaN   \n",
       "1   2  001020bd00b149970f78          workshop of      painter   \n",
       "2   3  0011d6be41612ec9eae3                  NaN      painter   \n",
       "3   4  0012765f7a97ccc3e9e9        attributed to          NaN   \n",
       "4   5  00133be3ff222c9b74b0                  NaN  print maker   \n",
       "\n",
       "       productionPlaces                  maker_name  \n",
       "0                   NaN          Bernardus Bruining  \n",
       "1                   NaN  Jan Antonisz van Ravesteyn  \n",
       "2                   NaN                Jan Hackaert  \n",
       "3           Netherlands                Richard Tepe  \n",
       "4  Northern Netherlands             Theodoor Koning  "
      ]
     },
     "execution_count": 30,
     "metadata": {},
     "output_type": "execute_result"
    }
   ],
   "source": [
    "pmaker_df.head()"
   ]
  },
  {
   "cell_type": "code",
   "execution_count": 31,
   "id": "outer-tattoo",
   "metadata": {},
   "outputs": [
    {
     "data": {
      "text/html": [
       "<div>\n",
       "<style scoped>\n",
       "    .dataframe tbody tr th:only-of-type {\n",
       "        vertical-align: middle;\n",
       "    }\n",
       "\n",
       "    .dataframe tbody tr th {\n",
       "        vertical-align: top;\n",
       "    }\n",
       "\n",
       "    .dataframe thead th {\n",
       "        text-align: right;\n",
       "    }\n",
       "</style>\n",
       "<table border=\"1\" class=\"dataframe\">\n",
       "  <thead>\n",
       "    <tr style=\"text-align: right;\">\n",
       "      <th></th>\n",
       "      <th>id</th>\n",
       "      <th>name</th>\n",
       "    </tr>\n",
       "  </thead>\n",
       "  <tbody>\n",
       "    <tr>\n",
       "      <th>0</th>\n",
       "      <td>2</td>\n",
       "      <td>draughtsman</td>\n",
       "    </tr>\n",
       "    <tr>\n",
       "      <th>1</th>\n",
       "      <td>2</td>\n",
       "      <td>painter</td>\n",
       "    </tr>\n",
       "    <tr>\n",
       "      <th>2</th>\n",
       "      <td>3</td>\n",
       "      <td>print maker</td>\n",
       "    </tr>\n",
       "    <tr>\n",
       "      <th>3</th>\n",
       "      <td>3</td>\n",
       "      <td>draughtsman</td>\n",
       "    </tr>\n",
       "    <tr>\n",
       "      <th>4</th>\n",
       "      <td>3</td>\n",
       "      <td>painter</td>\n",
       "    </tr>\n",
       "  </tbody>\n",
       "</table>\n",
       "</div>"
      ],
      "text/plain": [
       "   id         name\n",
       "0   2  draughtsman\n",
       "1   2      painter\n",
       "2   3  print maker\n",
       "3   3  draughtsman\n",
       "4   3      painter"
      ]
     },
     "execution_count": 31,
     "metadata": {},
     "output_type": "execute_result"
    }
   ],
   "source": [
    "pmaker_occup_df.head()"
   ]
  },
  {
   "cell_type": "code",
   "execution_count": null,
   "id": "chronic-hierarchy",
   "metadata": {},
   "outputs": [],
   "source": []
  },
  {
   "cell_type": "code",
   "execution_count": 36,
   "id": "later-professor",
   "metadata": {},
   "outputs": [],
   "source": [
    "# 単語ベクトル表現の次元数\n",
    "# 元の語彙数をベースに適当に決めました\n",
    "model_size = {\n",
    "    \"material\": 20,\n",
    "    \"technique\": 8,\n",
    "    \"collection\": 3,\n",
    "    \"material_collection\": 20,\n",
    "    \"material_technique\": 20,\n",
    "    \"collection_technique\": 10,\n",
    "    \"material_collection_technique\": 25\n",
    "}\n",
    "\n",
    "n_iter = 100"
   ]
  },
  {
   "cell_type": "code",
   "execution_count": 80,
   "id": "driving-champagne",
   "metadata": {},
   "outputs": [],
   "source": [
    "# Word2Vecの学習\n",
    "w2v_model = word2vec.Word2Vec(train_df[\"description\"].fillna(''),\n",
    "                              size=25,\n",
    "                              min_count=1,\n",
    "                              window=1,\n",
    "                              iter=n_iter)"
   ]
  },
  {
   "cell_type": "code",
   "execution_count": 77,
   "id": "finnish-algeria",
   "metadata": {},
   "outputs": [],
   "source": [
    "# Word2Vecの学習\n",
    "w2v_model = word2vec.Word2Vec(group_df[\"name\"],\n",
    "                              size=25,\n",
    "                              min_count=1,\n",
    "                              window=1,\n",
    "                              iter=n_iter)"
   ]
  },
  {
   "cell_type": "code",
   "execution_count": 67,
   "id": "aquatic-general",
   "metadata": {},
   "outputs": [],
   "source": [
    "from tqdm import tqdm"
   ]
  },
  {
   "cell_type": "code",
   "execution_count": 68,
   "id": "higher-interest",
   "metadata": {},
   "outputs": [],
   "source": [
    "tqdm.pandas()"
   ]
  },
  {
   "cell_type": "code",
   "execution_count": 70,
   "id": "green-grammar",
   "metadata": {},
   "outputs": [
    {
     "data": {
      "text/plain": [
       "0        [1.1372524, 0.7011264, 0.37534404, 0.4748175, ...\n",
       "1        [-0.014151782, -0.83125454, 0.29570743, 0.0895...\n",
       "2        [-0.08748382, -0.72506136, 0.41635928, 0.02232...\n",
       "3        [0.9959011, 0.23750351, 0.2848374, 0.7638969, ...\n",
       "4        [-0.69516224, 0.20899387, 1.4020361, 0.4597942...\n",
       "                               ...                        \n",
       "23948    [0.8615798, 0.1190972, 0.42931992, 0.5615308, ...\n",
       "23949    [1.1372524, 0.7011264, 0.37534404, 0.4748175, ...\n",
       "23950    [1.0955411, 0.84442145, -0.4328015, 1.4909583,...\n",
       "23951    [0.8615798, 0.1190972, 0.42931992, 0.5615308, ...\n",
       "23952    [0.20815255, 0.22587703, 0.69280463, 0.3397010...\n",
       "Name: name, Length: 23953, dtype: object"
      ]
     },
     "execution_count": 70,
     "metadata": {},
     "output_type": "execute_result"
    }
   ],
   "source": [
    "group_df[\"name\"].apply(lambda row: np.mean([w2v_model.wv[e] for e in row], axis=0))"
   ]
  },
  {
   "cell_type": "code",
   "execution_count": null,
   "id": "regular-artwork",
   "metadata": {},
   "outputs": [],
   "source": [
    "w2v_dfs = []\n",
    "for df, df_name in zip(\n",
    "        [\n",
    "            material, collection, technique,\n",
    "            mat_col, mat_tec, col_tec, mat_col_tec\n",
    "        ], [\n",
    "            \"material\", \"collection\", \"technique\",\n",
    "            \"material_collection\",\n",
    "            \"material_technique\",\n",
    "            \"collection_technique\",\n",
    "            \"material_collection_technique\"\n",
    "        ]):\n",
    "    df_group = df.groupby(\"object_id\")[\"name\"].apply(list).reset_index()\n",
    "    # Word2Vecの学習\n",
    "    w2v_model = word2vec.Word2Vec(df_group[\"name\"].values.tolist(),\n",
    "                                  size=model_size[df_name],\n",
    "                                  min_count=1,\n",
    "                                  window=1,\n",
    "                                  iter=n_iter)\n",
    "\n",
    "    # 各文章ごとにそれぞれの単語をベクトル表現に直し、平均をとって文章ベクトルにする\n",
    "    sentence_vectors = df_group[\"name\"].progress_apply(\n",
    "        lambda x: np.mean([w2v_model.wv[e] for e in x], axis=0))\n",
    "    sentence_vectors = np.vstack([x for x in sentence_vectors])\n",
    "    sentence_vector_df = pd.DataFrame(sentence_vectors,\n",
    "                                      columns=[f\"{df_name}_w2v_{i}\"\n",
    "                                               for i in range(model_size[df_name])])\n",
    "    sentence_vector_df.index = df_group[\"object_id\"]\n",
    "    w2v_dfs.append(sentence_vector_df)"
   ]
  }
 ],
 "metadata": {
  "kernelspec": {
   "display_name": "Python 3",
   "language": "python",
   "name": "python3"
  },
  "language_info": {
   "codemirror_mode": {
    "name": "ipython",
    "version": 3
   },
   "file_extension": ".py",
   "mimetype": "text/x-python",
   "name": "python",
   "nbconvert_exporter": "python",
   "pygments_lexer": "ipython3",
   "version": "3.9.1"
  }
 },
 "nbformat": 4,
 "nbformat_minor": 5
}
