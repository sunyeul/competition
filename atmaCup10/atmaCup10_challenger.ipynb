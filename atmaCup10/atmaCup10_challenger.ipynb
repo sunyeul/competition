{
 "cells": [
  {
   "cell_type": "markdown",
   "id": "introductory-firewall",
   "metadata": {
    "id": "varied-final"
   },
   "source": [
    "# atmaCup#10 - 美術作品の評価予測"
   ]
  },
  {
   "cell_type": "markdown",
   "id": "promotional-pendant",
   "metadata": {
    "id": "enormous-discovery"
   },
   "source": [
    "## Import Libraries"
   ]
  },
  {
   "cell_type": "code",
   "execution_count": 1,
   "id": "natural-mystery",
   "metadata": {
    "executionInfo": {
     "elapsed": 611,
     "status": "ok",
     "timestamp": 1615116412253,
     "user": {
      "displayName": "김준형",
      "photoUrl": "https://lh3.googleusercontent.com/a-/AOh14GjoucIizMtFKPEd5GLr281FF-qhH43HTCNZtxOuTzA=s64",
      "userId": "17669351473013187910"
     },
     "user_tz": -540
    },
    "id": "secondary-slovenia"
   },
   "outputs": [],
   "source": [
    "import pandas as pd\n",
    "import numpy as np\n",
    "\n",
    "import lightgbm as lgb\n",
    "from sklearn.model_selection import GroupKFold\n",
    "from sklearn.metrics import mean_squared_error as MSE, mean_squared_log_error as MSLE\n",
    "\n",
    "import matplotlib.pyplot as plt\n",
    "import seaborn as sns\n",
    "from pandas_profiling import ProfileReport\n",
    "from matplotlib_venn import venn2\n",
    "\n",
    "import os\n",
    "from typing import List, Tuple, Callable\n",
    "from pathlib import Path\n",
    "from tqdm.notebook import tqdm\n",
    "import warnings\n",
    "warnings.simplefilter('ignore')"
   ]
  },
  {
   "cell_type": "code",
   "execution_count": 3,
   "id": "juvenile-dependence",
   "metadata": {},
   "outputs": [
    {
     "name": "stdout",
     "output_type": "stream",
     "text": [
      "✔ Download and installation successful\n",
      "You can now load the package via spacy.load('en_core_web_sm')\n"
     ]
    }
   ],
   "source": [
    "import sys\n",
    "sys.path.append('..')\n",
    "\n",
    "from common_modules.util import *\n",
    "from common_modules.feature import *\n",
    "from common_modules.visualization import *\n",
    "\n",
    "from modules.feature import *\n",
    "from modules.train import *\n",
    "\n",
    "%load_ext autoreload\n",
    "%autoreload 2"
   ]
  },
  {
   "cell_type": "markdown",
   "id": "prostate-protein",
   "metadata": {
    "id": "major-methodology"
   },
   "source": [
    "## Util Functions"
   ]
  },
  {
   "cell_type": "code",
   "execution_count": 4,
   "id": "organized-james",
   "metadata": {
    "executionInfo": {
     "elapsed": 360,
     "status": "ok",
     "timestamp": 1615115317309,
     "user": {
      "displayName": "김준형",
      "photoUrl": "https://lh3.googleusercontent.com/a-/AOh14GjoucIizMtFKPEd5GLr281FF-qhH43HTCNZtxOuTzA=s64",
      "userId": "17669351473013187910"
     },
     "user_tz": -540
    },
    "id": "normal-announcement"
   },
   "outputs": [],
   "source": [
    "def input_dir():\n",
    "    return Path(\"input\")\n",
    "\n",
    "def output_dir():\n",
    "    return Path(\"output\")"
   ]
  },
  {
   "cell_type": "markdown",
   "id": "intermediate-tomorrow",
   "metadata": {
    "id": "black-walter"
   },
   "source": [
    "## Load Data"
   ]
  },
  {
   "cell_type": "markdown",
   "id": "hazardous-speaking",
   "metadata": {},
   "source": [
    "### art object"
   ]
  },
  {
   "cell_type": "code",
   "execution_count": 5,
   "id": "collect-oklahoma",
   "metadata": {
    "colab": {
     "base_uri": "https://localhost:8080/"
    },
    "executionInfo": {
     "elapsed": 1550,
     "status": "ok",
     "timestamp": 1615115320044,
     "user": {
      "displayName": "김준형",
      "photoUrl": "https://lh3.googleusercontent.com/a-/AOh14GjoucIizMtFKPEd5GLr281FF-qhH43HTCNZtxOuTzA=s64",
      "userId": "17669351473013187910"
     },
     "user_tz": -540
    },
    "id": "controlled-harvey",
    "outputId": "c2801ede-67a5-4a22-9a71-a06d21373e19"
   },
   "outputs": [
    {
     "name": "stdout",
     "output_type": "stream",
     "text": [
      "(12026, 19) (12008, 18)\n"
     ]
    }
   ],
   "source": [
    "train_df = pd.read_csv(os.path.join(input_dir() / \"train.csv\"))\n",
    "test_df = pd.read_csv(os.path.join(input_dir() / \"test.csv\"))\n",
    "print(train_df.shape, test_df.shape)"
   ]
  },
  {
   "cell_type": "code",
   "execution_count": 18,
   "id": "dress-scoop",
   "metadata": {
    "executionInfo": {
     "elapsed": 687,
     "status": "ok",
     "timestamp": 1615115350293,
     "user": {
      "displayName": "김준형",
      "photoUrl": "https://lh3.googleusercontent.com/a-/AOh14GjoucIizMtFKPEd5GLr281FF-qhH43HTCNZtxOuTzA=s64",
      "userId": "17669351473013187910"
     },
     "user_tz": -540
    },
    "id": "ultimate-haven"
   },
   "outputs": [],
   "source": [
    "whole_df = pd.concat([train_df.drop(columns=['likes']).reset_index(), \n",
    "                      test_df.reset_index()], axis=0)"
   ]
  },
  {
   "cell_type": "code",
   "execution_count": 6,
   "id": "identical-sterling",
   "metadata": {
    "colab": {
     "base_uri": "https://localhost:8080/",
     "height": 684
    },
    "executionInfo": {
     "elapsed": 563,
     "status": "ok",
     "timestamp": 1615115350297,
     "user": {
      "displayName": "김준형",
      "photoUrl": "https://lh3.googleusercontent.com/a-/AOh14GjoucIizMtFKPEd5GLr281FF-qhH43HTCNZtxOuTzA=s64",
      "userId": "17669351473013187910"
     },
     "user_tz": -540
    },
    "id": "great-istanbul",
    "outputId": "4d648b76-5349-4c3b-89d7-adf6559ccd65"
   },
   "outputs": [
    {
     "data": {
      "text/html": [
       "<div>\n",
       "<style scoped>\n",
       "    .dataframe tbody tr th:only-of-type {\n",
       "        vertical-align: middle;\n",
       "    }\n",
       "\n",
       "    .dataframe tbody tr th {\n",
       "        vertical-align: top;\n",
       "    }\n",
       "\n",
       "    .dataframe thead th {\n",
       "        text-align: right;\n",
       "    }\n",
       "</style>\n",
       "<table border=\"1\" class=\"dataframe\">\n",
       "  <thead>\n",
       "    <tr style=\"text-align: right;\">\n",
       "      <th></th>\n",
       "      <th>0</th>\n",
       "      <th>1</th>\n",
       "      <th>2</th>\n",
       "      <th>3</th>\n",
       "      <th>4</th>\n",
       "    </tr>\n",
       "  </thead>\n",
       "  <tbody>\n",
       "    <tr>\n",
       "      <th>object_id</th>\n",
       "      <td>0011d6be41612ec9eae3</td>\n",
       "      <td>0012765f7a97ccc3e9e9</td>\n",
       "      <td>0017be8caa87206532cb</td>\n",
       "      <td>00181d86ff1a7b95864e</td>\n",
       "      <td>001c52ae28ec106d9cd5</td>\n",
       "    </tr>\n",
       "    <tr>\n",
       "      <th>art_series_id</th>\n",
       "      <td>93c092ba70beab248f31</td>\n",
       "      <td>95c14fb11c54281ad7e0</td>\n",
       "      <td>4c406890d208fe01f8fb</td>\n",
       "      <td>fa0891535500a4973db2</td>\n",
       "      <td>8065ed5063c5887e677d</td>\n",
       "    </tr>\n",
       "    <tr>\n",
       "      <th>title</th>\n",
       "      <td>The Avenue of Birches</td>\n",
       "      <td>Struik in bloei</td>\n",
       "      <td>Portret van een vrouw</td>\n",
       "      <td>A St Bernard Dog</td>\n",
       "      <td>Woelige zee met zeilschepen</td>\n",
       "    </tr>\n",
       "    <tr>\n",
       "      <th>description</th>\n",
       "      <td>NaN</td>\n",
       "      <td>NaN</td>\n",
       "      <td>Portret van eenvrouw, zittend naast een tafel.</td>\n",
       "      <td>Een sint-bernardshond, staand in een landschap...</td>\n",
       "      <td>Woelige zee met zeilschepen.</td>\n",
       "    </tr>\n",
       "    <tr>\n",
       "      <th>long_title</th>\n",
       "      <td>The Avenue of Birches, Jan Hackaert, 1660 - 1685</td>\n",
       "      <td>Struik in bloei, Richard Tepe (attributed to),...</td>\n",
       "      <td>Portret van een vrouw, Tresling &amp; Comp., 1860 ...</td>\n",
       "      <td>A St Bernard Dog, Bernard te Gempt, c. 1850 - ...</td>\n",
       "      <td>Woelige zee met zeilschepen, anonymous, 1825 -...</td>\n",
       "    </tr>\n",
       "    <tr>\n",
       "      <th>principal_maker</th>\n",
       "      <td>Jan Hackaert</td>\n",
       "      <td>Richard Tepe</td>\n",
       "      <td>Tresling &amp; Comp.</td>\n",
       "      <td>Bernard te Gempt</td>\n",
       "      <td>anonymous</td>\n",
       "    </tr>\n",
       "    <tr>\n",
       "      <th>principal_or_first_maker</th>\n",
       "      <td>Jan Hackaert</td>\n",
       "      <td>Richard Tepe</td>\n",
       "      <td>Tresling &amp; Comp.</td>\n",
       "      <td>Bernard te Gempt</td>\n",
       "      <td>anonymous</td>\n",
       "    </tr>\n",
       "    <tr>\n",
       "      <th>sub_title</th>\n",
       "      <td>h 66.5cm × w 53.7cm × t 2.5cm × d 4.7cm</td>\n",
       "      <td>h 165mm × w 223mm</td>\n",
       "      <td>h 87mm × w 56mm</td>\n",
       "      <td>h 179cm × w 248cm × t 4cm</td>\n",
       "      <td>h 13cm × w 17.5cm × d 0.7cm</td>\n",
       "    </tr>\n",
       "    <tr>\n",
       "      <th>copyright_holder</th>\n",
       "      <td>NaN</td>\n",
       "      <td>erven Richard Tepe</td>\n",
       "      <td>NaN</td>\n",
       "      <td>NaN</td>\n",
       "      <td>NaN</td>\n",
       "    </tr>\n",
       "    <tr>\n",
       "      <th>more_title</th>\n",
       "      <td>The Avenue of Birches</td>\n",
       "      <td>Struik in bloei</td>\n",
       "      <td>Portret van een vrouw</td>\n",
       "      <td>A St Bernard Dog</td>\n",
       "      <td>Woelige zee met zeilschepen</td>\n",
       "    </tr>\n",
       "    <tr>\n",
       "      <th>acquisition_method</th>\n",
       "      <td>purchase</td>\n",
       "      <td>purchase</td>\n",
       "      <td>gift</td>\n",
       "      <td>bequest</td>\n",
       "      <td>unknown</td>\n",
       "    </tr>\n",
       "    <tr>\n",
       "      <th>acquisition_date</th>\n",
       "      <td>1808-01-01T00:00:00</td>\n",
       "      <td>2000-01-01T00:00:00</td>\n",
       "      <td>2007-01-01T00:00:00</td>\n",
       "      <td>1881-01-01T00:00:00</td>\n",
       "      <td>1971-01-01T00:00:00</td>\n",
       "    </tr>\n",
       "    <tr>\n",
       "      <th>acquisition_credit_line</th>\n",
       "      <td>NaN</td>\n",
       "      <td>NaN</td>\n",
       "      <td>Gift of M.M. Boom, Leiden</td>\n",
       "      <td>J. Hilman Bequest, Amsterdam</td>\n",
       "      <td>NaN</td>\n",
       "    </tr>\n",
       "    <tr>\n",
       "      <th>dating_presenting_date</th>\n",
       "      <td>1660 - 1685</td>\n",
       "      <td>c. 1900 - c. 1930</td>\n",
       "      <td>1860 - 1880</td>\n",
       "      <td>c. 1850 - c. 1879</td>\n",
       "      <td>1825 - 1874</td>\n",
       "    </tr>\n",
       "    <tr>\n",
       "      <th>dating_sorting_date</th>\n",
       "      <td>1660.0</td>\n",
       "      <td>1900.0</td>\n",
       "      <td>1860.0</td>\n",
       "      <td>1850.0</td>\n",
       "      <td>1825.0</td>\n",
       "    </tr>\n",
       "    <tr>\n",
       "      <th>dating_period</th>\n",
       "      <td>17</td>\n",
       "      <td>19</td>\n",
       "      <td>19</td>\n",
       "      <td>19</td>\n",
       "      <td>19</td>\n",
       "    </tr>\n",
       "    <tr>\n",
       "      <th>dating_year_early</th>\n",
       "      <td>1660.0</td>\n",
       "      <td>1900.0</td>\n",
       "      <td>1860.0</td>\n",
       "      <td>1850.0</td>\n",
       "      <td>1825.0</td>\n",
       "    </tr>\n",
       "    <tr>\n",
       "      <th>dating_year_late</th>\n",
       "      <td>1685.0</td>\n",
       "      <td>1930.0</td>\n",
       "      <td>1880.0</td>\n",
       "      <td>1879.0</td>\n",
       "      <td>1874.0</td>\n",
       "    </tr>\n",
       "    <tr>\n",
       "      <th>likes</th>\n",
       "      <td>48</td>\n",
       "      <td>2</td>\n",
       "      <td>5</td>\n",
       "      <td>100</td>\n",
       "      <td>7</td>\n",
       "    </tr>\n",
       "  </tbody>\n",
       "</table>\n",
       "</div>"
      ],
      "text/plain": [
       "                                                                         0  \\\n",
       "object_id                                             0011d6be41612ec9eae3   \n",
       "art_series_id                                         93c092ba70beab248f31   \n",
       "title                                                The Avenue of Birches   \n",
       "description                                                            NaN   \n",
       "long_title                The Avenue of Birches, Jan Hackaert, 1660 - 1685   \n",
       "principal_maker                                               Jan Hackaert   \n",
       "principal_or_first_maker                                      Jan Hackaert   \n",
       "sub_title                          h 66.5cm × w 53.7cm × t 2.5cm × d 4.7cm   \n",
       "copyright_holder                                                       NaN   \n",
       "more_title                                           The Avenue of Birches   \n",
       "acquisition_method                                                purchase   \n",
       "acquisition_date                                       1808-01-01T00:00:00   \n",
       "acquisition_credit_line                                                NaN   \n",
       "dating_presenting_date                                         1660 - 1685   \n",
       "dating_sorting_date                                                 1660.0   \n",
       "dating_period                                                           17   \n",
       "dating_year_early                                                   1660.0   \n",
       "dating_year_late                                                    1685.0   \n",
       "likes                                                                   48   \n",
       "\n",
       "                                                                          1  \\\n",
       "object_id                                              0012765f7a97ccc3e9e9   \n",
       "art_series_id                                          95c14fb11c54281ad7e0   \n",
       "title                                                       Struik in bloei   \n",
       "description                                                             NaN   \n",
       "long_title                Struik in bloei, Richard Tepe (attributed to),...   \n",
       "principal_maker                                                Richard Tepe   \n",
       "principal_or_first_maker                                       Richard Tepe   \n",
       "sub_title                                                 h 165mm × w 223mm   \n",
       "copyright_holder                                         erven Richard Tepe   \n",
       "more_title                                                  Struik in bloei   \n",
       "acquisition_method                                                 purchase   \n",
       "acquisition_date                                        2000-01-01T00:00:00   \n",
       "acquisition_credit_line                                                 NaN   \n",
       "dating_presenting_date                                    c. 1900 - c. 1930   \n",
       "dating_sorting_date                                                  1900.0   \n",
       "dating_period                                                            19   \n",
       "dating_year_early                                                    1900.0   \n",
       "dating_year_late                                                     1930.0   \n",
       "likes                                                                     2   \n",
       "\n",
       "                                                                          2  \\\n",
       "object_id                                              0017be8caa87206532cb   \n",
       "art_series_id                                          4c406890d208fe01f8fb   \n",
       "title                                                 Portret van een vrouw   \n",
       "description                  Portret van eenvrouw, zittend naast een tafel.   \n",
       "long_title                Portret van een vrouw, Tresling & Comp., 1860 ...   \n",
       "principal_maker                                            Tresling & Comp.   \n",
       "principal_or_first_maker                                   Tresling & Comp.   \n",
       "sub_title                                                   h 87mm × w 56mm   \n",
       "copyright_holder                                                        NaN   \n",
       "more_title                                            Portret van een vrouw   \n",
       "acquisition_method                                                     gift   \n",
       "acquisition_date                                        2007-01-01T00:00:00   \n",
       "acquisition_credit_line                           Gift of M.M. Boom, Leiden   \n",
       "dating_presenting_date                                          1860 - 1880   \n",
       "dating_sorting_date                                                  1860.0   \n",
       "dating_period                                                            19   \n",
       "dating_year_early                                                    1860.0   \n",
       "dating_year_late                                                     1880.0   \n",
       "likes                                                                     5   \n",
       "\n",
       "                                                                          3  \\\n",
       "object_id                                              00181d86ff1a7b95864e   \n",
       "art_series_id                                          fa0891535500a4973db2   \n",
       "title                                                      A St Bernard Dog   \n",
       "description               Een sint-bernardshond, staand in een landschap...   \n",
       "long_title                A St Bernard Dog, Bernard te Gempt, c. 1850 - ...   \n",
       "principal_maker                                            Bernard te Gempt   \n",
       "principal_or_first_maker                                   Bernard te Gempt   \n",
       "sub_title                                         h 179cm × w 248cm × t 4cm   \n",
       "copyright_holder                                                        NaN   \n",
       "more_title                                                 A St Bernard Dog   \n",
       "acquisition_method                                                  bequest   \n",
       "acquisition_date                                        1881-01-01T00:00:00   \n",
       "acquisition_credit_line                        J. Hilman Bequest, Amsterdam   \n",
       "dating_presenting_date                                    c. 1850 - c. 1879   \n",
       "dating_sorting_date                                                  1850.0   \n",
       "dating_period                                                            19   \n",
       "dating_year_early                                                    1850.0   \n",
       "dating_year_late                                                     1879.0   \n",
       "likes                                                                   100   \n",
       "\n",
       "                                                                          4  \n",
       "object_id                                              001c52ae28ec106d9cd5  \n",
       "art_series_id                                          8065ed5063c5887e677d  \n",
       "title                                           Woelige zee met zeilschepen  \n",
       "description                                    Woelige zee met zeilschepen.  \n",
       "long_title                Woelige zee met zeilschepen, anonymous, 1825 -...  \n",
       "principal_maker                                                   anonymous  \n",
       "principal_or_first_maker                                          anonymous  \n",
       "sub_title                                       h 13cm × w 17.5cm × d 0.7cm  \n",
       "copyright_holder                                                        NaN  \n",
       "more_title                                      Woelige zee met zeilschepen  \n",
       "acquisition_method                                                  unknown  \n",
       "acquisition_date                                        1971-01-01T00:00:00  \n",
       "acquisition_credit_line                                                 NaN  \n",
       "dating_presenting_date                                          1825 - 1874  \n",
       "dating_sorting_date                                                  1825.0  \n",
       "dating_period                                                            19  \n",
       "dating_year_early                                                    1825.0  \n",
       "dating_year_late                                                     1874.0  \n",
       "likes                                                                     7  "
      ]
     },
     "execution_count": 6,
     "metadata": {},
     "output_type": "execute_result"
    }
   ],
   "source": [
    "train_df.head().T"
   ]
  },
  {
   "cell_type": "markdown",
   "id": "pediatric-aluminum",
   "metadata": {
    "id": "controlled-sunset"
   },
   "source": [
    "os.makedirs(output_dir() / \"profile\", exist_ok=True)\n",
    "\n",
    "report = ProfileReport(train_df)\n",
    "report.to_file(os.path.join(output_dir() / 'profile/train_report.html'))"
   ]
  },
  {
   "cell_type": "code",
   "execution_count": 7,
   "id": "demographic-dressing",
   "metadata": {},
   "outputs": [],
   "source": [
    "def read_csv(name:str)->pd.DataFrame():\n",
    "    output_df = pd.read_csv(os.path.join(input_dir() / f\"{name}.csv\"))\n",
    "    return output_df"
   ]
  },
  {
   "cell_type": "markdown",
   "id": "commercial-merchandise",
   "metadata": {
    "id": "third-psychology"
   },
   "source": [
    "## Feature Engineering"
   ]
  },
  {
   "cell_type": "markdown",
   "id": "dated-director",
   "metadata": {
    "id": "oriented-cisco"
   },
   "source": [
    "### Get Train Feature Data"
   ]
  },
  {
   "cell_type": "code",
   "execution_count": 79,
   "id": "respiratory-safety",
   "metadata": {
    "executionInfo": {
     "elapsed": 611,
     "status": "ok",
     "timestamp": 1615115619369,
     "user": {
      "displayName": "김준형",
      "photoUrl": "https://lh3.googleusercontent.com/a-/AOh14GjoucIizMtFKPEd5GLr281FF-qhH43HTCNZtxOuTzA=s64",
      "userId": "17669351473013187910"
     },
     "user_tz": -540
    },
    "id": "remarkable-fortune"
   },
   "outputs": [],
   "source": [
    "fold = GroupKFold(n_splits=5)\n",
    "cv = list(fold.split(train_df, groups=train_df['art_series_id']))"
   ]
  },
  {
   "cell_type": "code",
   "execution_count": 80,
   "id": "alpha-champagne",
   "metadata": {},
   "outputs": [],
   "source": [
    "df_name = ['palette', 'material', 'historical_person', 'object_collection', \n",
    "           'production_place', 'technique', 'maker', 'principal_maker']"
   ]
  },
  {
   "cell_type": "code",
   "execution_count": 86,
   "id": "hearing-participant",
   "metadata": {
    "executionInfo": {
     "elapsed": 584,
     "status": "ok",
     "timestamp": 1615115374950,
     "user": {
      "displayName": "김준형",
      "photoUrl": "https://lh3.googleusercontent.com/a-/AOh14GjoucIizMtFKPEd5GLr281FF-qhH43HTCNZtxOuTzA=s64",
      "userId": "17669351473013187910"
     },
     "user_tz": -540
    },
    "id": "handmade-gilbert"
   },
   "outputs": [],
   "source": [
    "process_blocks = [\n",
    "    NumericBlock(),\n",
    "    \n",
    "    *[One2ManyBlock(name) for name in\n",
    "      ['material', 'technique', 'production_place', 'historical_person', 'object_collection']],\n",
    "    \n",
    "    *[RelationCountBlock(name) for name in\n",
    "          ['material',\n",
    "           'technique',\n",
    "           'production_place',\n",
    "           'historical_person',\n",
    "           'color',\n",
    "           'principal_maker']\n",
    "          ],\n",
    "    \n",
    "    *[stringLengthBlock(col) for col in ['title', 'long_title', 'sub_title', 'more_title', 'description']],\n",
    "    \n",
    "    *[AggregationBlock(table_name) for table_name in ['material', 'historical_person']],\n",
    "    \n",
    "    *[CountEncoding(col, whole_df) for col in ['acquisition_method', 'title', 'dating_period',\n",
    "                                               'principal_maker', 'copyright_holder']],\n",
    "    \n",
    "    *[TargetEncoding(col, 'likes', cv) for col in ['title', 'long_title', 'dating_period', 'acquisition_method', 'acquisition_date']],\n",
    "    \n",
    "    *[Word2vecBlock(whole_df, col) for col in ['title', 'more_title', 'sub_title', 'long_title', 'description']],\n",
    "    *[TfidfBlock(col) for col in ['title', 'more_title', 'sub_title','long_title', 'description']],\n",
    "    \n",
    "    SizeExtractionBlock(whole_df),\n",
    "    OneHotEncoding(col='acquisition_method', threshold=100),\n",
    "    OneHotEncoding(col='principal_maker', threshold=200)\n",
    "]"
   ]
  },
  {
   "cell_type": "code",
   "execution_count": 87,
   "id": "aggressive-broadcast",
   "metadata": {
    "colab": {
     "base_uri": "https://localhost:8080/"
    },
    "executionInfo": {
     "elapsed": 690,
     "status": "ok",
     "timestamp": 1615115376281,
     "user": {
      "displayName": "김준형",
      "photoUrl": "https://lh3.googleusercontent.com/a-/AOh14GjoucIizMtFKPEd5GLr281FF-qhH43HTCNZtxOuTzA=s64",
      "userId": "17669351473013187910"
     },
     "user_tz": -540
    },
    "id": "chief-republic",
    "outputId": "0f7d887e-617f-45c4-f0e3-d6731469bbf7"
   },
   "outputs": [
    {
     "data": {
      "application/vnd.jupyter.widget-view+json": {
       "model_id": "cbfc103c1d7e436b84bb93f389bf2e4f",
       "version_major": 2,
       "version_minor": 0
      },
      "text/plain": [
       "  0%|          | 0/42 [00:00<?, ?it/s]"
      ]
     },
     "metadata": {},
     "output_type": "display_data"
    },
    {
     "name": "stdout",
     "output_type": "stream",
     "text": [
      "create NumericBlock fit 0.001[s]\n",
      "create One2ManyBlock fit 0.295[s]\n",
      "create One2ManyBlock fit 0.185[s]\n",
      "create One2ManyBlock fit 0.214[s]\n",
      "create One2ManyBlock fit 0.041[s]\n",
      "create One2ManyBlock fit 0.116[s]\n",
      "create RelationCountBlock fit 0.040[s]\n",
      "create RelationCountBlock fit 0.027[s]\n",
      "create RelationCountBlock fit 0.026[s]\n",
      "create RelationCountBlock fit 0.021[s]\n",
      "create RelationCountBlock fit 0.062[s]\n",
      "create RelationCountBlock fit 0.048[s]\n",
      "create stringLengthBlock fit 0.004[s]\n",
      "create stringLengthBlock fit 0.003[s]\n",
      "create stringLengthBlock fit 0.004[s]\n",
      "create stringLengthBlock fit 0.005[s]\n",
      "create stringLengthBlock fit 0.005[s]\n",
      "create AggregationBlock fit 0.044[s]\n",
      "create AggregationBlock fit 0.019[s]\n",
      "create CountEncoding fit 0.003[s]\n",
      "create CountEncoding fit 0.012[s]\n",
      "create CountEncoding fit 0.002[s]\n",
      "create CountEncoding fit 0.004[s]\n",
      "create CountEncoding fit 0.004[s]\n",
      "create TargetEncoding fit 0.086[s]\n",
      "create TargetEncoding fit 0.099[s]\n",
      "create TargetEncoding fit 0.029[s]\n",
      "create TargetEncoding fit 0.032[s]\n",
      "create TargetEncoding fit 0.043[s]\n",
      "create Word2vecBlock fit 89.383[s]\n",
      "create Word2vecBlock fit 138.296[s]\n",
      "create Word2vecBlock fit 32.285[s]\n",
      "create Word2vecBlock fit 167.180[s]\n",
      "create Word2vecBlock fit 249.326[s]\n",
      "create TfidfBlock fit 2.201[s]\n",
      "create TfidfBlock fit 2.762[s]\n",
      "create TfidfBlock fit 1.516[s]\n",
      "create TfidfBlock fit 2.912[s]\n",
      "create TfidfBlock fit 5.052[s]\n",
      "create SizeExtractionBlock fit 196.828[s]\n",
      "create OneHotEncoding fit 0.006[s]\n",
      "create OneHotEncoding fit 0.004[s]\n"
     ]
    },
    {
     "data": {
      "application/vnd.jupyter.widget-view+json": {
       "model_id": "8da17bb832e34291818380a41875ae15",
       "version_major": 2,
       "version_minor": 0
      },
      "text/plain": [
       "  0%|          | 0/42 [00:00<?, ?it/s]"
      ]
     },
     "metadata": {},
     "output_type": "display_data"
    },
    {
     "name": "stdout",
     "output_type": "stream",
     "text": [
      "create NumericBlock transform 0.002[s]\n",
      "create One2ManyBlock transform 0.025[s]\n",
      "create One2ManyBlock transform 0.018[s]\n",
      "create One2ManyBlock transform 0.038[s]\n",
      "create One2ManyBlock transform 0.018[s]\n",
      "create One2ManyBlock transform 0.010[s]\n",
      "create RelationCountBlock transform 0.012[s]\n",
      "create RelationCountBlock transform 0.013[s]\n",
      "create RelationCountBlock transform 0.010[s]\n",
      "create RelationCountBlock transform 0.016[s]\n",
      "create RelationCountBlock transform 0.016[s]\n",
      "create RelationCountBlock transform 0.010[s]\n",
      "create stringLengthBlock transform 0.006[s]\n",
      "create stringLengthBlock transform 0.004[s]\n",
      "create stringLengthBlock transform 0.007[s]\n",
      "create stringLengthBlock transform 0.009[s]\n",
      "create stringLengthBlock transform 0.009[s]\n",
      "create AggregationBlock transform 0.009[s]\n",
      "create AggregationBlock transform 0.007[s]\n",
      "create CountEncoding transform 0.005[s]\n",
      "create CountEncoding transform 0.016[s]\n",
      "create CountEncoding transform 0.004[s]\n",
      "create CountEncoding transform 0.006[s]\n",
      "create CountEncoding transform 0.004[s]\n",
      "create TargetEncoding transform 0.008[s]\n",
      "create TargetEncoding transform 0.011[s]\n",
      "create TargetEncoding transform 0.003[s]\n",
      "create TargetEncoding transform 0.005[s]\n",
      "create TargetEncoding transform 0.005[s]\n",
      "create Word2vecBlock transform 1.243[s]\n",
      "create Word2vecBlock transform 1.722[s]\n",
      "create Word2vecBlock transform 0.753[s]\n",
      "create Word2vecBlock transform 1.826[s]\n",
      "create Word2vecBlock transform 3.461[s]\n",
      "create TfidfBlock transform 0.780[s]\n",
      "create TfidfBlock transform 1.152[s]\n",
      "create TfidfBlock transform 0.668[s]\n",
      "create TfidfBlock transform 1.099[s]\n",
      "create TfidfBlock transform 1.985[s]\n",
      "create SizeExtractionBlock transform 0.016[s]\n",
      "create OneHotEncoding transform 0.002[s]\n",
      "create OneHotEncoding transform 0.003[s]\n"
     ]
    }
   ],
   "source": [
    "train_feat_df = to_features(train_df, process_blocks, is_train=True)\n",
    "test_feat_df = to_features(test_df, process_blocks)"
   ]
  },
  {
   "cell_type": "markdown",
   "id": "radical-coordinate",
   "metadata": {
    "id": "manufactured-amino"
   },
   "source": [
    "os.makedirs(output_dir() / \"profile\", exist_ok=True)\n",
    "\n",
    "feature_report = ProfileReport(train_feat_df)\n",
    "feature_report.to_file(os.path.join(output_dir() / 'profile/train_feat_report.html'))"
   ]
  },
  {
   "cell_type": "markdown",
   "id": "sharing-allergy",
   "metadata": {
    "id": "english-replacement"
   },
   "source": [
    "## Train Model"
   ]
  },
  {
   "cell_type": "markdown",
   "id": "finnish-confidence",
   "metadata": {
    "id": "respective-boulder"
   },
   "source": [
    "### LGBM"
   ]
  },
  {
   "cell_type": "code",
   "execution_count": 89,
   "id": "amateur-holiday",
   "metadata": {
    "executionInfo": {
     "elapsed": 429,
     "status": "ok",
     "timestamp": 1615115618632,
     "user": {
      "displayName": "김준형",
      "photoUrl": "https://lh3.googleusercontent.com/a-/AOh14GjoucIizMtFKPEd5GLr281FF-qhH43HTCNZtxOuTzA=s64",
      "userId": "17669351473013187910"
     },
     "user_tz": -540
    },
    "id": "turned-writer"
   },
   "outputs": [],
   "source": [
    "SEED = 3655\n",
    "\n",
    "LGBM_PARAMS = {\n",
    "    # 目的関数. これの意味で最小となるようなパラメータを探します. \n",
    "    'objective': 'regression', \n",
    "    'metric':'rmse',\n",
    "\n",
    "     # 学習率. 小さいほどなめらかな決定境界が作られて性能向上に繋がる場合が多いです、\n",
    "    # がそれだけ木を作るため学習に時間がかかります\n",
    "    'learning_rate': .05,\n",
    "\n",
    "    # L2 Reguralization\n",
    "    'reg_lambda': .001,\n",
    "    # こちらは L1 \n",
    "    'reg_alpha': .001,\n",
    "\n",
    "    # 木の深さ. 深い木を許容するほどより複雑な交互作用を考慮するようになります\n",
    "    'max_depth': 8, \n",
    "    'num_leaves': 180,\n",
    "\n",
    "    # 木の最大数. early_stopping という枠組みで木の数は制御されるようにしていますのでとても大きい値を指定しておきます.\n",
    "    'n_estimators': 50_000, \n",
    "\n",
    "    # 木を作る際に考慮する特徴量の割合. 1以下を指定すると特徴をランダムに欠落させます。小さくすることで, まんべんなく特徴を使うという効果があります.\n",
    "    'colsample_bytree': .5, \n",
    "\n",
    "    # 最小分割でのデータ数. 小さいとより細かい粒度の分割方法を許容します.\n",
    "    'min_child_samples': 5,\n",
    "    'min_child_weight':18,\n",
    "\n",
    "    # bagging の頻度と割合\n",
    "    'subsample_freq': 3,\n",
    "    'subsample': .9,\n",
    "\n",
    "    # 特徴重要度計算のロジック(後述)\n",
    "    'importance_type': 'gain', \n",
    "    'random_state': SEED\n",
    "}\n",
    "\n",
    "LGBM_FIT_PARAMS = {\n",
    "    'eval_metric': 'rmse',\n",
    "    'early_stopping_rounds': 500,\n",
    "    'verbose': 500,\n",
    "}"
   ]
  },
  {
   "cell_type": "code",
   "execution_count": 90,
   "id": "legislative-victoria",
   "metadata": {
    "colab": {
     "base_uri": "https://localhost:8080/"
    },
    "executionInfo": {
     "elapsed": 172084,
     "status": "ok",
     "timestamp": 1615115793911,
     "user": {
      "displayName": "김준형",
      "photoUrl": "https://lh3.googleusercontent.com/a-/AOh14GjoucIizMtFKPEd5GLr281FF-qhH43HTCNZtxOuTzA=s64",
      "userId": "17669351473013187910"
     },
     "user_tz": -540
    },
    "id": "amateur-pharmacy",
    "outputId": "11c3870b-72a8-4374-b4d4-d9aa3d169f58",
    "tags": []
   },
   "outputs": [
    {
     "name": "stdout",
     "output_type": "stream",
     "text": [
      "Training until validation scores don't improve for 500 rounds\n",
      "[500]\ttraining's rmse: 0.173231\tvalid_1's rmse: 0.995007\n",
      "[1000]\ttraining's rmse: 0.0972212\tvalid_1's rmse: 0.996006\n",
      "Early stopping, best iteration is:\n",
      "[586]\ttraining's rmse: 0.147973\tvalid_1's rmse: 0.994539\n",
      "fit fold=1\t46.300[s]\n",
      "\n",
      "fold 1 RMSLE: 0.99\n",
      "========================================\n",
      "\n",
      "Training until validation scores don't improve for 500 rounds\n",
      "[500]\ttraining's rmse: 0.170332\tvalid_1's rmse: 1.02851\n",
      "Early stopping, best iteration is:\n",
      "[428]\ttraining's rmse: 0.198864\tvalid_1's rmse: 1.02784\n",
      "fit fold=2\t40.030[s]\n",
      "\n",
      "fold 2 RMSLE: 1.03\n",
      "========================================\n",
      "\n",
      "Training until validation scores don't improve for 500 rounds\n",
      "[500]\ttraining's rmse: 0.173527\tvalid_1's rmse: 1.02657\n",
      "Early stopping, best iteration is:\n",
      "[346]\ttraining's rmse: 0.262136\tvalid_1's rmse: 1.02553\n",
      "fit fold=3\t38.952[s]\n",
      "\n",
      "fold 3 RMSLE: 1.03\n",
      "========================================\n",
      "\n",
      "Training until validation scores don't improve for 500 rounds\n",
      "[500]\ttraining's rmse: 0.171945\tvalid_1's rmse: 1.01606\n",
      "[1000]\ttraining's rmse: 0.0991698\tvalid_1's rmse: 1.01606\n",
      "Early stopping, best iteration is:\n",
      "[557]\ttraining's rmse: 0.15283\tvalid_1's rmse: 1.0156\n",
      "fit fold=4\t41.567[s]\n",
      "\n",
      "fold 4 RMSLE: 1.02\n",
      "========================================\n",
      "\n",
      "Training until validation scores don't improve for 500 rounds\n",
      "[500]\ttraining's rmse: 0.16278\tvalid_1's rmse: 1.0792\n",
      "Early stopping, best iteration is:\n",
      "[312]\ttraining's rmse: 0.27505\tvalid_1's rmse: 1.07787\n",
      "fit fold=5\t35.886[s]\n",
      "\n",
      "fold 5 RMSLE: 1.08\n",
      "========================================\n",
      "\n",
      "FINISHED \\ whole score: 1.03\n",
      "\n",
      "========================================\n",
      "\n"
     ]
    }
   ],
   "source": [
    "y = train_df['likes'].values\n",
    "\n",
    "models, oof_pred = fit_lgbm(X=train_feat_df.values, \n",
    "                            y=y,\n",
    "                            cv=cv, \n",
    "                            params=LGBM_PARAMS, \n",
    "                            fit_params=LGBM_FIT_PARAMS)"
   ]
  },
  {
   "cell_type": "markdown",
   "id": "vertical-hypothesis",
   "metadata": {
    "id": "ambient-tulsa",
    "tags": []
   },
   "source": [
    "## Feature Importance"
   ]
  },
  {
   "cell_type": "code",
   "execution_count": 91,
   "id": "forbidden-possession",
   "metadata": {
    "colab": {
     "base_uri": "https://localhost:8080/",
     "height": 478
    },
    "executionInfo": {
     "elapsed": 1155,
     "status": "ok",
     "timestamp": 1615115802670,
     "user": {
      "displayName": "김준형",
      "photoUrl": "https://lh3.googleusercontent.com/a-/AOh14GjoucIizMtFKPEd5GLr281FF-qhH43HTCNZtxOuTzA=s64",
      "userId": "17669351473013187910"
     },
     "user_tz": -540
    },
    "id": "neural-africa",
    "outputId": "f4f77f4a-ce71-4eff-d753-e378b628cb77"
   },
   "outputs": [
    {
     "data": {
      "text/plain": [
       "(<Figure size 576x900 with 1 Axes>,\n",
       " <AxesSubplot:xlabel='feature_importance', ylabel='column'>)"
      ]
     },
     "execution_count": 91,
     "metadata": {},
     "output_type": "execute_result"
    },
    {
     "data": {
      "image/png": "[encoded data removed]",
      "text/plain": [
       "<Figure size 576x900 with 1 Axes>"
      ]
     },
     "metadata": {
      "needs_background": "light"
     },
     "output_type": "display_data"
    }
   ],
   "source": [
    "visualize_importance(models, train_feat_df)"
   ]
  },
  {
   "cell_type": "markdown",
   "id": "weekly-france",
   "metadata": {
    "id": "thirty-packing"
   },
   "source": [
    "## Inference"
   ]
  },
  {
   "cell_type": "code",
   "execution_count": 92,
   "id": "headed-indiana",
   "metadata": {
    "executionInfo": {
     "elapsed": 426,
     "status": "ok",
     "timestamp": 1615115807266,
     "user": {
      "displayName": "김준형",
      "photoUrl": "https://lh3.googleusercontent.com/a-/AOh14GjoucIizMtFKPEd5GLr281FF-qhH43HTCNZtxOuTzA=s64",
      "userId": "17669351473013187910"
     },
     "user_tz": -540
    },
    "id": "rough-investment"
   },
   "outputs": [],
   "source": [
    "def revert_to_real(y_log):\n",
    "    _pred = np.expm1(y_log)\n",
    "    _pred = np.where(_pred < 0, 0, _pred)\n",
    "    return _pred"
   ]
  },
  {
   "cell_type": "code",
   "execution_count": 93,
   "id": "infectious-father",
   "metadata": {
    "executionInfo": {
     "elapsed": 33680,
     "status": "ok",
     "timestamp": 1615115843611,
     "user": {
      "displayName": "김준형",
      "photoUrl": "https://lh3.googleusercontent.com/a-/AOh14GjoucIizMtFKPEd5GLr281FF-qhH43HTCNZtxOuTzA=s64",
      "userId": "17669351473013187910"
     },
     "user_tz": -540
    },
    "id": "enormous-failure"
   },
   "outputs": [],
   "source": [
    "os.makedirs(output_dir() / 'csv', exist_ok=True)\n",
    "\n",
    "pred = np.array([model.predict(test_feat_df.values) for model in models])\n",
    "pred = np.mean(pred, axis=0)\n",
    "pred = revert_to_real(pred)"
   ]
  },
  {
   "cell_type": "code",
   "execution_count": 94,
   "id": "duplicate-dinner",
   "metadata": {
    "colab": {
     "base_uri": "https://localhost:8080/",
     "height": 483
    },
    "executionInfo": {
     "elapsed": 1375,
     "status": "ok",
     "timestamp": 1615115844997,
     "user": {
      "displayName": "김준형",
      "photoUrl": "https://lh3.googleusercontent.com/a-/AOh14GjoucIizMtFKPEd5GLr281FF-qhH43HTCNZtxOuTzA=s64",
      "userId": "17669351473013187910"
     },
     "user_tz": -540
    },
    "id": "intended-franklin",
    "outputId": "33e8460b-92fc-4f92-adb9-0f2d141b284c"
   },
   "outputs": [
    {
     "data": {
      "image/png": "[encoded data removed]",
      "text/plain": [
       "<Figure size 576x576 with 1 Axes>"
      ]
     },
     "metadata": {
      "needs_background": "light"
     },
     "output_type": "display_data"
    }
   ],
   "source": [
    "fig, ax = plt.subplots(figsize=(8, 8))\n",
    "sns.histplot(np.log1p(pred), label='Test Predict', ax=ax, color='black')\n",
    "sns.histplot(np.log1p(oof_pred), label='Out Of Fold', ax=ax, color='C1')\n",
    "ax.legend()\n",
    "ax.grid()"
   ]
  },
  {
   "cell_type": "code",
   "execution_count": 95,
   "id": "focused-flour",
   "metadata": {
    "executionInfo": {
     "elapsed": 623,
     "status": "ok",
     "timestamp": 1615115852047,
     "user": {
      "displayName": "김준형",
      "photoUrl": "https://lh3.googleusercontent.com/a-/AOh14GjoucIizMtFKPEd5GLr281FF-qhH43HTCNZtxOuTzA=s64",
      "userId": "17669351473013187910"
     },
     "user_tz": -540
    },
    "id": "arabic-chuck"
   },
   "outputs": [],
   "source": [
    "numbering = '0023'\n",
    "\n",
    "sub_df = pd.DataFrame({ 'likes': pred })\n",
    "\n",
    "assert len(sub_df) == 12_008\n",
    "\n",
    "sub_df.to_csv(os.path.join(output_dir() / f'csv/{numbering}__submission.csv'), index=False)"
   ]
  },
  {
   "cell_type": "code",
   "execution_count": null,
   "id": "elementary-dressing",
   "metadata": {
    "id": "p3NteqqVbk_f"
   },
   "outputs": [],
   "source": []
  },
  {
   "cell_type": "code",
   "execution_count": 143,
   "id": "precise-amsterdam",
   "metadata": {},
   "outputs": [
    {
     "name": "stdout",
     "output_type": "stream",
     "text": [
      "[[1.00757766]] [-0.02350405]\n"
     ]
    }
   ],
   "source": [
    "from sklearn.linear_model import Ridge\n",
    "\n",
    "ridge = Ridge()\n",
    "\n",
    "ridge.fit(np.log1p(oof_pred.reshape(-1, 1)), np.log1p(y.reshape(-1, 1)))\n",
    "\n",
    "print(ridge.coef_, ridge.intercept_)"
   ]
  },
  {
   "cell_type": "code",
   "execution_count": 144,
   "id": "following-egypt",
   "metadata": {},
   "outputs": [],
   "source": [
    "pred_2 = ridge.predict(np.log1p(pred.reshape(-1, 1))).ravel()\n",
    "pred_2 = revert_to_real(pred_2)"
   ]
  },
  {
   "cell_type": "code",
   "execution_count": 145,
   "id": "placed-anime",
   "metadata": {
    "colab": {
     "base_uri": "https://localhost:8080/",
     "height": 483
    },
    "executionInfo": {
     "elapsed": 1375,
     "status": "ok",
     "timestamp": 1615115844997,
     "user": {
      "displayName": "김준형",
      "photoUrl": "https://lh3.googleusercontent.com/a-/AOh14GjoucIizMtFKPEd5GLr281FF-qhH43HTCNZtxOuTzA=s64",
      "userId": "17669351473013187910"
     },
     "user_tz": -540
    },
    "id": "intended-franklin",
    "outputId": "33e8460b-92fc-4f92-adb9-0f2d141b284c"
   },
   "outputs": [
    {
     "data": {
      "image/png": "[encoded data removed]",
      "text/plain": [
       "<Figure size 576x576 with 1 Axes>"
      ]
     },
     "metadata": {
      "needs_background": "light"
     },
     "output_type": "display_data"
    }
   ],
   "source": [
    "fig, ax = plt.subplots(figsize=(8, 8))\n",
    "sns.histplot(np.log1p(pred), label='Test Predict', ax=ax, color='black')\n",
    "sns.histplot(np.log1p(pred_2), label='Test Predict_2', ax=ax, color='gray')\n",
    "\n",
    "sns.histplot(np.log1p(oof_pred), label='Out Of Fold', ax=ax, color='C1')\n",
    "ax.legend()\n",
    "ax.grid()"
   ]
  },
  {
   "cell_type": "code",
   "execution_count": 146,
   "id": "royal-accounting",
   "metadata": {
    "executionInfo": {
     "elapsed": 623,
     "status": "ok",
     "timestamp": 1615115852047,
     "user": {
      "displayName": "김준형",
      "photoUrl": "https://lh3.googleusercontent.com/a-/AOh14GjoucIizMtFKPEd5GLr281FF-qhH43HTCNZtxOuTzA=s64",
      "userId": "17669351473013187910"
     },
     "user_tz": -540
    },
    "id": "arabic-chuck"
   },
   "outputs": [],
   "source": [
    "numbering = '0024'\n",
    "\n",
    "sub_df = pd.DataFrame({ 'likes': pred_2 })\n",
    "\n",
    "assert len(sub_df) == 12_008\n",
    "\n",
    "sub_df.to_csv(os.path.join(output_dir() / f'csv/{numbering}__submission.csv'), index=False)"
   ]
  },
  {
   "cell_type": "code",
   "execution_count": null,
   "id": "sharp-running",
   "metadata": {},
   "outputs": [],
   "source": []
  }
 ],
 "metadata": {
  "colab": {
   "collapsed_sections": [],
   "name": "atmaCup10_challenger.ipynb",
   "provenance": []
  },
  "kernelspec": {
   "display_name": "Python 3",
   "language": "python",
   "name": "python3"
  },
  "language_info": {
   "codemirror_mode": {
    "name": "ipython",
    "version": 3
   },
   "file_extension": ".py",
   "mimetype": "text/x-python",
   "name": "python",
   "nbconvert_exporter": "python",
   "pygments_lexer": "ipython3",
   "version": "3.9.1"
  }
 },
 "nbformat": 4,
 "nbformat_minor": 5
}
