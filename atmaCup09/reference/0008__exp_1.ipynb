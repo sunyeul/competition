{
 "cells": [
  {
   "cell_type": "code",
   "execution_count": 1,
   "metadata": {
    "scrolled": true
   },
   "outputs": [
    {
     "name": "stdout",
     "output_type": "stream",
     "text": [
      "Requirement already satisfied: seaborn in /home/penguin/.conda/lib/python3.7/site-packages (0.11.1)\n",
      "Requirement already satisfied: ipyparams in /home/penguin/.conda/lib/python3.7/site-packages (0.2.1)\n",
      "Requirement already satisfied: matplotlib_venn in /home/penguin/.conda/lib/python3.7/site-packages (0.11.6)\n",
      "Requirement already satisfied: jedi==0.17.2 in /home/penguin/.conda/lib/python3.7/site-packages (0.17.2)\n",
      "Requirement already satisfied: parso<0.8.0,>=0.7.0 in /home/penguin/.conda/lib/python3.7/site-packages (from jedi==0.17.2) (0.7.0)\n",
      "Requirement already satisfied: matplotlib in /home/penguin/.conda/lib/python3.7/site-packages (from matplotlib_venn) (3.2.2)\n",
      "Requirement already satisfied: scipy in /home/penguin/.conda/lib/python3.7/site-packages (from matplotlib_venn) (1.5.0)\n",
      "Requirement already satisfied: numpy in /home/penguin/.conda/lib/python3.7/site-packages (from matplotlib_venn) (1.18.5)\n",
      "Requirement already satisfied: pandas>=0.23 in /home/penguin/.conda/lib/python3.7/site-packages (from seaborn) (1.0.5)\n",
      "Requirement already satisfied: python-dateutil>=2.1 in /home/penguin/.conda/lib/python3.7/site-packages (from matplotlib->matplotlib_venn) (2.8.1)\n",
      "Requirement already satisfied: pyparsing!=2.0.4,!=2.1.2,!=2.1.6,>=2.0.1 in /home/penguin/.conda/lib/python3.7/site-packages (from matplotlib->matplotlib_venn) (2.4.7)\n",
      "Requirement already satisfied: kiwisolver>=1.0.1 in /home/penguin/.conda/lib/python3.7/site-packages (from matplotlib->matplotlib_venn) (1.2.0)\n",
      "Requirement already satisfied: cycler>=0.10 in /home/penguin/.conda/lib/python3.7/site-packages (from matplotlib->matplotlib_venn) (0.10.0)\n",
      "Requirement already satisfied: six in /home/penguin/.conda/lib/python3.7/site-packages (from cycler>=0.10->matplotlib->matplotlib_venn) (1.15.0)\n",
      "Requirement already satisfied: pytz>=2017.2 in /home/penguin/.conda/lib/python3.7/site-packages (from pandas>=0.23->seaborn) (2020.1)\n",
      "\u001b[33mWARNING: You are using pip version 20.3.3; however, version 21.0.1 is available.\n",
      "You should consider upgrading via the '/home/penguin/.conda/bin/python -m pip install --upgrade pip' command.\u001b[0m\n"
     ]
    }
   ],
   "source": [
    "!pip install -U seaborn ipyparams matplotlib_venn jedi==0.17.2"
   ]
  },
  {
   "cell_type": "code",
   "execution_count": 2,
   "metadata": {
    "scrolled": true
   },
   "outputs": [
    {
     "name": "stdout",
     "output_type": "stream",
     "text": [
      "Requirement already satisfied: python-vivid in /home/penguin/.conda/lib/python3.7/site-packages (0.3.3.3)\n",
      "Requirement already satisfied: matplotlib in /home/penguin/.conda/lib/python3.7/site-packages (from python-vivid) (3.2.2)\n",
      "Requirement already satisfied: xgboost in /home/penguin/.conda/lib/python3.7/site-packages (from python-vivid) (1.1.1)\n",
      "Requirement already satisfied: seaborn in /home/penguin/.conda/lib/python3.7/site-packages (from python-vivid) (0.11.1)\n",
      "Requirement already satisfied: scikit-learn in /home/penguin/.conda/lib/python3.7/site-packages (from python-vivid) (0.23.1)\n",
      "Requirement already satisfied: tabulate in /home/penguin/.conda/lib/python3.7/site-packages (from python-vivid) (0.8.7)\n",
      "Requirement already satisfied: feather-format in /home/penguin/.conda/lib/python3.7/site-packages (from python-vivid) (0.4.1)\n",
      "Requirement already satisfied: pandas in /home/penguin/.conda/lib/python3.7/site-packages (from python-vivid) (1.0.5)\n",
      "Requirement already satisfied: numpy in /home/penguin/.conda/lib/python3.7/site-packages (from python-vivid) (1.18.5)\n",
      "Requirement already satisfied: lightgbm in /home/penguin/.conda/lib/python3.7/site-packages (from python-vivid) (2.3.0)\n",
      "Requirement already satisfied: tqdm in /home/penguin/.conda/lib/python3.7/site-packages (from python-vivid) (4.47.0)\n",
      "Requirement already satisfied: joblib in /home/penguin/.conda/lib/python3.7/site-packages (from python-vivid) (0.16.0)\n",
      "Requirement already satisfied: networkx in /home/penguin/.conda/lib/python3.7/site-packages (from python-vivid) (2.4)\n",
      "Requirement already satisfied: optuna in /home/penguin/.conda/lib/python3.7/site-packages (from python-vivid) (1.5.0)\n",
      "Requirement already satisfied: scipy in /home/penguin/.conda/lib/python3.7/site-packages (from python-vivid) (1.5.0)\n",
      "Requirement already satisfied: pyarrow>=0.4.0 in /home/penguin/.conda/lib/python3.7/site-packages (from feather-format->python-vivid) (2.0.0)\n",
      "Requirement already satisfied: pyparsing!=2.0.4,!=2.1.2,!=2.1.6,>=2.0.1 in /home/penguin/.conda/lib/python3.7/site-packages (from matplotlib->python-vivid) (2.4.7)\n",
      "Requirement already satisfied: python-dateutil>=2.1 in /home/penguin/.conda/lib/python3.7/site-packages (from matplotlib->python-vivid) (2.8.1)\n",
      "Requirement already satisfied: kiwisolver>=1.0.1 in /home/penguin/.conda/lib/python3.7/site-packages (from matplotlib->python-vivid) (1.2.0)\n",
      "Requirement already satisfied: cycler>=0.10 in /home/penguin/.conda/lib/python3.7/site-packages (from matplotlib->python-vivid) (0.10.0)\n",
      "Requirement already satisfied: six in /home/penguin/.conda/lib/python3.7/site-packages (from cycler>=0.10->matplotlib->python-vivid) (1.15.0)\n",
      "Requirement already satisfied: decorator>=4.3.0 in /home/penguin/.conda/lib/python3.7/site-packages (from networkx->python-vivid) (4.4.2)\n",
      "Requirement already satisfied: colorlog in /home/penguin/.conda/lib/python3.7/site-packages (from optuna->python-vivid) (4.1.0)\n",
      "Requirement already satisfied: alembic in /home/penguin/.conda/lib/python3.7/site-packages (from optuna->python-vivid) (1.4.2)\n",
      "Requirement already satisfied: cmaes>=0.5.0 in /home/penguin/.conda/lib/python3.7/site-packages (from optuna->python-vivid) (0.5.1)\n",
      "Requirement already satisfied: sqlalchemy>=1.1.0 in /home/penguin/.conda/lib/python3.7/site-packages (from optuna->python-vivid) (1.3.18)\n",
      "Requirement already satisfied: cliff in /home/penguin/.conda/lib/python3.7/site-packages (from optuna->python-vivid) (3.3.0)\n",
      "Requirement already satisfied: python-editor>=0.3 in /home/penguin/.conda/lib/python3.7/site-packages (from alembic->optuna->python-vivid) (1.0.4)\n",
      "Requirement already satisfied: Mako in /home/penguin/.conda/lib/python3.7/site-packages (from alembic->optuna->python-vivid) (1.1.3)\n",
      "Requirement already satisfied: PrettyTable<0.8,>=0.7.2 in /home/penguin/.conda/lib/python3.7/site-packages (from cliff->optuna->python-vivid) (0.7.2)\n",
      "Requirement already satisfied: cmd2!=0.8.3,>=0.8.0 in /home/penguin/.conda/lib/python3.7/site-packages (from cliff->optuna->python-vivid) (1.1.0)\n",
      "Requirement already satisfied: stevedore>=1.20.0 in /home/penguin/.conda/lib/python3.7/site-packages (from cliff->optuna->python-vivid) (3.0.0)\n",
      "Requirement already satisfied: pbr!=2.1.0,>=2.0.0 in /home/penguin/.conda/lib/python3.7/site-packages (from cliff->optuna->python-vivid) (5.4.5)\n",
      "Requirement already satisfied: PyYAML>=3.12 in /home/penguin/.conda/lib/python3.7/site-packages (from cliff->optuna->python-vivid) (5.1.2)\n",
      "Requirement already satisfied: colorama>=0.3.7 in /home/penguin/.conda/lib/python3.7/site-packages (from cmd2!=0.8.3,>=0.8.0->cliff->optuna->python-vivid) (0.4.3)\n",
      "Requirement already satisfied: setuptools>=34.4 in /home/penguin/.conda/lib/python3.7/site-packages (from cmd2!=0.8.3,>=0.8.0->cliff->optuna->python-vivid) (49.1.0.post20200710)\n",
      "Requirement already satisfied: wcwidth>=0.1.7 in /home/penguin/.conda/lib/python3.7/site-packages (from cmd2!=0.8.3,>=0.8.0->cliff->optuna->python-vivid) (0.2.5)\n",
      "Requirement already satisfied: attrs>=16.3.0 in /home/penguin/.conda/lib/python3.7/site-packages (from cmd2!=0.8.3,>=0.8.0->cliff->optuna->python-vivid) (19.3.0)\n",
      "Requirement already satisfied: pyperclip>=1.6 in /home/penguin/.conda/lib/python3.7/site-packages (from cmd2!=0.8.3,>=0.8.0->cliff->optuna->python-vivid) (1.8.0)\n",
      "Requirement already satisfied: importlib-metadata>=1.7.0 in /home/penguin/.conda/lib/python3.7/site-packages (from stevedore>=1.20.0->cliff->optuna->python-vivid) (1.7.0)\n",
      "Requirement already satisfied: zipp>=0.5 in /home/penguin/.conda/lib/python3.7/site-packages (from importlib-metadata>=1.7.0->stevedore>=1.20.0->cliff->optuna->python-vivid) (3.1.0)\n",
      "Requirement already satisfied: MarkupSafe>=0.9.2 in /home/penguin/.conda/lib/python3.7/site-packages (from Mako->alembic->optuna->python-vivid) (1.1.1)\n",
      "Requirement already satisfied: pytz>=2017.2 in /home/penguin/.conda/lib/python3.7/site-packages (from pandas->python-vivid) (2020.1)\n",
      "Requirement already satisfied: threadpoolctl>=2.0.0 in /home/penguin/.conda/lib/python3.7/site-packages (from scikit-learn->python-vivid) (2.1.0)\n",
      "\u001b[33mWARNING: You are using pip version 20.3.3; however, version 21.0.1 is available.\n",
      "You should consider upgrading via the '/home/penguin/.conda/bin/python -m pip install --upgrade pip' command.\u001b[0m\n"
     ]
    }
   ],
   "source": [
    "!pip install python-vivid"
   ]
  },
  {
   "cell_type": "code",
   "execution_count": 3,
   "metadata": {},
   "outputs": [
    {
     "name": "stdout",
     "output_type": "stream",
     "text": [
      "./0008__exp/\n"
     ]
    }
   ],
   "source": [
    "import os\n",
    "\n",
    "import pandas as pd\n",
    "import seaborn as sns\n",
    "import matplotlib.pyplot as plt\n",
    "from matplotlib_venn import venn2\n",
    "import numpy as np\n",
    "\n",
    "filename = '0008__exp'\n",
    "\n",
    "INPUT_DIR = './dataset/'\n",
    "OUTPUT_DIR = './{}/'.format(filename)\n",
    "\n",
    "print(OUTPUT_DIR)\n",
    "os.makedirs(OUTPUT_DIR, exist_ok=True)"
   ]
  },
  {
   "cell_type": "code",
   "execution_count": 4,
   "metadata": {},
   "outputs": [],
   "source": [
    "from vivid.backends.experiments import LocalExperimentBackend\n",
    "from vivid.utils import timer\n",
    "\n",
    "experiment = LocalExperimentBackend(to=OUTPUT_DIR)\n",
    "logger = experiment.logger"
   ]
  },
  {
   "cell_type": "code",
   "execution_count": 5,
   "metadata": {},
   "outputs": [],
   "source": [
    "product_master_df = pd.read_csv(os.path.join(INPUT_DIR, 'product_master.csv'), dtype={ 'JAN': str })\n",
    "log_df = pd.read_csv(os.path.join(INPUT_DIR, 'carlog.csv'), dtype={ 'value_1': str }, date_parser=['date'])\n",
    "user_df = pd.read_csv(os.path.join(INPUT_DIR, 'user_master.csv'))"
   ]
  },
  {
   "cell_type": "code",
   "execution_count": 6,
   "metadata": {},
   "outputs": [],
   "source": [
    "def savefig(fig, to):\n",
    "    to = os.path.join(OUTPUT_DIR, to + '.png')\n",
    "    fig.tight_layout()\n",
    "    fig.savefig(to, dpi=120)\n",
    "    plt.close(fig)"
   ]
  },
  {
   "cell_type": "code",
   "execution_count": 7,
   "metadata": {},
   "outputs": [
    {
     "name": "stdout",
     "output_type": "stream",
     "text": [
      "(171, 'ビール系__RTD')\n",
      "(173, 'ビール系__ビール系')\n",
      "(172, 'ビール系__ノンアルコール')\n",
      "(114, 'スナック・キャンディー__スナック')\n",
      "(134, 'チョコ・ビスクラ__チョコレート')\n",
      "(110, 'スナック・キャンディー__ガム')\n",
      "(113, 'スナック・キャンディー__シリアル')\n",
      "(38, 'アイスクリーム__ノベルティー')\n",
      "(376, '和菓子__米菓')\n",
      "(537, '水・炭酸水__大型PET（炭酸水）')\n",
      "(539, '水・炭酸水__小型PET（炭酸水）')\n",
      "(629, '缶飲料__コーヒー（缶）')\n",
      "(467, '小型PET__コーヒー（小型PET）')\n",
      "(435, '大型PET__無糖茶（大型PET）')\n",
      "(768, '麺類__カップ麺')\n"
     ]
    }
   ],
   "source": [
    "TARGET_CATEGORIES = [\n",
    "    # お酒に関するもの\n",
    "    'ビール系__RTD', 'ビール系__ビール系', 'ビール系__ノンアルコール',\n",
    "\n",
    "    # お菓子に関するもの\n",
    "    'スナック・キャンディー__スナック', \n",
    "    'チョコ・ビスクラ__チョコレート', \n",
    "    'スナック・キャンディー__ガム', \n",
    "    'スナック・キャンディー__シリアル',\n",
    "    'アイスクリーム__ノベルティー', \n",
    "    '和菓子__米菓',\n",
    "\n",
    "    # 飲料に関するもの\n",
    "    '水・炭酸水__大型PET（炭酸水）',\n",
    "    '水・炭酸水__小型PET（炭酸水）',\n",
    "    '缶飲料__コーヒー（缶）',\n",
    "    '小型PET__コーヒー（小型PET）',\n",
    "    '大型PET__無糖茶（大型PET）',\n",
    "\n",
    "    # 麺類\n",
    "    '麺類__カップ麺',\n",
    "]\n",
    "\n",
    "cat2id = dict(zip(product_master_df['category_name'], product_master_df['category_id']))\n",
    "TARGET_IDS = pd.Series(TARGET_CATEGORIES).map(cat2id).values.tolist()\n",
    "category_id2code = dict(zip(TARGET_IDS, TARGET_CATEGORIES))\n",
    "\n",
    "for x in zip(TARGET_IDS, TARGET_CATEGORIES):\n",
    "    print(x)\n",
    "\n",
    "def only_purchase_records(input_df: pd.DataFrame) -> pd.DataFrame:\n",
    "    idx = input_df['kind_1'] == '商品'\n",
    "    out_df = input_df[idx].reset_index(drop=True)\n",
    "    return out_df\n",
    "\n",
    "def create_payment(input_df: pd.DataFrame) -> pd.DataFrame:\n",
    "    \"\"\"\n",
    "    ログデータから session_id / JAN ごとの購買情報に変換します.\n",
    "\n",
    "    Args:\n",
    "        input_df:\n",
    "            レジカートログデータ\n",
    "\n",
    "    Returns:\n",
    "        session_id, JAN, n_items (合計購買数) の DataFrame\n",
    "    \"\"\"\n",
    "\n",
    "    # 購買情報は商品のものだけ.\n",
    "    out_df = only_purchase_records(input_df)\n",
    "    out_df = out_df.groupby(['session_id', 'value_1'])['n_items'].sum().reset_index()\n",
    "    out_df = out_df.rename(columns={\n",
    "        'value_1': 'JAN'\n",
    "    })\n",
    "    return out_df\n",
    "\n",
    "def annot_category(input_df: pd.DataFrame,\n",
    "                   master_df: pd.DataFrame):\n",
    "    \"\"\"\n",
    "    カテゴリ ID をひも付けます.\n",
    "\n",
    "    Args:\n",
    "        input_df:\n",
    "            変換するデータ.\n",
    "            `value_1`  or `JAN` を column として持っている必要があります.\n",
    "        master_df:\n",
    "            商品マスタのデータフレーム\n",
    "\n",
    "    Returns:\n",
    "\n",
    "    \"\"\"\n",
    "    input_df = input_df.rename(columns={'value_1': 'JAN'})\n",
    "    out_df = pd.merge(input_df['JAN'],\n",
    "                      master_df[['JAN', 'category_id']], on='JAN', how='left')\n",
    "    return out_df['category_id']\n",
    "\n",
    "def only_payment_session_record(input_log_df):\n",
    "    \"\"\"支払いが紐づくセッションへ絞り込みを行なう\"\"\"\n",
    "    payed_sessions = input_log_df[input_log_df['is_payment'] == 1]['session_id'].unique()\n",
    "    idx = input_log_df['session_id'].isin(payed_sessions)\n",
    "    out_df = input_log_df[idx].reset_index(drop=True)\n",
    "    return out_df\n",
    "\n",
    "def create_target_from_log(log_df: pd.DataFrame,\n",
    "                           product_master_df: pd.DataFrame,\n",
    "                          only_payment=True):\n",
    "\n",
    "    if only_payment:\n",
    "        log_df = only_payment_session_record(log_df)\n",
    "    pay_df = create_payment(log_df)\n",
    "    pay_df['category_id'] = annot_category(pay_df, master_df=product_master_df)\n",
    "\n",
    "    # null の category を削除. JAN が紐付かない時に発生する.\n",
    "    idx_null = pay_df['category_id'].isnull()\n",
    "    pay_df = pay_df[~idx_null].reset_index(drop=True)\n",
    "    # Nullが混じっている時 float になるため int へ明示的に戻す\n",
    "    pay_df['category_id'] = pay_df['category_id'].astype(int)\n",
    "\n",
    "    idx = pay_df['category_id'].isin(TARGET_IDS)\n",
    "    target_df = pd.pivot_table(data=pay_df[idx],\n",
    "                               index='session_id',\n",
    "                               columns='category_id',\n",
    "                               values='n_items',\n",
    "                               aggfunc='sum')\n",
    "\n",
    "    sessions = sorted(log_df['session_id'].unique())\n",
    "    print(len(sessions))\n",
    "    target_df = target_df.reindex(sessions)\n",
    "    target_df = target_df.fillna(0).astype(int)\n",
    "    return target_df, pay_df\n"
   ]
  },
  {
   "cell_type": "code",
   "execution_count": 8,
   "metadata": {},
   "outputs": [],
   "source": [
    "# 完全なデータを持っているログに絞る\n",
    "test_df = pd.read_csv(os.path.join(INPUT_DIR, 'test.csv'))\n",
    "test_sessions = test_df['session_id'].unique()\n",
    "idx_test = log_df['session_id'].isin(test_sessions)\n",
    "whole_log_df = log_df[~idx_test].reset_index(drop=True)\n",
    "\n",
    "meta_df = pd.read_csv(os.path.join(INPUT_DIR, 'meta.csv'))\n",
    "test_df = pd.read_csv(os.path.join(INPUT_DIR, 'test.csv'))\n",
    "\n",
    "test_sessions = test_df['session_id'].unique()"
   ]
  },
  {
   "cell_type": "code",
   "execution_count": 9,
   "metadata": {},
   "outputs": [],
   "source": [
    "payment_session_df = only_payment_session_record(whole_log_df)"
   ]
  },
  {
   "cell_type": "code",
   "execution_count": 10,
   "metadata": {},
   "outputs": [],
   "source": [
    "payment_session_df['date'] = pd.to_datetime(payment_session_df['date'])"
   ]
  },
  {
   "cell_type": "code",
   "execution_count": 11,
   "metadata": {},
   "outputs": [
    {
     "data": {
      "text/plain": [
       "0             NaT\n",
       "1          0 days\n",
       "2          0 days\n",
       "3          0 days\n",
       "4          0 days\n",
       "            ...  \n",
       "13714201   0 days\n",
       "13714202   0 days\n",
       "13714203   0 days\n",
       "13714204   0 days\n",
       "13714205   0 days\n",
       "Name: date, Length: 13714206, dtype: timedelta64[ns]"
      ]
     },
     "execution_count": 11,
     "metadata": {},
     "output_type": "execute_result"
    }
   ],
   "source": [
    "payment_session_df['date'] - payment_session_df.groupby('user_id')['date'].shift(1)"
   ]
  },
  {
   "cell_type": "markdown",
   "metadata": {},
   "source": [
    "> テストデータでは基本一人のセッションのみ或いはポイント確認など他のユーザーのIDがあったとしても通常の購買と考えうるものに絞っています。\n",
    "meta.csvのセッションに紐づくuserは、買物を主体として行っているユーザーのIDとしてそのセッション内で購買行動をもっと多く行ったユーザー、と定義しています。 https://www.guruguru.science/competitions/14/discussions/937178f0-1d6a-4c90-a7af-21935d8253de/"
   ]
  },
  {
   "cell_type": "code",
   "execution_count": 12,
   "metadata": {},
   "outputs": [],
   "source": [
    "def plot_intersection(left, right, column, set_labels, ax=None):\n",
    "    left_set = set(left[column])\n",
    "    right_set = set(right[column])\n",
    "    venn2(subsets=(left_set, right_set), set_labels=set_labels, ax=ax)\n",
    "    return ax"
   ]
  },
  {
   "cell_type": "code",
   "execution_count": 13,
   "metadata": {},
   "outputs": [],
   "source": [
    "# これでも良いのだけれど test と条件がちょっと違うのがきがかりなので\n",
    "# train_sessions = payment_session_df['session_id'].unique()\n",
    "\n",
    "# 商品購買の最後(max spend time)が10分より大きいセッションを取り出す\n",
    "is_item_record = payment_session_df['kind_1'] == '商品'\n",
    "max_payed_time = payment_session_df[is_item_record].groupby('session_id')['spend_time'].max()\n",
    "max_payed_time_over_10min = max_payed_time[max_payed_time > 10 * 60]\n",
    "\n",
    "train_sessions = max_payed_time_over_10min.index.tolist()\n",
    "train_whole_log_df = payment_session_df[payment_session_df['session_id'].isin(train_sessions)].reset_index(drop=True)"
   ]
  },
  {
   "cell_type": "markdown",
   "metadata": {},
   "source": [
    "#### 一定時間のログの取り出し\n",
    "\n",
    "前回は `head` を使う方法を紹介しました。今回はテストデータの経過時刻 `time_elasped` の情報を使って擬似的に経過時間を生成してみましょう。\n",
    "\n",
    "まずテストデータの一定時間の値の分布は以下のようになっています. これを足して1になるように正規化したものを出現割合とした分布から経過時間をサンプリングします。"
   ]
  },
  {
   "cell_type": "code",
   "execution_count": 14,
   "metadata": {},
   "outputs": [],
   "source": [
    "time_elasped_count = meta_df['time_elapsed'].value_counts(normalize=True)\n",
    "\n",
    "train_time_elapsed = np.random.choice(time_elasped_count.index.astype(int), \n",
    "                                      p=time_elasped_count.values, \n",
    "                                      size=len(train_sessions))\n",
    "\n",
    "train_meta_df = pd.DataFrame({\n",
    "    'session_id': train_sessions,\n",
    "    'time_elapsed': train_time_elapsed\n",
    "})\n",
    "\n",
    "train_meta_df = pd.merge(train_meta_df, \n",
    "                         meta_df.drop(columns=['time_elapsed']), \n",
    "                         on='session_id', \n",
    "                         how='left')"
   ]
  },
  {
   "cell_type": "markdown",
   "metadata": {},
   "source": [
    "生成した経過時間を学習データ全体へ `session_id` でマージして  `spend_time` が `time_elapsed` よりも小さいものだけを取り出します。これがテストデータで見れるログデータに相当するものです。今回の notebook ではこの部分を `public`、反対に見れない部分を `private` とよぶこととします。"
   ]
  },
  {
   "cell_type": "code",
   "execution_count": 15,
   "metadata": {},
   "outputs": [],
   "source": [
    "_df = pd.merge(train_whole_log_df[['session_id', 'spend_time']], train_meta_df, on='session_id', how='left')\n",
    "idx_show = _df['spend_time'] <= _df['time_elapsed'] * 60"
   ]
  },
  {
   "cell_type": "markdown",
   "metadata": {},
   "source": [
    "見える範囲は全体の 23% 程度。"
   ]
  },
  {
   "cell_type": "code",
   "execution_count": 16,
   "metadata": {},
   "outputs": [
    {
     "data": {
      "text/plain": [
       "0.23103032770279677"
      ]
     },
     "execution_count": 16,
     "metadata": {},
     "output_type": "execute_result"
    }
   ],
   "source": [
    "idx_show.sum() / len(idx_show)"
   ]
  },
  {
   "cell_type": "code",
   "execution_count": 17,
   "metadata": {},
   "outputs": [],
   "source": [
    "import gc"
   ]
  },
  {
   "cell_type": "code",
   "execution_count": 18,
   "metadata": {},
   "outputs": [
    {
     "data": {
      "text/plain": [
       "0"
      ]
     },
     "execution_count": 18,
     "metadata": {},
     "output_type": "execute_result"
    }
   ],
   "source": [
    "train_public_df = train_whole_log_df[idx_show].reset_index(drop=True)\n",
    "train_private_df = train_whole_log_df[~idx_show].reset_index(drop=True)\n",
    "\n",
    "# テストのログデータと合わせて推論時に見ても良いログ `public_log_df` として保存しておく\n",
    "public_log_df = pd.concat([\n",
    "    train_public_df, log_df[log_df['session_id'].isin(test_sessions)]\n",
    "], axis=0, ignore_index=True)\n",
    "\n",
    "del log_df\n",
    "gc.collect()"
   ]
  },
  {
   "cell_type": "code",
   "execution_count": 19,
   "metadata": {},
   "outputs": [],
   "source": [
    "test_meta_df = pd.merge(test_df, meta_df, on='session_id', how='left')"
   ]
  },
  {
   "cell_type": "code",
   "execution_count": 20,
   "metadata": {},
   "outputs": [],
   "source": [
    "def plot_right_left_inersection(train_df, test_df, columns='__all__'):\n",
    "    \"\"\"2つのデータフレームのカラムの共通集合を可視化\"\"\"\n",
    "    if columns == '__all__':\n",
    "        columns = set(train_df.columns) & set(test_df.columns)\n",
    "        \n",
    "    columns = list(columns)\n",
    "    nfigs = len(columns)\n",
    "    ncols = 6\n",
    "    nrows = - (- nfigs // ncols)\n",
    "    fig, axes = plt.subplots(figsize=(3 * ncols, 3 * nrows), ncols=ncols, nrows=nrows)\n",
    "    axes = np.ravel(axes)\n",
    "    for c, ax in zip(columns, axes):\n",
    "        plot_intersection(train_df, test_df, column=c, set_labels=('Train', 'Test'), ax=ax)\n",
    "        ax.set_title(c)\n",
    "    return fig, ax"
   ]
  },
  {
   "cell_type": "code",
   "execution_count": 21,
   "metadata": {},
   "outputs": [
    {
     "data": {
      "image/png": "[encoded data removed]",
      "text/plain": [
       "<Figure size 1296x216 with 6 Axes>"
      ]
     },
     "metadata": {},
     "output_type": "display_data"
    }
   ],
   "source": [
    "fig, _ = plot_right_left_inersection(train_meta_df, test_meta_df)\n",
    "fig.tight_layout()"
   ]
  },
  {
   "cell_type": "code",
   "execution_count": 22,
   "metadata": {},
   "outputs": [
    {
     "name": "stdout",
     "output_type": "stream",
     "text": [
      "366478\n"
     ]
    }
   ],
   "source": [
    "train_target_df, _  = create_target_from_log(train_private_df, \n",
    "                                             product_master_df=product_master_df,\n",
    "                                            only_payment=False)\n",
    "\n",
    "assert len(train_target_df) == len(train_meta_df)"
   ]
  },
  {
   "cell_type": "code",
   "execution_count": 23,
   "metadata": {},
   "outputs": [],
   "source": [
    "train_meta_df = pd.merge(train_meta_df, user_df, on='user_id', how='left')\n",
    "test_meta_df = pd.merge(test_meta_df, user_df, on='user_id', how='left')"
   ]
  },
  {
   "cell_type": "code",
   "execution_count": 24,
   "metadata": {},
   "outputs": [
    {
     "data": {
      "text/html": [
       "<div>\n",
       "<style scoped>\n",
       "    .dataframe tbody tr th:only-of-type {\n",
       "        vertical-align: middle;\n",
       "    }\n",
       "\n",
       "    .dataframe tbody tr th {\n",
       "        vertical-align: top;\n",
       "    }\n",
       "\n",
       "    .dataframe thead th {\n",
       "        text-align: right;\n",
       "    }\n",
       "</style>\n",
       "<table border=\"1\" class=\"dataframe\">\n",
       "  <thead>\n",
       "    <tr style=\"text-align: right;\">\n",
       "      <th></th>\n",
       "      <th>session_id</th>\n",
       "      <th>time_elapsed</th>\n",
       "      <th>user_id</th>\n",
       "      <th>date</th>\n",
       "      <th>hour</th>\n",
       "      <th>register_number</th>\n",
       "      <th>age</th>\n",
       "      <th>gender</th>\n",
       "    </tr>\n",
       "  </thead>\n",
       "  <tbody>\n",
       "    <tr>\n",
       "      <th>0</th>\n",
       "      <td>105</td>\n",
       "      <td>0</td>\n",
       "      <td>CN9sWHXp6RdCuyFkW5aemG</td>\n",
       "      <td>2019-02-14</td>\n",
       "      <td>9</td>\n",
       "      <td>1005</td>\n",
       "      <td>40.0</td>\n",
       "      <td>0.0</td>\n",
       "    </tr>\n",
       "    <tr>\n",
       "      <th>1</th>\n",
       "      <td>106</td>\n",
       "      <td>10</td>\n",
       "      <td>Wi5hmLRCmUPXMRheu354dd</td>\n",
       "      <td>2019-02-14</td>\n",
       "      <td>9</td>\n",
       "      <td>1010</td>\n",
       "      <td>60.0</td>\n",
       "      <td>1.0</td>\n",
       "    </tr>\n",
       "    <tr>\n",
       "      <th>2</th>\n",
       "      <td>107</td>\n",
       "      <td>10</td>\n",
       "      <td>kTFrFDLeaaggCoubWZJHpg</td>\n",
       "      <td>2019-02-14</td>\n",
       "      <td>9</td>\n",
       "      <td>1010</td>\n",
       "      <td>30.0</td>\n",
       "      <td>0.0</td>\n",
       "    </tr>\n",
       "    <tr>\n",
       "      <th>3</th>\n",
       "      <td>108</td>\n",
       "      <td>10</td>\n",
       "      <td>exwdBc8tNJYAjhc4Gd6qtj</td>\n",
       "      <td>2019-02-14</td>\n",
       "      <td>9</td>\n",
       "      <td>1011</td>\n",
       "      <td>60.0</td>\n",
       "      <td>0.0</td>\n",
       "    </tr>\n",
       "    <tr>\n",
       "      <th>4</th>\n",
       "      <td>109</td>\n",
       "      <td>0</td>\n",
       "      <td>XUeiScqGsozKQFxcd3RDsD</td>\n",
       "      <td>2019-02-14</td>\n",
       "      <td>9</td>\n",
       "      <td>1013</td>\n",
       "      <td>70.0</td>\n",
       "      <td>0.0</td>\n",
       "    </tr>\n",
       "  </tbody>\n",
       "</table>\n",
       "</div>"
      ],
      "text/plain": [
       "   session_id  time_elapsed                 user_id        date  hour  \\\n",
       "0         105             0  CN9sWHXp6RdCuyFkW5aemG  2019-02-14     9   \n",
       "1         106            10  Wi5hmLRCmUPXMRheu354dd  2019-02-14     9   \n",
       "2         107            10  kTFrFDLeaaggCoubWZJHpg  2019-02-14     9   \n",
       "3         108            10  exwdBc8tNJYAjhc4Gd6qtj  2019-02-14     9   \n",
       "4         109             0  XUeiScqGsozKQFxcd3RDsD  2019-02-14     9   \n",
       "\n",
       "   register_number   age  gender  \n",
       "0             1005  40.0     0.0  \n",
       "1             1010  60.0     1.0  \n",
       "2             1010  30.0     0.0  \n",
       "3             1011  60.0     0.0  \n",
       "4             1013  70.0     0.0  "
      ]
     },
     "execution_count": 24,
     "metadata": {},
     "output_type": "execute_result"
    }
   ],
   "source": [
    "train_meta_df.head()"
   ]
  },
  {
   "cell_type": "markdown",
   "metadata": {},
   "source": [
    "### 特徴量の作成\n",
    "\n",
    "学習の枠組みが出来たので特徴量を作ります。前回は特徴量を作る関数を各々定義していました。こちらの方法でも良いのですが、内部状態が train フェーズで変化するような特徴量をつくるのにはあまり向いていません。例えば Target の情報を使って変換をする `TargetEncoding` などが該当します。\n",
    "\n",
    "今回は特徴変換ごとにクラスを作り、内部状態をクラスのメンバー変数として管理する方法をご紹介できればと思います。\n",
    "\n",
    "まずはじめに特徴変換一般に使うインターフェースを定義した `AbstractBaseBlock` を作成します。これは `fit` で学習 (すなわち内部状態の更新)を行ない `transform` で特徴への変換を行なう機能を備えています。`fit` では何もしない変換もありますので基本は `transform` 単体が呼び出されるようになっています。"
   ]
  },
  {
   "cell_type": "code",
   "execution_count": 25,
   "metadata": {},
   "outputs": [],
   "source": [
    "class AbstractBaseBlock:\n",
    "    def fit(self, input_df, y=None):\n",
    "        return self.transform(input_df)\n",
    "    \n",
    "    def transform(self, input_df):\n",
    "        raise NotImplementedError()"
   ]
  },
  {
   "cell_type": "markdown",
   "metadata": {},
   "source": [
    "#### 内部状態更新がおこなわれない例\n",
    "\n",
    "入力される変換元のデータに含まれる情報を加工して取り出すような特徴量は内部状態が必要ありませんので `transform` のみを定義すればよいです。例えば `hour` をそのまま使う場合は単に `hour` を取り出す処理を行えば OK ですので内部状態は不要です。"
   ]
  },
  {
   "cell_type": "code",
   "execution_count": 26,
   "metadata": {},
   "outputs": [],
   "source": [
    "class MetaInformationBlock(AbstractBaseBlock):\n",
    "    def transform(self, input_df):\n",
    "        use_columns = [\n",
    "            'hour', 'register_number', 'time_elapsed', 'gender', 'age'\n",
    "        ]\n",
    "        return input_df[use_columns].copy()"
   ]
  },
  {
   "cell_type": "code",
   "execution_count": 27,
   "metadata": {},
   "outputs": [
    {
     "data": {
      "text/html": [
       "<div>\n",
       "<style scoped>\n",
       "    .dataframe tbody tr th:only-of-type {\n",
       "        vertical-align: middle;\n",
       "    }\n",
       "\n",
       "    .dataframe tbody tr th {\n",
       "        vertical-align: top;\n",
       "    }\n",
       "\n",
       "    .dataframe thead th {\n",
       "        text-align: right;\n",
       "    }\n",
       "</style>\n",
       "<table border=\"1\" class=\"dataframe\">\n",
       "  <thead>\n",
       "    <tr style=\"text-align: right;\">\n",
       "      <th></th>\n",
       "      <th>hour</th>\n",
       "      <th>register_number</th>\n",
       "      <th>time_elapsed</th>\n",
       "      <th>gender</th>\n",
       "      <th>age</th>\n",
       "    </tr>\n",
       "  </thead>\n",
       "  <tbody>\n",
       "    <tr>\n",
       "      <th>0</th>\n",
       "      <td>9</td>\n",
       "      <td>1005</td>\n",
       "      <td>0</td>\n",
       "      <td>0.0</td>\n",
       "      <td>40.0</td>\n",
       "    </tr>\n",
       "    <tr>\n",
       "      <th>1</th>\n",
       "      <td>9</td>\n",
       "      <td>1010</td>\n",
       "      <td>10</td>\n",
       "      <td>1.0</td>\n",
       "      <td>60.0</td>\n",
       "    </tr>\n",
       "    <tr>\n",
       "      <th>2</th>\n",
       "      <td>9</td>\n",
       "      <td>1010</td>\n",
       "      <td>10</td>\n",
       "      <td>0.0</td>\n",
       "      <td>30.0</td>\n",
       "    </tr>\n",
       "    <tr>\n",
       "      <th>3</th>\n",
       "      <td>9</td>\n",
       "      <td>1011</td>\n",
       "      <td>10</td>\n",
       "      <td>0.0</td>\n",
       "      <td>60.0</td>\n",
       "    </tr>\n",
       "    <tr>\n",
       "      <th>4</th>\n",
       "      <td>9</td>\n",
       "      <td>1013</td>\n",
       "      <td>0</td>\n",
       "      <td>0.0</td>\n",
       "      <td>70.0</td>\n",
       "    </tr>\n",
       "    <tr>\n",
       "      <th>...</th>\n",
       "      <td>...</td>\n",
       "      <td>...</td>\n",
       "      <td>...</td>\n",
       "      <td>...</td>\n",
       "      <td>...</td>\n",
       "    </tr>\n",
       "    <tr>\n",
       "      <th>366473</th>\n",
       "      <td>23</td>\n",
       "      <td>1018</td>\n",
       "      <td>5</td>\n",
       "      <td>1.0</td>\n",
       "      <td>40.0</td>\n",
       "    </tr>\n",
       "    <tr>\n",
       "      <th>366474</th>\n",
       "      <td>23</td>\n",
       "      <td>1028</td>\n",
       "      <td>3</td>\n",
       "      <td>1.0</td>\n",
       "      <td>30.0</td>\n",
       "    </tr>\n",
       "    <tr>\n",
       "      <th>366475</th>\n",
       "      <td>23</td>\n",
       "      <td>1058</td>\n",
       "      <td>10</td>\n",
       "      <td>0.0</td>\n",
       "      <td>50.0</td>\n",
       "    </tr>\n",
       "    <tr>\n",
       "      <th>366476</th>\n",
       "      <td>23</td>\n",
       "      <td>1076</td>\n",
       "      <td>3</td>\n",
       "      <td>0.0</td>\n",
       "      <td>20.0</td>\n",
       "    </tr>\n",
       "    <tr>\n",
       "      <th>366477</th>\n",
       "      <td>23</td>\n",
       "      <td>1217</td>\n",
       "      <td>0</td>\n",
       "      <td>0.0</td>\n",
       "      <td>20.0</td>\n",
       "    </tr>\n",
       "  </tbody>\n",
       "</table>\n",
       "<p>366478 rows × 5 columns</p>\n",
       "</div>"
      ],
      "text/plain": [
       "        hour  register_number  time_elapsed  gender   age\n",
       "0          9             1005             0     0.0  40.0\n",
       "1          9             1010            10     1.0  60.0\n",
       "2          9             1010            10     0.0  30.0\n",
       "3          9             1011            10     0.0  60.0\n",
       "4          9             1013             0     0.0  70.0\n",
       "...      ...              ...           ...     ...   ...\n",
       "366473    23             1018             5     1.0  40.0\n",
       "366474    23             1028             3     1.0  30.0\n",
       "366475    23             1058            10     0.0  50.0\n",
       "366476    23             1076             3     0.0  20.0\n",
       "366477    23             1217             0     0.0  20.0\n",
       "\n",
       "[366478 rows x 5 columns]"
      ]
     },
     "execution_count": 27,
     "metadata": {},
     "output_type": "execute_result"
    }
   ],
   "source": [
    "MetaInformationBlock().fit(train_meta_df)"
   ]
  },
  {
   "cell_type": "markdown",
   "metadata": {},
   "source": [
    "`date` を変換するようなものも上記と同じ `transform` のみで実現できるものです。"
   ]
  },
  {
   "cell_type": "code",
   "execution_count": 28,
   "metadata": {},
   "outputs": [],
   "source": [
    "class DateBlock(AbstractBaseBlock):\n",
    "    def transform(self, input_df):\n",
    "        date = pd.to_datetime(input_df['date'])\n",
    "        \n",
    "        out_df = pd.DataFrame({\n",
    "            'dayofweek': date.dt.dayofweek,\n",
    "            'day': date.dt.day,\n",
    "            'month': date.dt.month,\n",
    "            'year': date.dt.year\n",
    "        })\n",
    "        \n",
    "        out_df['hanakin'] = np.where((date.dt.dayofweek == 4) & (input_df['hour'] > 16), 1, 0)\n",
    "        \n",
    "        return out_df.add_prefix('date_')"
   ]
  },
  {
   "cell_type": "code",
   "execution_count": 29,
   "metadata": {},
   "outputs": [
    {
     "data": {
      "text/html": [
       "<div>\n",
       "<style scoped>\n",
       "    .dataframe tbody tr th:only-of-type {\n",
       "        vertical-align: middle;\n",
       "    }\n",
       "\n",
       "    .dataframe tbody tr th {\n",
       "        vertical-align: top;\n",
       "    }\n",
       "\n",
       "    .dataframe thead th {\n",
       "        text-align: right;\n",
       "    }\n",
       "</style>\n",
       "<table border=\"1\" class=\"dataframe\">\n",
       "  <thead>\n",
       "    <tr style=\"text-align: right;\">\n",
       "      <th></th>\n",
       "      <th>date_dayofweek</th>\n",
       "      <th>date_day</th>\n",
       "      <th>date_month</th>\n",
       "      <th>date_year</th>\n",
       "      <th>date_hanakin</th>\n",
       "    </tr>\n",
       "  </thead>\n",
       "  <tbody>\n",
       "    <tr>\n",
       "      <th>0</th>\n",
       "      <td>3</td>\n",
       "      <td>14</td>\n",
       "      <td>2</td>\n",
       "      <td>2019</td>\n",
       "      <td>0</td>\n",
       "    </tr>\n",
       "    <tr>\n",
       "      <th>1</th>\n",
       "      <td>3</td>\n",
       "      <td>14</td>\n",
       "      <td>2</td>\n",
       "      <td>2019</td>\n",
       "      <td>0</td>\n",
       "    </tr>\n",
       "    <tr>\n",
       "      <th>2</th>\n",
       "      <td>3</td>\n",
       "      <td>14</td>\n",
       "      <td>2</td>\n",
       "      <td>2019</td>\n",
       "      <td>0</td>\n",
       "    </tr>\n",
       "    <tr>\n",
       "      <th>3</th>\n",
       "      <td>3</td>\n",
       "      <td>14</td>\n",
       "      <td>2</td>\n",
       "      <td>2019</td>\n",
       "      <td>0</td>\n",
       "    </tr>\n",
       "    <tr>\n",
       "      <th>4</th>\n",
       "      <td>3</td>\n",
       "      <td>14</td>\n",
       "      <td>2</td>\n",
       "      <td>2019</td>\n",
       "      <td>0</td>\n",
       "    </tr>\n",
       "    <tr>\n",
       "      <th>...</th>\n",
       "      <td>...</td>\n",
       "      <td>...</td>\n",
       "      <td>...</td>\n",
       "      <td>...</td>\n",
       "      <td>...</td>\n",
       "    </tr>\n",
       "    <tr>\n",
       "      <th>366473</th>\n",
       "      <td>4</td>\n",
       "      <td>31</td>\n",
       "      <td>7</td>\n",
       "      <td>2020</td>\n",
       "      <td>1</td>\n",
       "    </tr>\n",
       "    <tr>\n",
       "      <th>366474</th>\n",
       "      <td>4</td>\n",
       "      <td>31</td>\n",
       "      <td>7</td>\n",
       "      <td>2020</td>\n",
       "      <td>1</td>\n",
       "    </tr>\n",
       "    <tr>\n",
       "      <th>366475</th>\n",
       "      <td>4</td>\n",
       "      <td>31</td>\n",
       "      <td>7</td>\n",
       "      <td>2020</td>\n",
       "      <td>1</td>\n",
       "    </tr>\n",
       "    <tr>\n",
       "      <th>366476</th>\n",
       "      <td>4</td>\n",
       "      <td>31</td>\n",
       "      <td>7</td>\n",
       "      <td>2020</td>\n",
       "      <td>1</td>\n",
       "    </tr>\n",
       "    <tr>\n",
       "      <th>366477</th>\n",
       "      <td>4</td>\n",
       "      <td>31</td>\n",
       "      <td>7</td>\n",
       "      <td>2020</td>\n",
       "      <td>1</td>\n",
       "    </tr>\n",
       "  </tbody>\n",
       "</table>\n",
       "<p>366478 rows × 5 columns</p>\n",
       "</div>"
      ],
      "text/plain": [
       "        date_dayofweek  date_day  date_month  date_year  date_hanakin\n",
       "0                    3        14           2       2019             0\n",
       "1                    3        14           2       2019             0\n",
       "2                    3        14           2       2019             0\n",
       "3                    3        14           2       2019             0\n",
       "4                    3        14           2       2019             0\n",
       "...                ...       ...         ...        ...           ...\n",
       "366473               4        31           7       2020             1\n",
       "366474               4        31           7       2020             1\n",
       "366475               4        31           7       2020             1\n",
       "366476               4        31           7       2020             1\n",
       "366477               4        31           7       2020             1\n",
       "\n",
       "[366478 rows x 5 columns]"
      ]
     },
     "execution_count": 29,
     "metadata": {},
     "output_type": "execute_result"
    }
   ],
   "source": [
    "DateBlock().fit(train_meta_df)"
   ]
  },
  {
   "cell_type": "markdown",
   "metadata": {},
   "source": [
    "#### 内部状態変更が行われる例: CountEncoding\n",
    "\n",
    "データの中で何回その値が出現するかに置き換える方法が CountEncoding です。例えば `[0, 0, 1, 0, 2]` という配列があったとすると `0` は3回, `1`, `2` は1回出現しますから `[3, 3, 1, 3, 1]` となります。このようにデータをその出てきた回数の観点で見るのが CountEncoding です。\n",
    "\n",
    "CountEncoding は出現回数を数えるという内部状態の更新が必要ですので `fit` で回数を計算します。"
   ]
  },
  {
   "cell_type": "code",
   "execution_count": 30,
   "metadata": {},
   "outputs": [],
   "source": [
    "class CountEncodingBlock(AbstractBaseBlock):\n",
    "    \"\"\"CountEncodingを行なう block\"\"\"\n",
    "    def __init__(self, column: str):\n",
    "        self.column = column\n",
    "    \n",
    "    def fit(self, input_df, y=None):\n",
    "        vc = input_df[self.column].value_counts()\n",
    "        self.count_ = vc\n",
    "        return self.transform(input_df)\n",
    "    \n",
    "    def transform(self, input_df):\n",
    "        out_df = pd.DataFrame()\n",
    "        out_df[self.column] = input_df[self.column].map(self.count_)\n",
    "        return out_df.add_prefix('CE_')"
   ]
  },
  {
   "cell_type": "code",
   "execution_count": 31,
   "metadata": {},
   "outputs": [
    {
     "data": {
      "text/html": [
       "<div>\n",
       "<style scoped>\n",
       "    .dataframe tbody tr th:only-of-type {\n",
       "        vertical-align: middle;\n",
       "    }\n",
       "\n",
       "    .dataframe tbody tr th {\n",
       "        vertical-align: top;\n",
       "    }\n",
       "\n",
       "    .dataframe thead th {\n",
       "        text-align: right;\n",
       "    }\n",
       "</style>\n",
       "<table border=\"1\" class=\"dataframe\">\n",
       "  <thead>\n",
       "    <tr style=\"text-align: right;\">\n",
       "      <th></th>\n",
       "      <th>CE_register_number</th>\n",
       "    </tr>\n",
       "  </thead>\n",
       "  <tbody>\n",
       "    <tr>\n",
       "      <th>0</th>\n",
       "      <td>1860</td>\n",
       "    </tr>\n",
       "    <tr>\n",
       "      <th>1</th>\n",
       "      <td>2640</td>\n",
       "    </tr>\n",
       "    <tr>\n",
       "      <th>2</th>\n",
       "      <td>2640</td>\n",
       "    </tr>\n",
       "    <tr>\n",
       "      <th>3</th>\n",
       "      <td>2685</td>\n",
       "    </tr>\n",
       "    <tr>\n",
       "      <th>4</th>\n",
       "      <td>2788</td>\n",
       "    </tr>\n",
       "    <tr>\n",
       "      <th>...</th>\n",
       "      <td>...</td>\n",
       "    </tr>\n",
       "    <tr>\n",
       "      <th>366473</th>\n",
       "      <td>2901</td>\n",
       "    </tr>\n",
       "    <tr>\n",
       "      <th>366474</th>\n",
       "      <td>2137</td>\n",
       "    </tr>\n",
       "    <tr>\n",
       "      <th>366475</th>\n",
       "      <td>2593</td>\n",
       "    </tr>\n",
       "    <tr>\n",
       "      <th>366476</th>\n",
       "      <td>517</td>\n",
       "    </tr>\n",
       "    <tr>\n",
       "      <th>366477</th>\n",
       "      <td>664</td>\n",
       "    </tr>\n",
       "  </tbody>\n",
       "</table>\n",
       "<p>366478 rows × 1 columns</p>\n",
       "</div>"
      ],
      "text/plain": [
       "        CE_register_number\n",
       "0                     1860\n",
       "1                     2640\n",
       "2                     2640\n",
       "3                     2685\n",
       "4                     2788\n",
       "...                    ...\n",
       "366473                2901\n",
       "366474                2137\n",
       "366475                2593\n",
       "366476                 517\n",
       "366477                 664\n",
       "\n",
       "[366478 rows x 1 columns]"
      ]
     },
     "execution_count": 31,
     "metadata": {},
     "output_type": "execute_result"
    }
   ],
   "source": [
    "CountEncodingBlock('register_number').fit(train_meta_df)"
   ]
  },
  {
   "cell_type": "code",
   "execution_count": 32,
   "metadata": {},
   "outputs": [],
   "source": [
    "display_action_df = pd.read_csv(os.path.join(INPUT_DIR, 'display_action_id.csv'))\n",
    "display_action2name = dict(zip(display_action_df['display_action_id'], display_action_df['display_name'] + '_' + display_action_df['action_name']))"
   ]
  },
  {
   "cell_type": "code",
   "execution_count": 33,
   "metadata": {},
   "outputs": [],
   "source": [
    "class HourActionPortfolioBlock(AbstractBaseBlock):\n",
    "    def fit(self, input_df, y=None):\n",
    "        \n",
    "        _df = pd.pivot_table(\n",
    "            data=whole_log_df, \n",
    "            index='hour',\n",
    "            columns=whole_log_df['display_action_id'],\n",
    "            values='session_id',\n",
    "            aggfunc='count'\n",
    "        )\n",
    "        \n",
    "        _df = _df.div(_df.sum(axis=0), axis=1).fillna(0)\n",
    "        self.pivot_df_ = _df\n",
    "        \n",
    "        return self.transform(input_df)\n",
    "    \n",
    "    def transform(self, input_df):\n",
    "        out_df = pd.merge(input_df['hour'], self.pivot_df_, on='hour', how='left').drop(columns=['hour'])\n",
    "        return out_df.add_prefix('hour_ratio=')"
   ]
  },
  {
   "cell_type": "code",
   "execution_count": 34,
   "metadata": {},
   "outputs": [
    {
     "data": {
      "text/html": [
       "<div>\n",
       "<style scoped>\n",
       "    .dataframe tbody tr th:only-of-type {\n",
       "        vertical-align: middle;\n",
       "    }\n",
       "\n",
       "    .dataframe tbody tr th {\n",
       "        vertical-align: top;\n",
       "    }\n",
       "\n",
       "    .dataframe thead th {\n",
       "        text-align: right;\n",
       "    }\n",
       "</style>\n",
       "<table border=\"1\" class=\"dataframe\">\n",
       "  <thead>\n",
       "    <tr style=\"text-align: right;\">\n",
       "      <th></th>\n",
       "      <th>hour_ratio=8</th>\n",
       "      <th>hour_ratio=9</th>\n",
       "      <th>hour_ratio=11</th>\n",
       "      <th>hour_ratio=14</th>\n",
       "      <th>hour_ratio=20</th>\n",
       "      <th>hour_ratio=22</th>\n",
       "      <th>hour_ratio=23</th>\n",
       "      <th>hour_ratio=25</th>\n",
       "      <th>hour_ratio=28</th>\n",
       "      <th>hour_ratio=36</th>\n",
       "      <th>...</th>\n",
       "      <th>hour_ratio=199</th>\n",
       "      <th>hour_ratio=202</th>\n",
       "      <th>hour_ratio=203</th>\n",
       "      <th>hour_ratio=204</th>\n",
       "      <th>hour_ratio=205</th>\n",
       "      <th>hour_ratio=207</th>\n",
       "      <th>hour_ratio=209</th>\n",
       "      <th>hour_ratio=216</th>\n",
       "      <th>hour_ratio=218</th>\n",
       "      <th>hour_ratio=225</th>\n",
       "    </tr>\n",
       "  </thead>\n",
       "  <tbody>\n",
       "    <tr>\n",
       "      <th>0</th>\n",
       "      <td>0.047636</td>\n",
       "      <td>0.038392</td>\n",
       "      <td>0.044452</td>\n",
       "      <td>0.042889</td>\n",
       "      <td>0.027409</td>\n",
       "      <td>0.051504</td>\n",
       "      <td>0.012987</td>\n",
       "      <td>0.056140</td>\n",
       "      <td>0.033270</td>\n",
       "      <td>0.053611</td>\n",
       "      <td>...</td>\n",
       "      <td>0.035344</td>\n",
       "      <td>0.039617</td>\n",
       "      <td>0.046747</td>\n",
       "      <td>0.038660</td>\n",
       "      <td>0.050898</td>\n",
       "      <td>0.039062</td>\n",
       "      <td>0.044776</td>\n",
       "      <td>0.050147</td>\n",
       "      <td>0.036863</td>\n",
       "      <td>0.040824</td>\n",
       "    </tr>\n",
       "    <tr>\n",
       "      <th>1</th>\n",
       "      <td>0.047636</td>\n",
       "      <td>0.038392</td>\n",
       "      <td>0.044452</td>\n",
       "      <td>0.042889</td>\n",
       "      <td>0.027409</td>\n",
       "      <td>0.051504</td>\n",
       "      <td>0.012987</td>\n",
       "      <td>0.056140</td>\n",
       "      <td>0.033270</td>\n",
       "      <td>0.053611</td>\n",
       "      <td>...</td>\n",
       "      <td>0.035344</td>\n",
       "      <td>0.039617</td>\n",
       "      <td>0.046747</td>\n",
       "      <td>0.038660</td>\n",
       "      <td>0.050898</td>\n",
       "      <td>0.039062</td>\n",
       "      <td>0.044776</td>\n",
       "      <td>0.050147</td>\n",
       "      <td>0.036863</td>\n",
       "      <td>0.040824</td>\n",
       "    </tr>\n",
       "    <tr>\n",
       "      <th>2</th>\n",
       "      <td>0.047636</td>\n",
       "      <td>0.038392</td>\n",
       "      <td>0.044452</td>\n",
       "      <td>0.042889</td>\n",
       "      <td>0.027409</td>\n",
       "      <td>0.051504</td>\n",
       "      <td>0.012987</td>\n",
       "      <td>0.056140</td>\n",
       "      <td>0.033270</td>\n",
       "      <td>0.053611</td>\n",
       "      <td>...</td>\n",
       "      <td>0.035344</td>\n",
       "      <td>0.039617</td>\n",
       "      <td>0.046747</td>\n",
       "      <td>0.038660</td>\n",
       "      <td>0.050898</td>\n",
       "      <td>0.039062</td>\n",
       "      <td>0.044776</td>\n",
       "      <td>0.050147</td>\n",
       "      <td>0.036863</td>\n",
       "      <td>0.040824</td>\n",
       "    </tr>\n",
       "    <tr>\n",
       "      <th>3</th>\n",
       "      <td>0.047636</td>\n",
       "      <td>0.038392</td>\n",
       "      <td>0.044452</td>\n",
       "      <td>0.042889</td>\n",
       "      <td>0.027409</td>\n",
       "      <td>0.051504</td>\n",
       "      <td>0.012987</td>\n",
       "      <td>0.056140</td>\n",
       "      <td>0.033270</td>\n",
       "      <td>0.053611</td>\n",
       "      <td>...</td>\n",
       "      <td>0.035344</td>\n",
       "      <td>0.039617</td>\n",
       "      <td>0.046747</td>\n",
       "      <td>0.038660</td>\n",
       "      <td>0.050898</td>\n",
       "      <td>0.039062</td>\n",
       "      <td>0.044776</td>\n",
       "      <td>0.050147</td>\n",
       "      <td>0.036863</td>\n",
       "      <td>0.040824</td>\n",
       "    </tr>\n",
       "    <tr>\n",
       "      <th>4</th>\n",
       "      <td>0.047636</td>\n",
       "      <td>0.038392</td>\n",
       "      <td>0.044452</td>\n",
       "      <td>0.042889</td>\n",
       "      <td>0.027409</td>\n",
       "      <td>0.051504</td>\n",
       "      <td>0.012987</td>\n",
       "      <td>0.056140</td>\n",
       "      <td>0.033270</td>\n",
       "      <td>0.053611</td>\n",
       "      <td>...</td>\n",
       "      <td>0.035344</td>\n",
       "      <td>0.039617</td>\n",
       "      <td>0.046747</td>\n",
       "      <td>0.038660</td>\n",
       "      <td>0.050898</td>\n",
       "      <td>0.039062</td>\n",
       "      <td>0.044776</td>\n",
       "      <td>0.050147</td>\n",
       "      <td>0.036863</td>\n",
       "      <td>0.040824</td>\n",
       "    </tr>\n",
       "    <tr>\n",
       "      <th>...</th>\n",
       "      <td>...</td>\n",
       "      <td>...</td>\n",
       "      <td>...</td>\n",
       "      <td>...</td>\n",
       "      <td>...</td>\n",
       "      <td>...</td>\n",
       "      <td>...</td>\n",
       "      <td>...</td>\n",
       "      <td>...</td>\n",
       "      <td>...</td>\n",
       "      <td>...</td>\n",
       "      <td>...</td>\n",
       "      <td>...</td>\n",
       "      <td>...</td>\n",
       "      <td>...</td>\n",
       "      <td>...</td>\n",
       "      <td>...</td>\n",
       "      <td>...</td>\n",
       "      <td>...</td>\n",
       "      <td>...</td>\n",
       "      <td>...</td>\n",
       "    </tr>\n",
       "    <tr>\n",
       "      <th>366473</th>\n",
       "      <td>0.006106</td>\n",
       "      <td>0.005777</td>\n",
       "      <td>0.005523</td>\n",
       "      <td>0.002855</td>\n",
       "      <td>0.000825</td>\n",
       "      <td>0.002550</td>\n",
       "      <td>0.000000</td>\n",
       "      <td>0.004678</td>\n",
       "      <td>0.002677</td>\n",
       "      <td>0.003535</td>\n",
       "      <td>...</td>\n",
       "      <td>0.009975</td>\n",
       "      <td>0.000314</td>\n",
       "      <td>0.001263</td>\n",
       "      <td>0.005017</td>\n",
       "      <td>0.002994</td>\n",
       "      <td>0.008418</td>\n",
       "      <td>0.004985</td>\n",
       "      <td>0.002303</td>\n",
       "      <td>0.004298</td>\n",
       "      <td>0.001383</td>\n",
       "    </tr>\n",
       "    <tr>\n",
       "      <th>366474</th>\n",
       "      <td>0.006106</td>\n",
       "      <td>0.005777</td>\n",
       "      <td>0.005523</td>\n",
       "      <td>0.002855</td>\n",
       "      <td>0.000825</td>\n",
       "      <td>0.002550</td>\n",
       "      <td>0.000000</td>\n",
       "      <td>0.004678</td>\n",
       "      <td>0.002677</td>\n",
       "      <td>0.003535</td>\n",
       "      <td>...</td>\n",
       "      <td>0.009975</td>\n",
       "      <td>0.000314</td>\n",
       "      <td>0.001263</td>\n",
       "      <td>0.005017</td>\n",
       "      <td>0.002994</td>\n",
       "      <td>0.008418</td>\n",
       "      <td>0.004985</td>\n",
       "      <td>0.002303</td>\n",
       "      <td>0.004298</td>\n",
       "      <td>0.001383</td>\n",
       "    </tr>\n",
       "    <tr>\n",
       "      <th>366475</th>\n",
       "      <td>0.006106</td>\n",
       "      <td>0.005777</td>\n",
       "      <td>0.005523</td>\n",
       "      <td>0.002855</td>\n",
       "      <td>0.000825</td>\n",
       "      <td>0.002550</td>\n",
       "      <td>0.000000</td>\n",
       "      <td>0.004678</td>\n",
       "      <td>0.002677</td>\n",
       "      <td>0.003535</td>\n",
       "      <td>...</td>\n",
       "      <td>0.009975</td>\n",
       "      <td>0.000314</td>\n",
       "      <td>0.001263</td>\n",
       "      <td>0.005017</td>\n",
       "      <td>0.002994</td>\n",
       "      <td>0.008418</td>\n",
       "      <td>0.004985</td>\n",
       "      <td>0.002303</td>\n",
       "      <td>0.004298</td>\n",
       "      <td>0.001383</td>\n",
       "    </tr>\n",
       "    <tr>\n",
       "      <th>366476</th>\n",
       "      <td>0.006106</td>\n",
       "      <td>0.005777</td>\n",
       "      <td>0.005523</td>\n",
       "      <td>0.002855</td>\n",
       "      <td>0.000825</td>\n",
       "      <td>0.002550</td>\n",
       "      <td>0.000000</td>\n",
       "      <td>0.004678</td>\n",
       "      <td>0.002677</td>\n",
       "      <td>0.003535</td>\n",
       "      <td>...</td>\n",
       "      <td>0.009975</td>\n",
       "      <td>0.000314</td>\n",
       "      <td>0.001263</td>\n",
       "      <td>0.005017</td>\n",
       "      <td>0.002994</td>\n",
       "      <td>0.008418</td>\n",
       "      <td>0.004985</td>\n",
       "      <td>0.002303</td>\n",
       "      <td>0.004298</td>\n",
       "      <td>0.001383</td>\n",
       "    </tr>\n",
       "    <tr>\n",
       "      <th>366477</th>\n",
       "      <td>0.006106</td>\n",
       "      <td>0.005777</td>\n",
       "      <td>0.005523</td>\n",
       "      <td>0.002855</td>\n",
       "      <td>0.000825</td>\n",
       "      <td>0.002550</td>\n",
       "      <td>0.000000</td>\n",
       "      <td>0.004678</td>\n",
       "      <td>0.002677</td>\n",
       "      <td>0.003535</td>\n",
       "      <td>...</td>\n",
       "      <td>0.009975</td>\n",
       "      <td>0.000314</td>\n",
       "      <td>0.001263</td>\n",
       "      <td>0.005017</td>\n",
       "      <td>0.002994</td>\n",
       "      <td>0.008418</td>\n",
       "      <td>0.004985</td>\n",
       "      <td>0.002303</td>\n",
       "      <td>0.004298</td>\n",
       "      <td>0.001383</td>\n",
       "    </tr>\n",
       "  </tbody>\n",
       "</table>\n",
       "<p>366478 rows × 43 columns</p>\n",
       "</div>"
      ],
      "text/plain": [
       "        hour_ratio=8  hour_ratio=9  hour_ratio=11  hour_ratio=14  \\\n",
       "0           0.047636      0.038392       0.044452       0.042889   \n",
       "1           0.047636      0.038392       0.044452       0.042889   \n",
       "2           0.047636      0.038392       0.044452       0.042889   \n",
       "3           0.047636      0.038392       0.044452       0.042889   \n",
       "4           0.047636      0.038392       0.044452       0.042889   \n",
       "...              ...           ...            ...            ...   \n",
       "366473      0.006106      0.005777       0.005523       0.002855   \n",
       "366474      0.006106      0.005777       0.005523       0.002855   \n",
       "366475      0.006106      0.005777       0.005523       0.002855   \n",
       "366476      0.006106      0.005777       0.005523       0.002855   \n",
       "366477      0.006106      0.005777       0.005523       0.002855   \n",
       "\n",
       "        hour_ratio=20  hour_ratio=22  hour_ratio=23  hour_ratio=25  \\\n",
       "0            0.027409       0.051504       0.012987       0.056140   \n",
       "1            0.027409       0.051504       0.012987       0.056140   \n",
       "2            0.027409       0.051504       0.012987       0.056140   \n",
       "3            0.027409       0.051504       0.012987       0.056140   \n",
       "4            0.027409       0.051504       0.012987       0.056140   \n",
       "...               ...            ...            ...            ...   \n",
       "366473       0.000825       0.002550       0.000000       0.004678   \n",
       "366474       0.000825       0.002550       0.000000       0.004678   \n",
       "366475       0.000825       0.002550       0.000000       0.004678   \n",
       "366476       0.000825       0.002550       0.000000       0.004678   \n",
       "366477       0.000825       0.002550       0.000000       0.004678   \n",
       "\n",
       "        hour_ratio=28  hour_ratio=36  ...  hour_ratio=199  hour_ratio=202  \\\n",
       "0            0.033270       0.053611  ...        0.035344        0.039617   \n",
       "1            0.033270       0.053611  ...        0.035344        0.039617   \n",
       "2            0.033270       0.053611  ...        0.035344        0.039617   \n",
       "3            0.033270       0.053611  ...        0.035344        0.039617   \n",
       "4            0.033270       0.053611  ...        0.035344        0.039617   \n",
       "...               ...            ...  ...             ...             ...   \n",
       "366473       0.002677       0.003535  ...        0.009975        0.000314   \n",
       "366474       0.002677       0.003535  ...        0.009975        0.000314   \n",
       "366475       0.002677       0.003535  ...        0.009975        0.000314   \n",
       "366476       0.002677       0.003535  ...        0.009975        0.000314   \n",
       "366477       0.002677       0.003535  ...        0.009975        0.000314   \n",
       "\n",
       "        hour_ratio=203  hour_ratio=204  hour_ratio=205  hour_ratio=207  \\\n",
       "0             0.046747        0.038660        0.050898        0.039062   \n",
       "1             0.046747        0.038660        0.050898        0.039062   \n",
       "2             0.046747        0.038660        0.050898        0.039062   \n",
       "3             0.046747        0.038660        0.050898        0.039062   \n",
       "4             0.046747        0.038660        0.050898        0.039062   \n",
       "...                ...             ...             ...             ...   \n",
       "366473        0.001263        0.005017        0.002994        0.008418   \n",
       "366474        0.001263        0.005017        0.002994        0.008418   \n",
       "366475        0.001263        0.005017        0.002994        0.008418   \n",
       "366476        0.001263        0.005017        0.002994        0.008418   \n",
       "366477        0.001263        0.005017        0.002994        0.008418   \n",
       "\n",
       "        hour_ratio=209  hour_ratio=216  hour_ratio=218  hour_ratio=225  \n",
       "0             0.044776        0.050147        0.036863        0.040824  \n",
       "1             0.044776        0.050147        0.036863        0.040824  \n",
       "2             0.044776        0.050147        0.036863        0.040824  \n",
       "3             0.044776        0.050147        0.036863        0.040824  \n",
       "4             0.044776        0.050147        0.036863        0.040824  \n",
       "...                ...             ...             ...             ...  \n",
       "366473        0.004985        0.002303        0.004298        0.001383  \n",
       "366474        0.004985        0.002303        0.004298        0.001383  \n",
       "366475        0.004985        0.002303        0.004298        0.001383  \n",
       "366476        0.004985        0.002303        0.004298        0.001383  \n",
       "366477        0.004985        0.002303        0.004298        0.001383  \n",
       "\n",
       "[366478 rows x 43 columns]"
      ]
     },
     "execution_count": 34,
     "metadata": {},
     "output_type": "execute_result"
    }
   ],
   "source": [
    "HourActionPortfolioBlock().fit(train_meta_df)"
   ]
  },
  {
   "cell_type": "code",
   "execution_count": 35,
   "metadata": {},
   "outputs": [],
   "source": [
    "def merge_and_fill_user_mean(input_df, agg_df, use_ratio=True):\n",
    "        out_df = pd.merge(input_df['user_id'], agg_df, on='user_id', how='left')\n",
    "        user_age_mean = pd.merge(agg_df, user_df, on='user_id', how='left').groupby(['gender', 'age']).mean()\n",
    "        user_age_mean_df = \\\n",
    "            pd.merge(input_df['user_id'], user_df, on='user_id', how='left')\\\n",
    "            .merge(user_age_mean, on=['age', 'gender'], how='left')\\\n",
    "            .drop(columns=['age', 'gender'])\n",
    "        \n",
    "        assert out_df['user_id'].equals(user_age_mean_df['user_id'])\n",
    "        \n",
    "        out_df = out_df.combine_first(user_age_mean_df).drop(columns=['user_id'])\n",
    "        \n",
    "        if use_ratio:\n",
    "            out_df = pd.concat([\n",
    "                out_df,\n",
    "#                 (out_df - user_age_mean_df.drop(columns=['user_id'])).add_prefix('diff_AGMean_'),\n",
    "                (out_df / user_age_mean_df.drop(columns=['user_id'])).add_prefix('ratio_AGMean_')\n",
    "            ], axis=1)\n",
    "        \n",
    "        return out_df"
   ]
  },
  {
   "cell_type": "code",
   "execution_count": 36,
   "metadata": {},
   "outputs": [],
   "source": [
    "class UserCategoryHistoryBlock(AbstractBaseBlock):\n",
    "    \"\"\"ユーザーの購買履歴を部門名ごとに集計したベクトルを付与する特徴量 block\"\"\"\n",
    "    \n",
    "    def fit(self, input_df, y=None):\n",
    "        purchase_df = only_purchase_records(whole_log_df)\n",
    "        purchase_df = purchase_df.rename(columns={ 'value_1': 'JAN' })\n",
    "        category = annot_category(purchase_df, product_master_df)\n",
    "        idx_null = category.isnull()  # JAN が紐付かないやつ\n",
    "        \n",
    "        # target の情報はリークになる可能性があるので削除する\n",
    "        idx_none_target = ~category.isin(TARGET_IDS)\n",
    "        \n",
    "        # 商品マスタの部門名を取り出して集計\n",
    "        category_id = pd.merge(purchase_df['JAN'], product_master_df[['JAN', 'category_id']], on='JAN', how='left')['category_id']\n",
    "        \n",
    "        _df = pd.pivot_table(data=purchase_df[idx_none_target], \n",
    "               index='user_id', \n",
    "               columns=category_id[idx_none_target],\n",
    "              values='n_items',\n",
    "              aggfunc='sum')\\\n",
    "                .fillna(0)\n",
    "        \n",
    "        id2name = dict(zip(product_master_df['category_id'], product_master_df['category_name']))\n",
    "        # ユーザーごとに平均化. \n",
    "        # _1個は買ったことがあるという事前情報をもたせる\n",
    "        _df += 1\n",
    "        _df = _df.div(_df.sum(axis=1), axis=0)\n",
    "        _df.columns = _df.columns.map(id2name)\n",
    "        \n",
    "        self.agg_df_ = _df\n",
    "        \n",
    "        return self.transform(input_df)\n",
    "    \n",
    "    def transform(self, input_df):\n",
    "        out_df = merge_and_fill_user_mean(input_df, agg_df=self.agg_df_, use_ratio=False)\n",
    "        return out_df.add_prefix('ratio_category=')"
   ]
  },
  {
   "cell_type": "code",
   "execution_count": 37,
   "metadata": {},
   "outputs": [],
   "source": [
    "class UserHistoryBlock(AbstractBaseBlock):\n",
    "    \"\"\"ユーザーの購買履歴を部門名ごとに集計したベクトルを付与する特徴量 block\"\"\"\n",
    "    \n",
    "    def fit(self, input_df, y=None):\n",
    "        purchase_df = only_purchase_records(whole_log_df)\n",
    "        purchase_df = purchase_df.rename(columns={ 'value_1': 'JAN' })\n",
    "        category = annot_category(purchase_df, product_master_df)\n",
    "        idx_null = category.isnull()  # JAN が紐付かないやつ\n",
    "        \n",
    "        # target の情報はリークになる可能性があるので削除する\n",
    "        idx_none_target = ~category.isin(TARGET_IDS)\n",
    "        \n",
    "        # 商品マスタの部門名を取り出して集計\n",
    "        bumon_name = pd.merge(purchase_df['JAN'], product_master_df[['JAN', '部門名']], on='JAN', how='left')['部門名']\n",
    "        \n",
    "        _df = pd.pivot_table(data=purchase_df[idx_none_target], \n",
    "               index='user_id', \n",
    "               columns=bumon_name[idx_none_target],\n",
    "              values='n_items',\n",
    "              aggfunc='sum')\\\n",
    "                .fillna(0)\n",
    "        \n",
    "        # ユーザーごとに平均化. \n",
    "        _df += 1  # 1個は買ったことがあるという事前情報をもたせる\n",
    "        _df = _df.div(_df.sum(axis=1), axis=0)\n",
    "        \n",
    "        self.agg_df_ = _df\n",
    "        \n",
    "        return self.transform(input_df)\n",
    "    \n",
    "    def transform(self, input_df):\n",
    "        out_df = merge_and_fill_user_mean(input_df, agg_df=self.agg_df_, use_ratio=True)\n",
    "        return out_df.add_prefix('ratio_部門名=')"
   ]
  },
  {
   "cell_type": "code",
   "execution_count": 38,
   "metadata": {},
   "outputs": [
    {
     "data": {
      "text/html": [
       "<div>\n",
       "<style scoped>\n",
       "    .dataframe tbody tr th:only-of-type {\n",
       "        vertical-align: middle;\n",
       "    }\n",
       "\n",
       "    .dataframe tbody tr th {\n",
       "        vertical-align: top;\n",
       "    }\n",
       "\n",
       "    .dataframe thead th {\n",
       "        text-align: right;\n",
       "    }\n",
       "</style>\n",
       "<table border=\"1\" class=\"dataframe\">\n",
       "  <thead>\n",
       "    <tr style=\"text-align: right;\">\n",
       "      <th></th>\n",
       "      <th>ratio_部門名=100円均一</th>\n",
       "      <th>ratio_部門名=AV家電</th>\n",
       "      <th>ratio_部門名=おもちゃ</th>\n",
       "      <th>ratio_部門名=たばこ</th>\n",
       "      <th>ratio_部門名=アイスクリーム</th>\n",
       "      <th>ratio_部門名=インテリア</th>\n",
       "      <th>ratio_部門名=オーラルケア</th>\n",
       "      <th>ratio_部門名=カスタマー</th>\n",
       "      <th>ratio_部門名=カー用品</th>\n",
       "      <th>ratio_部門名=キッズアウター</th>\n",
       "      <th>...</th>\n",
       "      <th>ratio_部門名=ratio_AGMean_調理家電</th>\n",
       "      <th>ratio_部門名=ratio_AGMean_調理素材</th>\n",
       "      <th>ratio_部門名=ratio_AGMean_豚肉</th>\n",
       "      <th>ratio_部門名=ratio_AGMean_軽家具・収納</th>\n",
       "      <th>ratio_部門名=ratio_AGMean_農産加工</th>\n",
       "      <th>ratio_部門名=ratio_AGMean_野菜</th>\n",
       "      <th>ratio_部門名=ratio_AGMean_釣具</th>\n",
       "      <th>ratio_部門名=ratio_AGMean_雑誌･CD</th>\n",
       "      <th>ratio_部門名=ratio_AGMean_鶏肉</th>\n",
       "      <th>ratio_部門名=ratio_AGMean_麺類</th>\n",
       "    </tr>\n",
       "  </thead>\n",
       "  <tbody>\n",
       "    <tr>\n",
       "      <th>0</th>\n",
       "      <td>0.001370</td>\n",
       "      <td>0.000457</td>\n",
       "      <td>0.000457</td>\n",
       "      <td>0.000457</td>\n",
       "      <td>0.008680</td>\n",
       "      <td>0.002741</td>\n",
       "      <td>0.023755</td>\n",
       "      <td>0.000457</td>\n",
       "      <td>0.000457</td>\n",
       "      <td>0.000457</td>\n",
       "      <td>...</td>\n",
       "      <td>0.101624</td>\n",
       "      <td>2.300644</td>\n",
       "      <td>1.482956</td>\n",
       "      <td>0.100743</td>\n",
       "      <td>0.636786</td>\n",
       "      <td>1.885019</td>\n",
       "      <td>0.097011</td>\n",
       "      <td>0.101554</td>\n",
       "      <td>1.013374</td>\n",
       "      <td>2.109575</td>\n",
       "    </tr>\n",
       "    <tr>\n",
       "      <th>1</th>\n",
       "      <td>0.000571</td>\n",
       "      <td>0.000571</td>\n",
       "      <td>0.000571</td>\n",
       "      <td>0.001712</td>\n",
       "      <td>0.006849</td>\n",
       "      <td>0.001142</td>\n",
       "      <td>0.007991</td>\n",
       "      <td>0.000571</td>\n",
       "      <td>0.004566</td>\n",
       "      <td>0.000571</td>\n",
       "      <td>...</td>\n",
       "      <td>0.103495</td>\n",
       "      <td>1.513442</td>\n",
       "      <td>1.406228</td>\n",
       "      <td>0.205857</td>\n",
       "      <td>2.031128</td>\n",
       "      <td>2.074560</td>\n",
       "      <td>0.094857</td>\n",
       "      <td>0.104144</td>\n",
       "      <td>3.186122</td>\n",
       "      <td>0.988662</td>\n",
       "    </tr>\n",
       "    <tr>\n",
       "      <th>2</th>\n",
       "      <td>0.001613</td>\n",
       "      <td>0.001613</td>\n",
       "      <td>0.001613</td>\n",
       "      <td>0.001613</td>\n",
       "      <td>0.001613</td>\n",
       "      <td>0.001613</td>\n",
       "      <td>0.004839</td>\n",
       "      <td>0.001613</td>\n",
       "      <td>0.001613</td>\n",
       "      <td>0.003226</td>\n",
       "      <td>...</td>\n",
       "      <td>0.341740</td>\n",
       "      <td>1.709447</td>\n",
       "      <td>2.328353</td>\n",
       "      <td>0.339026</td>\n",
       "      <td>1.158404</td>\n",
       "      <td>1.574699</td>\n",
       "      <td>0.329939</td>\n",
       "      <td>0.686853</td>\n",
       "      <td>1.485759</td>\n",
       "      <td>1.698558</td>\n",
       "    </tr>\n",
       "    <tr>\n",
       "      <th>3</th>\n",
       "      <td>0.000958</td>\n",
       "      <td>0.000958</td>\n",
       "      <td>0.000958</td>\n",
       "      <td>0.000958</td>\n",
       "      <td>0.013410</td>\n",
       "      <td>0.000958</td>\n",
       "      <td>0.001916</td>\n",
       "      <td>0.000958</td>\n",
       "      <td>0.000958</td>\n",
       "      <td>0.000958</td>\n",
       "      <td>...</td>\n",
       "      <td>0.198794</td>\n",
       "      <td>0.848804</td>\n",
       "      <td>2.588515</td>\n",
       "      <td>0.195570</td>\n",
       "      <td>0.354145</td>\n",
       "      <td>1.164188</td>\n",
       "      <td>0.190249</td>\n",
       "      <td>0.199464</td>\n",
       "      <td>2.761228</td>\n",
       "      <td>0.680900</td>\n",
       "    </tr>\n",
       "    <tr>\n",
       "      <th>4</th>\n",
       "      <td>0.000747</td>\n",
       "      <td>0.000747</td>\n",
       "      <td>0.000747</td>\n",
       "      <td>0.000747</td>\n",
       "      <td>0.000747</td>\n",
       "      <td>0.000747</td>\n",
       "      <td>0.014200</td>\n",
       "      <td>0.000747</td>\n",
       "      <td>0.001495</td>\n",
       "      <td>0.000747</td>\n",
       "      <td>...</td>\n",
       "      <td>0.158662</td>\n",
       "      <td>1.855949</td>\n",
       "      <td>2.024752</td>\n",
       "      <td>0.158474</td>\n",
       "      <td>1.203728</td>\n",
       "      <td>1.784442</td>\n",
       "      <td>0.145239</td>\n",
       "      <td>0.159019</td>\n",
       "      <td>0.886685</td>\n",
       "      <td>1.824732</td>\n",
       "    </tr>\n",
       "    <tr>\n",
       "      <th>...</th>\n",
       "      <td>...</td>\n",
       "      <td>...</td>\n",
       "      <td>...</td>\n",
       "      <td>...</td>\n",
       "      <td>...</td>\n",
       "      <td>...</td>\n",
       "      <td>...</td>\n",
       "      <td>...</td>\n",
       "      <td>...</td>\n",
       "      <td>...</td>\n",
       "      <td>...</td>\n",
       "      <td>...</td>\n",
       "      <td>...</td>\n",
       "      <td>...</td>\n",
       "      <td>...</td>\n",
       "      <td>...</td>\n",
       "      <td>...</td>\n",
       "      <td>...</td>\n",
       "      <td>...</td>\n",
       "      <td>...</td>\n",
       "      <td>...</td>\n",
       "    </tr>\n",
       "    <tr>\n",
       "      <th>366473</th>\n",
       "      <td>0.001294</td>\n",
       "      <td>0.001294</td>\n",
       "      <td>0.001294</td>\n",
       "      <td>0.006468</td>\n",
       "      <td>0.001294</td>\n",
       "      <td>0.002587</td>\n",
       "      <td>0.015524</td>\n",
       "      <td>0.001294</td>\n",
       "      <td>0.002587</td>\n",
       "      <td>0.001294</td>\n",
       "      <td>...</td>\n",
       "      <td>0.239016</td>\n",
       "      <td>0.398356</td>\n",
       "      <td>0.564623</td>\n",
       "      <td>0.237153</td>\n",
       "      <td>0.816518</td>\n",
       "      <td>4.988287</td>\n",
       "      <td>0.219768</td>\n",
       "      <td>0.238879</td>\n",
       "      <td>1.045990</td>\n",
       "      <td>0.381217</td>\n",
       "    </tr>\n",
       "    <tr>\n",
       "      <th>366474</th>\n",
       "      <td>0.000999</td>\n",
       "      <td>0.000999</td>\n",
       "      <td>0.000999</td>\n",
       "      <td>0.000999</td>\n",
       "      <td>0.000999</td>\n",
       "      <td>0.000999</td>\n",
       "      <td>0.012987</td>\n",
       "      <td>0.000999</td>\n",
       "      <td>0.000999</td>\n",
       "      <td>0.000999</td>\n",
       "      <td>...</td>\n",
       "      <td>0.180584</td>\n",
       "      <td>2.680469</td>\n",
       "      <td>4.870722</td>\n",
       "      <td>0.179651</td>\n",
       "      <td>1.301503</td>\n",
       "      <td>3.481508</td>\n",
       "      <td>0.170218</td>\n",
       "      <td>0.180708</td>\n",
       "      <td>5.818141</td>\n",
       "      <td>2.551955</td>\n",
       "    </tr>\n",
       "    <tr>\n",
       "      <th>366475</th>\n",
       "      <td>0.001946</td>\n",
       "      <td>0.001946</td>\n",
       "      <td>0.001946</td>\n",
       "      <td>0.001946</td>\n",
       "      <td>0.001946</td>\n",
       "      <td>0.003891</td>\n",
       "      <td>0.011673</td>\n",
       "      <td>0.001946</td>\n",
       "      <td>0.001946</td>\n",
       "      <td>0.001946</td>\n",
       "      <td>...</td>\n",
       "      <td>0.401536</td>\n",
       "      <td>1.879362</td>\n",
       "      <td>0.265716</td>\n",
       "      <td>0.396645</td>\n",
       "      <td>3.119242</td>\n",
       "      <td>1.178659</td>\n",
       "      <td>0.396336</td>\n",
       "      <td>0.401611</td>\n",
       "      <td>0.799991</td>\n",
       "      <td>2.366754</td>\n",
       "    </tr>\n",
       "    <tr>\n",
       "      <th>366476</th>\n",
       "      <td>0.007692</td>\n",
       "      <td>0.007692</td>\n",
       "      <td>0.007692</td>\n",
       "      <td>0.007692</td>\n",
       "      <td>0.007692</td>\n",
       "      <td>0.007692</td>\n",
       "      <td>0.007692</td>\n",
       "      <td>0.007692</td>\n",
       "      <td>0.007692</td>\n",
       "      <td>0.007692</td>\n",
       "      <td>...</td>\n",
       "      <td>1.372910</td>\n",
       "      <td>0.715970</td>\n",
       "      <td>0.579443</td>\n",
       "      <td>1.341023</td>\n",
       "      <td>0.559023</td>\n",
       "      <td>0.204292</td>\n",
       "      <td>1.347590</td>\n",
       "      <td>1.381394</td>\n",
       "      <td>0.630578</td>\n",
       "      <td>0.788463</td>\n",
       "    </tr>\n",
       "    <tr>\n",
       "      <th>366477</th>\n",
       "      <td>0.007519</td>\n",
       "      <td>0.007519</td>\n",
       "      <td>0.007519</td>\n",
       "      <td>0.007519</td>\n",
       "      <td>0.007519</td>\n",
       "      <td>0.007519</td>\n",
       "      <td>0.007519</td>\n",
       "      <td>0.007519</td>\n",
       "      <td>0.007519</td>\n",
       "      <td>0.007519</td>\n",
       "      <td>...</td>\n",
       "      <td>1.341942</td>\n",
       "      <td>0.699821</td>\n",
       "      <td>0.566373</td>\n",
       "      <td>1.310774</td>\n",
       "      <td>0.546414</td>\n",
       "      <td>0.199684</td>\n",
       "      <td>1.317193</td>\n",
       "      <td>1.350235</td>\n",
       "      <td>0.616354</td>\n",
       "      <td>0.770678</td>\n",
       "    </tr>\n",
       "  </tbody>\n",
       "</table>\n",
       "<p>366478 rows × 250 columns</p>\n",
       "</div>"
      ],
      "text/plain": [
       "        ratio_部門名=100円均一  ratio_部門名=AV家電  ratio_部門名=おもちゃ  ratio_部門名=たばこ  \\\n",
       "0               0.001370        0.000457        0.000457       0.000457   \n",
       "1               0.000571        0.000571        0.000571       0.001712   \n",
       "2               0.001613        0.001613        0.001613       0.001613   \n",
       "3               0.000958        0.000958        0.000958       0.000958   \n",
       "4               0.000747        0.000747        0.000747       0.000747   \n",
       "...                  ...             ...             ...            ...   \n",
       "366473          0.001294        0.001294        0.001294       0.006468   \n",
       "366474          0.000999        0.000999        0.000999       0.000999   \n",
       "366475          0.001946        0.001946        0.001946       0.001946   \n",
       "366476          0.007692        0.007692        0.007692       0.007692   \n",
       "366477          0.007519        0.007519        0.007519       0.007519   \n",
       "\n",
       "        ratio_部門名=アイスクリーム  ratio_部門名=インテリア  ratio_部門名=オーラルケア  ratio_部門名=カスタマー  \\\n",
       "0                0.008680         0.002741          0.023755         0.000457   \n",
       "1                0.006849         0.001142          0.007991         0.000571   \n",
       "2                0.001613         0.001613          0.004839         0.001613   \n",
       "3                0.013410         0.000958          0.001916         0.000958   \n",
       "4                0.000747         0.000747          0.014200         0.000747   \n",
       "...                   ...              ...               ...              ...   \n",
       "366473           0.001294         0.002587          0.015524         0.001294   \n",
       "366474           0.000999         0.000999          0.012987         0.000999   \n",
       "366475           0.001946         0.003891          0.011673         0.001946   \n",
       "366476           0.007692         0.007692          0.007692         0.007692   \n",
       "366477           0.007519         0.007519          0.007519         0.007519   \n",
       "\n",
       "        ratio_部門名=カー用品  ratio_部門名=キッズアウター  ...  ratio_部門名=ratio_AGMean_調理家電  \\\n",
       "0             0.000457           0.000457  ...                     0.101624   \n",
       "1             0.004566           0.000571  ...                     0.103495   \n",
       "2             0.001613           0.003226  ...                     0.341740   \n",
       "3             0.000958           0.000958  ...                     0.198794   \n",
       "4             0.001495           0.000747  ...                     0.158662   \n",
       "...                ...                ...  ...                          ...   \n",
       "366473        0.002587           0.001294  ...                     0.239016   \n",
       "366474        0.000999           0.000999  ...                     0.180584   \n",
       "366475        0.001946           0.001946  ...                     0.401536   \n",
       "366476        0.007692           0.007692  ...                     1.372910   \n",
       "366477        0.007519           0.007519  ...                     1.341942   \n",
       "\n",
       "        ratio_部門名=ratio_AGMean_調理素材  ratio_部門名=ratio_AGMean_豚肉  \\\n",
       "0                          2.300644                   1.482956   \n",
       "1                          1.513442                   1.406228   \n",
       "2                          1.709447                   2.328353   \n",
       "3                          0.848804                   2.588515   \n",
       "4                          1.855949                   2.024752   \n",
       "...                             ...                        ...   \n",
       "366473                     0.398356                   0.564623   \n",
       "366474                     2.680469                   4.870722   \n",
       "366475                     1.879362                   0.265716   \n",
       "366476                     0.715970                   0.579443   \n",
       "366477                     0.699821                   0.566373   \n",
       "\n",
       "        ratio_部門名=ratio_AGMean_軽家具・収納  ratio_部門名=ratio_AGMean_農産加工  \\\n",
       "0                            0.100743                     0.636786   \n",
       "1                            0.205857                     2.031128   \n",
       "2                            0.339026                     1.158404   \n",
       "3                            0.195570                     0.354145   \n",
       "4                            0.158474                     1.203728   \n",
       "...                               ...                          ...   \n",
       "366473                       0.237153                     0.816518   \n",
       "366474                       0.179651                     1.301503   \n",
       "366475                       0.396645                     3.119242   \n",
       "366476                       1.341023                     0.559023   \n",
       "366477                       1.310774                     0.546414   \n",
       "\n",
       "        ratio_部門名=ratio_AGMean_野菜  ratio_部門名=ratio_AGMean_釣具  \\\n",
       "0                        1.885019                   0.097011   \n",
       "1                        2.074560                   0.094857   \n",
       "2                        1.574699                   0.329939   \n",
       "3                        1.164188                   0.190249   \n",
       "4                        1.784442                   0.145239   \n",
       "...                           ...                        ...   \n",
       "366473                   4.988287                   0.219768   \n",
       "366474                   3.481508                   0.170218   \n",
       "366475                   1.178659                   0.396336   \n",
       "366476                   0.204292                   1.347590   \n",
       "366477                   0.199684                   1.317193   \n",
       "\n",
       "        ratio_部門名=ratio_AGMean_雑誌･CD  ratio_部門名=ratio_AGMean_鶏肉  \\\n",
       "0                           0.101554                   1.013374   \n",
       "1                           0.104144                   3.186122   \n",
       "2                           0.686853                   1.485759   \n",
       "3                           0.199464                   2.761228   \n",
       "4                           0.159019                   0.886685   \n",
       "...                              ...                        ...   \n",
       "366473                      0.238879                   1.045990   \n",
       "366474                      0.180708                   5.818141   \n",
       "366475                      0.401611                   0.799991   \n",
       "366476                      1.381394                   0.630578   \n",
       "366477                      1.350235                   0.616354   \n",
       "\n",
       "        ratio_部門名=ratio_AGMean_麺類  \n",
       "0                        2.109575  \n",
       "1                        0.988662  \n",
       "2                        1.698558  \n",
       "3                        0.680900  \n",
       "4                        1.824732  \n",
       "...                           ...  \n",
       "366473                   0.381217  \n",
       "366474                   2.551955  \n",
       "366475                   2.366754  \n",
       "366476                   0.788463  \n",
       "366477                   0.770678  \n",
       "\n",
       "[366478 rows x 250 columns]"
      ]
     },
     "execution_count": 38,
     "metadata": {},
     "output_type": "execute_result"
    }
   ],
   "source": [
    "UserHistoryBlock().fit(train_meta_df)"
   ]
  },
  {
   "cell_type": "code",
   "execution_count": 39,
   "metadata": {},
   "outputs": [],
   "source": [
    "class ShoppingActionBlock(AbstractBaseBlock):\n",
    "    def fit(self, input_df, y=None):\n",
    "        purchase_df = only_purchase_records(whole_log_df)\n",
    "        _df = pd.pivot_table(data=purchase_df, \n",
    "               index='user_id', \n",
    "               columns='display_action_id',\n",
    "              values='session_id',\n",
    "              aggfunc='count')\\\n",
    "                .fillna(0)\n",
    "\n",
    "        n_shopping = purchase_df.groupby('user_id')['session_id'].nunique()\n",
    "        _df = _df.div(n_shopping, axis=0)\n",
    "        _df.columns = _df.columns.map(display_action2name)\n",
    "        self.agg_df_ = _df\n",
    "        return self.transform(input_df)\n",
    "    \n",
    "    def transform(self, input_df):\n",
    "        out_df = merge_and_fill_user_mean(input_df, agg_df=self.agg_df_, use_ratio=False)\n",
    "        return out_df.add_prefix('UserActionRatio=')"
   ]
  },
  {
   "cell_type": "code",
   "execution_count": 40,
   "metadata": {},
   "outputs": [],
   "source": [
    "class UserShoppingTimeBlock(AbstractBaseBlock):\n",
    "    \"\"\"ユーザーごとのお買い物時間の特徴量. 買物時間が長い=非計画購買が多い可能性が高いのでそういう情報を取り出したいという気持ち.\n",
    "    \n",
    "    - 買物完了したレコードに対して\n",
    "    - セッションごとの最大時間 (これを買物の時間と定義) を計算して\n",
    "    - ユーザーに紐づくセッションの平均・最大・最小・分散を計算\n",
    "    \"\"\"\n",
    "    def fit(self, input_df, y=None):\n",
    "        self.user_session_df_ = pd.merge(payment_session_df[['session_id', 'user_id']], \n",
    "                                          whole_log_df.groupby('session_id')['spend_time'].max(), \n",
    "                                          on='session_id', how='left')\\\n",
    "            .groupby('user_id')['spend_time'].agg(['min', 'max', 'mean', 'std'])\n",
    "        return self.transform(input_df)\n",
    "    \n",
    "    def transform(self, input_df):\n",
    "        out_df = merge_and_fill_user_mean(input_df=input_df, agg_df=self.user_session_df_)\n",
    "        out_df = pd.concat([\n",
    "            out_df, out_df[['min', 'max', 'mean']].sub(input_df['time_elapsed'].values * 60, axis=0).add_suffix('_minus_time_elapsed')\n",
    "        ], axis=1)\n",
    "        return out_df.add_prefix('user_session_spend_time=')"
   ]
  },
  {
   "cell_type": "code",
   "execution_count": 41,
   "metadata": {},
   "outputs": [
    {
     "data": {
      "text/html": [
       "<div>\n",
       "<style scoped>\n",
       "    .dataframe tbody tr th:only-of-type {\n",
       "        vertical-align: middle;\n",
       "    }\n",
       "\n",
       "    .dataframe tbody tr th {\n",
       "        vertical-align: top;\n",
       "    }\n",
       "\n",
       "    .dataframe thead th {\n",
       "        text-align: right;\n",
       "    }\n",
       "</style>\n",
       "<table border=\"1\" class=\"dataframe\">\n",
       "  <thead>\n",
       "    <tr style=\"text-align: right;\">\n",
       "      <th></th>\n",
       "      <th>user_session_spend_time=min</th>\n",
       "      <th>user_session_spend_time=max</th>\n",
       "      <th>user_session_spend_time=mean</th>\n",
       "      <th>user_session_spend_time=std</th>\n",
       "      <th>user_session_spend_time=ratio_AGMean_min</th>\n",
       "      <th>user_session_spend_time=ratio_AGMean_max</th>\n",
       "      <th>user_session_spend_time=ratio_AGMean_mean</th>\n",
       "      <th>user_session_spend_time=ratio_AGMean_std</th>\n",
       "      <th>user_session_spend_time=min_minus_time_elapsed</th>\n",
       "      <th>user_session_spend_time=max_minus_time_elapsed</th>\n",
       "      <th>user_session_spend_time=mean_minus_time_elapsed</th>\n",
       "    </tr>\n",
       "  </thead>\n",
       "  <tbody>\n",
       "    <tr>\n",
       "      <th>0</th>\n",
       "      <td>47</td>\n",
       "      <td>5012</td>\n",
       "      <td>2472.398635</td>\n",
       "      <td>1019.040389</td>\n",
       "      <td>0.081664</td>\n",
       "      <td>1.461738</td>\n",
       "      <td>1.776622</td>\n",
       "      <td>1.931759</td>\n",
       "      <td>47</td>\n",
       "      <td>5012</td>\n",
       "      <td>2472.398635</td>\n",
       "    </tr>\n",
       "    <tr>\n",
       "      <th>1</th>\n",
       "      <td>12</td>\n",
       "      <td>3771</td>\n",
       "      <td>1344.402324</td>\n",
       "      <td>525.531021</td>\n",
       "      <td>0.029289</td>\n",
       "      <td>1.712811</td>\n",
       "      <td>1.540151</td>\n",
       "      <td>1.409881</td>\n",
       "      <td>-588</td>\n",
       "      <td>3171</td>\n",
       "      <td>744.402324</td>\n",
       "    </tr>\n",
       "    <tr>\n",
       "      <th>2</th>\n",
       "      <td>51</td>\n",
       "      <td>1881</td>\n",
       "      <td>961.065327</td>\n",
       "      <td>490.194410</td>\n",
       "      <td>0.080424</td>\n",
       "      <td>0.504584</td>\n",
       "      <td>0.687236</td>\n",
       "      <td>0.907719</td>\n",
       "      <td>-549</td>\n",
       "      <td>1281</td>\n",
       "      <td>361.065327</td>\n",
       "    </tr>\n",
       "    <tr>\n",
       "      <th>3</th>\n",
       "      <td>14</td>\n",
       "      <td>2321</td>\n",
       "      <td>326.177089</td>\n",
       "      <td>487.010474</td>\n",
       "      <td>0.023618</td>\n",
       "      <td>0.454061</td>\n",
       "      <td>0.234087</td>\n",
       "      <td>0.661536</td>\n",
       "      <td>-586</td>\n",
       "      <td>1721</td>\n",
       "      <td>-273.822911</td>\n",
       "    </tr>\n",
       "    <tr>\n",
       "      <th>4</th>\n",
       "      <td>19</td>\n",
       "      <td>2744</td>\n",
       "      <td>792.603476</td>\n",
       "      <td>305.813314</td>\n",
       "      <td>0.032758</td>\n",
       "      <td>0.680272</td>\n",
       "      <td>0.553837</td>\n",
       "      <td>0.484348</td>\n",
       "      <td>19</td>\n",
       "      <td>2744</td>\n",
       "      <td>792.603476</td>\n",
       "    </tr>\n",
       "    <tr>\n",
       "      <th>...</th>\n",
       "      <td>...</td>\n",
       "      <td>...</td>\n",
       "      <td>...</td>\n",
       "      <td>...</td>\n",
       "      <td>...</td>\n",
       "      <td>...</td>\n",
       "      <td>...</td>\n",
       "      <td>...</td>\n",
       "      <td>...</td>\n",
       "      <td>...</td>\n",
       "      <td>...</td>\n",
       "    </tr>\n",
       "    <tr>\n",
       "      <th>366473</th>\n",
       "      <td>66</td>\n",
       "      <td>3014</td>\n",
       "      <td>1081.871192</td>\n",
       "      <td>533.692757</td>\n",
       "      <td>0.132086</td>\n",
       "      <td>1.180881</td>\n",
       "      <td>1.036111</td>\n",
       "      <td>1.307890</td>\n",
       "      <td>-234</td>\n",
       "      <td>2714</td>\n",
       "      <td>781.871192</td>\n",
       "    </tr>\n",
       "    <tr>\n",
       "      <th>366474</th>\n",
       "      <td>142</td>\n",
       "      <td>2797</td>\n",
       "      <td>1767.988267</td>\n",
       "      <td>544.954223</td>\n",
       "      <td>0.268981</td>\n",
       "      <td>0.921369</td>\n",
       "      <td>1.641160</td>\n",
       "      <td>1.215925</td>\n",
       "      <td>-38</td>\n",
       "      <td>2617</td>\n",
       "      <td>1587.988267</td>\n",
       "    </tr>\n",
       "    <tr>\n",
       "      <th>366475</th>\n",
       "      <td>19</td>\n",
       "      <td>3256</td>\n",
       "      <td>1344.112474</td>\n",
       "      <td>722.483164</td>\n",
       "      <td>0.031007</td>\n",
       "      <td>0.937172</td>\n",
       "      <td>0.966312</td>\n",
       "      <td>1.349240</td>\n",
       "      <td>-581</td>\n",
       "      <td>2656</td>\n",
       "      <td>744.112474</td>\n",
       "    </tr>\n",
       "    <tr>\n",
       "      <th>366476</th>\n",
       "      <td>1007</td>\n",
       "      <td>1007</td>\n",
       "      <td>1007.000000</td>\n",
       "      <td>0.000000</td>\n",
       "      <td>1.424898</td>\n",
       "      <td>0.442369</td>\n",
       "      <td>0.778993</td>\n",
       "      <td>0.000000</td>\n",
       "      <td>827</td>\n",
       "      <td>827</td>\n",
       "      <td>827.000000</td>\n",
       "    </tr>\n",
       "    <tr>\n",
       "      <th>366477</th>\n",
       "      <td>932</td>\n",
       "      <td>932</td>\n",
       "      <td>932.000000</td>\n",
       "      <td>0.000000</td>\n",
       "      <td>1.318773</td>\n",
       "      <td>0.409422</td>\n",
       "      <td>0.720974</td>\n",
       "      <td>0.000000</td>\n",
       "      <td>932</td>\n",
       "      <td>932</td>\n",
       "      <td>932.000000</td>\n",
       "    </tr>\n",
       "  </tbody>\n",
       "</table>\n",
       "<p>366478 rows × 11 columns</p>\n",
       "</div>"
      ],
      "text/plain": [
       "        user_session_spend_time=min  user_session_spend_time=max  \\\n",
       "0                                47                         5012   \n",
       "1                                12                         3771   \n",
       "2                                51                         1881   \n",
       "3                                14                         2321   \n",
       "4                                19                         2744   \n",
       "...                             ...                          ...   \n",
       "366473                           66                         3014   \n",
       "366474                          142                         2797   \n",
       "366475                           19                         3256   \n",
       "366476                         1007                         1007   \n",
       "366477                          932                          932   \n",
       "\n",
       "        user_session_spend_time=mean  user_session_spend_time=std  \\\n",
       "0                        2472.398635                  1019.040389   \n",
       "1                        1344.402324                   525.531021   \n",
       "2                         961.065327                   490.194410   \n",
       "3                         326.177089                   487.010474   \n",
       "4                         792.603476                   305.813314   \n",
       "...                              ...                          ...   \n",
       "366473                   1081.871192                   533.692757   \n",
       "366474                   1767.988267                   544.954223   \n",
       "366475                   1344.112474                   722.483164   \n",
       "366476                   1007.000000                     0.000000   \n",
       "366477                    932.000000                     0.000000   \n",
       "\n",
       "        user_session_spend_time=ratio_AGMean_min  \\\n",
       "0                                       0.081664   \n",
       "1                                       0.029289   \n",
       "2                                       0.080424   \n",
       "3                                       0.023618   \n",
       "4                                       0.032758   \n",
       "...                                          ...   \n",
       "366473                                  0.132086   \n",
       "366474                                  0.268981   \n",
       "366475                                  0.031007   \n",
       "366476                                  1.424898   \n",
       "366477                                  1.318773   \n",
       "\n",
       "        user_session_spend_time=ratio_AGMean_max  \\\n",
       "0                                       1.461738   \n",
       "1                                       1.712811   \n",
       "2                                       0.504584   \n",
       "3                                       0.454061   \n",
       "4                                       0.680272   \n",
       "...                                          ...   \n",
       "366473                                  1.180881   \n",
       "366474                                  0.921369   \n",
       "366475                                  0.937172   \n",
       "366476                                  0.442369   \n",
       "366477                                  0.409422   \n",
       "\n",
       "        user_session_spend_time=ratio_AGMean_mean  \\\n",
       "0                                        1.776622   \n",
       "1                                        1.540151   \n",
       "2                                        0.687236   \n",
       "3                                        0.234087   \n",
       "4                                        0.553837   \n",
       "...                                           ...   \n",
       "366473                                   1.036111   \n",
       "366474                                   1.641160   \n",
       "366475                                   0.966312   \n",
       "366476                                   0.778993   \n",
       "366477                                   0.720974   \n",
       "\n",
       "        user_session_spend_time=ratio_AGMean_std  \\\n",
       "0                                       1.931759   \n",
       "1                                       1.409881   \n",
       "2                                       0.907719   \n",
       "3                                       0.661536   \n",
       "4                                       0.484348   \n",
       "...                                          ...   \n",
       "366473                                  1.307890   \n",
       "366474                                  1.215925   \n",
       "366475                                  1.349240   \n",
       "366476                                  0.000000   \n",
       "366477                                  0.000000   \n",
       "\n",
       "        user_session_spend_time=min_minus_time_elapsed  \\\n",
       "0                                                   47   \n",
       "1                                                 -588   \n",
       "2                                                 -549   \n",
       "3                                                 -586   \n",
       "4                                                   19   \n",
       "...                                                ...   \n",
       "366473                                            -234   \n",
       "366474                                             -38   \n",
       "366475                                            -581   \n",
       "366476                                             827   \n",
       "366477                                             932   \n",
       "\n",
       "        user_session_spend_time=max_minus_time_elapsed  \\\n",
       "0                                                 5012   \n",
       "1                                                 3171   \n",
       "2                                                 1281   \n",
       "3                                                 1721   \n",
       "4                                                 2744   \n",
       "...                                                ...   \n",
       "366473                                            2714   \n",
       "366474                                            2617   \n",
       "366475                                            2656   \n",
       "366476                                             827   \n",
       "366477                                             932   \n",
       "\n",
       "        user_session_spend_time=mean_minus_time_elapsed  \n",
       "0                                           2472.398635  \n",
       "1                                            744.402324  \n",
       "2                                            361.065327  \n",
       "3                                           -273.822911  \n",
       "4                                            792.603476  \n",
       "...                                                 ...  \n",
       "366473                                       781.871192  \n",
       "366474                                      1587.988267  \n",
       "366475                                       744.112474  \n",
       "366476                                       827.000000  \n",
       "366477                                       932.000000  \n",
       "\n",
       "[366478 rows x 11 columns]"
      ]
     },
     "execution_count": 41,
     "metadata": {},
     "output_type": "execute_result"
    }
   ],
   "source": [
    "block = UserShoppingTimeBlock()\n",
    "block.fit(train_meta_df)"
   ]
  },
  {
   "cell_type": "code",
   "execution_count": 42,
   "metadata": {},
   "outputs": [],
   "source": [
    "class PublicLogBlock(AbstractBaseBlock):\n",
    "    def fit(self, input_df, y=None):\n",
    "        self.agg_df_ = pd.concat([\n",
    "            public_log_df.groupby('session_id')['n_items'].sum().rename('total_items'),\n",
    "            public_log_df[public_log_df['kind_1'] == '商品'].groupby('session_id')['value_1'].nunique().rename('JAN_nunique')\n",
    "        ], axis=1)\n",
    "        \n",
    "        return self.transform(input_df)\n",
    "    \n",
    "    def transform(self, input_df):\n",
    "        out_df = pd.merge(input_df['session_id'], self.agg_df_, on='session_id', how='left').drop(columns=['session_id'])\n",
    "        out_df = out_df.fillna(0)\n",
    "        return out_df.add_prefix('public_log=')"
   ]
  },
  {
   "cell_type": "code",
   "execution_count": 43,
   "metadata": {},
   "outputs": [],
   "source": [
    "class PublicLogCategoryBlock(AbstractBaseBlock):\n",
    "    def fit(self, input_df, y=None):\n",
    "            _df = public_log_df[['session_id', 'value_1', 'n_items']].copy()\n",
    "            _df['category_id'] = annot_category(_df, master_df=product_master_df)\n",
    "            self.agg_df_ = pd.pivot_table(\n",
    "                data=_df, \n",
    "                columns='category_id', \n",
    "                index='session_id', \n",
    "                values='n_items', \n",
    "                aggfunc='sum').fillna(0)\n",
    "            \n",
    "            category_id2name = dict(zip(product_master_df['category_id'], product_master_df['category_name']))\n",
    "            self.agg_df_.columns = self.agg_df_.columns.map(category_id2name)\n",
    "            return self.transform(input_df)\n",
    "        \n",
    "    def transform(self, input_df):\n",
    "        out_df = pd.merge(input_df['session_id'], self.agg_df_, on='session_id', how='left').drop(columns=['session_id'])\n",
    "        out_df = out_df.fillna(0)\n",
    "        return out_df.add_prefix('PublicLog_category-sum=')"
   ]
  },
  {
   "cell_type": "code",
   "execution_count": 44,
   "metadata": {},
   "outputs": [],
   "source": [
    "class UserKindProfileBlock(AbstractBaseBlock):\n",
    "    def fit(self, input_df, y=None):\n",
    "        _df = pd.pivot_table(data=whole_log_df,\n",
    "                      index='user_id',\n",
    "                      columns='kind_1',\n",
    "                      values='session_id',\n",
    "                      aggfunc='count').fillna(0)\n",
    "\n",
    "        n_shopping = whole_log_df.groupby('user_id')['session_id'].nunique()\n",
    "        _df = _df.div(n_shopping, axis=0)\n",
    "\n",
    "        self.agg_df_ = _df\n",
    "        return self.transform(input_df)\n",
    "    \n",
    "    def transform(self, input_df):\n",
    "        out_df = merge_and_fill_user_mean(input_df=input_df, agg_df=self.agg_df_)\n",
    "        return out_df.add_prefix('user_kind_')"
   ]
  },
  {
   "cell_type": "code",
   "execution_count": 45,
   "metadata": {},
   "outputs": [],
   "source": [
    "meta_df['date'] = pd.to_datetime(meta_df['date'])"
   ]
  },
  {
   "cell_type": "code",
   "execution_count": 46,
   "metadata": {},
   "outputs": [],
   "source": [
    "class UserShoppingIntervalBlock(AbstractBaseBlock):\n",
    "    def _get_metadata(self):\n",
    "        return meta_df\n",
    "    \n",
    "    def fit(self, input_df, y=None):\n",
    "        df = meta_df[['session_id', 'user_id']].copy()\n",
    "        days = (meta_df['date'] - meta_df.groupby('user_id')['date'].shift(1)).dt.days\n",
    "        df['before_one_shopping'] = days\n",
    "        x = df.groupby('user_id')['before_one_shopping'].mean().rename('user_mean_shopping_interval')\n",
    "        x = x.fillna(x.mean())\n",
    "        df = pd.concat([df, pd.merge(df['user_id'], x, on='user_id', how='left')['user_mean_shopping_interval']], axis=1)\n",
    "        self.agg_df_ = df.drop(columns=['user_id'])\n",
    "        \n",
    "        return self.transform(input_df)\n",
    "    \n",
    "    def transform(self, input_df):\n",
    "        out_df = pd.merge(input_df['session_id'], \n",
    "                          self.agg_df_, \n",
    "                          on='session_id', \n",
    "                          how='left').drop(columns=['session_id']).fillna(0)\n",
    "        return out_df.add_prefix('USINT_')"
   ]
  },
  {
   "cell_type": "code",
   "execution_count": 47,
   "metadata": {},
   "outputs": [],
   "source": [
    "class BeforeBuyIntervalBlock(AbstractBaseBlock):\n",
    "    def __init__(self, category_id):\n",
    "        self.category_id = category_id\n",
    "\n",
    "    def fit(self, input_df, y=None):\n",
    "        log_df = pd.concat([public_log_df, whole_log_df], ignore_index=True)\n",
    "        jans = product_master_df[product_master_df['category_id'] == self.category_id]['JAN'].unique()\n",
    "        x = log_df[(log_df['kind_1'] == '商品') & (log_df['value_1'].isin(jans))].groupby('session_id')['n_items'].sum()\n",
    "\n",
    "        buy_sessions = x[x > 0].index\n",
    "        df = meta_df[['session_id', 'user_id', 'date']].copy()\n",
    "\n",
    "        df['buy'] = df['session_id'].isin(buy_sessions).astype(int)\n",
    "        out_df = pd.DataFrame()\n",
    "\n",
    "        # 過去平均何回買っているか\n",
    "        df['past_avg_buy'] = (df.groupby('user_id')['buy'].cumsum() - df['buy']) / (df.groupby('user_id').cumcount() + 1)\n",
    "\n",
    "        # 直前買ってから何日か\n",
    "        _x = pd.concat([\n",
    "            df[['user_id', 'date']],\n",
    "            (df.groupby('user_id')['buy'].cumsum() - df['buy'])\n",
    "        ], axis=1)\n",
    "        _x = _x.merge(_x.groupby(['user_id', 'buy'])['date'].first().rename('first_date'), on=['user_id', 'buy'], how='left')\n",
    "        _x = _x.merge(_x.groupby('user_id')['date'].first().rename('user_first_date'), on='user_id', how='left')\n",
    "        from_before_buy = np.where(_x['first_date'] == _x['user_first_date'], None, (_x['date'] - _x['first_date']).dt.days)\n",
    "        df['days_before_buy'] = from_before_buy\n",
    "        self.agg_df_ = df\n",
    "        \n",
    "        return self.transform(input_df)\n",
    "    \n",
    "    def transform(self, input_df):\n",
    "        out_df = pd.merge(input_df['session_id'], \n",
    "                          self.agg_df_, \n",
    "                          on='session_id', \n",
    "                          how='left').drop(columns=['session_id', 'user_id', 'date', 'buy'])\n",
    "        return out_df.add_prefix('BBInterval_{}_'.format(self.category_id))"
   ]
  },
  {
   "cell_type": "code",
   "execution_count": 48,
   "metadata": {},
   "outputs": [],
   "source": [
    "block = BeforeBuyIntervalBlock(171)"
   ]
  },
  {
   "cell_type": "code",
   "execution_count": 49,
   "metadata": {},
   "outputs": [
    {
     "data": {
      "text/html": [
       "<div>\n",
       "<style scoped>\n",
       "    .dataframe tbody tr th:only-of-type {\n",
       "        vertical-align: middle;\n",
       "    }\n",
       "\n",
       "    .dataframe tbody tr th {\n",
       "        vertical-align: top;\n",
       "    }\n",
       "\n",
       "    .dataframe thead th {\n",
       "        text-align: right;\n",
       "    }\n",
       "</style>\n",
       "<table border=\"1\" class=\"dataframe\">\n",
       "  <thead>\n",
       "    <tr style=\"text-align: right;\">\n",
       "      <th></th>\n",
       "      <th>BBInterval_171_past_avg_buy</th>\n",
       "      <th>BBInterval_171_days_before_buy</th>\n",
       "    </tr>\n",
       "  </thead>\n",
       "  <tbody>\n",
       "    <tr>\n",
       "      <th>0</th>\n",
       "      <td>0.000000</td>\n",
       "      <td>None</td>\n",
       "    </tr>\n",
       "    <tr>\n",
       "      <th>1</th>\n",
       "      <td>0.000000</td>\n",
       "      <td>None</td>\n",
       "    </tr>\n",
       "    <tr>\n",
       "      <th>2</th>\n",
       "      <td>0.000000</td>\n",
       "      <td>None</td>\n",
       "    </tr>\n",
       "    <tr>\n",
       "      <th>3</th>\n",
       "      <td>0.000000</td>\n",
       "      <td>None</td>\n",
       "    </tr>\n",
       "    <tr>\n",
       "      <th>4</th>\n",
       "      <td>0.000000</td>\n",
       "      <td>None</td>\n",
       "    </tr>\n",
       "    <tr>\n",
       "      <th>...</th>\n",
       "      <td>...</td>\n",
       "      <td>...</td>\n",
       "    </tr>\n",
       "    <tr>\n",
       "      <th>366473</th>\n",
       "      <td>0.196078</td>\n",
       "      <td>43</td>\n",
       "    </tr>\n",
       "    <tr>\n",
       "      <th>366474</th>\n",
       "      <td>0.151515</td>\n",
       "      <td>0</td>\n",
       "    </tr>\n",
       "    <tr>\n",
       "      <th>366475</th>\n",
       "      <td>0.151163</td>\n",
       "      <td>62</td>\n",
       "    </tr>\n",
       "    <tr>\n",
       "      <th>366476</th>\n",
       "      <td>0.000000</td>\n",
       "      <td>None</td>\n",
       "    </tr>\n",
       "    <tr>\n",
       "      <th>366477</th>\n",
       "      <td>0.000000</td>\n",
       "      <td>None</td>\n",
       "    </tr>\n",
       "  </tbody>\n",
       "</table>\n",
       "<p>366478 rows × 2 columns</p>\n",
       "</div>"
      ],
      "text/plain": [
       "        BBInterval_171_past_avg_buy BBInterval_171_days_before_buy\n",
       "0                          0.000000                           None\n",
       "1                          0.000000                           None\n",
       "2                          0.000000                           None\n",
       "3                          0.000000                           None\n",
       "4                          0.000000                           None\n",
       "...                             ...                            ...\n",
       "366473                     0.196078                             43\n",
       "366474                     0.151515                              0\n",
       "366475                     0.151163                             62\n",
       "366476                     0.000000                           None\n",
       "366477                     0.000000                           None\n",
       "\n",
       "[366478 rows x 2 columns]"
      ]
     },
     "execution_count": 49,
     "metadata": {},
     "output_type": "execute_result"
    }
   ],
   "source": [
    "block.fit(train_meta_df)"
   ]
  },
  {
   "cell_type": "code",
   "execution_count": 50,
   "metadata": {},
   "outputs": [
    {
     "data": {
      "text/html": [
       "<div>\n",
       "<style scoped>\n",
       "    .dataframe tbody tr th:only-of-type {\n",
       "        vertical-align: middle;\n",
       "    }\n",
       "\n",
       "    .dataframe tbody tr th {\n",
       "        vertical-align: top;\n",
       "    }\n",
       "\n",
       "    .dataframe thead th {\n",
       "        text-align: right;\n",
       "    }\n",
       "</style>\n",
       "<table border=\"1\" class=\"dataframe\">\n",
       "  <thead>\n",
       "    <tr style=\"text-align: right;\">\n",
       "      <th></th>\n",
       "      <th>BBInterval_171_past_avg_buy</th>\n",
       "      <th>BBInterval_171_days_before_buy</th>\n",
       "    </tr>\n",
       "  </thead>\n",
       "  <tbody>\n",
       "    <tr>\n",
       "      <th>0</th>\n",
       "      <td>0.041322</td>\n",
       "      <td>269</td>\n",
       "    </tr>\n",
       "    <tr>\n",
       "      <th>1</th>\n",
       "      <td>0.015152</td>\n",
       "      <td>355</td>\n",
       "    </tr>\n",
       "    <tr>\n",
       "      <th>2</th>\n",
       "      <td>0.225806</td>\n",
       "      <td>176</td>\n",
       "    </tr>\n",
       "    <tr>\n",
       "      <th>3</th>\n",
       "      <td>0.669492</td>\n",
       "      <td>7</td>\n",
       "    </tr>\n",
       "    <tr>\n",
       "      <th>4</th>\n",
       "      <td>0.057143</td>\n",
       "      <td>14</td>\n",
       "    </tr>\n",
       "    <tr>\n",
       "      <th>...</th>\n",
       "      <td>...</td>\n",
       "      <td>...</td>\n",
       "    </tr>\n",
       "    <tr>\n",
       "      <th>56481</th>\n",
       "      <td>0.000000</td>\n",
       "      <td>None</td>\n",
       "    </tr>\n",
       "    <tr>\n",
       "      <th>56482</th>\n",
       "      <td>0.017621</td>\n",
       "      <td>133</td>\n",
       "    </tr>\n",
       "    <tr>\n",
       "      <th>56483</th>\n",
       "      <td>0.000000</td>\n",
       "      <td>None</td>\n",
       "    </tr>\n",
       "    <tr>\n",
       "      <th>56484</th>\n",
       "      <td>0.000000</td>\n",
       "      <td>None</td>\n",
       "    </tr>\n",
       "    <tr>\n",
       "      <th>56485</th>\n",
       "      <td>0.000000</td>\n",
       "      <td>None</td>\n",
       "    </tr>\n",
       "  </tbody>\n",
       "</table>\n",
       "<p>56486 rows × 2 columns</p>\n",
       "</div>"
      ],
      "text/plain": [
       "       BBInterval_171_past_avg_buy BBInterval_171_days_before_buy\n",
       "0                         0.041322                            269\n",
       "1                         0.015152                            355\n",
       "2                         0.225806                            176\n",
       "3                         0.669492                              7\n",
       "4                         0.057143                             14\n",
       "...                            ...                            ...\n",
       "56481                     0.000000                           None\n",
       "56482                     0.017621                            133\n",
       "56483                     0.000000                           None\n",
       "56484                     0.000000                           None\n",
       "56485                     0.000000                           None\n",
       "\n",
       "[56486 rows x 2 columns]"
      ]
     },
     "execution_count": 50,
     "metadata": {},
     "output_type": "execute_result"
    }
   ],
   "source": [
    "block.transform(test_meta_df)"
   ]
  },
  {
   "cell_type": "markdown",
   "metadata": {},
   "source": [
    "### 特徴量への変換\n",
    "\n",
    "定義した `Block` を使って特徴量を作っていきます。はじめに `feature_blocks` で使う Block を定義。次に `block.fit` で内部状態の変換と学習時に使う特徴量の作成、最後に `block.transform` でテスト時の特徴を作成しています。"
   ]
  },
  {
   "cell_type": "code",
   "execution_count": 51,
   "metadata": {},
   "outputs": [],
   "source": [
    "from tqdm.notebook import tqdm\n",
    "\n",
    "def reduce_mem_usage(df, verbose=True):\n",
    "    numerics = ['int16', 'int32', 'int64', 'float16', 'float32', 'float64']\n",
    "    start_mem = df.memory_usage().sum() / 1024**2 \n",
    "    dfs = []\n",
    "    for col in df.columns:\n",
    "        col_type = df[col].dtypes\n",
    "        if col_type in numerics:\n",
    "            c_min = df[col].min()\n",
    "            c_max = df[col].max()\n",
    "            if str(col_type)[:3] == 'int':\n",
    "                if c_min > np.iinfo(np.int8).min and c_max < np.iinfo(np.int8).max:\n",
    "                    dfs.append(df[col].astype(np.int8))\n",
    "                elif c_min > np.iinfo(np.int16).min and c_max < np.iinfo(np.int16).max:\n",
    "                    dfs.append(df[col].astype(np.int16))\n",
    "                elif c_min > np.iinfo(np.int32).min and c_max < np.iinfo(np.int32).max:\n",
    "                    dfs.append(df[col].astype(np.int32))\n",
    "                elif c_min > np.iinfo(np.int64).min and c_max < np.iinfo(np.int64).max:\n",
    "                    dfs.append(df[col].astype(np.int64) ) \n",
    "            else:\n",
    "                if c_min > np.finfo(np.float16).min and c_max < np.finfo(np.float16).max:\n",
    "                    dfs.append(df[col].astype(np.float16))\n",
    "                elif c_min > np.finfo(np.float32).min and c_max < np.finfo(np.float32).max:\n",
    "                    dfs.append(df[col].astype(np.float32))\n",
    "                else:\n",
    "                    dfs.append(df[col].astype(np.float64))\n",
    "        else:\n",
    "            dfs.append(df[col])\n",
    "    \n",
    "    df_out = pd.concat(dfs, axis=1)\n",
    "    if verbose:\n",
    "        end_mem = df_out.memory_usage().sum() / 1024**2\n",
    "        num_reduction = str(100 * (start_mem - end_mem) / start_mem)\n",
    "        logger.info(f'Mem. usage decreased to {str(end_mem)[:3]}Mb:  {num_reduction[:2]}% reduction')\n",
    "    return df_out"
   ]
  },
  {
   "cell_type": "code",
   "execution_count": 52,
   "metadata": {
    "scrolled": true
   },
   "outputs": [
    {
     "name": "stderr",
     "output_type": "stream",
     "text": [
      "0008__exp                     : INFO     fit <__main__.CountEncodingBlock object at 0x7f8bffc26150> 0.060[s]\n",
      "0008__exp                     : INFO     Mem. usage decreased to 3.4Mb:  37% reduction\n",
      "0008__exp                     : INFO     fit <__main__.CountEncodingBlock object at 0x7f8bffc262d0> 0.034[s]\n",
      "0008__exp                     : INFO     Mem. usage decreased to 4.1Mb:  25% reduction\n",
      "0008__exp                     : INFO     fit <__main__.CountEncodingBlock object at 0x7f8bffc26210> 0.037[s]\n",
      "0008__exp                     : INFO     Mem. usage decreased to 4.1Mb:  25% reduction\n",
      "0008__exp                     : INFO     fit <__main__.CountEncodingBlock object at 0x7f8bffc26390> 0.040[s]\n",
      "0008__exp                     : INFO     Mem. usage decreased to 4.1Mb:  25% reduction\n",
      "0008__exp                     : INFO     fit <__main__.DateBlock object at 0x7f8bffc268d0> 0.131[s]\n",
      "0008__exp                     : INFO     Mem. usage decreased to 4.8Mb:  70% reduction\n",
      "0008__exp                     : INFO     fit <__main__.PublicLogBlock object at 0x7f8bffc26d50> 1.120[s]\n",
      "0008__exp                     : INFO     Mem. usage decreased to 4.1Mb:  50% reduction\n",
      "0008__exp                     : INFO     fit <__main__.MetaInformationBlock object at 0x7f8bffc26710> 0.003[s]\n",
      "0008__exp                     : INFO     Mem. usage decreased to 5.5Mb:  66% reduction\n",
      "0008__exp                     : INFO     fit <__main__.UserHistoryBlock object at 0x7f8bffc26fd0> 14.536[s]\n",
      "0008__exp                     : INFO     Mem. usage decreased to 177Mb:  74% reduction\n",
      "0008__exp                     : INFO     fit <__main__.UserShoppingTimeBlock object at 0x7f8bffc265d0> 3.644[s]\n",
      "0008__exp                     : INFO     Mem. usage decreased to 12.Mb:  62% reduction\n",
      "0008__exp                     : INFO     fit <__main__.ShoppingActionBlock object at 0x7f8bffc26810> 5.347[s]\n",
      "0008__exp                     : INFO     Mem. usage decreased to 17.Mb:  71% reduction\n",
      "0008__exp                     : INFO     fit <__main__.UserKindProfileBlock object at 0x7f8c8112c390> 5.294[s]\n",
      "0008__exp                     : INFO     Mem. usage decreased to 25.Mb:  70% reduction\n",
      "0008__exp                     : INFO     fit <__main__.UserCategoryHistoryBlock object at 0x7f8c8112c0d0> 16.973[s]\n",
      "0008__exp                     : INFO     Mem. usage decreased to 466Mb:  74% reduction\n",
      "0008__exp                     : INFO     fit <__main__.PublicLogCategoryBlock object at 0x7f8c8112c050> 7.661[s]\n",
      "0008__exp                     : INFO     Mem. usage decreased to 463Mb:  74% reduction\n",
      "0008__exp                     : INFO     fit <__main__.UserShoppingIntervalBlock object at 0x7f8c8112ccd0> 0.455[s]\n",
      "0008__exp                     : INFO     Mem. usage decreased to 4.1Mb:  50% reduction\n",
      "0008__exp                     : INFO     fit <__main__.BeforeBuyIntervalBlock object at 0x7f8c08f64190> 8.728[s]\n",
      "0008__exp                     : INFO     Mem. usage decreased to 6.2Mb:  25% reduction\n",
      "0008__exp                     : INFO     fit <__main__.BeforeBuyIntervalBlock object at 0x7f8c08f64550> 8.176[s]\n",
      "0008__exp                     : INFO     Mem. usage decreased to 6.2Mb:  25% reduction\n",
      "0008__exp                     : INFO     fit <__main__.BeforeBuyIntervalBlock object at 0x7f8c08f64490> 8.159[s]\n",
      "0008__exp                     : INFO     Mem. usage decreased to 6.2Mb:  25% reduction\n",
      "0008__exp                     : INFO     fit <__main__.BeforeBuyIntervalBlock object at 0x7f8c08f64610> 8.018[s]\n",
      "0008__exp                     : INFO     Mem. usage decreased to 6.2Mb:  25% reduction\n",
      "0008__exp                     : INFO     fit <__main__.BeforeBuyIntervalBlock object at 0x7f8c08f64650> 9.129[s]\n",
      "0008__exp                     : INFO     Mem. usage decreased to 6.2Mb:  25% reduction\n",
      "0008__exp                     : INFO     fit <__main__.BeforeBuyIntervalBlock object at 0x7f8c08f646d0> 7.924[s]\n",
      "0008__exp                     : INFO     Mem. usage decreased to 6.2Mb:  25% reduction\n",
      "0008__exp                     : INFO     fit <__main__.BeforeBuyIntervalBlock object at 0x7f8c08f64710> 8.246[s]\n",
      "0008__exp                     : INFO     Mem. usage decreased to 6.2Mb:  25% reduction\n",
      "0008__exp                     : INFO     fit <__main__.BeforeBuyIntervalBlock object at 0x7f8c08f64750> 7.811[s]\n",
      "0008__exp                     : INFO     Mem. usage decreased to 6.2Mb:  25% reduction\n",
      "0008__exp                     : INFO     fit <__main__.BeforeBuyIntervalBlock object at 0x7f8c08f64790> 7.923[s]\n",
      "0008__exp                     : INFO     Mem. usage decreased to 6.2Mb:  25% reduction\n",
      "0008__exp                     : INFO     fit <__main__.BeforeBuyIntervalBlock object at 0x7f8c08f64690> 8.250[s]\n",
      "0008__exp                     : INFO     Mem. usage decreased to 6.2Mb:  25% reduction\n",
      "0008__exp                     : INFO     fit <__main__.BeforeBuyIntervalBlock object at 0x7f8c08f647d0> 8.323[s]\n",
      "0008__exp                     : INFO     Mem. usage decreased to 6.2Mb:  25% reduction\n",
      "0008__exp                     : INFO     fit <__main__.BeforeBuyIntervalBlock object at 0x7f8c08f64810> 7.987[s]\n",
      "0008__exp                     : INFO     Mem. usage decreased to 6.2Mb:  25% reduction\n",
      "0008__exp                     : INFO     fit <__main__.BeforeBuyIntervalBlock object at 0x7f8c08f64850> 7.888[s]\n",
      "0008__exp                     : INFO     Mem. usage decreased to 6.2Mb:  25% reduction\n",
      "0008__exp                     : INFO     fit <__main__.BeforeBuyIntervalBlock object at 0x7f8c08f64890> 9.069[s]\n",
      "0008__exp                     : INFO     Mem. usage decreased to 6.2Mb:  25% reduction\n",
      "0008__exp                     : INFO     fit <__main__.BeforeBuyIntervalBlock object at 0x7f8c08f648d0> 8.446[s]\n",
      "0008__exp                     : INFO     Mem. usage decreased to 6.2Mb:  25% reduction\n"
     ]
    }
   ],
   "source": [
    "feature_blocks = [\n",
    "    *[CountEncodingBlock(column=c) for c in ['register_number', 'hour', 'gender', 'age']],\n",
    "    DateBlock(),\n",
    "    PublicLogBlock(),\n",
    "    MetaInformationBlock(),\n",
    "    UserHistoryBlock(),\n",
    "    UserShoppingTimeBlock(),\n",
    "    ShoppingActionBlock(),\n",
    "    UserKindProfileBlock(),\n",
    "    UserCategoryHistoryBlock(),\n",
    "    PublicLogCategoryBlock(),\n",
    "    UserShoppingIntervalBlock(),\n",
    "    *[BeforeBuyIntervalBlock(i) for i in TARGET_IDS]\n",
    "]\n",
    "\n",
    "feat_train_df = pd.DataFrame()\n",
    "\n",
    "for block in feature_blocks:\n",
    "    with timer(logger, prefix='fit {} '.format(block)):\n",
    "        out_i = block.fit(train_meta_df)\n",
    "    assert len(train_meta_df) == len(out_i), block\n",
    "    out_i = reduce_mem_usage(out_i)\n",
    "    feat_train_df = pd.concat([feat_train_df, out_i], axis=1)"
   ]
  },
  {
   "cell_type": "code",
   "execution_count": 53,
   "metadata": {},
   "outputs": [
    {
     "data": {
      "text/plain": [
       "42"
      ]
     },
     "execution_count": 53,
     "metadata": {},
     "output_type": "execute_result"
    }
   ],
   "source": [
    "del public_log_df\n",
    "del whole_log_df\n",
    "\n",
    "gc.collect()"
   ]
  },
  {
   "cell_type": "code",
   "execution_count": 54,
   "metadata": {},
   "outputs": [
    {
     "name": "stderr",
     "output_type": "stream",
     "text": [
      "0008__exp                     : INFO     transform <__main__.CountEncodingBlock object at 0x7f8bffc26150> 0.036[s]\n",
      "0008__exp                     : INFO     transform <__main__.CountEncodingBlock object at 0x7f8bffc262d0> 0.013[s]\n",
      "0008__exp                     : INFO     transform <__main__.CountEncodingBlock object at 0x7f8bffc26210> 0.009[s]\n",
      "0008__exp                     : INFO     transform <__main__.CountEncodingBlock object at 0x7f8bffc26390> 0.008[s]\n",
      "0008__exp                     : INFO     transform <__main__.DateBlock object at 0x7f8bffc268d0> 0.023[s]\n",
      "0008__exp                     : INFO     transform <__main__.PublicLogBlock object at 0x7f8bffc26d50> 0.036[s]\n",
      "0008__exp                     : INFO     transform <__main__.MetaInformationBlock object at 0x7f8bffc26710> 0.002[s]\n",
      "0008__exp                     : INFO     transform <__main__.UserHistoryBlock object at 0x7f8bffc26fd0> 0.337[s]\n",
      "0008__exp                     : INFO     transform <__main__.UserShoppingTimeBlock object at 0x7f8bffc265d0> 0.099[s]\n",
      "0008__exp                     : INFO     transform <__main__.ShoppingActionBlock object at 0x7f8bffc26810> 0.112[s]\n",
      "0008__exp                     : INFO     transform <__main__.UserKindProfileBlock object at 0x7f8c8112c390> 0.114[s]\n",
      "0008__exp                     : INFO     transform <__main__.UserCategoryHistoryBlock object at 0x7f8c8112c0d0> 0.943[s]\n",
      "0008__exp                     : INFO     transform <__main__.PublicLogCategoryBlock object at 0x7f8c8112c050> 0.536[s]\n",
      "0008__exp                     : INFO     transform <__main__.UserShoppingIntervalBlock object at 0x7f8c8112ccd0> 0.048[s]\n",
      "0008__exp                     : INFO     transform <__main__.BeforeBuyIntervalBlock object at 0x7f8c08f64190> 0.080[s]\n",
      "0008__exp                     : INFO     transform <__main__.BeforeBuyIntervalBlock object at 0x7f8c08f64550> 0.081[s]\n",
      "0008__exp                     : INFO     transform <__main__.BeforeBuyIntervalBlock object at 0x7f8c08f64490> 0.080[s]\n",
      "0008__exp                     : INFO     transform <__main__.BeforeBuyIntervalBlock object at 0x7f8c08f64610> 0.079[s]\n",
      "0008__exp                     : INFO     transform <__main__.BeforeBuyIntervalBlock object at 0x7f8c08f64650> 0.079[s]\n",
      "0008__exp                     : INFO     transform <__main__.BeforeBuyIntervalBlock object at 0x7f8c08f646d0> 0.079[s]\n",
      "0008__exp                     : INFO     transform <__main__.BeforeBuyIntervalBlock object at 0x7f8c08f64710> 0.079[s]\n",
      "0008__exp                     : INFO     transform <__main__.BeforeBuyIntervalBlock object at 0x7f8c08f64750> 0.079[s]\n",
      "0008__exp                     : INFO     transform <__main__.BeforeBuyIntervalBlock object at 0x7f8c08f64790> 0.080[s]\n",
      "0008__exp                     : INFO     transform <__main__.BeforeBuyIntervalBlock object at 0x7f8c08f64690> 0.079[s]\n",
      "0008__exp                     : INFO     transform <__main__.BeforeBuyIntervalBlock object at 0x7f8c08f647d0> 0.079[s]\n",
      "0008__exp                     : INFO     transform <__main__.BeforeBuyIntervalBlock object at 0x7f8c08f64810> 0.079[s]\n",
      "0008__exp                     : INFO     transform <__main__.BeforeBuyIntervalBlock object at 0x7f8c08f64850> 0.081[s]\n",
      "0008__exp                     : INFO     transform <__main__.BeforeBuyIntervalBlock object at 0x7f8c08f64890> 0.081[s]\n",
      "0008__exp                     : INFO     transform <__main__.BeforeBuyIntervalBlock object at 0x7f8c08f648d0> 0.079[s]\n"
     ]
    }
   ],
   "source": [
    "feat_test_df = pd.DataFrame()\n",
    "\n",
    "for block in feature_blocks:\n",
    "    with timer(logger, prefix='transform {} '.format(block)):\n",
    "        out_i = block.transform(test_meta_df)\n",
    "\n",
    "    assert len(test_meta_df) == len(out_i), block\n",
    "    feat_test_df = pd.concat([feat_test_df, out_i], axis=1)"
   ]
  },
  {
   "cell_type": "code",
   "execution_count": 55,
   "metadata": {},
   "outputs": [
    {
     "data": {
      "text/plain": [
       "20"
      ]
     },
     "execution_count": 55,
     "metadata": {},
     "output_type": "execute_result"
    }
   ],
   "source": [
    "del feature_blocks\n",
    "gc.collect()"
   ]
  },
  {
   "cell_type": "code",
   "execution_count": 56,
   "metadata": {},
   "outputs": [],
   "source": [
    "import joblib"
   ]
  },
  {
   "cell_type": "code",
   "execution_count": 57,
   "metadata": {},
   "outputs": [
    {
     "name": "stdout",
     "output_type": "stream",
     "text": [
      "save train target 0.936[s]\n"
     ]
    }
   ],
   "source": [
    "with timer(prefix='save train target '):\n",
    "    train_target_df.to_csv(os.path.join(OUTPUT_DIR, 'target.csv'), index=False)"
   ]
  },
  {
   "cell_type": "code",
   "execution_count": 58,
   "metadata": {},
   "outputs": [
    {
     "name": "stderr",
     "output_type": "stream",
     "text": [
      "0008__exp                     : INFO     Mem. usage decreased to 187Mb:  74% reduction\n"
     ]
    }
   ],
   "source": [
    "feat_test_df = reduce_mem_usage(feat_test_df)"
   ]
  },
  {
   "cell_type": "code",
   "execution_count": 59,
   "metadata": {},
   "outputs": [
    {
     "data": {
      "text/plain": [
       "20"
      ]
     },
     "execution_count": 59,
     "metadata": {},
     "output_type": "execute_result"
    }
   ],
   "source": [
    "gc.collect()"
   ]
  },
  {
   "cell_type": "code",
   "execution_count": 60,
   "metadata": {},
   "outputs": [
    {
     "data": {
      "text/plain": [
       "(366478, 1682)"
      ]
     },
     "execution_count": 60,
     "metadata": {},
     "output_type": "execute_result"
    }
   ],
   "source": [
    "feat_train_df.shape"
   ]
  },
  {
   "cell_type": "code",
   "execution_count": 61,
   "metadata": {},
   "outputs": [
    {
     "data": {
      "text/plain": [
       "(56486, 1682)"
      ]
     },
     "execution_count": 61,
     "metadata": {},
     "output_type": "execute_result"
    }
   ],
   "source": [
    "feat_test_df.shape"
   ]
  },
  {
   "cell_type": "code",
   "execution_count": 62,
   "metadata": {},
   "outputs": [
    {
     "name": "stderr",
     "output_type": "stream",
     "text": [
      "0008__exp                     : INFO     save train feature 1.492[s]\n",
      "0008__exp                     : INFO     save test feature 0.241[s]\n"
     ]
    }
   ],
   "source": [
    "with timer(logger, prefix='save train feature '):\n",
    "    joblib.dump(feat_train_df, os.path.join(OUTPUT_DIR, 'train_feature.joblib'))\n",
    "\n",
    "with timer(logger, prefix='save test feature '):\n",
    "    joblib.dump(feat_test_df, os.path.join(OUTPUT_DIR, 'test_feature.joblib'))"
   ]
  },
  {
   "cell_type": "code",
   "execution_count": 63,
   "metadata": {},
   "outputs": [],
   "source": [
    "import lightgbm as lgbm\n",
    "from sklearn.metrics import roc_auc_score\n",
    "from sklearn.model_selection import StratifiedKFold\n",
    "from copy import deepcopy\n",
    "\n",
    "LGBM_DEFAULT_PARAMS = {\n",
    "    'objective': 'binary',\n",
    "    'learning_rate': .05,\n",
    "    'max_depth': 6,\n",
    "    'n_estimators': 10000,\n",
    "    'colsample_bytree': .5,\n",
    "    'importance_type': 'gain',\n",
    "    'reg_lambda': .1,\n",
    "    'bagging_freq': 3,\n",
    "    'bagging_fraction': .7\n",
    "}\n",
    "\n",
    "def fit_lgbm(X, y, cv=None, params: dict=None, verbose=100):\n",
    "\n",
    "    # パラメータがないときはデフォルトパラメータを使う\n",
    "    if params is None:\n",
    "        params = deepcopy(LGBM_DEFAULT_PARAMS)\n",
    "\n",
    "    if cv is None:\n",
    "        cv = StratifiedKFold(n_splits=5, shuffle=True, random_state=71)\n",
    "    models = []\n",
    "    # training data の target と同じだけのゼロ配列を用意\n",
    "    # float にしないと悲しい事件が起こるのでそこだけ注意\n",
    "    oof_pred = np.zeros_like(y, dtype=np.float)\n",
    "\n",
    "    for i, (idx_train, idx_valid) in enumerate(cv.split(X, y)): \n",
    "        # この部分が交差検証のところです。データセットを cv instance によって分割します\n",
    "        # training data を trian/valid に分割\n",
    "        x_train, y_train = X[idx_train], y[idx_train]\n",
    "        x_valid, y_valid = X[idx_valid], y[idx_valid]\n",
    "\n",
    "        clf = lgbm.LGBMClassifier(**params)\n",
    "        clf.fit(x_train, y_train, \n",
    "                eval_set=[(x_valid, y_valid)],  \n",
    "                early_stopping_rounds=200, \n",
    "                eval_metric='logloss',\n",
    "                verbose=verbose)\n",
    "\n",
    "        pred_i = clf.predict_proba(x_valid)[:, 1]\n",
    "        oof_pred[idx_valid] = pred_i\n",
    "        models.append(clf)\n",
    "\n",
    "        logger.info(f'Fold {i} AUC: {roc_auc_score(y_valid, pred_i):.4f}')\n",
    "\n",
    "    score = roc_auc_score(y, oof_pred)\n",
    "    logger.info('FINISHED \\ whole AUC: {:.4f}'.format(score))\n",
    "    return oof_pred, models\n",
    "\n",
    "def visualize_importance(models, feat_train_df):\n",
    "    \"\"\"lightGBM の model 配列の feature importance を plot する\n",
    "    CVごとのブレを boxen plot として表現します.\n",
    "\n",
    "    args:\n",
    "        models:\n",
    "            List of lightGBM models\n",
    "        feat_train_df:\n",
    "            学習時に使った DataFrame\n",
    "    \"\"\"\n",
    "    feature_importance_df = pd.DataFrame()\n",
    "    for i, model in enumerate(models):\n",
    "        _df = pd.DataFrame()\n",
    "        _df['feature_importance'] = model.feature_importances_\n",
    "        _df['column'] = feat_train_df.columns\n",
    "        _df['fold'] = i + 1\n",
    "        feature_importance_df = pd.concat([feature_importance_df, _df], axis=0, ignore_index=True)\n",
    "\n",
    "    order = feature_importance_df.groupby('column')\\\n",
    "        .sum()[['feature_importance']]\\\n",
    "        .sort_values('feature_importance', ascending=False).index[:100]\n",
    "\n",
    "    fig, ax = plt.subplots(figsize=(8, max(6, len(order) * .2)))\n",
    "    sns.boxenplot(data=feature_importance_df, y='column', x='feature_importance', \n",
    "                  orient='h',\n",
    "                  order=order, ax=ax, palette='viridis')\n",
    "    ax.tick_params(axis='x', rotation=90)\n",
    "    ax.grid()\n",
    "    fig.tight_layout()\n",
    "    return fig, ax\n",
    "\n",
    "\n",
    "def create_predict(models, input_df) -> np.ndarray:\n",
    "    \"\"\"与えられた機械学習モデルで予測する\"\"\"\n",
    "    pred = np.array([model.predict_proba(input_df.values)[:, 1] for model in models])\n",
    "    pred = np.mean(pred, axis=0)\n",
    "    return pred\n",
    "\n",
    "def fit_and_predict(train_df, \n",
    "                    target_df, \n",
    "                    target_id):\n",
    "    \"\"\"対象の target_id の学習を行なう\"\"\"\n",
    "    target_name = category_id2code[target_id]\n",
    "    \n",
    "    logger.info('-' * 20 + ' start {} '.format(target_name) + '-' * 20)\n",
    "    \n",
    "    if target_id not in TARGET_IDS:\n",
    "        raise ValueError('`target_id` は {} から選んでください'.format(','.join(str, TARGET_IDS)))\n",
    "    \n",
    "    y = target_df[target_id].values\n",
    "    y = np.where(y > 0, 1, 0)\n",
    "    \n",
    "    # モデルの学習.\n",
    "    oof, models = fit_lgbm(train_df.values, y, verbose=500)\n",
    "    \n",
    "    # 特徴重要度の可視化\n",
    "    fig, ax = visualize_importance(models, train_df)\n",
    "    ax.set_title('Importance: TARGET={}'.format(target_name))\n",
    "    fig.tight_layout()\n",
    "    fig.savefig(os.path.join(OUTPUT_DIR, f'{target_name}_importance.png'))\n",
    "    plt.close(fig)\n",
    "    return oof, models"
   ]
  },
  {
   "cell_type": "code",
   "execution_count": 64,
   "metadata": {},
   "outputs": [
    {
     "name": "stderr",
     "output_type": "stream",
     "text": [
      "0008__exp                     : INFO     -------------------- start ビール系__RTD --------------------\n"
     ]
    },
    {
     "name": "stdout",
     "output_type": "stream",
     "text": [
      "Training until validation scores don't improve for 200 rounds\n",
      "[500]\tvalid_0's binary_logloss: 0.211757\n",
      "[1000]\tvalid_0's binary_logloss: 0.211475\n",
      "Early stopping, best iteration is:\n",
      "[910]\tvalid_0's binary_logloss: 0.21139\n"
     ]
    },
    {
     "name": "stderr",
     "output_type": "stream",
     "text": [
      "0008__exp                     : INFO     Fold 0 AUC: 0.8662\n"
     ]
    },
    {
     "name": "stdout",
     "output_type": "stream",
     "text": [
      "Training until validation scores don't improve for 200 rounds\n",
      "[500]\tvalid_0's binary_logloss: 0.210551\n",
      "[1000]\tvalid_0's binary_logloss: 0.209963\n",
      "Early stopping, best iteration is:\n",
      "[878]\tvalid_0's binary_logloss: 0.209912\n"
     ]
    },
    {
     "name": "stderr",
     "output_type": "stream",
     "text": [
      "0008__exp                     : INFO     Fold 1 AUC: 0.8674\n"
     ]
    },
    {
     "name": "stdout",
     "output_type": "stream",
     "text": [
      "Training until validation scores don't improve for 200 rounds\n",
      "[500]\tvalid_0's binary_logloss: 0.214509\n",
      "[1000]\tvalid_0's binary_logloss: 0.214295\n",
      "Early stopping, best iteration is:\n",
      "[826]\tvalid_0's binary_logloss: 0.214114\n"
     ]
    },
    {
     "name": "stderr",
     "output_type": "stream",
     "text": [
      "0008__exp                     : INFO     Fold 2 AUC: 0.8619\n"
     ]
    },
    {
     "name": "stdout",
     "output_type": "stream",
     "text": [
      "Training until validation scores don't improve for 200 rounds\n",
      "[500]\tvalid_0's binary_logloss: 0.213401\n",
      "[1000]\tvalid_0's binary_logloss: 0.213004\n",
      "Early stopping, best iteration is:\n",
      "[973]\tvalid_0's binary_logloss: 0.212919\n"
     ]
    },
    {
     "name": "stderr",
     "output_type": "stream",
     "text": [
      "0008__exp                     : INFO     Fold 3 AUC: 0.8627\n"
     ]
    },
    {
     "name": "stdout",
     "output_type": "stream",
     "text": [
      "Training until validation scores don't improve for 200 rounds\n",
      "[500]\tvalid_0's binary_logloss: 0.209465\n",
      "[1000]\tvalid_0's binary_logloss: 0.209448\n",
      "Early stopping, best iteration is:\n",
      "[807]\tvalid_0's binary_logloss: 0.209299\n"
     ]
    },
    {
     "name": "stderr",
     "output_type": "stream",
     "text": [
      "0008__exp                     : INFO     Fold 4 AUC: 0.8679\n",
      "0008__exp                     : INFO     FINISHED \\ whole AUC: 0.8652\n",
      "0008__exp                     : INFO     train ビール系__RTD 785.807[s]\n",
      "0008__exp                     : INFO     predict ビール系__RTD 39.173[s]\n",
      "0008__exp                     : INFO     -------------------- start ビール系__ビール系 --------------------\n"
     ]
    },
    {
     "name": "stdout",
     "output_type": "stream",
     "text": [
      "Training until validation scores don't improve for 200 rounds\n",
      "[500]\tvalid_0's binary_logloss: 0.232349\n",
      "[1000]\tvalid_0's binary_logloss: 0.231953\n",
      "Early stopping, best iteration is:\n",
      "[923]\tvalid_0's binary_logloss: 0.231865\n"
     ]
    },
    {
     "name": "stderr",
     "output_type": "stream",
     "text": [
      "0008__exp                     : INFO     Fold 0 AUC: 0.8619\n"
     ]
    },
    {
     "name": "stdout",
     "output_type": "stream",
     "text": [
      "Training until validation scores don't improve for 200 rounds\n",
      "[500]\tvalid_0's binary_logloss: 0.230449\n",
      "Early stopping, best iteration is:\n",
      "[627]\tvalid_0's binary_logloss: 0.230275\n"
     ]
    },
    {
     "name": "stderr",
     "output_type": "stream",
     "text": [
      "0008__exp                     : INFO     Fold 1 AUC: 0.8641\n"
     ]
    },
    {
     "name": "stdout",
     "output_type": "stream",
     "text": [
      "Training until validation scores don't improve for 200 rounds\n",
      "[500]\tvalid_0's binary_logloss: 0.233317\n",
      "Early stopping, best iteration is:\n",
      "[660]\tvalid_0's binary_logloss: 0.233087\n"
     ]
    },
    {
     "name": "stderr",
     "output_type": "stream",
     "text": [
      "0008__exp                     : INFO     Fold 2 AUC: 0.8613\n"
     ]
    },
    {
     "name": "stdout",
     "output_type": "stream",
     "text": [
      "Training until validation scores don't improve for 200 rounds\n",
      "[500]\tvalid_0's binary_logloss: 0.232344\n",
      "[1000]\tvalid_0's binary_logloss: 0.231909\n",
      "Early stopping, best iteration is:\n",
      "[829]\tvalid_0's binary_logloss: 0.231815\n"
     ]
    },
    {
     "name": "stderr",
     "output_type": "stream",
     "text": [
      "0008__exp                     : INFO     Fold 3 AUC: 0.8628\n"
     ]
    },
    {
     "name": "stdout",
     "output_type": "stream",
     "text": [
      "Training until validation scores don't improve for 200 rounds\n",
      "[500]\tvalid_0's binary_logloss: 0.231959\n",
      "[1000]\tvalid_0's binary_logloss: 0.231627\n",
      "Early stopping, best iteration is:\n",
      "[895]\tvalid_0's binary_logloss: 0.23157\n"
     ]
    },
    {
     "name": "stderr",
     "output_type": "stream",
     "text": [
      "0008__exp                     : INFO     Fold 4 AUC: 0.8630\n",
      "0008__exp                     : INFO     FINISHED \\ whole AUC: 0.8626\n",
      "0008__exp                     : INFO     train ビール系__ビール系 770.715[s]\n",
      "0008__exp                     : INFO     predict ビール系__ビール系 38.885[s]\n",
      "0008__exp                     : INFO     -------------------- start ビール系__ノンアルコール --------------------\n"
     ]
    },
    {
     "name": "stdout",
     "output_type": "stream",
     "text": [
      "Training until validation scores don't improve for 200 rounds\n",
      "Early stopping, best iteration is:\n",
      "[269]\tvalid_0's binary_logloss: 0.0709951\n"
     ]
    },
    {
     "name": "stderr",
     "output_type": "stream",
     "text": [
      "0008__exp                     : INFO     Fold 0 AUC: 0.8674\n"
     ]
    },
    {
     "name": "stdout",
     "output_type": "stream",
     "text": [
      "Training until validation scores don't improve for 200 rounds\n",
      "[500]\tvalid_0's binary_logloss: 0.0709267\n",
      "Early stopping, best iteration is:\n",
      "[308]\tvalid_0's binary_logloss: 0.0707568\n"
     ]
    },
    {
     "name": "stderr",
     "output_type": "stream",
     "text": [
      "0008__exp                     : INFO     Fold 1 AUC: 0.8713\n"
     ]
    },
    {
     "name": "stdout",
     "output_type": "stream",
     "text": [
      "Training until validation scores don't improve for 200 rounds\n",
      "Early stopping, best iteration is:\n",
      "[260]\tvalid_0's binary_logloss: 0.0711943\n"
     ]
    },
    {
     "name": "stderr",
     "output_type": "stream",
     "text": [
      "0008__exp                     : INFO     Fold 2 AUC: 0.8690\n"
     ]
    },
    {
     "name": "stdout",
     "output_type": "stream",
     "text": [
      "Training until validation scores don't improve for 200 rounds\n",
      "[500]\tvalid_0's binary_logloss: 0.0703449\n",
      "Early stopping, best iteration is:\n",
      "[512]\tvalid_0's binary_logloss: 0.0703218\n"
     ]
    },
    {
     "name": "stderr",
     "output_type": "stream",
     "text": [
      "0008__exp                     : INFO     Fold 3 AUC: 0.8682\n"
     ]
    },
    {
     "name": "stdout",
     "output_type": "stream",
     "text": [
      "Training until validation scores don't improve for 200 rounds\n",
      "[500]\tvalid_0's binary_logloss: 0.0713967\n",
      "Early stopping, best iteration is:\n",
      "[389]\tvalid_0's binary_logloss: 0.0712517\n"
     ]
    },
    {
     "name": "stderr",
     "output_type": "stream",
     "text": [
      "0008__exp                     : INFO     Fold 4 AUC: 0.8650\n",
      "0008__exp                     : INFO     FINISHED \\ whole AUC: 0.8679\n",
      "0008__exp                     : INFO     train ビール系__ノンアルコール 593.226[s]\n",
      "0008__exp                     : INFO     predict ビール系__ノンアルコール 38.397[s]\n",
      "0008__exp                     : INFO     -------------------- start スナック・キャンディー__スナック --------------------\n"
     ]
    },
    {
     "name": "stdout",
     "output_type": "stream",
     "text": [
      "Training until validation scores don't improve for 200 rounds\n",
      "[500]\tvalid_0's binary_logloss: 0.434921\n",
      "Early stopping, best iteration is:\n",
      "[738]\tvalid_0's binary_logloss: 0.434466\n"
     ]
    },
    {
     "name": "stderr",
     "output_type": "stream",
     "text": [
      "0008__exp                     : INFO     Fold 0 AUC: 0.7611\n"
     ]
    },
    {
     "name": "stdout",
     "output_type": "stream",
     "text": [
      "Training until validation scores don't improve for 200 rounds\n",
      "[500]\tvalid_0's binary_logloss: 0.432454\n",
      "[1000]\tvalid_0's binary_logloss: 0.431836\n",
      "Early stopping, best iteration is:\n",
      "[947]\tvalid_0's binary_logloss: 0.431743\n"
     ]
    },
    {
     "name": "stderr",
     "output_type": "stream",
     "text": [
      "0008__exp                     : INFO     Fold 1 AUC: 0.7650\n"
     ]
    },
    {
     "name": "stdout",
     "output_type": "stream",
     "text": [
      "Training until validation scores don't improve for 200 rounds\n",
      "[500]\tvalid_0's binary_logloss: 0.43338\n",
      "[1000]\tvalid_0's binary_logloss: 0.433149\n",
      "Early stopping, best iteration is:\n",
      "[836]\tvalid_0's binary_logloss: 0.433098\n"
     ]
    },
    {
     "name": "stderr",
     "output_type": "stream",
     "text": [
      "0008__exp                     : INFO     Fold 2 AUC: 0.7624\n"
     ]
    },
    {
     "name": "stdout",
     "output_type": "stream",
     "text": [
      "Training until validation scores don't improve for 200 rounds\n",
      "[500]\tvalid_0's binary_logloss: 0.435156\n",
      "Early stopping, best iteration is:\n",
      "[740]\tvalid_0's binary_logloss: 0.434773\n"
     ]
    },
    {
     "name": "stderr",
     "output_type": "stream",
     "text": [
      "0008__exp                     : INFO     Fold 3 AUC: 0.7604\n"
     ]
    },
    {
     "name": "stdout",
     "output_type": "stream",
     "text": [
      "Training until validation scores don't improve for 200 rounds\n",
      "[500]\tvalid_0's binary_logloss: 0.432879\n",
      "[1000]\tvalid_0's binary_logloss: 0.432294\n",
      "Early stopping, best iteration is:\n",
      "[1091]\tvalid_0's binary_logloss: 0.432145\n"
     ]
    },
    {
     "name": "stderr",
     "output_type": "stream",
     "text": [
      "0008__exp                     : INFO     Fold 4 AUC: 0.7652\n",
      "0008__exp                     : INFO     FINISHED \\ whole AUC: 0.7628\n",
      "0008__exp                     : INFO     train スナック・キャンディー__スナック 782.914[s]\n",
      "0008__exp                     : INFO     predict スナック・キャンディー__スナック 39.168[s]\n",
      "0008__exp                     : INFO     -------------------- start チョコ・ビスクラ__チョコレート --------------------\n"
     ]
    },
    {
     "name": "stdout",
     "output_type": "stream",
     "text": [
      "Training until validation scores don't improve for 200 rounds\n",
      "[500]\tvalid_0's binary_logloss: 0.355496\n",
      "Early stopping, best iteration is:\n",
      "[579]\tvalid_0's binary_logloss: 0.355357\n"
     ]
    },
    {
     "name": "stderr",
     "output_type": "stream",
     "text": [
      "0008__exp                     : INFO     Fold 0 AUC: 0.7490\n"
     ]
    },
    {
     "name": "stdout",
     "output_type": "stream",
     "text": [
      "Training until validation scores don't improve for 200 rounds\n",
      "[500]\tvalid_0's binary_logloss: 0.354261\n",
      "Early stopping, best iteration is:\n",
      "[557]\tvalid_0's binary_logloss: 0.354185\n"
     ]
    },
    {
     "name": "stderr",
     "output_type": "stream",
     "text": [
      "0008__exp                     : INFO     Fold 1 AUC: 0.7527\n"
     ]
    },
    {
     "name": "stdout",
     "output_type": "stream",
     "text": [
      "Training until validation scores don't improve for 200 rounds\n",
      "[500]\tvalid_0's binary_logloss: 0.355879\n",
      "Early stopping, best iteration is:\n",
      "[525]\tvalid_0's binary_logloss: 0.355797\n"
     ]
    },
    {
     "name": "stderr",
     "output_type": "stream",
     "text": [
      "0008__exp                     : INFO     Fold 2 AUC: 0.7496\n"
     ]
    },
    {
     "name": "stdout",
     "output_type": "stream",
     "text": [
      "Training until validation scores don't improve for 200 rounds\n",
      "[500]\tvalid_0's binary_logloss: 0.353376\n",
      "Early stopping, best iteration is:\n",
      "[679]\tvalid_0's binary_logloss: 0.353305\n"
     ]
    },
    {
     "name": "stderr",
     "output_type": "stream",
     "text": [
      "0008__exp                     : INFO     Fold 3 AUC: 0.7543\n"
     ]
    },
    {
     "name": "stdout",
     "output_type": "stream",
     "text": [
      "Training until validation scores don't improve for 200 rounds\n",
      "[500]\tvalid_0's binary_logloss: 0.355724\n",
      "Early stopping, best iteration is:\n",
      "[618]\tvalid_0's binary_logloss: 0.355522\n"
     ]
    },
    {
     "name": "stderr",
     "output_type": "stream",
     "text": [
      "0008__exp                     : INFO     Fold 4 AUC: 0.7502\n",
      "0008__exp                     : INFO     FINISHED \\ whole AUC: 0.7511\n",
      "0008__exp                     : INFO     train チョコ・ビスクラ__チョコレート 687.775[s]\n",
      "0008__exp                     : INFO     predict チョコ・ビスクラ__チョコレート 38.946[s]\n",
      "0008__exp                     : INFO     -------------------- start スナック・キャンディー__ガム --------------------\n"
     ]
    },
    {
     "name": "stdout",
     "output_type": "stream",
     "text": [
      "Training until validation scores don't improve for 200 rounds\n",
      "Early stopping, best iteration is:\n",
      "[142]\tvalid_0's binary_logloss: 0.0649097\n"
     ]
    },
    {
     "name": "stderr",
     "output_type": "stream",
     "text": [
      "0008__exp                     : INFO     Fold 0 AUC: 0.7989\n"
     ]
    },
    {
     "name": "stdout",
     "output_type": "stream",
     "text": [
      "Training until validation scores don't improve for 200 rounds\n",
      "Early stopping, best iteration is:\n",
      "[155]\tvalid_0's binary_logloss: 0.064766\n"
     ]
    },
    {
     "name": "stderr",
     "output_type": "stream",
     "text": [
      "0008__exp                     : INFO     Fold 1 AUC: 0.8042\n"
     ]
    },
    {
     "name": "stdout",
     "output_type": "stream",
     "text": [
      "Training until validation scores don't improve for 200 rounds\n",
      "Early stopping, best iteration is:\n",
      "[101]\tvalid_0's binary_logloss: 0.065547\n"
     ]
    },
    {
     "name": "stderr",
     "output_type": "stream",
     "text": [
      "0008__exp                     : INFO     Fold 2 AUC: 0.7969\n"
     ]
    },
    {
     "name": "stdout",
     "output_type": "stream",
     "text": [
      "Training until validation scores don't improve for 200 rounds\n",
      "Early stopping, best iteration is:\n",
      "[131]\tvalid_0's binary_logloss: 0.0655671\n"
     ]
    },
    {
     "name": "stderr",
     "output_type": "stream",
     "text": [
      "0008__exp                     : INFO     Fold 3 AUC: 0.7982\n"
     ]
    },
    {
     "name": "stdout",
     "output_type": "stream",
     "text": [
      "Training until validation scores don't improve for 200 rounds\n",
      "Early stopping, best iteration is:\n",
      "[168]\tvalid_0's binary_logloss: 0.0649085\n"
     ]
    },
    {
     "name": "stderr",
     "output_type": "stream",
     "text": [
      "0008__exp                     : INFO     Fold 4 AUC: 0.7981\n",
      "0008__exp                     : INFO     FINISHED \\ whole AUC: 0.7991\n",
      "0008__exp                     : INFO     train スナック・キャンディー__ガム 517.285[s]\n",
      "0008__exp                     : INFO     predict スナック・キャンディー__ガム 38.057[s]\n",
      "0008__exp                     : INFO     -------------------- start スナック・キャンディー__シリアル --------------------\n"
     ]
    },
    {
     "name": "stdout",
     "output_type": "stream",
     "text": [
      "Training until validation scores don't improve for 200 rounds\n",
      "Early stopping, best iteration is:\n",
      "[269]\tvalid_0's binary_logloss: 0.133494\n"
     ]
    },
    {
     "name": "stderr",
     "output_type": "stream",
     "text": [
      "0008__exp                     : INFO     Fold 0 AUC: 0.8131\n"
     ]
    },
    {
     "name": "stdout",
     "output_type": "stream",
     "text": [
      "Training until validation scores don't improve for 200 rounds\n",
      "[500]\tvalid_0's binary_logloss: 0.134455\n",
      "Early stopping, best iteration is:\n",
      "[413]\tvalid_0's binary_logloss: 0.134207\n"
     ]
    },
    {
     "name": "stderr",
     "output_type": "stream",
     "text": [
      "0008__exp                     : INFO     Fold 1 AUC: 0.8082\n"
     ]
    },
    {
     "name": "stdout",
     "output_type": "stream",
     "text": [
      "Training until validation scores don't improve for 200 rounds\n",
      "[500]\tvalid_0's binary_logloss: 0.133991\n",
      "Early stopping, best iteration is:\n",
      "[365]\tvalid_0's binary_logloss: 0.133811\n"
     ]
    },
    {
     "name": "stderr",
     "output_type": "stream",
     "text": [
      "0008__exp                     : INFO     Fold 2 AUC: 0.8089\n"
     ]
    },
    {
     "name": "stdout",
     "output_type": "stream",
     "text": [
      "Training until validation scores don't improve for 200 rounds\n",
      "[500]\tvalid_0's binary_logloss: 0.133574\n",
      "Early stopping, best iteration is:\n",
      "[337]\tvalid_0's binary_logloss: 0.133479\n"
     ]
    },
    {
     "name": "stderr",
     "output_type": "stream",
     "text": [
      "0008__exp                     : INFO     Fold 3 AUC: 0.8132\n"
     ]
    },
    {
     "name": "stdout",
     "output_type": "stream",
     "text": [
      "Training until validation scores don't improve for 200 rounds\n",
      "[500]\tvalid_0's binary_logloss: 0.133214\n",
      "Early stopping, best iteration is:\n",
      "[380]\tvalid_0's binary_logloss: 0.133042\n"
     ]
    },
    {
     "name": "stderr",
     "output_type": "stream",
     "text": [
      "0008__exp                     : INFO     Fold 4 AUC: 0.8137\n",
      "0008__exp                     : INFO     FINISHED \\ whole AUC: 0.8113\n",
      "0008__exp                     : INFO     train スナック・キャンディー__シリアル 596.268[s]\n",
      "0008__exp                     : INFO     predict スナック・キャンディー__シリアル 38.324[s]\n",
      "0008__exp                     : INFO     -------------------- start アイスクリーム__ノベルティー --------------------\n"
     ]
    },
    {
     "name": "stdout",
     "output_type": "stream",
     "text": [
      "Training until validation scores don't improve for 200 rounds\n",
      "[500]\tvalid_0's binary_logloss: 0.219444\n",
      "Early stopping, best iteration is:\n",
      "[462]\tvalid_0's binary_logloss: 0.219392\n"
     ]
    },
    {
     "name": "stderr",
     "output_type": "stream",
     "text": [
      "0008__exp                     : INFO     Fold 0 AUC: 0.8243\n"
     ]
    },
    {
     "name": "stdout",
     "output_type": "stream",
     "text": [
      "Training until validation scores don't improve for 200 rounds\n",
      "[500]\tvalid_0's binary_logloss: 0.215735\n",
      "[1000]\tvalid_0's binary_logloss: 0.215561\n",
      "Early stopping, best iteration is:\n",
      "[858]\tvalid_0's binary_logloss: 0.215481\n"
     ]
    },
    {
     "name": "stderr",
     "output_type": "stream",
     "text": [
      "0008__exp                     : INFO     Fold 1 AUC: 0.8321\n"
     ]
    },
    {
     "name": "stdout",
     "output_type": "stream",
     "text": [
      "Training until validation scores don't improve for 200 rounds\n",
      "[500]\tvalid_0's binary_logloss: 0.217383\n",
      "Early stopping, best iteration is:\n",
      "[524]\tvalid_0's binary_logloss: 0.217297\n"
     ]
    },
    {
     "name": "stderr",
     "output_type": "stream",
     "text": [
      "0008__exp                     : INFO     Fold 2 AUC: 0.8278\n"
     ]
    },
    {
     "name": "stdout",
     "output_type": "stream",
     "text": [
      "Training until validation scores don't improve for 200 rounds\n",
      "[500]\tvalid_0's binary_logloss: 0.216865\n",
      "Early stopping, best iteration is:\n",
      "[630]\tvalid_0's binary_logloss: 0.21681\n"
     ]
    },
    {
     "name": "stderr",
     "output_type": "stream",
     "text": [
      "0008__exp                     : INFO     Fold 3 AUC: 0.8306\n"
     ]
    },
    {
     "name": "stdout",
     "output_type": "stream",
     "text": [
      "Training until validation scores don't improve for 200 rounds\n",
      "[500]\tvalid_0's binary_logloss: 0.218207\n",
      "Early stopping, best iteration is:\n",
      "[504]\tvalid_0's binary_logloss: 0.218184\n"
     ]
    },
    {
     "name": "stderr",
     "output_type": "stream",
     "text": [
      "0008__exp                     : INFO     Fold 4 AUC: 0.8259\n",
      "0008__exp                     : INFO     FINISHED \\ whole AUC: 0.8282\n",
      "0008__exp                     : INFO     train アイスクリーム__ノベルティー 689.206[s]\n",
      "0008__exp                     : INFO     predict アイスクリーム__ノベルティー 39.007[s]\n",
      "0008__exp                     : INFO     -------------------- start 和菓子__米菓 --------------------\n"
     ]
    },
    {
     "name": "stdout",
     "output_type": "stream",
     "text": [
      "Training until validation scores don't improve for 200 rounds\n",
      "[500]\tvalid_0's binary_logloss: 0.262077\n",
      "Early stopping, best iteration is:\n",
      "[704]\tvalid_0's binary_logloss: 0.261951\n"
     ]
    },
    {
     "name": "stderr",
     "output_type": "stream",
     "text": [
      "0008__exp                     : INFO     Fold 0 AUC: 0.7627\n"
     ]
    },
    {
     "name": "stdout",
     "output_type": "stream",
     "text": [
      "Training until validation scores don't improve for 200 rounds\n",
      "[500]\tvalid_0's binary_logloss: 0.260255\n",
      "Early stopping, best iteration is:\n",
      "[556]\tvalid_0's binary_logloss: 0.260208\n"
     ]
    },
    {
     "name": "stderr",
     "output_type": "stream",
     "text": [
      "0008__exp                     : INFO     Fold 1 AUC: 0.7686\n"
     ]
    },
    {
     "name": "stdout",
     "output_type": "stream",
     "text": [
      "Training until validation scores don't improve for 200 rounds\n",
      "[500]\tvalid_0's binary_logloss: 0.261734\n",
      "Early stopping, best iteration is:\n",
      "[337]\tvalid_0's binary_logloss: 0.261621\n"
     ]
    },
    {
     "name": "stderr",
     "output_type": "stream",
     "text": [
      "0008__exp                     : INFO     Fold 2 AUC: 0.7652\n"
     ]
    },
    {
     "name": "stdout",
     "output_type": "stream",
     "text": [
      "Training until validation scores don't improve for 200 rounds\n",
      "[500]\tvalid_0's binary_logloss: 0.261547\n",
      "Early stopping, best iteration is:\n",
      "[400]\tvalid_0's binary_logloss: 0.261376\n"
     ]
    },
    {
     "name": "stderr",
     "output_type": "stream",
     "text": [
      "0008__exp                     : INFO     Fold 3 AUC: 0.7648\n"
     ]
    },
    {
     "name": "stdout",
     "output_type": "stream",
     "text": [
      "Training until validation scores don't improve for 200 rounds\n",
      "[500]\tvalid_0's binary_logloss: 0.262998\n",
      "Early stopping, best iteration is:\n",
      "[473]\tvalid_0's binary_logloss: 0.262954\n"
     ]
    },
    {
     "name": "stderr",
     "output_type": "stream",
     "text": [
      "0008__exp                     : INFO     Fold 4 AUC: 0.7614\n",
      "0008__exp                     : INFO     FINISHED \\ whole AUC: 0.7645\n",
      "0008__exp                     : INFO     train 和菓子__米菓 670.243[s]\n",
      "0008__exp                     : INFO     predict 和菓子__米菓 39.078[s]\n",
      "0008__exp                     : INFO     -------------------- start 水・炭酸水__大型PET（炭酸水） --------------------\n"
     ]
    },
    {
     "name": "stdout",
     "output_type": "stream",
     "text": [
      "Training until validation scores don't improve for 200 rounds\n",
      "[500]\tvalid_0's binary_logloss: 0.0819207\n",
      "Early stopping, best iteration is:\n",
      "[394]\tvalid_0's binary_logloss: 0.0817401\n"
     ]
    },
    {
     "name": "stderr",
     "output_type": "stream",
     "text": [
      "0008__exp                     : INFO     Fold 0 AUC: 0.9023\n"
     ]
    },
    {
     "name": "stdout",
     "output_type": "stream",
     "text": [
      "Training until validation scores don't improve for 200 rounds\n",
      "[500]\tvalid_0's binary_logloss: 0.0820055\n",
      "Early stopping, best iteration is:\n",
      "[366]\tvalid_0's binary_logloss: 0.0819721\n"
     ]
    },
    {
     "name": "stderr",
     "output_type": "stream",
     "text": [
      "0008__exp                     : INFO     Fold 1 AUC: 0.9026\n"
     ]
    },
    {
     "name": "stdout",
     "output_type": "stream",
     "text": [
      "Training until validation scores don't improve for 200 rounds\n",
      "[500]\tvalid_0's binary_logloss: 0.0815098\n",
      "Early stopping, best iteration is:\n",
      "[300]\tvalid_0's binary_logloss: 0.081445\n"
     ]
    },
    {
     "name": "stderr",
     "output_type": "stream",
     "text": [
      "0008__exp                     : INFO     Fold 2 AUC: 0.9034\n"
     ]
    },
    {
     "name": "stdout",
     "output_type": "stream",
     "text": [
      "Training until validation scores don't improve for 200 rounds\n",
      "Early stopping, best iteration is:\n",
      "[261]\tvalid_0's binary_logloss: 0.081842\n"
     ]
    },
    {
     "name": "stderr",
     "output_type": "stream",
     "text": [
      "0008__exp                     : INFO     Fold 3 AUC: 0.9037\n"
     ]
    },
    {
     "name": "stdout",
     "output_type": "stream",
     "text": [
      "Training until validation scores don't improve for 200 rounds\n",
      "Early stopping, best iteration is:\n",
      "[202]\tvalid_0's binary_logloss: 0.0824387\n"
     ]
    },
    {
     "name": "stderr",
     "output_type": "stream",
     "text": [
      "0008__exp                     : INFO     Fold 4 AUC: 0.9025\n",
      "0008__exp                     : INFO     FINISHED \\ whole AUC: 0.9028\n",
      "0008__exp                     : INFO     train 水・炭酸水__大型PET（炭酸水） 613.650[s]\n",
      "0008__exp                     : INFO     predict 水・炭酸水__大型PET（炭酸水） 40.808[s]\n",
      "0008__exp                     : INFO     -------------------- start 水・炭酸水__小型PET（炭酸水） --------------------\n"
     ]
    },
    {
     "name": "stdout",
     "output_type": "stream",
     "text": [
      "Training until validation scores don't improve for 200 rounds\n",
      "[500]\tvalid_0's binary_logloss: 0.11717\n",
      "Early stopping, best iteration is:\n",
      "[384]\tvalid_0's binary_logloss: 0.116944\n"
     ]
    },
    {
     "name": "stderr",
     "output_type": "stream",
     "text": [
      "0008__exp                     : INFO     Fold 0 AUC: 0.8603\n"
     ]
    },
    {
     "name": "stdout",
     "output_type": "stream",
     "text": [
      "Training until validation scores don't improve for 200 rounds\n",
      "[500]\tvalid_0's binary_logloss: 0.117849\n",
      "Early stopping, best iteration is:\n",
      "[441]\tvalid_0's binary_logloss: 0.117799\n"
     ]
    },
    {
     "name": "stderr",
     "output_type": "stream",
     "text": [
      "0008__exp                     : INFO     Fold 1 AUC: 0.8531\n"
     ]
    },
    {
     "name": "stdout",
     "output_type": "stream",
     "text": [
      "Training until validation scores don't improve for 200 rounds\n",
      "[500]\tvalid_0's binary_logloss: 0.116185\n",
      "Early stopping, best iteration is:\n",
      "[368]\tvalid_0's binary_logloss: 0.116048\n"
     ]
    },
    {
     "name": "stderr",
     "output_type": "stream",
     "text": [
      "0008__exp                     : INFO     Fold 2 AUC: 0.8623\n"
     ]
    },
    {
     "name": "stdout",
     "output_type": "stream",
     "text": [
      "Training until validation scores don't improve for 200 rounds\n",
      "Early stopping, best iteration is:\n",
      "[276]\tvalid_0's binary_logloss: 0.117933\n"
     ]
    },
    {
     "name": "stderr",
     "output_type": "stream",
     "text": [
      "0008__exp                     : INFO     Fold 3 AUC: 0.8522\n"
     ]
    },
    {
     "name": "stdout",
     "output_type": "stream",
     "text": [
      "Training until validation scores don't improve for 200 rounds\n",
      "Early stopping, best iteration is:\n",
      "[261]\tvalid_0's binary_logloss: 0.118797\n"
     ]
    },
    {
     "name": "stderr",
     "output_type": "stream",
     "text": [
      "0008__exp                     : INFO     Fold 4 AUC: 0.8524\n",
      "0008__exp                     : INFO     FINISHED \\ whole AUC: 0.8560\n",
      "0008__exp                     : INFO     train 水・炭酸水__小型PET（炭酸水） 607.329[s]\n",
      "0008__exp                     : INFO     predict 水・炭酸水__小型PET（炭酸水） 38.610[s]\n",
      "0008__exp                     : INFO     -------------------- start 缶飲料__コーヒー（缶） --------------------\n"
     ]
    },
    {
     "name": "stdout",
     "output_type": "stream",
     "text": [
      "Training until validation scores don't improve for 200 rounds\n",
      "Early stopping, best iteration is:\n",
      "[172]\tvalid_0's binary_logloss: 0.0370456\n"
     ]
    },
    {
     "name": "stderr",
     "output_type": "stream",
     "text": [
      "0008__exp                     : INFO     Fold 0 AUC: 0.9188\n"
     ]
    },
    {
     "name": "stdout",
     "output_type": "stream",
     "text": [
      "Training until validation scores don't improve for 200 rounds\n",
      "Early stopping, best iteration is:\n",
      "[294]\tvalid_0's binary_logloss: 0.0363986\n"
     ]
    },
    {
     "name": "stderr",
     "output_type": "stream",
     "text": [
      "0008__exp                     : INFO     Fold 1 AUC: 0.9216\n"
     ]
    },
    {
     "name": "stdout",
     "output_type": "stream",
     "text": [
      "Training until validation scores don't improve for 200 rounds\n",
      "Early stopping, best iteration is:\n",
      "[139]\tvalid_0's binary_logloss: 0.0367938\n"
     ]
    },
    {
     "name": "stderr",
     "output_type": "stream",
     "text": [
      "0008__exp                     : INFO     Fold 2 AUC: 0.9191\n"
     ]
    },
    {
     "name": "stdout",
     "output_type": "stream",
     "text": [
      "Training until validation scores don't improve for 200 rounds\n",
      "Early stopping, best iteration is:\n",
      "[139]\tvalid_0's binary_logloss: 0.0378371\n"
     ]
    },
    {
     "name": "stderr",
     "output_type": "stream",
     "text": [
      "0008__exp                     : INFO     Fold 3 AUC: 0.9085\n"
     ]
    },
    {
     "name": "stdout",
     "output_type": "stream",
     "text": [
      "Training until validation scores don't improve for 200 rounds\n",
      "[500]\tvalid_0's binary_logloss: 0.0365757\n",
      "Early stopping, best iteration is:\n",
      "[338]\tvalid_0's binary_logloss: 0.0365393\n"
     ]
    },
    {
     "name": "stderr",
     "output_type": "stream",
     "text": [
      "0008__exp                     : INFO     Fold 4 AUC: 0.9160\n",
      "0008__exp                     : INFO     FINISHED \\ whole AUC: 0.9164\n",
      "0008__exp                     : INFO     train 缶飲料__コーヒー（缶） 547.142[s]\n",
      "0008__exp                     : INFO     predict 缶飲料__コーヒー（缶） 38.242[s]\n",
      "0008__exp                     : INFO     -------------------- start 小型PET__コーヒー（小型PET） --------------------\n"
     ]
    },
    {
     "name": "stdout",
     "output_type": "stream",
     "text": [
      "Training until validation scores don't improve for 200 rounds\n",
      "Early stopping, best iteration is:\n",
      "[186]\tvalid_0's binary_logloss: 0.0803847\n"
     ]
    },
    {
     "name": "stderr",
     "output_type": "stream",
     "text": [
      "0008__exp                     : INFO     Fold 0 AUC: 0.8702\n"
     ]
    },
    {
     "name": "stdout",
     "output_type": "stream",
     "text": [
      "Training until validation scores don't improve for 200 rounds\n",
      "Early stopping, best iteration is:\n",
      "[151]\tvalid_0's binary_logloss: 0.0823325\n"
     ]
    },
    {
     "name": "stderr",
     "output_type": "stream",
     "text": [
      "0008__exp                     : INFO     Fold 1 AUC: 0.8611\n"
     ]
    },
    {
     "name": "stdout",
     "output_type": "stream",
     "text": [
      "Training until validation scores don't improve for 200 rounds\n",
      "[500]\tvalid_0's binary_logloss: 0.0795912\n",
      "Early stopping, best iteration is:\n",
      "[318]\tvalid_0's binary_logloss: 0.0794139\n"
     ]
    },
    {
     "name": "stderr",
     "output_type": "stream",
     "text": [
      "0008__exp                     : INFO     Fold 2 AUC: 0.8773\n"
     ]
    },
    {
     "name": "stdout",
     "output_type": "stream",
     "text": [
      "Training until validation scores don't improve for 200 rounds\n",
      "Early stopping, best iteration is:\n",
      "[170]\tvalid_0's binary_logloss: 0.0818174\n"
     ]
    },
    {
     "name": "stderr",
     "output_type": "stream",
     "text": [
      "0008__exp                     : INFO     Fold 3 AUC: 0.8633\n"
     ]
    },
    {
     "name": "stdout",
     "output_type": "stream",
     "text": [
      "Training until validation scores don't improve for 200 rounds\n",
      "Early stopping, best iteration is:\n",
      "[168]\tvalid_0's binary_logloss: 0.0805859\n"
     ]
    },
    {
     "name": "stderr",
     "output_type": "stream",
     "text": [
      "0008__exp                     : INFO     Fold 4 AUC: 0.8718\n",
      "0008__exp                     : INFO     FINISHED \\ whole AUC: 0.8688\n",
      "0008__exp                     : INFO     train 小型PET__コーヒー（小型PET） 565.513[s]\n",
      "0008__exp                     : INFO     predict 小型PET__コーヒー（小型PET） 38.673[s]\n",
      "0008__exp                     : INFO     -------------------- start 大型PET__無糖茶（大型PET） --------------------\n"
     ]
    },
    {
     "name": "stdout",
     "output_type": "stream",
     "text": [
      "Training until validation scores don't improve for 200 rounds\n",
      "[500]\tvalid_0's binary_logloss: 0.139665\n",
      "Early stopping, best iteration is:\n",
      "[565]\tvalid_0's binary_logloss: 0.139587\n"
     ]
    },
    {
     "name": "stderr",
     "output_type": "stream",
     "text": [
      "0008__exp                     : INFO     Fold 0 AUC: 0.8690\n"
     ]
    },
    {
     "name": "stdout",
     "output_type": "stream",
     "text": [
      "Training until validation scores don't improve for 200 rounds\n",
      "[500]\tvalid_0's binary_logloss: 0.141756\n",
      "Early stopping, best iteration is:\n",
      "[560]\tvalid_0's binary_logloss: 0.141715\n"
     ]
    },
    {
     "name": "stderr",
     "output_type": "stream",
     "text": [
      "0008__exp                     : INFO     Fold 1 AUC: 0.8637\n"
     ]
    },
    {
     "name": "stdout",
     "output_type": "stream",
     "text": [
      "Training until validation scores don't improve for 200 rounds\n",
      "[500]\tvalid_0's binary_logloss: 0.142445\n",
      "Early stopping, best iteration is:\n",
      "[447]\tvalid_0's binary_logloss: 0.142354\n"
     ]
    },
    {
     "name": "stderr",
     "output_type": "stream",
     "text": [
      "0008__exp                     : INFO     Fold 2 AUC: 0.8627\n"
     ]
    },
    {
     "name": "stdout",
     "output_type": "stream",
     "text": [
      "Training until validation scores don't improve for 200 rounds\n",
      "[500]\tvalid_0's binary_logloss: 0.139379\n",
      "Early stopping, best iteration is:\n",
      "[322]\tvalid_0's binary_logloss: 0.139258\n"
     ]
    },
    {
     "name": "stderr",
     "output_type": "stream",
     "text": [
      "0008__exp                     : INFO     Fold 3 AUC: 0.8719\n"
     ]
    },
    {
     "name": "stdout",
     "output_type": "stream",
     "text": [
      "Training until validation scores don't improve for 200 rounds\n",
      "[500]\tvalid_0's binary_logloss: 0.140624\n",
      "Early stopping, best iteration is:\n",
      "[521]\tvalid_0's binary_logloss: 0.140588\n"
     ]
    },
    {
     "name": "stderr",
     "output_type": "stream",
     "text": [
      "0008__exp                     : INFO     Fold 4 AUC: 0.8684\n",
      "0008__exp                     : INFO     FINISHED \\ whole AUC: 0.8670\n",
      "0008__exp                     : INFO     train 大型PET__無糖茶（大型PET） 650.998[s]\n",
      "0008__exp                     : INFO     predict 大型PET__無糖茶（大型PET） 38.686[s]\n",
      "0008__exp                     : INFO     -------------------- start 麺類__カップ麺 --------------------\n"
     ]
    },
    {
     "name": "stdout",
     "output_type": "stream",
     "text": [
      "Training until validation scores don't improve for 200 rounds\n",
      "[500]\tvalid_0's binary_logloss: 0.291323\n",
      "Early stopping, best iteration is:\n",
      "[596]\tvalid_0's binary_logloss: 0.291147\n"
     ]
    },
    {
     "name": "stderr",
     "output_type": "stream",
     "text": [
      "0008__exp                     : INFO     Fold 0 AUC: 0.7518\n"
     ]
    },
    {
     "name": "stdout",
     "output_type": "stream",
     "text": [
      "Training until validation scores don't improve for 200 rounds\n",
      "[500]\tvalid_0's binary_logloss: 0.291977\n",
      "Early stopping, best iteration is:\n",
      "[483]\tvalid_0's binary_logloss: 0.291948\n"
     ]
    },
    {
     "name": "stderr",
     "output_type": "stream",
     "text": [
      "0008__exp                     : INFO     Fold 1 AUC: 0.7491\n"
     ]
    },
    {
     "name": "stdout",
     "output_type": "stream",
     "text": [
      "Training until validation scores don't improve for 200 rounds\n",
      "[500]\tvalid_0's binary_logloss: 0.291876\n",
      "Early stopping, best iteration is:\n",
      "[494]\tvalid_0's binary_logloss: 0.291871\n"
     ]
    },
    {
     "name": "stderr",
     "output_type": "stream",
     "text": [
      "0008__exp                     : INFO     Fold 2 AUC: 0.7500\n"
     ]
    },
    {
     "name": "stdout",
     "output_type": "stream",
     "text": [
      "Training until validation scores don't improve for 200 rounds\n",
      "[500]\tvalid_0's binary_logloss: 0.291999\n",
      "Early stopping, best iteration is:\n",
      "[690]\tvalid_0's binary_logloss: 0.291853\n"
     ]
    },
    {
     "name": "stderr",
     "output_type": "stream",
     "text": [
      "0008__exp                     : INFO     Fold 3 AUC: 0.7506\n"
     ]
    },
    {
     "name": "stdout",
     "output_type": "stream",
     "text": [
      "Training until validation scores don't improve for 200 rounds\n",
      "[500]\tvalid_0's binary_logloss: 0.290593\n",
      "Early stopping, best iteration is:\n",
      "[661]\tvalid_0's binary_logloss: 0.290506\n"
     ]
    },
    {
     "name": "stderr",
     "output_type": "stream",
     "text": [
      "0008__exp                     : INFO     Fold 4 AUC: 0.7525\n",
      "0008__exp                     : INFO     FINISHED \\ whole AUC: 0.7508\n",
      "0008__exp                     : INFO     train 麺類__カップ麺 685.341[s]\n",
      "0008__exp                     : INFO     predict 麺類__カップ麺 39.648[s]\n"
     ]
    }
   ],
   "source": [
    "oof_df, pred_df = pd.DataFrame(), pd.DataFrame()\n",
    "\n",
    "for i in TARGET_IDS:\n",
    "    target_name = category_id2code[i]\n",
    "    with timer(logger=logger, prefix='train {} '.format(target_name)):\n",
    "        oof, models = fit_and_predict(train_df=feat_train_df, \n",
    "                                    target_df=train_target_df,\n",
    "                                    target_id=i)\n",
    "    \n",
    "    # 予測モデルで推論実行\n",
    "    with timer(logger, prefix='predict {} '.format(target_name)):\n",
    "        pred = create_predict(models, input_df=feat_test_df)\n",
    "    \n",
    "    oof_df[i] = oof\n",
    "    pred_df[i] = pred"
   ]
  },
  {
   "cell_type": "code",
   "execution_count": 65,
   "metadata": {
    "scrolled": true
   },
   "outputs": [
    {
     "name": "stderr",
     "output_type": "stream",
     "text": [
      "0008__exp                     : INFO     Out-Of-Fold Score: 0.8316\n"
     ]
    }
   ],
   "source": [
    "oof_score = roc_auc_score((train_target_df[TARGET_IDS] > 0).astype(int), oof_df[TARGET_IDS], average='macro')\n",
    "\n",
    "logger.info('Out-Of-Fold Score: {:.4f}'.format(oof_score))"
   ]
  },
  {
   "cell_type": "code",
   "execution_count": 66,
   "metadata": {},
   "outputs": [
    {
     "name": "stdout",
     "output_type": "stream",
     "text": [
      "plot oof-test-distributions 88.134[s]\n"
     ]
    }
   ],
   "source": [
    "nfigs = len(oof_df.columns)\n",
    "ncols = 5\n",
    "nrows = - (- nfigs // ncols)\n",
    "fig, axes = plt.subplots(figsize=(5 * ncols, 3 * nrows), ncols=ncols, nrows=nrows, sharex=True)\n",
    "axes = np.ravel(axes)\n",
    "\n",
    "with timer(prefix='plot oof-test-distributions '):\n",
    "    for c, ax in zip(oof_df.columns, axes):\n",
    "        sns.histplot(data=pd.DataFrame({\n",
    "            'OOF': oof_df[c],\n",
    "            'Test': pred_df[c]\n",
    "        }), ax=ax, stat='density', common_norm=False,)\n",
    "        ax.set_title(category_id2code[c])\n",
    "        ax.grid()\n",
    "    fig.tight_layout()\n",
    "    savefig(fig, to='out-of-fold_vs_test')"
   ]
  },
  {
   "cell_type": "code",
   "execution_count": 67,
   "metadata": {},
   "outputs": [],
   "source": [
    "pred_df.to_csv(os.path.join(OUTPUT_DIR, f'{filename}_submission.csv'), index=False)"
   ]
  },
  {
   "cell_type": "code",
   "execution_count": 68,
   "metadata": {},
   "outputs": [
    {
     "name": "stdout",
     "output_type": "stream",
     "text": [
      "Requirement already satisfied: sweetviz in /home/penguin/.conda/lib/python3.7/site-packages (2.0.4)\n",
      "Requirement already satisfied: tqdm>=4.43.0 in /home/penguin/.conda/lib/python3.7/site-packages (from sweetviz) (4.47.0)\n",
      "Requirement already satisfied: pandas!=1.0.0,!=1.0.1,!=1.0.2,>=0.25.3 in /home/penguin/.conda/lib/python3.7/site-packages (from sweetviz) (1.0.5)\n",
      "Requirement already satisfied: jinja2>=2.11.1 in /home/penguin/.conda/lib/python3.7/site-packages (from sweetviz) (2.11.2)\n",
      "Requirement already satisfied: scipy>=1.3.2 in /home/penguin/.conda/lib/python3.7/site-packages (from sweetviz) (1.5.0)\n",
      "Requirement already satisfied: matplotlib>=3.1.3 in /home/penguin/.conda/lib/python3.7/site-packages (from sweetviz) (3.2.2)\n",
      "Requirement already satisfied: importlib-resources>=1.2.0 in /home/penguin/.conda/lib/python3.7/site-packages (from sweetviz) (5.1.0)\n",
      "Requirement already satisfied: numpy>=1.16.0 in /home/penguin/.conda/lib/python3.7/site-packages (from sweetviz) (1.18.5)\n",
      "Requirement already satisfied: zipp>=0.4 in /home/penguin/.conda/lib/python3.7/site-packages (from importlib-resources>=1.2.0->sweetviz) (3.1.0)\n",
      "Requirement already satisfied: MarkupSafe>=0.23 in /home/penguin/.conda/lib/python3.7/site-packages (from jinja2>=2.11.1->sweetviz) (1.1.1)\n",
      "Requirement already satisfied: pyparsing!=2.0.4,!=2.1.2,!=2.1.6,>=2.0.1 in /home/penguin/.conda/lib/python3.7/site-packages (from matplotlib>=3.1.3->sweetviz) (2.4.7)\n",
      "Requirement already satisfied: cycler>=0.10 in /home/penguin/.conda/lib/python3.7/site-packages (from matplotlib>=3.1.3->sweetviz) (0.10.0)\n",
      "Requirement already satisfied: kiwisolver>=1.0.1 in /home/penguin/.conda/lib/python3.7/site-packages (from matplotlib>=3.1.3->sweetviz) (1.2.0)\n",
      "Requirement already satisfied: python-dateutil>=2.1 in /home/penguin/.conda/lib/python3.7/site-packages (from matplotlib>=3.1.3->sweetviz) (2.8.1)\n",
      "Requirement already satisfied: six in /home/penguin/.conda/lib/python3.7/site-packages (from cycler>=0.10->matplotlib>=3.1.3->sweetviz) (1.15.0)\n",
      "Requirement already satisfied: pytz>=2017.2 in /home/penguin/.conda/lib/python3.7/site-packages (from pandas!=1.0.0,!=1.0.1,!=1.0.2,>=0.25.3->sweetviz) (2020.1)\n",
      "\u001b[33mWARNING: You are using pip version 20.3.3; however, version 21.0.1 is available.\n",
      "You should consider upgrading via the '/home/penguin/.conda/bin/python -m pip install --upgrade pip' command.\u001b[0m\n"
     ]
    }
   ],
   "source": [
    "!pip install sweetviz"
   ]
  },
  {
   "cell_type": "code",
   "execution_count": 69,
   "metadata": {},
   "outputs": [
    {
     "name": "stdout",
     "output_type": "stream",
     "text": [
      "[General]\n",
      "use_cjk_font = 1 \n"
     ]
    },
    {
     "data": {
      "application/vnd.jupyter.widget-view+json": {
       "model_id": "4b559f6de648455897c2cd45d972d50d",
       "version_major": 2,
       "version_minor": 0
      },
      "text/plain": [
       "HBox(children=(FloatProgress(value=0.0, layout=Layout(flex='2'), max=1683.0), HTML(value='')), layout=Layout(d…"
      ]
     },
     "metadata": {},
     "output_type": "display_data"
    },
    {
     "name": "stdout",
     "output_type": "stream",
     "text": [
      "PAIRWISE CALCULATION LENGTH WARNING: There are 1682 features in this dataframe and the 'pairwise_analysis' parameter is set to 'auto'.\n",
      "Pairwise analysis is exponential in length: 1682 features will cause ~2829124 pairs to be evaluated, which could take a long time.\n",
      "\n",
      "You must call the function with the parameter pairwise_analysis='on' or 'off' to explicitly select desired behavior.\n",
      "\n"
     ]
    },
    {
     "ename": "AttributeError",
     "evalue": "'DataframeReport' object has no attribute 'associations_html_source'",
     "output_type": "error",
     "traceback": [
      "\u001b[0;31m---------------------------------------------------------------------------\u001b[0m",
      "\u001b[0;31mAttributeError\u001b[0m                            Traceback (most recent call last)",
      "\u001b[0;32m<ipython-input-69-ac6a6f8e6600>\u001b[0m in \u001b[0;36m<module>\u001b[0;34m\u001b[0m\n\u001b[1;32m     22\u001b[0m                     compare=[feat_test_df[columns], 'Test'], )\n\u001b[1;32m     23\u001b[0m \u001b[0;34m\u001b[0m\u001b[0m\n\u001b[0;32m---> 24\u001b[0;31m \u001b[0mreport\u001b[0m\u001b[0;34m.\u001b[0m\u001b[0mshow_html\u001b[0m\u001b[0;34m(\u001b[0m\u001b[0mos\u001b[0m\u001b[0;34m.\u001b[0m\u001b[0mpath\u001b[0m\u001b[0;34m.\u001b[0m\u001b[0mjoin\u001b[0m\u001b[0;34m(\u001b[0m\u001b[0mOUTPUT_DIR\u001b[0m\u001b[0;34m,\u001b[0m \u001b[0;34m'train_test_feature_summary.html'\u001b[0m\u001b[0;34m)\u001b[0m\u001b[0;34m)\u001b[0m\u001b[0;34m\u001b[0m\u001b[0;34m\u001b[0m\u001b[0m\n\u001b[0m",
      "\u001b[0;32m~/.conda/lib/python3.7/site-packages/sweetviz/dataframe_report.py\u001b[0m in \u001b[0;36mshow_html\u001b[0;34m(self, filepath, open_browser, layout, scale)\u001b[0m\n\u001b[1;32m    472\u001b[0m         \u001b[0msv_html\u001b[0m\u001b[0;34m.\u001b[0m\u001b[0mset_summary_positions\u001b[0m\u001b[0;34m(\u001b[0m\u001b[0mself\u001b[0m\u001b[0;34m)\u001b[0m\u001b[0;34m\u001b[0m\u001b[0;34m\u001b[0m\u001b[0m\n\u001b[1;32m    473\u001b[0m         \u001b[0msv_html\u001b[0m\u001b[0;34m.\u001b[0m\u001b[0mgenerate_html_detail\u001b[0m\u001b[0;34m(\u001b[0m\u001b[0mself\u001b[0m\u001b[0;34m)\u001b[0m\u001b[0;34m\u001b[0m\u001b[0;34m\u001b[0m\u001b[0m\n\u001b[0;32m--> 474\u001b[0;31m         \u001b[0;32mif\u001b[0m \u001b[0mself\u001b[0m\u001b[0;34m.\u001b[0m\u001b[0massociations_html_source\u001b[0m\u001b[0;34m:\u001b[0m\u001b[0;34m\u001b[0m\u001b[0;34m\u001b[0m\u001b[0m\n\u001b[0m\u001b[1;32m    475\u001b[0m             \u001b[0mself\u001b[0m\u001b[0;34m.\u001b[0m\u001b[0massociations_html_source\u001b[0m \u001b[0;34m=\u001b[0m \u001b[0msv_html\u001b[0m\u001b[0;34m.\u001b[0m\u001b[0mgenerate_html_associations\u001b[0m\u001b[0;34m(\u001b[0m\u001b[0mself\u001b[0m\u001b[0;34m,\u001b[0m \u001b[0;34m\"source\"\u001b[0m\u001b[0;34m)\u001b[0m\u001b[0;34m\u001b[0m\u001b[0;34m\u001b[0m\u001b[0m\n\u001b[1;32m    476\u001b[0m         \u001b[0;32mif\u001b[0m \u001b[0mself\u001b[0m\u001b[0;34m.\u001b[0m\u001b[0massociations_html_compare\u001b[0m\u001b[0;34m:\u001b[0m\u001b[0;34m\u001b[0m\u001b[0;34m\u001b[0m\u001b[0m\n",
      "\u001b[0;31mAttributeError\u001b[0m: 'DataframeReport' object has no attribute 'associations_html_source'"
     ]
    }
   ],
   "source": [
    "import sweetviz as sv\n",
    "\n",
    "# 日本語化の設定\n",
    "vis_conf = \"\"\"[General]\n",
    "use_cjk_font = 1 \n",
    "\"\"\"\n",
    "\n",
    "vis_config_path = \"./sweetvis_conf.ini\"\n",
    "\n",
    "with open(vis_config_path, 'w') as f:\n",
    "    f.write(vis_conf)\n",
    "    \n",
    "sv.config_parser.read(vis_config_path)\n",
    "\n",
    "!cat ./sweetvis_conf.ini\n",
    "\n",
    "columns = [\n",
    "    *feat_train_df.columns\n",
    "]\n",
    "# report の作成\n",
    "report = sv.compare(source=[feat_train_df[columns], 'Train'],\n",
    "                    compare=[feat_test_df[columns], 'Test'], )\n",
    "\n",
    "report.show_html(os.path.join(OUTPUT_DIR, 'train_test_feature_summary.html'))"
   ]
  },
  {
   "cell_type": "code",
   "execution_count": null,
   "metadata": {},
   "outputs": [],
   "source": []
  }
 ],
 "metadata": {
  "kernelspec": {
   "display_name": "Python 3",
   "language": "python",
   "name": "python3"
  },
  "language_info": {
   "codemirror_mode": {
    "name": "ipython",
    "version": 3
   },
   "file_extension": ".py",
   "mimetype": "text/x-python",
   "name": "python",
   "nbconvert_exporter": "python",
   "pygments_lexer": "ipython3",
   "version": "3.9.1"
  }
 },
 "nbformat": 4,
 "nbformat_minor": 4
}
