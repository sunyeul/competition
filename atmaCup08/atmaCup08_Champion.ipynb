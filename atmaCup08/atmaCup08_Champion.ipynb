{
 "cells": [
  {
   "cell_type": "markdown",
   "metadata": {
    "id": "YzfvwNrzewhb"
   },
   "source": [
    "# atmaCup #8"
   ]
  },
  {
   "cell_type": "markdown",
   "metadata": {
    "id": "J0_bJPhjeye7"
   },
   "source": [
    "## Preliminary"
   ]
  },
  {
   "cell_type": "markdown",
   "metadata": {
    "id": "-A21WO-2e2l2"
   },
   "source": [
    "### Import libraries"
   ]
  },
  {
   "cell_type": "code",
   "execution_count": null,
   "metadata": {
    "id": "om4xmug3P96p"
   },
   "outputs": [],
   "source": [
    "import numpy as np\n",
    "import pandas as pd\n",
    "\n",
    "import matplotlib as mpl\n",
    "import matplotlib.pyplot as plt\n",
    "import seaborn as sns\n",
    "\n",
    "from pandas_profiling import ProfileReport\n",
    "from matplotlib_venn import venn2 # venn図を作成する用\n",
    "\n",
    "from sklearn.model_selection import StratifiedKFold, KFold\n",
    "from sklearn.decomposition import PCA\n",
    "\n",
    "from time import time\n",
    "from typing import List\n",
    "from IPython.display import clear_output\n",
    "\n",
    "%matplotlib inline\n",
    "\n",
    "COLOR = 'gray'\n",
    "mpl.rcParams['text.color'] = COLOR\n",
    "mpl.rcParams['axes.labelcolor'] = COLOR\n",
    "mpl.rcParams['xtick.color'] = COLOR\n",
    "mpl.rcParams['ytick.color'] = COLOR\n",
    "\n",
    "sns.set_style()"
   ]
  },
  {
   "cell_type": "markdown",
   "metadata": {
    "id": "uyU7WBRCe410"
   },
   "source": [
    "### Load data"
   ]
  },
  {
   "cell_type": "code",
   "execution_count": null,
   "metadata": {
    "id": "cp-XfTtGPk1V"
   },
   "outputs": [],
   "source": [
    "path = '/content/drive/MyDrive/Kaggle/atmaCup8/input/'"
   ]
  },
  {
   "cell_type": "code",
   "execution_count": null,
   "metadata": {
    "id": "pyl3jZInP6cu"
   },
   "outputs": [],
   "source": [
    "train_df = pd.read_csv(path + 'train.csv')\n",
    "test_df = pd.read_csv(path + 'test.csv')\n",
    "\n",
    "whole_df = pd.concat([train_df, test_df], ignore_index=True)"
   ]
  },
  {
   "cell_type": "code",
   "execution_count": null,
   "metadata": {
    "colab": {
     "base_uri": "https://localhost:8080/",
     "height": 571
    },
    "executionInfo": {
     "elapsed": 6827,
     "status": "ok",
     "timestamp": 1607837129183,
     "user": {
      "displayName": "김준형",
      "photoUrl": "https://lh3.googleusercontent.com/a-/AOh14GjoucIizMtFKPEd5GLr281FF-qhH43HTCNZtxOuTzA=s64",
      "userId": "17669351473013187910"
     },
     "user_tz": -540
    },
    "id": "HMulaS5Fr4sW",
    "outputId": "1a5f4ee5-d5b0-44cf-879d-08c15b5ac33c"
   },
   "outputs": [
    {
     "data": {
      "text/html": [
       "<div>\n",
       "<style scoped>\n",
       "    .dataframe tbody tr th:only-of-type {\n",
       "        vertical-align: middle;\n",
       "    }\n",
       "\n",
       "    .dataframe tbody tr th {\n",
       "        vertical-align: top;\n",
       "    }\n",
       "\n",
       "    .dataframe thead th {\n",
       "        text-align: right;\n",
       "    }\n",
       "</style>\n",
       "<table border=\"1\" class=\"dataframe\">\n",
       "  <thead>\n",
       "    <tr style=\"text-align: right;\">\n",
       "      <th></th>\n",
       "      <th>0</th>\n",
       "      <th>1</th>\n",
       "      <th>2</th>\n",
       "      <th>3</th>\n",
       "      <th>4</th>\n",
       "    </tr>\n",
       "  </thead>\n",
       "  <tbody>\n",
       "    <tr>\n",
       "      <th>Name</th>\n",
       "      <td>LEGO Batman: The Videogame</td>\n",
       "      <td>LEGO Indiana Jones: The Original Adventures</td>\n",
       "      <td>LEGO Batman: The Videogame</td>\n",
       "      <td>Combat</td>\n",
       "      <td>LEGO Harry Potter: Years 5-7</td>\n",
       "    </tr>\n",
       "    <tr>\n",
       "      <th>Platform</th>\n",
       "      <td>Wii</td>\n",
       "      <td>Wii</td>\n",
       "      <td>PSP</td>\n",
       "      <td>2600</td>\n",
       "      <td>Wii</td>\n",
       "    </tr>\n",
       "    <tr>\n",
       "      <th>Year_of_Release</th>\n",
       "      <td>NaN</td>\n",
       "      <td>NaN</td>\n",
       "      <td>NaN</td>\n",
       "      <td>NaN</td>\n",
       "      <td>NaN</td>\n",
       "    </tr>\n",
       "    <tr>\n",
       "      <th>Genre</th>\n",
       "      <td>Action</td>\n",
       "      <td>Action</td>\n",
       "      <td>Action</td>\n",
       "      <td>Action</td>\n",
       "      <td>Action</td>\n",
       "    </tr>\n",
       "    <tr>\n",
       "      <th>Publisher</th>\n",
       "      <td>Warner Bros. Interactive Entertainment</td>\n",
       "      <td>LucasArts</td>\n",
       "      <td>Warner Bros. Interactive Entertainment</td>\n",
       "      <td>Atari</td>\n",
       "      <td>Warner Bros. Interactive Entertainment</td>\n",
       "    </tr>\n",
       "    <tr>\n",
       "      <th>NA_Sales</th>\n",
       "      <td>180</td>\n",
       "      <td>151</td>\n",
       "      <td>56</td>\n",
       "      <td>117</td>\n",
       "      <td>69</td>\n",
       "    </tr>\n",
       "    <tr>\n",
       "      <th>EU_Sales</th>\n",
       "      <td>97</td>\n",
       "      <td>61</td>\n",
       "      <td>44</td>\n",
       "      <td>7</td>\n",
       "      <td>42</td>\n",
       "    </tr>\n",
       "    <tr>\n",
       "      <th>JP_Sales</th>\n",
       "      <td>0</td>\n",
       "      <td>0</td>\n",
       "      <td>0</td>\n",
       "      <td>0</td>\n",
       "      <td>0</td>\n",
       "    </tr>\n",
       "    <tr>\n",
       "      <th>Other_Sales</th>\n",
       "      <td>28</td>\n",
       "      <td>21</td>\n",
       "      <td>27</td>\n",
       "      <td>1</td>\n",
       "      <td>12</td>\n",
       "    </tr>\n",
       "    <tr>\n",
       "      <th>Global_Sales</th>\n",
       "      <td>306</td>\n",
       "      <td>234</td>\n",
       "      <td>128</td>\n",
       "      <td>125</td>\n",
       "      <td>124</td>\n",
       "    </tr>\n",
       "    <tr>\n",
       "      <th>Critic_Score</th>\n",
       "      <td>74</td>\n",
       "      <td>78</td>\n",
       "      <td>73</td>\n",
       "      <td>NaN</td>\n",
       "      <td>76</td>\n",
       "    </tr>\n",
       "    <tr>\n",
       "      <th>Critic_Count</th>\n",
       "      <td>17</td>\n",
       "      <td>22</td>\n",
       "      <td>5</td>\n",
       "      <td>NaN</td>\n",
       "      <td>8</td>\n",
       "    </tr>\n",
       "    <tr>\n",
       "      <th>User_Score</th>\n",
       "      <td>7.9</td>\n",
       "      <td>6.6</td>\n",
       "      <td>7.4</td>\n",
       "      <td>NaN</td>\n",
       "      <td>7.8</td>\n",
       "    </tr>\n",
       "    <tr>\n",
       "      <th>User_Count</th>\n",
       "      <td>22</td>\n",
       "      <td>28</td>\n",
       "      <td>10</td>\n",
       "      <td>NaN</td>\n",
       "      <td>13</td>\n",
       "    </tr>\n",
       "    <tr>\n",
       "      <th>Developer</th>\n",
       "      <td>Traveller's Tales</td>\n",
       "      <td>Traveller's Tales</td>\n",
       "      <td>Traveller's Tales</td>\n",
       "      <td>NaN</td>\n",
       "      <td>Traveller's Tales</td>\n",
       "    </tr>\n",
       "    <tr>\n",
       "      <th>Rating</th>\n",
       "      <td>E10+</td>\n",
       "      <td>E10+</td>\n",
       "      <td>E10+</td>\n",
       "      <td>NaN</td>\n",
       "      <td>E10+</td>\n",
       "    </tr>\n",
       "  </tbody>\n",
       "</table>\n",
       "</div>"
      ],
      "text/plain": [
       "                                                      0  ...                                       4\n",
       "Name                         LEGO Batman: The Videogame  ...            LEGO Harry Potter: Years 5-7\n",
       "Platform                                            Wii  ...                                     Wii\n",
       "Year_of_Release                                     NaN  ...                                     NaN\n",
       "Genre                                            Action  ...                                  Action\n",
       "Publisher        Warner Bros. Interactive Entertainment  ...  Warner Bros. Interactive Entertainment\n",
       "NA_Sales                                            180  ...                                      69\n",
       "EU_Sales                                             97  ...                                      42\n",
       "JP_Sales                                              0  ...                                       0\n",
       "Other_Sales                                          28  ...                                      12\n",
       "Global_Sales                                        306  ...                                     124\n",
       "Critic_Score                                         74  ...                                      76\n",
       "Critic_Count                                         17  ...                                       8\n",
       "User_Score                                          7.9  ...                                     7.8\n",
       "User_Count                                           22  ...                                      13\n",
       "Developer                             Traveller's Tales  ...                       Traveller's Tales\n",
       "Rating                                             E10+  ...                                    E10+\n",
       "\n",
       "[16 rows x 5 columns]"
      ]
     },
     "execution_count": 4,
     "metadata": {
      "tags": []
     },
     "output_type": "execute_result"
    }
   ],
   "source": [
    "whole_df.head().T"
   ]
  },
  {
   "cell_type": "markdown",
   "metadata": {
    "id": "iZ5Jw_g7ebHe"
   },
   "source": [
    "## Understanding Data"
   ]
  },
  {
   "cell_type": "markdown",
   "metadata": {
    "id": "zcHHZok4eMq3"
   },
   "source": [
    "### Report of Train Data"
   ]
  },
  {
   "cell_type": "code",
   "execution_count": null,
   "metadata": {
    "id": "J38dFxx5TbDj"
   },
   "outputs": [],
   "source": [
    "# report = ProfileReport(train_df)\n",
    "# report"
   ]
  },
  {
   "cell_type": "markdown",
   "metadata": {
    "id": "_B2jCdcQeRZb"
   },
   "source": [
    "### Differences between train data and test data"
   ]
  },
  {
   "cell_type": "code",
   "execution_count": null,
   "metadata": {
    "colab": {
     "base_uri": "https://localhost:8080/",
     "height": 553
    },
    "executionInfo": {
     "elapsed": 8304,
     "status": "ok",
     "timestamp": 1607837130675,
     "user": {
      "displayName": "김준형",
      "photoUrl": "https://lh3.googleusercontent.com/a-/AOh14GjoucIizMtFKPEd5GLr281FF-qhH43HTCNZtxOuTzA=s64",
      "userId": "17669351473013187910"
     },
     "user_tz": -540
    },
    "id": "iepID2bTZnxE",
    "outputId": "25ee41a3-53c1-40c4-e2e1-d74f6ff26586"
   },
   "outputs": [
    {
     "data": {
      "image/png": "[encoded data removed]",
      "text/plain": [
       "<Figure size 864x648 with 12 Axes>"
      ]
     },
     "metadata": {
      "needs_background": "dark",
      "tags": []
     },
     "output_type": "display_data"
    }
   ],
   "source": [
    "columns = test_df.columns\n",
    "n_figs = len(columns)\n",
    "n_cols = 4\n",
    "n_rows = n_figs // n_cols + 1\n",
    "\n",
    "fig, axes = plt.subplots(figsize=(n_cols * 3, n_rows * 3), \n",
    "                         ncols=n_cols, \n",
    "                         nrows=n_rows)\n",
    "\n",
    "for c, ax in zip(columns, axes.ravel()):\n",
    "  venn2(\n",
    "      subsets=(set(train_df[c].unique()), \n",
    "               set(test_df[c].unique())), \n",
    "        set_labels=('Train', 'Test'), \n",
    "        ax=ax)\n",
    "  ax.set_title(c)"
   ]
  },
  {
   "cell_type": "markdown",
   "metadata": {
    "id": "cZs9SSAhfGY7"
   },
   "source": [
    "## Feature Engineering"
   ]
  },
  {
   "cell_type": "markdown",
   "metadata": {
    "id": "LZuI4Pj01x52"
   },
   "source": [
    "### Preprocess"
   ]
  },
  {
   "cell_type": "code",
   "execution_count": null,
   "metadata": {
    "id": "CqQZZD7u1vjh"
   },
   "outputs": [],
   "source": [
    "class BaseBlock(object):\n",
    "  def fit(self, input_df, y=None):\n",
    "    return self.transform(input_df)\n",
    "\n",
    "  def transform(self, input_df):\n",
    "    return NotImplementedError()"
   ]
  },
  {
   "cell_type": "code",
   "execution_count": null,
   "metadata": {
    "id": "Mv9_o5e0RnUE"
   },
   "outputs": [],
   "source": [
    "def preprocess(input_df: pd.DataFrame) -> pd.DataFrame:\n",
    "  output_df = input_df.copy()\n",
    "\n",
    "  idx_tbd =input_df['User_Score'] == 'tbd'\n",
    "  output_df['User_Score_is_tbd'] = idx_tbd.astype(int)\n",
    "\n",
    "  output_df['User_Score'] = input_df['User_Score'].replace('tbd', None).astype('float')\n",
    "  return output_df"
   ]
  },
  {
   "cell_type": "markdown",
   "metadata": {
    "id": "nxXd5BS61zwg"
   },
   "source": [
    "### Continuous features"
   ]
  },
  {
   "cell_type": "code",
   "execution_count": null,
   "metadata": {
    "id": "1fsaSFUXsnGL"
   },
   "outputs": [],
   "source": [
    "def create_continuous_features(input_df: pd.DataFrame) -> pd.DataFrame:\n",
    "  input_df = preprocess(input_df)\n",
    "  use_columns = [\n",
    "                 'Critic_Score',\n",
    "                 'Critic_Count',\n",
    "                 'User_Score',\n",
    "                 'User_Count',\n",
    "                 'Year_of_Release',\n",
    "                 'User_Score_is_tbd'\n",
    "  ]\n",
    "  return input_df[use_columns].copy()"
   ]
  },
  {
   "cell_type": "code",
   "execution_count": null,
   "metadata": {
    "id": "MepUQ_pLzn3O"
   },
   "outputs": [],
   "source": [
    "assert len(create_continuous_features(train_df)) == len(train_df)"
   ]
  },
  {
   "cell_type": "code",
   "execution_count": null,
   "metadata": {
    "id": "u7et2SUW0mCl"
   },
   "outputs": [],
   "source": [
    "assert create_continuous_features(train_df.head()).equals(create_continuous_features(train_df.head()))"
   ]
  },
  {
   "cell_type": "markdown",
   "metadata": {
    "id": "9piu0gSR12vB"
   },
   "source": [
    "### Boolean features"
   ]
  },
  {
   "cell_type": "code",
   "execution_count": null,
   "metadata": {
    "id": "AeFqWSMf0wPE"
   },
   "outputs": [],
   "source": [
    "def create_boolean_features(input_df: pd.DataFrame, \n",
    "                            column:str, \n",
    "                            texts:List[str]) -> pd.DataFrame:\n",
    "  output_df = pd.DataFrame()\n",
    "\n",
    "  for t in texts:\n",
    "    output_df[f'{column}_has_{t}'] = input_df[column].fillna('').str.lower().str.contains(t).astype(int)\n",
    "  return output_df"
   ]
  },
  {
   "cell_type": "code",
   "execution_count": null,
   "metadata": {
    "id": "gL00usetGnjd"
   },
   "outputs": [],
   "source": [
    "class create_boolean_features(BaseBlock):\r\n",
    "  def __init__(self, column, texts):\r\n",
    "    self.column = column\r\n",
    "    self.texts = texts\r\n",
    "\r\n",
    "  def fit(self, input_df:pd.DataFrame):\r\n",
    "    return self.transform(input_df)\r\n",
    "\r\n",
    "  def transform(self, input_df:pd.DataFrame):\r\n",
    "    output_df = pd.DataFrame()\r\n",
    "\r\n",
    "    for t in self.texts:\r\n",
    "      output_df[f'{self.column}_has_{t}'] = input_df[self.column].fillna('').str.lower().str.contains(t).astype(int)\r\n",
    "    return output_df"
   ]
  },
  {
   "cell_type": "markdown",
   "metadata": {
    "id": "Xcl1ESzL140E"
   },
   "source": [
    "### Count Encoding"
   ]
  },
  {
   "cell_type": "code",
   "execution_count": null,
   "metadata": {
    "id": "GmwEXvUk2j3M"
   },
   "outputs": [],
   "source": [
    "class CountEncodingBlock(BaseBlock):\n",
    "  def __init__(self, column, whole_df: pd.DataFrame):\n",
    "    self.column = column\n",
    "    self.whole_df = whole_df\n",
    "\n",
    "  def transform(self, input_df):\n",
    "    output_df = pd.DataFrame()\n",
    "    c = self.column\n",
    "\n",
    "    vc = self.whole_df[c].value_counts()\n",
    "    output_df[c] = input_df[c].map(vc)\n",
    "    return output_df.add_prefix('CE_')"
   ]
  },
  {
   "cell_type": "code",
   "execution_count": null,
   "metadata": {
    "id": "izEC_JYs3IuJ"
   },
   "outputs": [],
   "source": [
    "assert len(train_df) == len(CountEncodingBlock('Name', whole_df=whole_df).fit(train_df))"
   ]
  },
  {
   "cell_type": "markdown",
   "metadata": {
    "id": "UIR-kvbh35cB"
   },
   "source": [
    "### One Hot Encoding"
   ]
  },
  {
   "cell_type": "code",
   "execution_count": null,
   "metadata": {
    "id": "nQRPZbBv389P"
   },
   "outputs": [],
   "source": [
    "class OneHotBlock(BaseBlock):\n",
    "  def __init__(self, column:str, n_components=4):\n",
    "    self.column = column\n",
    "    self.cats_ = None\n",
    "    self.n_components = n_components\n",
    "\n",
    "  def fit(self, input_df, y=None):\n",
    "    vc = input_df[self.column].dropna().value_counts()\n",
    "    cats = vc[vc > 40].index\n",
    "    self.cats_ = cats\n",
    "    return self.transform(input_df)\n",
    "\n",
    "  def transform(self, input_df):\n",
    "    x = pd.Categorical(input_df[self.column], categories=self.cats_)\n",
    "    output_df = pd.get_dummies(x, dummy_na=False)\n",
    "    output_df.columns = output_df.columns.tolist()\n",
    "\n",
    "    return output_df.add_prefix(f'OH@{self.column}=')"
   ]
  },
  {
   "cell_type": "code",
   "execution_count": null,
   "metadata": {
    "colab": {
     "base_uri": "https://localhost:8080/"
    },
    "executionInfo": {
     "elapsed": 8259,
     "status": "ok",
     "timestamp": 1607837130680,
     "user": {
      "displayName": "김준형",
      "photoUrl": "https://lh3.googleusercontent.com/a-/AOh14GjoucIizMtFKPEd5GLr281FF-qhH43HTCNZtxOuTzA=s64",
      "userId": "17669351473013187910"
     },
     "user_tz": -540
    },
    "id": "X7B4AozF5Ubz",
    "outputId": "0191601b-4b02-4082-e1d3-98f58d6b79d7"
   },
   "outputs": [
    {
     "data": {
      "text/plain": [
       "OH@Platform=DS      1106\n",
       "OH@Platform=PS2     1104\n",
       "OH@Platform=Wii      645\n",
       "OH@Platform=PS3      643\n",
       "OH@Platform=PSP      642\n",
       "OH@Platform=X360     588\n",
       "OH@Platform=PS       512\n",
       "OH@Platform=GBA      445\n",
       "OH@Platform=PC       439\n",
       "OH@Platform=XB       371\n",
       "OH@Platform=3DS      270\n",
       "OH@Platform=GC       240\n",
       "OH@Platform=PSV      240\n",
       "OH@Platform=PS4      206\n",
       "OH@Platform=SNES     130\n",
       "OH@Platform=SAT      129\n",
       "OH@Platform=N64      125\n",
       "OH@Platform=XOne     121\n",
       "OH@Platform=2600      88\n",
       "OH@Platform=WiiU      87\n",
       "OH@Platform=GB        78\n",
       "OH@Platform=NES       66\n",
       "OH@Platform=DC        41\n",
       "dtype: int64"
      ]
     },
     "execution_count": 17,
     "metadata": {
      "tags": []
     },
     "output_type": "execute_result"
    }
   ],
   "source": [
    "OneHotBlock('Platform').fit(train_df).sum()"
   ]
  },
  {
   "cell_type": "markdown",
   "metadata": {
    "id": "bEBC9jBG8tpk"
   },
   "source": [
    "### Name N-Grams"
   ]
  },
  {
   "cell_type": "code",
   "execution_count": null,
   "metadata": {
    "id": "PoDQBU4k8o4F"
   },
   "outputs": [],
   "source": [
    "!pip install textdistance\r\n",
    "!pip install texthero\r\n",
    "clear_output()"
   ]
  },
  {
   "cell_type": "code",
   "execution_count": null,
   "metadata": {
    "colab": {
     "base_uri": "https://localhost:8080/"
    },
    "executionInfo": {
     "elapsed": 22111,
     "status": "ok",
     "timestamp": 1607837144545,
     "user": {
      "displayName": "김준형",
      "photoUrl": "https://lh3.googleusercontent.com/a-/AOh14GjoucIizMtFKPEd5GLr281FF-qhH43HTCNZtxOuTzA=s64",
      "userId": "17669351473013187910"
     },
     "user_tz": -540
    },
    "id": "iCGMAFH-8z7l",
    "outputId": "1bc55838-325d-4e84-91ca-e3cfb932abb5"
   },
   "outputs": [
    {
     "name": "stderr",
     "output_type": "stream",
     "text": [
      "[nltk_data] Downloading package stopwords to /root/nltk_data...\n",
      "[nltk_data]   Unzipping corpora/stopwords.zip.\n"
     ]
    }
   ],
   "source": [
    "from textdistance import jaro\r\n",
    "import texthero as hero\r\n",
    "from texthero import preprocessing"
   ]
  },
  {
   "cell_type": "code",
   "execution_count": null,
   "metadata": {
    "id": "pEJ6i6AL9U5p"
   },
   "outputs": [],
   "source": [
    "custom_pipeline = [\n",
    "                   preprocessing.fillna, \n",
    "                   preprocessing.lowercase,\n",
    "                   preprocessing.remove_digits,\n",
    "                   preprocessing.remove_punctuation,\n",
    "                   preprocessing.remove_diacritics,\n",
    "                   preprocessing.remove_whitespace,\n",
    "                   preprocessing.remove_stopwords\n",
    "                   ]"
   ]
  },
  {
   "cell_type": "code",
   "execution_count": null,
   "metadata": {
    "id": "Idu9AVZABmWV"
   },
   "outputs": [],
   "source": [
    "names = hero.clean(whole_df['Name'], custom_pipeline)"
   ]
  },
  {
   "cell_type": "code",
   "execution_count": null,
   "metadata": {
    "id": "4yDgAqUrB1LB"
   },
   "outputs": [],
   "source": [
    "words = [w for row in names.str.split(' ') for w in row if len(w) > 0]"
   ]
  },
  {
   "cell_type": "code",
   "execution_count": null,
   "metadata": {
    "colab": {
     "base_uri": "https://localhost:8080/",
     "height": 283
    },
    "executionInfo": {
     "elapsed": 23031,
     "status": "ok",
     "timestamp": 1607837145489,
     "user": {
      "displayName": "김준형",
      "photoUrl": "https://lh3.googleusercontent.com/a-/AOh14GjoucIizMtFKPEd5GLr281FF-qhH43HTCNZtxOuTzA=s64",
      "userId": "17669351473013187910"
     },
     "user_tz": -540
    },
    "id": "Y5mnosneCDEc",
    "outputId": "0d396045-0c71-4bfa-b915-b2fb4f57aa10"
   },
   "outputs": [
    {
     "data": {
      "text/plain": [
       "<matplotlib.axes._subplots.AxesSubplot at 0x7f4c0f6d00b8>"
      ]
     },
     "execution_count": 23,
     "metadata": {
      "tags": []
     },
     "output_type": "execute_result"
    },
    {
     "data": {
      "image/png": "[encoded data removed]",
      "text/plain": [
       "<Figure size 432x288 with 1 Axes>"
      ]
     },
     "metadata": {
      "needs_background": "dark",
      "tags": []
     },
     "output_type": "display_data"
    }
   ],
   "source": [
    "pd.Series(words).value_counts().head(30).plot(kind='barh')"
   ]
  },
  {
   "cell_type": "code",
   "execution_count": null,
   "metadata": {
    "id": "w8oHLmS9CMgk"
   },
   "outputs": [],
   "source": [
    "from nltk.util import ngrams\n",
    "\n",
    "def line_ngram(line, n=3):\n",
    "  words = [w for w in line.split(' ') if len(w) != 0]\n",
    "  return list(ngrams(words, n))"
   ]
  },
  {
   "cell_type": "code",
   "execution_count": null,
   "metadata": {
    "id": "m6IlTZAODg6n"
   },
   "outputs": [],
   "source": [
    "name_grams = names.map(line_ngram)"
   ]
  },
  {
   "cell_type": "code",
   "execution_count": null,
   "metadata": {
    "id": "kRBld5yVHzZ0"
   },
   "outputs": [],
   "source": [
    "grams = [x for row in name_grams for x in row if len(x) > 0]"
   ]
  },
  {
   "cell_type": "code",
   "execution_count": null,
   "metadata": {
    "colab": {
     "base_uri": "https://localhost:8080/",
     "height": 282
    },
    "executionInfo": {
     "elapsed": 23011,
     "status": "ok",
     "timestamp": 1607837145491,
     "user": {
      "displayName": "김준형",
      "photoUrl": "https://lh3.googleusercontent.com/a-/AOh14GjoucIizMtFKPEd5GLr281FF-qhH43HTCNZtxOuTzA=s64",
      "userId": "17669351473013187910"
     },
     "user_tz": -540
    },
    "id": "ns8VD7PdH5C7",
    "outputId": "06839fb8-ee8c-4a6f-e65d-1a808ca7a856"
   },
   "outputs": [
    {
     "data": {
      "text/plain": [
       "<matplotlib.axes._subplots.AxesSubplot at 0x7f4c0f7768d0>"
      ]
     },
     "execution_count": 27,
     "metadata": {
      "tags": []
     },
     "output_type": "execute_result"
    },
    {
     "data": {
      "image/png": "[encoded data removed]",
      "text/plain": [
       "<Figure size 432x288 with 1 Axes>"
      ]
     },
     "metadata": {
      "needs_background": "dark",
      "tags": []
     },
     "output_type": "display_data"
    }
   ],
   "source": [
    "pd.Series(grams).value_counts().head(25).plot(kind='barh')"
   ]
  },
  {
   "cell_type": "code",
   "execution_count": null,
   "metadata": {
    "id": "GdKnpPJiJp5r"
   },
   "outputs": [],
   "source": [
    "def clean_by_hero(x):\r\n",
    "  custom_pipeline = [\r\n",
    "                   preprocessing.fillna, \r\n",
    "                   preprocessing.lowercase,\r\n",
    "                   preprocessing.remove_digits,\r\n",
    "                   preprocessing.remove_punctuation,\r\n",
    "                   preprocessing.remove_diacritics,\r\n",
    "                   preprocessing.remove_whitespace,\r\n",
    "                   preprocessing.remove_stopwords\r\n",
    "                   ]\r\n",
    "  return hero.clean(x, custom_pipeline)\r\n",
    "\r\n",
    "def create_n_grams(x, n=3):\r\n",
    "  x = clean_by_hero(x)\r\n",
    "  x = pd.Series(x).map(lambda row:line_ngram(row, n=n))\r\n",
    "  return x\r\n",
    "\r\n",
    "class NameNGramBlock(BaseBlock):\r\n",
    "  def __init__(self, whole_df, n=3):\r\n",
    "    self.whole_df = whole_df\r\n",
    "    self.n = n\r\n",
    "  \r\n",
    "  def fit(self, input_df, y=None):\r\n",
    "    name_grams = create_n_grams(self.whole_df['Name'], n=self.n)\r\n",
    "    grams = [x for row in name_grams for x in row if len(x) > 0]\r\n",
    "    top_grams = pd.Series(grams).value_counts().head(10).index\r\n",
    "\r\n",
    "    self.top_grams_ = top_grams\r\n",
    "    return self.transform(input_df)\r\n",
    "\r\n",
    "  def transform(self, input_df):\r\n",
    "    name_grams = create_n_grams(input_df['Name'], n=self.n)\r\n",
    "    output_df = pd.DataFrame()\r\n",
    "\r\n",
    "    for gram in self.top_grams_:\r\n",
    "      s_top = '-'.join(gram)\r\n",
    "      output_df[f'{s_top}'] = name_grams.map(lambda row:gram in row).map(int)\r\n",
    "    \r\n",
    "    return output_df.add_prefix('Name_has_').add_suffix(f'_n={self.n}')"
   ]
  },
  {
   "cell_type": "code",
   "execution_count": null,
   "metadata": {
    "colab": {
     "base_uri": "https://localhost:8080/",
     "height": 238
    },
    "executionInfo": {
     "elapsed": 23400,
     "status": "ok",
     "timestamp": 1607837145910,
     "user": {
      "displayName": "김준형",
      "photoUrl": "https://lh3.googleusercontent.com/a-/AOh14GjoucIizMtFKPEd5GLr281FF-qhH43HTCNZtxOuTzA=s64",
      "userId": "17669351473013187910"
     },
     "user_tz": -540
    },
    "id": "5LGGVfDkMRJw",
    "outputId": "d2c1c573-e8e7-4630-f0a4-edec363bc71b"
   },
   "outputs": [
    {
     "data": {
      "text/html": [
       "<div>\n",
       "<style scoped>\n",
       "    .dataframe tbody tr th:only-of-type {\n",
       "        vertical-align: middle;\n",
       "    }\n",
       "\n",
       "    .dataframe tbody tr th {\n",
       "        vertical-align: top;\n",
       "    }\n",
       "\n",
       "    .dataframe thead th {\n",
       "        text-align: right;\n",
       "    }\n",
       "</style>\n",
       "<table border=\"1\" class=\"dataframe\">\n",
       "  <thead>\n",
       "    <tr style=\"text-align: right;\">\n",
       "      <th></th>\n",
       "      <th>Name_has_madden-nfl_n=2</th>\n",
       "      <th>Name_has_need-speed_n=2</th>\n",
       "      <th>Name_has_tom-clancy_n=2</th>\n",
       "      <th>Name_has_pro-yakyuu_n=2</th>\n",
       "      <th>Name_has_jikkyou-powerful_n=2</th>\n",
       "      <th>Name_has_fifa-soccer_n=2</th>\n",
       "      <th>Name_has_powerful-pro_n=2</th>\n",
       "      <th>Name_has_spider-man_n=2</th>\n",
       "      <th>Name_has_pro-evolution_n=2</th>\n",
       "      <th>Name_has_call-duty_n=2</th>\n",
       "    </tr>\n",
       "  </thead>\n",
       "  <tbody>\n",
       "    <tr>\n",
       "      <th>0</th>\n",
       "      <td>0</td>\n",
       "      <td>0</td>\n",
       "      <td>0</td>\n",
       "      <td>0</td>\n",
       "      <td>0</td>\n",
       "      <td>0</td>\n",
       "      <td>0</td>\n",
       "      <td>0</td>\n",
       "      <td>0</td>\n",
       "      <td>0</td>\n",
       "    </tr>\n",
       "    <tr>\n",
       "      <th>1</th>\n",
       "      <td>0</td>\n",
       "      <td>0</td>\n",
       "      <td>0</td>\n",
       "      <td>0</td>\n",
       "      <td>0</td>\n",
       "      <td>0</td>\n",
       "      <td>0</td>\n",
       "      <td>0</td>\n",
       "      <td>0</td>\n",
       "      <td>0</td>\n",
       "    </tr>\n",
       "    <tr>\n",
       "      <th>2</th>\n",
       "      <td>0</td>\n",
       "      <td>0</td>\n",
       "      <td>0</td>\n",
       "      <td>0</td>\n",
       "      <td>0</td>\n",
       "      <td>0</td>\n",
       "      <td>0</td>\n",
       "      <td>0</td>\n",
       "      <td>0</td>\n",
       "      <td>0</td>\n",
       "    </tr>\n",
       "    <tr>\n",
       "      <th>3</th>\n",
       "      <td>0</td>\n",
       "      <td>0</td>\n",
       "      <td>0</td>\n",
       "      <td>0</td>\n",
       "      <td>0</td>\n",
       "      <td>0</td>\n",
       "      <td>0</td>\n",
       "      <td>0</td>\n",
       "      <td>0</td>\n",
       "      <td>0</td>\n",
       "    </tr>\n",
       "    <tr>\n",
       "      <th>4</th>\n",
       "      <td>0</td>\n",
       "      <td>0</td>\n",
       "      <td>0</td>\n",
       "      <td>0</td>\n",
       "      <td>0</td>\n",
       "      <td>0</td>\n",
       "      <td>0</td>\n",
       "      <td>0</td>\n",
       "      <td>0</td>\n",
       "      <td>0</td>\n",
       "    </tr>\n",
       "  </tbody>\n",
       "</table>\n",
       "</div>"
      ],
      "text/plain": [
       "   Name_has_madden-nfl_n=2  ...  Name_has_call-duty_n=2\n",
       "0                        0  ...                       0\n",
       "1                        0  ...                       0\n",
       "2                        0  ...                       0\n",
       "3                        0  ...                       0\n",
       "4                        0  ...                       0\n",
       "\n",
       "[5 rows x 10 columns]"
      ]
     },
     "execution_count": 29,
     "metadata": {
      "tags": []
     },
     "output_type": "execute_result"
    }
   ],
   "source": [
    "block = NameNGramBlock(test_df, n=2)\r\n",
    "block.fit(test_df).head()"
   ]
  },
  {
   "cell_type": "code",
   "execution_count": null,
   "metadata": {
    "colab": {
     "base_uri": "https://localhost:8080/"
    },
    "executionInfo": {
     "elapsed": 23387,
     "status": "ok",
     "timestamp": 1607837145911,
     "user": {
      "displayName": "김준형",
      "photoUrl": "https://lh3.googleusercontent.com/a-/AOh14GjoucIizMtFKPEd5GLr281FF-qhH43HTCNZtxOuTzA=s64",
      "userId": "17669351473013187910"
     },
     "user_tz": -540
    },
    "id": "OnlXcDqWTdKr",
    "outputId": "f2a5802b-285f-4762-e3fe-bcffba227a00"
   },
   "outputs": [
    {
     "data": {
      "text/plain": [
       "Name_has_madden-nfl_n=2          96\n",
       "Name_has_need-speed_n=2          83\n",
       "Name_has_tom-clancy_n=2          83\n",
       "Name_has_pro-yakyuu_n=2          76\n",
       "Name_has_jikkyou-powerful_n=2    70\n",
       "Name_has_fifa-soccer_n=2         70\n",
       "Name_has_powerful-pro_n=2        66\n",
       "Name_has_spider-man_n=2          64\n",
       "Name_has_pro-evolution_n=2       65\n",
       "Name_has_call-duty_n=2           65\n",
       "dtype: int64"
      ]
     },
     "execution_count": 30,
     "metadata": {
      "tags": []
     },
     "output_type": "execute_result"
    }
   ],
   "source": [
    "block.transform(test_df).sum()"
   ]
  },
  {
   "cell_type": "markdown",
   "metadata": {
    "id": "cmpeDjSFTmaX"
   },
   "source": [
    "### Sales Portfolio (Features only being in Train Data)"
   ]
  },
  {
   "cell_type": "code",
   "execution_count": null,
   "metadata": {
    "id": "GrOtDh09Ts_8"
   },
   "outputs": [],
   "source": [
    "sales_columns = train_df.columns[train_df.columns.str.contains('Sales')].tolist()\r\n",
    "sales_columns = sorted(sales_columns)"
   ]
  },
  {
   "cell_type": "code",
   "execution_count": null,
   "metadata": {
    "colab": {
     "base_uri": "https://localhost:8080/",
     "height": 446
    },
    "executionInfo": {
     "elapsed": 23367,
     "status": "ok",
     "timestamp": 1607837145911,
     "user": {
      "displayName": "김준형",
      "photoUrl": "https://lh3.googleusercontent.com/a-/AOh14GjoucIizMtFKPEd5GLr281FF-qhH43HTCNZtxOuTzA=s64",
      "userId": "17669351473013187910"
     },
     "user_tz": -540
    },
    "id": "kKEMlV7cbQY8",
    "outputId": "fffc8adc-fde5-46da-f680-7414bb23292c"
   },
   "outputs": [
    {
     "data": {
      "text/html": [
       "<div>\n",
       "<style scoped>\n",
       "    .dataframe tbody tr th:only-of-type {\n",
       "        vertical-align: middle;\n",
       "    }\n",
       "\n",
       "    .dataframe tbody tr th {\n",
       "        vertical-align: top;\n",
       "    }\n",
       "\n",
       "    .dataframe thead th {\n",
       "        text-align: right;\n",
       "    }\n",
       "</style>\n",
       "<table border=\"1\" class=\"dataframe\">\n",
       "  <thead>\n",
       "    <tr style=\"text-align: right;\">\n",
       "      <th></th>\n",
       "      <th>EU_Sales</th>\n",
       "      <th>Global_Sales</th>\n",
       "      <th>JP_Sales</th>\n",
       "      <th>NA_Sales</th>\n",
       "      <th>Other_Sales</th>\n",
       "    </tr>\n",
       "    <tr>\n",
       "      <th>Genre</th>\n",
       "      <th></th>\n",
       "      <th></th>\n",
       "      <th></th>\n",
       "      <th></th>\n",
       "      <th></th>\n",
       "    </tr>\n",
       "  </thead>\n",
       "  <tbody>\n",
       "    <tr>\n",
       "      <th>Action</th>\n",
       "      <td>10.324957</td>\n",
       "      <td>11.574434</td>\n",
       "      <td>9.226804</td>\n",
       "      <td>10.896943</td>\n",
       "      <td>9.359708</td>\n",
       "    </tr>\n",
       "    <tr>\n",
       "      <th>Adventure</th>\n",
       "      <td>8.416931</td>\n",
       "      <td>9.719264</td>\n",
       "      <td>8.230577</td>\n",
       "      <td>8.885994</td>\n",
       "      <td>7.031741</td>\n",
       "    </tr>\n",
       "    <tr>\n",
       "      <th>Fighting</th>\n",
       "      <td>8.666992</td>\n",
       "      <td>10.213139</td>\n",
       "      <td>8.667164</td>\n",
       "      <td>9.496571</td>\n",
       "      <td>7.744137</td>\n",
       "    </tr>\n",
       "    <tr>\n",
       "      <th>Misc</th>\n",
       "      <td>9.503905</td>\n",
       "      <td>10.788122</td>\n",
       "      <td>8.962392</td>\n",
       "      <td>10.025218</td>\n",
       "      <td>8.434246</td>\n",
       "    </tr>\n",
       "    <tr>\n",
       "      <th>Platform</th>\n",
       "      <td>9.715590</td>\n",
       "      <td>11.172546</td>\n",
       "      <td>9.402200</td>\n",
       "      <td>10.548494</td>\n",
       "      <td>8.371242</td>\n",
       "    </tr>\n",
       "    <tr>\n",
       "      <th>Puzzle</th>\n",
       "      <td>8.261526</td>\n",
       "      <td>9.860267</td>\n",
       "      <td>8.411388</td>\n",
       "      <td>9.195227</td>\n",
       "      <td>6.826545</td>\n",
       "    </tr>\n",
       "    <tr>\n",
       "      <th>Racing</th>\n",
       "      <td>9.475777</td>\n",
       "      <td>10.698785</td>\n",
       "      <td>8.522579</td>\n",
       "      <td>9.987185</td>\n",
       "      <td>8.404248</td>\n",
       "    </tr>\n",
       "    <tr>\n",
       "      <th>Role-Playing</th>\n",
       "      <td>9.513182</td>\n",
       "      <td>11.185365</td>\n",
       "      <td>10.305179</td>\n",
       "      <td>10.097532</td>\n",
       "      <td>8.377701</td>\n",
       "    </tr>\n",
       "    <tr>\n",
       "      <th>Shooter</th>\n",
       "      <td>9.295692</td>\n",
       "      <td>10.669630</td>\n",
       "      <td>7.583248</td>\n",
       "      <td>10.189869</td>\n",
       "      <td>8.162516</td>\n",
       "    </tr>\n",
       "    <tr>\n",
       "      <th>Simulation</th>\n",
       "      <td>8.586346</td>\n",
       "      <td>9.822982</td>\n",
       "      <td>8.308199</td>\n",
       "      <td>8.955448</td>\n",
       "      <td>7.161622</td>\n",
       "    </tr>\n",
       "    <tr>\n",
       "      <th>Sports</th>\n",
       "      <td>9.597506</td>\n",
       "      <td>10.891187</td>\n",
       "      <td>8.748305</td>\n",
       "      <td>10.237099</td>\n",
       "      <td>8.464425</td>\n",
       "    </tr>\n",
       "    <tr>\n",
       "      <th>Strategy</th>\n",
       "      <td>7.647309</td>\n",
       "      <td>9.126959</td>\n",
       "      <td>8.058644</td>\n",
       "      <td>8.118207</td>\n",
       "      <td>6.349139</td>\n",
       "    </tr>\n",
       "  </tbody>\n",
       "</table>\n",
       "</div>"
      ],
      "text/plain": [
       "               EU_Sales  Global_Sales   JP_Sales   NA_Sales  Other_Sales\n",
       "Genre                                                                   \n",
       "Action        10.324957     11.574434   9.226804  10.896943     9.359708\n",
       "Adventure      8.416931      9.719264   8.230577   8.885994     7.031741\n",
       "Fighting       8.666992     10.213139   8.667164   9.496571     7.744137\n",
       "Misc           9.503905     10.788122   8.962392  10.025218     8.434246\n",
       "Platform       9.715590     11.172546   9.402200  10.548494     8.371242\n",
       "Puzzle         8.261526      9.860267   8.411388   9.195227     6.826545\n",
       "Racing         9.475777     10.698785   8.522579   9.987185     8.404248\n",
       "Role-Playing   9.513182     11.185365  10.305179  10.097532     8.377701\n",
       "Shooter        9.295692     10.669630   7.583248  10.189869     8.162516\n",
       "Simulation     8.586346      9.822982   8.308199   8.955448     7.161622\n",
       "Sports         9.597506     10.891187   8.748305  10.237099     8.464425\n",
       "Strategy       7.647309      9.126959   8.058644   8.118207     6.349139"
      ]
     },
     "execution_count": 32,
     "metadata": {
      "tags": []
     },
     "output_type": "execute_result"
    }
   ],
   "source": [
    "key = 'Genre'\r\n",
    "\r\n",
    "input_df = train_df\r\n",
    "_df = np.log1p(input_df[sales_columns].groupby(input_df[key]).sum())\r\n",
    "# _df = (_df.T / _df.sum(axis=1)).T\r\n",
    "_df"
   ]
  },
  {
   "cell_type": "code",
   "execution_count": null,
   "metadata": {
    "id": "qCSrCMRmuxga"
   },
   "outputs": [],
   "source": [
    "class SalesPortfolioBlock(BaseBlock):\r\n",
    "  def __init__(self, key:str):\r\n",
    "    self.key = key\r\n",
    "    self.meta_df = None\r\n",
    "\r\n",
    "  def fit(self, input_df):\r\n",
    "    _df = np.log1p(input_df[sales_columns].groupby(input_df[self.key]).sum())\r\n",
    "    _df = (_df.T /_df.sum(axis=1)).T\r\n",
    "    self.meta_df = _df\r\n",
    "    return self.transform(input_df)\r\n",
    "\r\n",
    "  def transform(self, input_df):\r\n",
    "    output_df = pd.merge(input_df[self.key], self.meta_df, on=self.key, how='left').drop(columns=[self.key])\r\n",
    "    return output_df.add_prefix(f'Sales@{self.key}_')"
   ]
  },
  {
   "cell_type": "code",
   "execution_count": null,
   "metadata": {
    "id": "Ji-jneLZQz4J"
   },
   "outputs": [],
   "source": [
    "score_columns = train_df.columns[train_df.columns.str.contains('Score')].tolist()\r\n",
    "score_columns = sorted(score_columns)\r\n",
    "\r\n",
    "class ScorePortfolioBlock(BaseBlock):\r\n",
    "  def __init__(self, key:str):\r\n",
    "    self.key = key\r\n",
    "    self.meta_df = None\r\n",
    "\r\n",
    "  def fit(self, input_df):\r\n",
    "    _df = input_df[score_columns].groupby(input_df[self.key]).mean()\r\n",
    "\r\n",
    "    self.meta_df = _df\r\n",
    "    return self.transform(input_df)\r\n",
    "\r\n",
    "  def transform(self, input_df):\r\n",
    "    output_df = pd.merge(input_df[self.key], self.meta_df, on=self.key, how='left').drop(columns=[self.key])\r\n",
    "    return output_df.add_prefix(f'Score@{self.key}_')"
   ]
  },
  {
   "cell_type": "code",
   "execution_count": null,
   "metadata": {
    "id": "RGFfp2-3Qzut"
   },
   "outputs": [],
   "source": [
    "count_columns = train_df.columns[train_df.columns.str.contains('Count')].tolist()\r\n",
    "count_columns = sorted(count_columns)\r\n",
    "\r\n",
    "class CountPortfolioBlock(BaseBlock):\r\n",
    "  def __init__(self, key:str):\r\n",
    "    self.key = key\r\n",
    "    self.meta_df = None\r\n",
    "\r\n",
    "  def fit(self, input_df):\r\n",
    "    _df = np.log1p(input_df[count_columns].groupby(input_df[self.key]).sum())\r\n",
    "    _df = (_df.T /_df.sum(axis=1)).T\r\n",
    "    self.meta_df = _df\r\n",
    "    return self.transform(input_df)\r\n",
    "\r\n",
    "  def transform(self, input_df):\r\n",
    "    output_df = pd.merge(input_df[self.key], self.meta_df, on=self.key, how='left').drop(columns=[self.key])\r\n",
    "    return output_df.add_prefix(f'Count@{self.key}_')"
   ]
  },
  {
   "cell_type": "markdown",
   "metadata": {
    "id": "7buiPxkwGMB3"
   },
   "source": [
    "### Pivot, then PCA Features"
   ]
  },
  {
   "cell_type": "code",
   "execution_count": null,
   "metadata": {
    "id": "e1XR8Ds5CXJE"
   },
   "outputs": [],
   "source": [
    "class PivotBlock(BaseBlock):\r\n",
    "  def __init__(self,row, column, whole_df: pd.DataFrame):\r\n",
    "    self.row = row\r\n",
    "    self.column = column\r\n",
    "    self.whole_df = whole_df\r\n",
    "\r\n",
    "  def fit(self, input_df):\r\n",
    "    _df = self.whole_df.pivot_table(index=self.row, columns=self.column, values='Name', aggfunc='count')\r\n",
    "    _df = np.log1p(_df)\r\n",
    "    self.meta_df = _df.add_prefix('_')\r\n",
    "\r\n",
    "    return self.transform(input_df)\r\n",
    "\r\n",
    "  def transform(self, input_df):\r\n",
    "    output_df = pd.merge(input_df[self.row], \r\n",
    "                   self.meta_df, \r\n",
    "                   how='left', on=self.row).drop(columns=[self.row]).fillna(0)\r\n",
    "    output_df = (output_df.T /output_df.sum(axis=1)).T\r\n",
    "\r\n",
    "    return output_df.add_prefix(f'Pv@{self.row}_{self.column}_')"
   ]
  },
  {
   "cell_type": "markdown",
   "metadata": {
    "id": "H8ErsLW2BxsN"
   },
   "source": [
    "### Generating Training Data"
   ]
  },
  {
   "cell_type": "code",
   "execution_count": null,
   "metadata": {
    "id": "d6KrV819zr1m"
   },
   "outputs": [],
   "source": [
    "class WrapperBlock(BaseBlock):\r\n",
    "  def __init__(self, function):\r\n",
    "    self.function = function\r\n",
    "  \r\n",
    "  def transform(self, input_df):\r\n",
    "    return self.function(input_df)"
   ]
  },
  {
   "cell_type": "code",
   "execution_count": null,
   "metadata": {
    "id": "YSOdj1om2ewm"
   },
   "outputs": [],
   "source": [
    "process_blocks = [\r\n",
    "    WrapperBlock(create_continuous_features),\r\n",
    "    NameNGramBlock(whole_df, n=2),\r\n",
    "    NameNGramBlock(whole_df, n=3),\r\n",
    "\r\n",
    "    create_boolean_features(column='Platform', texts=['pc']),\r\n",
    "    create_boolean_features(column='Publisher', texts=['nintendo']),\r\n",
    "    create_boolean_features(column='Developer', texts=['ea', 'japan', 'ubisoft', 'nintendo', 'bandai']),\r\n",
    "    create_boolean_features(column='Rating', texts=['E']),\r\n",
    "    # *[OneHotBlock(c) for c in ['Platform', 'Genre', 'Publisher', 'Developer', 'Rating']],\r\n",
    "    \r\n",
    "    *[SalesPortfolioBlock(c) for c in ['Genre', 'Platform', 'Year_of_Release', 'Rating']],\r\n",
    "    *[ScorePortfolioBlock(c) for c in ['Genre', 'Platform', 'Year_of_Release', 'Rating']],\r\n",
    "    *[CountPortfolioBlock(c) for c in ['Name', 'Genre', 'Platform', 'Year_of_Release', 'Rating']],\r\n",
    "\r\n",
    "    *[CountEncodingBlock(c, whole_df=whole_df) for c in ['Name', 'Platform', 'Publisher', 'Year_of_Release', 'Rating']],\r\n",
    "    *[PivotBlock(row='Publisher', column=c, whole_df=whole_df) for c in ['Platform', 'Genre', 'Year_of_Release', 'Developer', 'Rating']],\r\n",
    "    *[PivotBlock(row='Developer', column=c, whole_df=whole_df) for c in ['Platform', 'Genre', 'Year_of_Release', 'Rating']],\r\n",
    "    *[PivotBlock(row='Genre', column=c, whole_df=whole_df) for c in ['Platform', 'Publisher', 'Developer', 'Year_of_Release', 'Rating']],\r\n",
    "    *[PivotBlock(row='Platform', column=c, whole_df=whole_df) for c in ['Genre', 'Publisher', 'Developer', 'Year_of_Release', 'Rating']],\r\n",
    "     *[PivotBlock(row='Year_of_Release', column=c, whole_df=whole_df) for c in ['Genre', 'Publisher', 'Developer', 'Rating']],\r\n",
    "]"
   ]
  },
  {
   "cell_type": "code",
   "execution_count": null,
   "metadata": {
    "id": "xlRxRjBNnLRL"
   },
   "outputs": [],
   "source": [
    "from contextlib import contextmanager\n",
    "from time import time\n",
    "\n",
    "@contextmanager\n",
    "def timer(logger=None, format_str='{:.3f}[s]', prefix=None, suffix=None):\n",
    "  if prefix: format_str = str(prefix) + format_str\n",
    "  if suffix: format_str = format_str + str(suffix)\n",
    "  start = time()\n",
    "  yield\n",
    "  d = time() - start\n",
    "  output_str = format_str.format(d)\n",
    "  if logger:\n",
    "    logger.info(output_str)\n",
    "  else:\n",
    "    print(output_str)"
   ]
  },
  {
   "cell_type": "code",
   "execution_count": null,
   "metadata": {
    "id": "LfKJDy9un9wd"
   },
   "outputs": [],
   "source": [
    "from tqdm import tqdm\n",
    "\n",
    "def get_function(block, is_train):\n",
    "  s = mapping = {\n",
    "      True: 'fit',\n",
    "      False: 'transform'\n",
    "  }.get(is_train)\n",
    "  return getattr(block, s)\n",
    "\n",
    "def to_features(input_df, blocks, is_train=False):\n",
    "  output_df = pd.DataFrame()\n",
    "\n",
    "  for block in tqdm(blocks, total=len(blocks)):\n",
    "    func = get_function(block, is_train)\n",
    "\n",
    "    with timer(prefix='create ' + func.__name__ + ' '):\n",
    "      _df = func(input_df)\n",
    "\n",
    "    assert len(_df) == len(input_df), func.__name__\n",
    "    output_df = pd.concat([output_df, _df], axis=1)\n",
    "\n",
    "  return output_df"
   ]
  },
  {
   "cell_type": "code",
   "execution_count": null,
   "metadata": {
    "colab": {
     "base_uri": "https://localhost:8080/"
    },
    "executionInfo": {
     "elapsed": 24981,
     "status": "ok",
     "timestamp": 1607853526438,
     "user": {
      "displayName": "김준형",
      "photoUrl": "https://lh3.googleusercontent.com/a-/AOh14GjoucIizMtFKPEd5GLr281FF-qhH43HTCNZtxOuTzA=s64",
      "userId": "17669351473013187910"
     },
     "user_tz": -540
    },
    "id": "45uzcFfGperX",
    "outputId": "d5f78ed2-3abb-44f1-ea3a-fc518a286836"
   },
   "outputs": [
    {
     "name": "stderr",
     "output_type": "stream",
     "text": [
      "  0%|          | 0/48 [00:00<?, ?it/s]"
     ]
    },
    {
     "name": "stdout",
     "output_type": "stream",
     "text": [
      "create fit 0.013[s]\n"
     ]
    },
    {
     "name": "stderr",
     "output_type": "stream",
     "text": [
      "  4%|▍         | 2/48 [00:00<00:22,  2.08it/s]"
     ]
    },
    {
     "name": "stdout",
     "output_type": "stream",
     "text": [
      "create fit 0.942[s]\n"
     ]
    },
    {
     "name": "stderr",
     "output_type": "stream",
     "text": [
      " 17%|█▋        | 8/48 [00:01<00:13,  2.90it/s]"
     ]
    },
    {
     "name": "stdout",
     "output_type": "stream",
     "text": [
      "create fit 0.486[s]\n",
      "create fit 0.012[s]\n",
      "create fit 0.010[s]\n",
      "create fit 0.043[s]\n",
      "create fit 0.009[s]\n",
      "create fit 0.010[s]\n",
      "create fit 0.013[s]\n",
      "create fit 0.010[s]\n",
      "create fit 0.010[s]\n",
      "create fit 0.007[s]\n",
      "create fit 0.007[s]\n",
      "create fit 0.008[s]\n"
     ]
    },
    {
     "name": "stderr",
     "output_type": "stream",
     "text": [
      " 44%|████▍     | 21/48 [00:01<00:04,  5.65it/s]"
     ]
    },
    {
     "name": "stdout",
     "output_type": "stream",
     "text": [
      "create fit 0.011[s]\n",
      "create fit 0.021[s]\n",
      "create fit 0.009[s]\n",
      "create fit 0.009[s]\n",
      "create fit 0.009[s]\n",
      "create fit 0.009[s]\n",
      "create fit 0.011[s]\n",
      "create fit 0.006[s]\n",
      "create fit 0.005[s]\n",
      "create fit 0.004[s]\n",
      "create fit 0.005[s]\n",
      "create fit 0.029[s]\n"
     ]
    },
    {
     "name": "stderr",
     "output_type": "stream",
     "text": [
      " 56%|█████▋    | 27/48 [00:01<00:02,  7.68it/s]"
     ]
    },
    {
     "name": "stdout",
     "output_type": "stream",
     "text": [
      "create fit 0.027[s]\n",
      "create fit 0.032[s]\n",
      "create fit 0.619[s]\n",
      "create fit 0.028[s]\n",
      "create fit 0.035[s]\n",
      "create fit 0.030[s]\n"
     ]
    },
    {
     "name": "stderr",
     "output_type": "stream",
     "text": [
      " 67%|██████▋   | 32/48 [00:03<00:02,  6.08it/s]"
     ]
    },
    {
     "name": "stdout",
     "output_type": "stream",
     "text": [
      "create fit 0.037[s]\n",
      "create fit 0.027[s]\n",
      "create fit 0.033[s]\n"
     ]
    },
    {
     "name": "stderr",
     "output_type": "stream",
     "text": [
      " 75%|███████▌  | 36/48 [00:03<00:02,  5.50it/s]"
     ]
    },
    {
     "name": "stdout",
     "output_type": "stream",
     "text": [
      "create fit 0.249[s]\n",
      "create fit 0.464[s]\n",
      "create fit 0.028[s]\n",
      "create fit 0.024[s]\n"
     ]
    },
    {
     "name": "stderr",
     "output_type": "stream",
     "text": [
      " 81%|████████▏ | 39/48 [00:05<00:02,  3.31it/s]"
     ]
    },
    {
     "name": "stdout",
     "output_type": "stream",
     "text": [
      "create fit 0.027[s]\n",
      "create fit 0.149[s]\n"
     ]
    },
    {
     "name": "stderr",
     "output_type": "stream",
     "text": [
      " 85%|████████▌ | 41/48 [00:06<00:02,  2.99it/s]"
     ]
    },
    {
     "name": "stdout",
     "output_type": "stream",
     "text": [
      "create fit 0.473[s]\n",
      "create fit 0.030[s]\n"
     ]
    },
    {
     "name": "stderr",
     "output_type": "stream",
     "text": [
      " 90%|████████▉ | 43/48 [00:08<00:02,  2.20it/s]"
     ]
    },
    {
     "name": "stdout",
     "output_type": "stream",
     "text": [
      "create fit 0.025[s]\n"
     ]
    },
    {
     "name": "stderr",
     "output_type": "stream",
     "text": [
      " 92%|█████████▏| 44/48 [00:09<00:02,  1.55it/s]"
     ]
    },
    {
     "name": "stdout",
     "output_type": "stream",
     "text": [
      "create fit 0.028[s]\n"
     ]
    },
    {
     "name": "stderr",
     "output_type": "stream",
     "text": [
      " 94%|█████████▍| 45/48 [00:10<00:02,  1.34it/s]"
     ]
    },
    {
     "name": "stdout",
     "output_type": "stream",
     "text": [
      "create fit 0.156[s]\n"
     ]
    },
    {
     "name": "stderr",
     "output_type": "stream",
     "text": [
      " 96%|█████████▌| 46/48 [00:10<00:01,  1.44it/s]"
     ]
    },
    {
     "name": "stdout",
     "output_type": "stream",
     "text": [
      "create fit 0.542[s]\n"
     ]
    },
    {
     "name": "stderr",
     "output_type": "stream",
     "text": [
      " 98%|█████████▊| 47/48 [00:12<00:00,  1.02it/s]"
     ]
    },
    {
     "name": "stdout",
     "output_type": "stream",
     "text": [
      "create fit 0.028[s]\n"
     ]
    },
    {
     "name": "stderr",
     "output_type": "stream",
     "text": [
      "100%|██████████| 48/48 [00:13<00:00,  3.59it/s]\n",
      "  0%|          | 0/48 [00:00<?, ?it/s]"
     ]
    },
    {
     "name": "stdout",
     "output_type": "stream",
     "text": [
      "create transform 0.008[s]\n"
     ]
    },
    {
     "name": "stderr",
     "output_type": "stream",
     "text": [
      "  4%|▍         | 2/48 [00:00<00:05,  8.84it/s]"
     ]
    },
    {
     "name": "stdout",
     "output_type": "stream",
     "text": [
      "create transform 0.215[s]\n"
     ]
    },
    {
     "name": "stderr",
     "output_type": "stream",
     "text": [
      " 17%|█▋        | 8/48 [00:00<00:04,  9.17it/s]"
     ]
    },
    {
     "name": "stdout",
     "output_type": "stream",
     "text": [
      "create transform 0.221[s]\n",
      "create transform 0.013[s]\n",
      "create transform 0.011[s]\n",
      "create transform 0.042[s]\n",
      "create transform 0.010[s]\n",
      "create transform 0.005[s]\n",
      "create transform 0.006[s]\n",
      "create transform 0.005[s]\n",
      "create transform 0.005[s]\n",
      "create transform 0.004[s]\n",
      "create transform 0.004[s]\n",
      "create transform 0.005[s]\n",
      "create transform 0.004[s]\n",
      "create transform 0.007[s]\n",
      "create transform 0.005[s]\n",
      "create transform 0.004[s]\n"
     ]
    },
    {
     "name": "stderr",
     "output_type": "stream",
     "text": [
      " 54%|█████▍    | 26/48 [00:00<00:01, 16.70it/s]"
     ]
    },
    {
     "name": "stdout",
     "output_type": "stream",
     "text": [
      "create transform 0.007[s]\n",
      "create transform 0.007[s]\n",
      "create transform 0.011[s]\n",
      "create transform 0.005[s]\n",
      "create transform 0.005[s]\n",
      "create transform 0.004[s]\n",
      "create transform 0.006[s]\n",
      "create transform 0.015[s]\n",
      "create transform 0.012[s]\n",
      "create transform 0.014[s]\n",
      "create transform 0.411[s]\n",
      "create transform 0.015[s]\n",
      "create transform 0.016[s]\n",
      "create transform 0.011[s]\n"
     ]
    },
    {
     "name": "stderr",
     "output_type": "stream",
     "text": [
      " 67%|██████▋   | 32/48 [00:01<00:01, 10.99it/s]"
     ]
    },
    {
     "name": "stdout",
     "output_type": "stream",
     "text": [
      "create transform 0.017[s]\n",
      "create transform 0.010[s]\n",
      "create transform 0.013[s]\n"
     ]
    },
    {
     "name": "stderr",
     "output_type": "stream",
     "text": [
      " 75%|███████▌  | 36/48 [00:02<00:01,  8.25it/s]"
     ]
    },
    {
     "name": "stdout",
     "output_type": "stream",
     "text": [
      "create transform 0.145[s]\n",
      "create transform 0.471[s]\n",
      "create transform 0.016[s]\n",
      "create transform 0.009[s]\n"
     ]
    },
    {
     "name": "stderr",
     "output_type": "stream",
     "text": [
      " 81%|████████▏ | 39/48 [00:03<00:01,  4.56it/s]"
     ]
    },
    {
     "name": "stdout",
     "output_type": "stream",
     "text": [
      "create transform 0.012[s]\n",
      "create transform 0.117[s]\n"
     ]
    },
    {
     "name": "stderr",
     "output_type": "stream",
     "text": [
      " 85%|████████▌ | 41/48 [00:04<00:01,  3.73it/s]"
     ]
    },
    {
     "name": "stdout",
     "output_type": "stream",
     "text": [
      "create transform 0.493[s]\n",
      "create transform 0.015[s]\n"
     ]
    },
    {
     "name": "stderr",
     "output_type": "stream",
     "text": [
      " 90%|████████▉ | 43/48 [00:05<00:01,  2.55it/s]"
     ]
    },
    {
     "name": "stdout",
     "output_type": "stream",
     "text": [
      "create transform 0.009[s]\n",
      "create transform 0.010[s]\n"
     ]
    },
    {
     "name": "stderr",
     "output_type": "stream",
     "text": [
      " 94%|█████████▍| 45/48 [00:06<00:01,  2.35it/s]"
     ]
    },
    {
     "name": "stdout",
     "output_type": "stream",
     "text": [
      "create transform 0.151[s]\n"
     ]
    },
    {
     "name": "stderr",
     "output_type": "stream",
     "text": [
      " 96%|█████████▌| 46/48 [00:07<00:00,  2.17it/s]"
     ]
    },
    {
     "name": "stdout",
     "output_type": "stream",
     "text": [
      "create transform 0.501[s]\n"
     ]
    },
    {
     "name": "stderr",
     "output_type": "stream",
     "text": [
      " 98%|█████████▊| 47/48 [00:08<00:00,  1.63it/s]"
     ]
    },
    {
     "name": "stdout",
     "output_type": "stream",
     "text": [
      "create transform 0.015[s]\n"
     ]
    },
    {
     "name": "stderr",
     "output_type": "stream",
     "text": [
      "100%|██████████| 48/48 [00:09<00:00,  5.11it/s]\n"
     ]
    }
   ],
   "source": [
    "train_feat_df = to_features(train_df, process_blocks, is_train=True)\n",
    "test_feat_df = to_features(test_df, process_blocks)"
   ]
  },
  {
   "cell_type": "code",
   "execution_count": null,
   "metadata": {
    "colab": {
     "base_uri": "https://localhost:8080/",
     "height": 414
    },
    "executionInfo": {
     "elapsed": 7003,
     "status": "ok",
     "timestamp": 1607853526439,
     "user": {
      "displayName": "김준형",
      "photoUrl": "https://lh3.googleusercontent.com/a-/AOh14GjoucIizMtFKPEd5GLr281FF-qhH43HTCNZtxOuTzA=s64",
      "userId": "17669351473013187910"
     },
     "user_tz": -540
    },
    "id": "QQkKfuOA4P_2",
    "outputId": "100badbc-f02c-4d1e-da49-7ac5c87491b0"
   },
   "outputs": [
    {
     "data": {
      "text/html": [
       "<div>\n",
       "<style scoped>\n",
       "    .dataframe tbody tr th:only-of-type {\n",
       "        vertical-align: middle;\n",
       "    }\n",
       "\n",
       "    .dataframe tbody tr th {\n",
       "        vertical-align: top;\n",
       "    }\n",
       "\n",
       "    .dataframe thead th {\n",
       "        text-align: right;\n",
       "    }\n",
       "</style>\n",
       "<table border=\"1\" class=\"dataframe\">\n",
       "  <thead>\n",
       "    <tr style=\"text-align: right;\">\n",
       "      <th></th>\n",
       "      <th>0</th>\n",
       "      <th>1</th>\n",
       "      <th>2</th>\n",
       "      <th>3</th>\n",
       "      <th>4</th>\n",
       "    </tr>\n",
       "  </thead>\n",
       "  <tbody>\n",
       "    <tr>\n",
       "      <th>Critic_Score</th>\n",
       "      <td>84.0</td>\n",
       "      <td>91.0</td>\n",
       "      <td>87.0</td>\n",
       "      <td>70.0</td>\n",
       "      <td>71.0</td>\n",
       "    </tr>\n",
       "    <tr>\n",
       "      <th>Critic_Count</th>\n",
       "      <td>23.0</td>\n",
       "      <td>17.0</td>\n",
       "      <td>28.0</td>\n",
       "      <td>54.0</td>\n",
       "      <td>41.0</td>\n",
       "    </tr>\n",
       "    <tr>\n",
       "      <th>User_Score</th>\n",
       "      <td>8.0</td>\n",
       "      <td>9.0</td>\n",
       "      <td>8.5</td>\n",
       "      <td>6.9</td>\n",
       "      <td>6.9</td>\n",
       "    </tr>\n",
       "    <tr>\n",
       "      <th>User_Count</th>\n",
       "      <td>19.0</td>\n",
       "      <td>132.0</td>\n",
       "      <td>39.0</td>\n",
       "      <td>180.0</td>\n",
       "      <td>143.0</td>\n",
       "    </tr>\n",
       "    <tr>\n",
       "      <th>Year_of_Release</th>\n",
       "      <td>NaN</td>\n",
       "      <td>NaN</td>\n",
       "      <td>NaN</td>\n",
       "      <td>NaN</td>\n",
       "      <td>NaN</td>\n",
       "    </tr>\n",
       "    <tr>\n",
       "      <th>...</th>\n",
       "      <td>...</td>\n",
       "      <td>...</td>\n",
       "      <td>...</td>\n",
       "      <td>...</td>\n",
       "      <td>...</td>\n",
       "    </tr>\n",
       "    <tr>\n",
       "      <th>Pv@Year_of_Release_Rating__EC</th>\n",
       "      <td>NaN</td>\n",
       "      <td>NaN</td>\n",
       "      <td>NaN</td>\n",
       "      <td>NaN</td>\n",
       "      <td>NaN</td>\n",
       "    </tr>\n",
       "    <tr>\n",
       "      <th>Pv@Year_of_Release_Rating__K-A</th>\n",
       "      <td>NaN</td>\n",
       "      <td>NaN</td>\n",
       "      <td>NaN</td>\n",
       "      <td>NaN</td>\n",
       "      <td>NaN</td>\n",
       "    </tr>\n",
       "    <tr>\n",
       "      <th>Pv@Year_of_Release_Rating__M</th>\n",
       "      <td>NaN</td>\n",
       "      <td>NaN</td>\n",
       "      <td>NaN</td>\n",
       "      <td>NaN</td>\n",
       "      <td>NaN</td>\n",
       "    </tr>\n",
       "    <tr>\n",
       "      <th>Pv@Year_of_Release_Rating__RP</th>\n",
       "      <td>NaN</td>\n",
       "      <td>NaN</td>\n",
       "      <td>NaN</td>\n",
       "      <td>NaN</td>\n",
       "      <td>NaN</td>\n",
       "    </tr>\n",
       "    <tr>\n",
       "      <th>Pv@Year_of_Release_Rating__T</th>\n",
       "      <td>NaN</td>\n",
       "      <td>NaN</td>\n",
       "      <td>NaN</td>\n",
       "      <td>NaN</td>\n",
       "      <td>NaN</td>\n",
       "    </tr>\n",
       "  </tbody>\n",
       "</table>\n",
       "<p>8891 rows × 5 columns</p>\n",
       "</div>"
      ],
      "text/plain": [
       "                                   0      1     2      3      4\n",
       "Critic_Score                    84.0   91.0  87.0   70.0   71.0\n",
       "Critic_Count                    23.0   17.0  28.0   54.0   41.0\n",
       "User_Score                       8.0    9.0   8.5    6.9    6.9\n",
       "User_Count                      19.0  132.0  39.0  180.0  143.0\n",
       "Year_of_Release                  NaN    NaN   NaN    NaN    NaN\n",
       "...                              ...    ...   ...    ...    ...\n",
       "Pv@Year_of_Release_Rating__EC    NaN    NaN   NaN    NaN    NaN\n",
       "Pv@Year_of_Release_Rating__K-A   NaN    NaN   NaN    NaN    NaN\n",
       "Pv@Year_of_Release_Rating__M     NaN    NaN   NaN    NaN    NaN\n",
       "Pv@Year_of_Release_Rating__RP    NaN    NaN   NaN    NaN    NaN\n",
       "Pv@Year_of_Release_Rating__T     NaN    NaN   NaN    NaN    NaN\n",
       "\n",
       "[8891 rows x 5 columns]"
      ]
     },
     "execution_count": 343,
     "metadata": {
      "tags": []
     },
     "output_type": "execute_result"
    }
   ],
   "source": [
    "test_feat_df.head().T"
   ]
  },
  {
   "cell_type": "code",
   "execution_count": null,
   "metadata": {
    "id": "37aEmIqW4Tnl"
   },
   "outputs": [],
   "source": [
    "assert len(test_feat_df) == len(test_df)"
   ]
  },
  {
   "cell_type": "markdown",
   "metadata": {
    "id": "VouBMputGuRP"
   },
   "source": [
    "## Train LGBM"
   ]
  },
  {
   "cell_type": "code",
   "execution_count": null,
   "metadata": {
    "id": "bX8A3cmD6RjO"
   },
   "outputs": [],
   "source": [
    "import lightgbm as lgb\n",
    "# import optuna.integration.lightgbm as lgb\n",
    "from sklearn.metrics import mean_squared_log_error as MSLE"
   ]
  },
  {
   "cell_type": "code",
   "execution_count": null,
   "metadata": {
    "id": "OJAzedKz4QPx"
   },
   "outputs": [],
   "source": [
    "def fit_lgb(X, y, cv, params: dict=None, verbose: int=50):\n",
    "  if params is None:\n",
    "    params = {}\n",
    "\n",
    "  models = []\n",
    "  y_d = np.log1p(y)\n",
    "  oof_pred = np.zeros_like(y_d, dtype=np.float)\n",
    "\n",
    "  for i, (train_idx, valid_idx) in enumerate(cv):\n",
    "    train_data = lgb.Dataset(data=X[train_idx], label=y_d[train_idx])\n",
    "    valid_data = lgb.Dataset(data=X[valid_idx], label=y_d[valid_idx], reference=train_data)\n",
    "\n",
    "    with timer(prefix=f'fit fold={i+1}'):\n",
    "      model = lgb.train(\n",
    "          params=params, \n",
    "          train_set=train_data, \n",
    "          valid_sets=[train_data, valid_data], \n",
    "          valid_names=['Train', 'Valid'],\n",
    "          num_boost_round = 10_000,\n",
    "          early_stopping_rounds=verbose,\n",
    "          verbose_eval=verbose\n",
    "          )\n",
    "    \n",
    "    pred_i_d = model.predict(X[valid_idx])\n",
    "    pred_i = np.expm1(pred_i_d)\n",
    "    pred_i = np.where(pred_i < 0, 0, pred_i)\n",
    "    oof_pred[valid_idx] = pred_i\n",
    "    models.append(model)\n",
    "\n",
    "    print(f'Fold {i+1} RMSLE: {MSLE(y[valid_idx], pred_i)**.5:.4f}')\n",
    "\n",
    "  score = MSLE(y, oof_pred) ** .5\n",
    "  print(f'FINISHED | Whole RMSLE: {score:.4f}')\n",
    "  return oof_pred, models"
   ]
  },
  {
   "cell_type": "code",
   "execution_count": null,
   "metadata": {
    "id": "8_xL1ULm-P-Z"
   },
   "outputs": [],
   "source": [
    "lgb_params = {\n",
    "    'objective': 'regression',\n",
    "    'metrics': 'rmse',\n",
    "    'learning_rate': .1,\n",
    "    'max_depth': 8,\n",
    "    'n_estimators': 10_000,\n",
    "    'colsample_bytree': .5, \n",
    "    'num_threads': 8,\n",
    "    'force_col_wise': True,\n",
    "    'verbose': -1,\n",
    "}\n",
    "\n",
    "y = train_df['Global_Sales'].values"
   ]
  },
  {
   "cell_type": "code",
   "execution_count": null,
   "metadata": {
    "id": "QwlnBT5cog7r"
   },
   "outputs": [],
   "source": [
    "lgb_models = {}\r\n",
    "lgb_oof_pred = {}"
   ]
  },
  {
   "cell_type": "markdown",
   "metadata": {
    "id": "zAt9-HpaJmWR"
   },
   "source": [
    "#### CV by Groups"
   ]
  },
  {
   "cell_type": "code",
   "execution_count": null,
   "metadata": {
    "id": "XzzPLrj79GXW"
   },
   "outputs": [],
   "source": [
    "def split_by_groups(groups):\r\n",
    "  kfold = KFold(n_splits=5, random_state=89, shuffle=True)\r\n",
    "  groups = pd.Series(groups)\r\n",
    "  unique_groups = groups.unique()\r\n",
    "  splits = []\r\n",
    "\r\n",
    "  def _filter_idxs(idx):\r\n",
    "    values = unique_groups[idx]\r\n",
    "    idx = groups.isin(values)\r\n",
    "    return groups[idx].index.values\r\n",
    "\r\n",
    "  for idx_tr, idx_val in kfold.split(unique_groups):\r\n",
    "    splits.append([\r\n",
    "                   _filter_idxs(idx_tr), _filter_idxs(idx_val)\r\n",
    "    ])\r\n",
    "\r\n",
    "  return splits"
   ]
  },
  {
   "cell_type": "code",
   "execution_count": null,
   "metadata": {
    "colab": {
     "base_uri": "https://localhost:8080/"
    },
    "executionInfo": {
     "elapsed": 212510,
     "status": "ok",
     "timestamp": 1607853738816,
     "user": {
      "displayName": "김준형",
      "photoUrl": "https://lh3.googleusercontent.com/a-/AOh14GjoucIizMtFKPEd5GLr281FF-qhH43HTCNZtxOuTzA=s64",
      "userId": "17669351473013187910"
     },
     "user_tz": -540
    },
    "id": "jM0pidDTJpu8",
    "outputId": "8088edad-4456-40e3-d7f4-56c616a422b7"
   },
   "outputs": [
    {
     "name": "stderr",
     "output_type": "stream",
     "text": [
      "Found `n_estimators` in params. Will use it instead of argument\n"
     ]
    },
    {
     "name": "stdout",
     "output_type": "stream",
     "text": [
      "Training until validation scores don't improve for 50 rounds.\n",
      "[50]\tTrain's rmse: 0.725872\tValid's rmse: 1.24579\n",
      "[100]\tTrain's rmse: 0.653032\tValid's rmse: 1.24091\n",
      "[150]\tTrain's rmse: 0.609638\tValid's rmse: 1.23495\n",
      "Early stopping, best iteration is:\n",
      "[113]\tTrain's rmse: 0.639424\tValid's rmse: 1.22887\n",
      "fit fold=137.777[s]\n",
      "Fold 1 RMSLE: 1.2289\n"
     ]
    },
    {
     "name": "stderr",
     "output_type": "stream",
     "text": [
      "Found `n_estimators` in params. Will use it instead of argument\n"
     ]
    },
    {
     "name": "stdout",
     "output_type": "stream",
     "text": [
      "Training until validation scores don't improve for 50 rounds.\n",
      "[50]\tTrain's rmse: 0.767686\tValid's rmse: 0.989177\n",
      "[100]\tTrain's rmse: 0.694938\tValid's rmse: 0.976967\n",
      "[150]\tTrain's rmse: 0.654192\tValid's rmse: 0.971627\n",
      "[200]\tTrain's rmse: 0.616708\tValid's rmse: 0.972904\n",
      "Early stopping, best iteration is:\n",
      "[190]\tTrain's rmse: 0.620924\tValid's rmse: 0.970145\n",
      "fit fold=247.714[s]\n",
      "Fold 2 RMSLE: 0.9701\n"
     ]
    },
    {
     "name": "stderr",
     "output_type": "stream",
     "text": [
      "Found `n_estimators` in params. Will use it instead of argument\n"
     ]
    },
    {
     "name": "stdout",
     "output_type": "stream",
     "text": [
      "Training until validation scores don't improve for 50 rounds.\n",
      "[50]\tTrain's rmse: 0.753866\tValid's rmse: 1.03132\n",
      "[100]\tTrain's rmse: 0.6802\tValid's rmse: 1.01405\n",
      "[150]\tTrain's rmse: 0.639192\tValid's rmse: 1.01309\n",
      "Early stopping, best iteration is:\n",
      "[132]\tTrain's rmse: 0.65123\tValid's rmse: 1.01091\n",
      "fit fold=339.406[s]\n",
      "Fold 3 RMSLE: 1.0109\n"
     ]
    },
    {
     "name": "stderr",
     "output_type": "stream",
     "text": [
      "Found `n_estimators` in params. Will use it instead of argument\n"
     ]
    },
    {
     "name": "stdout",
     "output_type": "stream",
     "text": [
      "Training until validation scores don't improve for 50 rounds.\n",
      "[50]\tTrain's rmse: 0.75089\tValid's rmse: 0.945138\n",
      "[100]\tTrain's rmse: 0.677121\tValid's rmse: 0.945093\n",
      "Early stopping, best iteration is:\n",
      "[87]\tTrain's rmse: 0.691962\tValid's rmse: 0.942904\n",
      "fit fold=434.178[s]\n",
      "Fold 4 RMSLE: 0.9429\n"
     ]
    },
    {
     "name": "stderr",
     "output_type": "stream",
     "text": [
      "Found `n_estimators` in params. Will use it instead of argument\n"
     ]
    },
    {
     "name": "stdout",
     "output_type": "stream",
     "text": [
      "Training until validation scores don't improve for 50 rounds.\n",
      "[50]\tTrain's rmse: 0.718543\tValid's rmse: 1.06861\n",
      "[100]\tTrain's rmse: 0.642446\tValid's rmse: 1.05871\n",
      "[150]\tTrain's rmse: 0.596252\tValid's rmse: 1.05646\n",
      "Early stopping, best iteration is:\n",
      "[122]\tTrain's rmse: 0.618245\tValid's rmse: 1.05559\n",
      "fit fold=538.395[s]\n",
      "Fold 5 RMSLE: 1.0556\n",
      "FINISHED | Whole RMSLE: 1.0477\n"
     ]
    }
   ],
   "source": [
    "cv = split_by_groups(train_df['Publisher'])\r\n",
    "lgb_oof_pred['grouped'], lgb_models['grouped'] = fit_lgb(train_feat_df.values, y, cv, params=lgb_params)"
   ]
  },
  {
   "cell_type": "markdown",
   "metadata": {
    "id": "PttFgmreG0Em"
   },
   "source": [
    "#### Stratified K Fold on Global Sales Bins"
   ]
  },
  {
   "cell_type": "code",
   "execution_count": null,
   "metadata": {
    "id": "eZ6lHMGlGpAp"
   },
   "outputs": [],
   "source": [
    "def create_folds(input_df, y):\r\n",
    "  num_bins = np.int(1 + np.log2(len(y)))\r\n",
    "  bins = pd.cut(\r\n",
    "      y,\r\n",
    "      bins=num_bins,\r\n",
    "      labels=False\r\n",
    "  )\r\n",
    "\r\n",
    "  kfold = StratifiedKFold(n_splits=5)\r\n",
    "  fold_idxs = list(kfold.split(X=input_df, y=bins))\r\n",
    "  return fold_idxs"
   ]
  },
  {
   "cell_type": "code",
   "execution_count": null,
   "metadata": {
    "colab": {
     "base_uri": "https://localhost:8080/"
    },
    "executionInfo": {
     "elapsed": 239544,
     "status": "ok",
     "timestamp": 1607849676165,
     "user": {
      "displayName": "김준형",
      "photoUrl": "https://lh3.googleusercontent.com/a-/AOh14GjoucIizMtFKPEd5GLr281FF-qhH43HTCNZtxOuTzA=s64",
      "userId": "17669351473013187910"
     },
     "user_tz": -540
    },
    "id": "2COLjw_1BNiQ",
    "outputId": "d1727530-1a0e-4739-8fdd-41f561e2df17"
   },
   "outputs": [
    {
     "name": "stderr",
     "output_type": "stream",
     "text": [
      "The least populated class in y has only 1 members, which is less than n_splits=5.\n",
      "Found `n_estimators` in params. Will use it instead of argument\n"
     ]
    },
    {
     "name": "stdout",
     "output_type": "stream",
     "text": [
      "Training until validation scores don't improve for 50 rounds.\n",
      "[50]\tTrain's rmse: 0.71988\tValid's rmse: 1.22911\n",
      "[100]\tTrain's rmse: 0.644334\tValid's rmse: 1.23929\n",
      "Early stopping, best iteration is:\n",
      "[52]\tTrain's rmse: 0.715335\tValid's rmse: 1.2288\n",
      "fit fold=116.028[s]\n",
      "Fold 1 RMSLE: 1.2288\n"
     ]
    },
    {
     "name": "stderr",
     "output_type": "stream",
     "text": [
      "Found `n_estimators` in params. Will use it instead of argument\n"
     ]
    },
    {
     "name": "stdout",
     "output_type": "stream",
     "text": [
      "Training until validation scores don't improve for 50 rounds.\n",
      "[50]\tTrain's rmse: 0.753212\tValid's rmse: 0.966271\n",
      "[100]\tTrain's rmse: 0.678663\tValid's rmse: 0.97981\n",
      "Early stopping, best iteration is:\n",
      "[72]\tTrain's rmse: 0.716173\tValid's rmse: 0.965044\n",
      "fit fold=219.099[s]\n",
      "Fold 2 RMSLE: 0.9650\n"
     ]
    },
    {
     "name": "stderr",
     "output_type": "stream",
     "text": [
      "Found `n_estimators` in params. Will use it instead of argument\n"
     ]
    },
    {
     "name": "stdout",
     "output_type": "stream",
     "text": [
      "Training until validation scores don't improve for 50 rounds.\n",
      "[50]\tTrain's rmse: 0.749713\tValid's rmse: 0.945376\n",
      "[100]\tTrain's rmse: 0.673557\tValid's rmse: 0.932841\n",
      "[150]\tTrain's rmse: 0.624256\tValid's rmse: 0.932378\n",
      "Early stopping, best iteration is:\n",
      "[146]\tTrain's rmse: 0.628241\tValid's rmse: 0.931479\n",
      "fit fold=327.113[s]\n",
      "Fold 3 RMSLE: 0.9315\n"
     ]
    },
    {
     "name": "stderr",
     "output_type": "stream",
     "text": [
      "Found `n_estimators` in params. Will use it instead of argument\n"
     ]
    },
    {
     "name": "stdout",
     "output_type": "stream",
     "text": [
      "Training until validation scores don't improve for 50 rounds.\n",
      "[50]\tTrain's rmse: 0.771647\tValid's rmse: 0.840134\n",
      "[100]\tTrain's rmse: 0.695191\tValid's rmse: 0.838364\n",
      "Early stopping, best iteration is:\n",
      "[73]\tTrain's rmse: 0.728868\tValid's rmse: 0.836747\n",
      "fit fold=419.350[s]\n",
      "Fold 4 RMSLE: 0.8367\n"
     ]
    },
    {
     "name": "stderr",
     "output_type": "stream",
     "text": [
      "Found `n_estimators` in params. Will use it instead of argument\n"
     ]
    },
    {
     "name": "stdout",
     "output_type": "stream",
     "text": [
      "Training until validation scores don't improve for 50 rounds.\n",
      "[50]\tTrain's rmse: 0.766539\tValid's rmse: 0.991122\n",
      "[100]\tTrain's rmse: 0.695457\tValid's rmse: 0.978699\n",
      "[150]\tTrain's rmse: 0.648288\tValid's rmse: 0.978078\n",
      "Early stopping, best iteration is:\n",
      "[113]\tTrain's rmse: 0.682551\tValid's rmse: 0.975865\n",
      "fit fold=523.316[s]\n",
      "Fold 5 RMSLE: 0.9759\n",
      "FINISHED | Whole RMSLE: 0.9961\n"
     ]
    }
   ],
   "source": [
    "cv = create_folds(train_feat_df.values, y)\r\n",
    "lgb_oof_pred['binned'], lgb_models['binned'] = fit_lgb(train_feat_df.values, y, cv, params=lgb_params)"
   ]
  },
  {
   "cell_type": "markdown",
   "metadata": {
    "id": "7MAm6Jkqg-Vc"
   },
   "source": [
    "## Train CatBoost"
   ]
  },
  {
   "cell_type": "code",
   "execution_count": null,
   "metadata": {
    "id": "f8E_kDWb-X91"
   },
   "outputs": [],
   "source": [
    "!pip install catboost\r\n",
    "clear_output()"
   ]
  },
  {
   "cell_type": "code",
   "execution_count": null,
   "metadata": {
    "id": "7EbtYrWVhQtQ"
   },
   "outputs": [],
   "source": [
    "from catboost import CatBoost as cat"
   ]
  },
  {
   "cell_type": "code",
   "execution_count": null,
   "metadata": {
    "id": "av0K6g95hQkd"
   },
   "outputs": [],
   "source": [
    "def fit_catboost(X, y, cv, params: dict=None, verbose: int=50):\r\n",
    "  if params is None:\r\n",
    "    params = {}\r\n",
    "\r\n",
    "  models = []\r\n",
    "  y_d = np.log1p(y)\r\n",
    "  oof_pred = np.zeros_like(y_d, dtype=np.float)\r\n",
    "\r\n",
    "  for i, (train_idx, valid_idx) in enumerate(cv):\r\n",
    "    train_data = lgb.Dataset(data=X[train_idx], label=y_d[train_idx])\r\n",
    "    valid_data = lgb.Dataset(data=X[valid_idx], label=y_d[valid_idx], reference=train_data)\r\n",
    "\r\n",
    "    with timer(prefix=f'fit fold={i+1}'):\r\n",
    "      model = cat(params=params).fit(\r\n",
    "          X=X[train_idx], y=y_d[train_idx],\r\n",
    "          eval_set=[(X[valid_idx], y_d[valid_idx])],\r\n",
    "          early_stopping_rounds=verbose,\r\n",
    "          verbose_eval=verbose\r\n",
    "      )\r\n",
    "    \r\n",
    "    pred_i_d = model.predict(X[valid_idx])\r\n",
    "    pred_i = np.expm1(pred_i_d)\r\n",
    "    pred_i = np.where(pred_i < 0, 0, pred_i)\r\n",
    "    oof_pred[valid_idx] = pred_i\r\n",
    "    models.append(model)\r\n",
    "\r\n",
    "    print(f'Fold {i+1} RMSLE: {MSLE(y[valid_idx], pred_i)**.5:.4f}')\r\n",
    "\r\n",
    "  score = MSLE(y, oof_pred) ** .5\r\n",
    "  print(f'FINISHED | Whole RMSLE: {score:.4f}')\r\n",
    "  return oof_pred, models"
   ]
  },
  {
   "cell_type": "code",
   "execution_count": null,
   "metadata": {
    "id": "WGKp-M58i90y"
   },
   "outputs": [],
   "source": [
    "cat_params = {\r\n",
    "    'loss_function':'RMSE',\r\n",
    "    'iterations':2_000, \r\n",
    "    'learning_rate':.1, \r\n",
    "    'depth':8,\r\n",
    "    'colsample_bylevel':.5,\r\n",
    "}\r\n",
    "\r\n",
    "y = train_df['Global_Sales'].values"
   ]
  },
  {
   "cell_type": "code",
   "execution_count": null,
   "metadata": {
    "id": "IAiR5bAcsXLC"
   },
   "outputs": [],
   "source": [
    "cat_models = {}\r\n",
    "cat_oof_pred = {}"
   ]
  },
  {
   "cell_type": "markdown",
   "metadata": {
    "id": "VGWXeH2kN0Kj"
   },
   "source": [
    "### CV by Groups"
   ]
  },
  {
   "cell_type": "code",
   "execution_count": null,
   "metadata": {
    "colab": {
     "base_uri": "https://localhost:8080/"
    },
    "executionInfo": {
     "elapsed": 320424,
     "status": "ok",
     "timestamp": 1607838588869,
     "user": {
      "displayName": "김준형",
      "photoUrl": "https://lh3.googleusercontent.com/a-/AOh14GjoucIizMtFKPEd5GLr281FF-qhH43HTCNZtxOuTzA=s64",
      "userId": "17669351473013187910"
     },
     "user_tz": -540
    },
    "id": "BwFQaqLDN8E9",
    "outputId": "265cf445-1772-4c23-9371-5813bd13ee1c"
   },
   "outputs": [
    {
     "name": "stdout",
     "output_type": "stream",
     "text": [
      "0:\tlearn: 1.3458171\ttest: 1.3611428\tbest: 1.3611428 (0)\ttotal: 448ms\tremaining: 14m 55s\n",
      "50:\tlearn: 0.8944441\ttest: 0.8984810\tbest: 0.8984810 (50)\ttotal: 18.2s\tremaining: 11m 34s\n",
      "100:\tlearn: 0.8222474\ttest: 0.8703463\tbest: 0.8703463 (100)\ttotal: 35.5s\tremaining: 11m 7s\n",
      "150:\tlearn: 0.7549692\ttest: 0.8555860\tbest: 0.8555860 (150)\ttotal: 53.2s\tremaining: 10m 51s\n",
      "200:\tlearn: 0.7126416\ttest: 0.8475026\tbest: 0.8469803 (199)\ttotal: 1m 10s\tremaining: 10m 34s\n",
      "250:\tlearn: 0.6786575\ttest: 0.8491183\tbest: 0.8456209 (206)\ttotal: 1m 28s\tremaining: 10m 16s\n",
      "Stopped by overfitting detector  (50 iterations wait)\n",
      "\n",
      "bestTest = 0.8456208809\n",
      "bestIteration = 206\n",
      "\n",
      "Shrink model to first 207 iterations.\n",
      "fit fold=1103.703[s]\n",
      "Fold 1 RMSLE: 0.8456\n",
      "0:\tlearn: 1.2701760\ttest: 1.7261776\tbest: 1.7261776 (0)\ttotal: 371ms\tremaining: 12m 22s\n",
      "50:\tlearn: 0.8613969\ttest: 1.4167662\tbest: 1.4165436 (49)\ttotal: 17.7s\tremaining: 11m 15s\n",
      "100:\tlearn: 0.7923920\ttest: 1.3875720\tbest: 1.3875720 (100)\ttotal: 34.5s\tremaining: 10m 48s\n",
      "150:\tlearn: 0.7275099\ttest: 1.3755185\tbest: 1.3725540 (149)\ttotal: 51.6s\tremaining: 10m 31s\n",
      "200:\tlearn: 0.6807638\ttest: 1.3658498\tbest: 1.3658498 (200)\ttotal: 1m 8s\tremaining: 10m 16s\n",
      "250:\tlearn: 0.6456542\ttest: 1.3633852\tbest: 1.3564284 (222)\ttotal: 1m 26s\tremaining: 10m\n",
      "Stopped by overfitting detector  (50 iterations wait)\n",
      "\n",
      "bestTest = 1.356428449\n",
      "bestIteration = 222\n",
      "\n",
      "Shrink model to first 223 iterations.\n",
      "fit fold=2107.077[s]\n",
      "Fold 2 RMSLE: 1.3564\n",
      "0:\tlearn: 1.3580705\ttest: 1.2637603\tbest: 1.2637603 (0)\ttotal: 337ms\tremaining: 11m 13s\n",
      "50:\tlearn: 0.8969490\ttest: 1.0124946\tbest: 1.0124946 (50)\ttotal: 17.4s\tremaining: 11m 4s\n",
      "100:\tlearn: 0.8263463\ttest: 0.9869585\tbest: 0.9868863 (99)\ttotal: 34.6s\tremaining: 10m 50s\n",
      "150:\tlearn: 0.7575756\ttest: 0.9749043\tbest: 0.9749043 (150)\ttotal: 51.8s\tremaining: 10m 34s\n",
      "200:\tlearn: 0.7119911\ttest: 0.9665759\tbest: 0.9664388 (198)\ttotal: 1m 8s\tremaining: 10m 17s\n",
      "250:\tlearn: 0.6794490\ttest: 0.9678086\tbest: 0.9633728 (228)\ttotal: 1m 26s\tremaining: 9m 59s\n",
      "Stopped by overfitting detector  (50 iterations wait)\n",
      "\n",
      "bestTest = 0.9633727524\n",
      "bestIteration = 228\n",
      "\n",
      "Shrink model to first 229 iterations.\n",
      "fit fold=3108.828[s]\n",
      "Fold 3 RMSLE: 0.9634\n",
      "0:\tlearn: 1.3553689\ttest: 1.3166521\tbest: 1.3166521 (0)\ttotal: 365ms\tremaining: 12m 9s\n",
      "50:\tlearn: 0.8999980\ttest: 0.9956547\tbest: 0.9952481 (49)\ttotal: 17.2s\tremaining: 10m 58s\n",
      "100:\tlearn: 0.8282832\ttest: 0.9812981\tbest: 0.9812981 (100)\ttotal: 34.4s\tremaining: 10m 47s\n",
      "150:\tlearn: 0.7602128\ttest: 0.9764169\tbest: 0.9741044 (132)\ttotal: 51.6s\tremaining: 10m 32s\n",
      "200:\tlearn: 0.7118612\ttest: 0.9682578\tbest: 0.9682578 (200)\ttotal: 1m 8s\tremaining: 10m 15s\n",
      "250:\tlearn: 0.6763625\ttest: 0.9689369\tbest: 0.9682578 (200)\ttotal: 1m 26s\tremaining: 9m 59s\n",
      "Stopped by overfitting detector  (50 iterations wait)\n",
      "\n",
      "bestTest = 0.9682577769\n",
      "bestIteration = 200\n",
      "\n",
      "Shrink model to first 201 iterations.\n",
      "fit fold=499.071[s]\n",
      "Fold 4 RMSLE: 0.9683\n",
      "0:\tlearn: 1.3480661\ttest: 1.3619626\tbest: 1.3619626 (0)\ttotal: 333ms\tremaining: 11m 5s\n",
      "50:\tlearn: 0.8917427\ttest: 1.0772733\tbest: 1.0772733 (50)\ttotal: 17s\tremaining: 10m 49s\n",
      "100:\tlearn: 0.8188587\ttest: 1.0407243\tbest: 1.0403598 (99)\ttotal: 33.7s\tremaining: 10m 33s\n",
      "150:\tlearn: 0.7558874\ttest: 1.0081016\tbest: 1.0079489 (149)\ttotal: 50.7s\tremaining: 10m 20s\n",
      "200:\tlearn: 0.7107191\ttest: 1.0029291\tbest: 1.0029291 (200)\ttotal: 1m 7s\tremaining: 10m 5s\n",
      "250:\tlearn: 0.6717151\ttest: 0.9930506\tbest: 0.9929251 (249)\ttotal: 1m 24s\tremaining: 9m 49s\n",
      "300:\tlearn: 0.6435344\ttest: 0.9904825\tbest: 0.9897082 (275)\ttotal: 1m 41s\tremaining: 9m 32s\n",
      "Stopped by overfitting detector  (50 iterations wait)\n",
      "\n",
      "bestTest = 0.9897081521\n",
      "bestIteration = 275\n",
      "\n",
      "Shrink model to first 276 iterations.\n",
      "fit fold=5123.051[s]\n",
      "Fold 5 RMSLE: 0.9897\n",
      "0:\tlearn: 1.3360637\ttest: 1.4397403\tbest: 1.4397403 (0)\ttotal: 350ms\tremaining: 11m 39s\n",
      "50:\tlearn: 0.8919724\ttest: 1.1012514\tbest: 1.1004536 (43)\ttotal: 17.5s\tremaining: 11m 10s\n",
      "100:\tlearn: 0.8212381\ttest: 1.0656307\tbest: 1.0656307 (100)\ttotal: 34.3s\tremaining: 10m 44s\n",
      "150:\tlearn: 0.7594179\ttest: 1.0478440\tbest: 1.0465899 (148)\ttotal: 51.5s\tremaining: 10m 31s\n",
      "200:\tlearn: 0.7105171\ttest: 1.0298835\tbest: 1.0298835 (200)\ttotal: 1m 8s\tremaining: 10m 15s\n",
      "250:\tlearn: 0.6795877\ttest: 1.0226803\tbest: 1.0226803 (250)\ttotal: 1m 25s\tremaining: 9m 57s\n",
      "300:\tlearn: 0.6477801\ttest: 1.0108632\tbest: 1.0108632 (300)\ttotal: 1m 42s\tremaining: 9m 41s\n",
      "350:\tlearn: 0.6234365\ttest: 1.0071093\tbest: 1.0045023 (328)\ttotal: 2m\tremaining: 9m 24s\n",
      "Stopped by overfitting detector  (50 iterations wait)\n",
      "\n",
      "bestTest = 1.0045023\n",
      "bestIteration = 328\n",
      "\n",
      "Shrink model to first 329 iterations.\n",
      "fit fold=6142.275[s]\n",
      "Fold 6 RMSLE: 1.0045\n",
      "0:\tlearn: 1.3661081\ttest: 1.1875234\tbest: 1.1875234 (0)\ttotal: 172ms\tremaining: 5m 44s\n",
      "50:\tlearn: 0.8909289\ttest: 0.9874031\tbest: 0.9858454 (49)\ttotal: 17.4s\tremaining: 11m 5s\n",
      "100:\tlearn: 0.8163223\ttest: 0.9739758\tbest: 0.9739758 (100)\ttotal: 34.6s\tremaining: 10m 50s\n",
      "150:\tlearn: 0.7466233\ttest: 0.9664772\tbest: 0.9664772 (150)\ttotal: 51.9s\tremaining: 10m 35s\n",
      "200:\tlearn: 0.6970715\ttest: 0.9647559\tbest: 0.9645297 (199)\ttotal: 1m 9s\tremaining: 10m 19s\n",
      "250:\tlearn: 0.6628088\ttest: 0.9590464\tbest: 0.9590464 (250)\ttotal: 1m 26s\tremaining: 10m 1s\n",
      "300:\tlearn: 0.6353345\ttest: 0.9570107\tbest: 0.9570107 (300)\ttotal: 1m 43s\tremaining: 9m 44s\n",
      "350:\tlearn: 0.6061438\ttest: 0.9516102\tbest: 0.9513343 (332)\ttotal: 2m\tremaining: 9m 27s\n",
      "Stopped by overfitting detector  (50 iterations wait)\n",
      "\n",
      "bestTest = 0.9513342903\n",
      "bestIteration = 332\n",
      "\n",
      "Shrink model to first 333 iterations.\n",
      "fit fold=7145.548[s]\n",
      "Fold 7 RMSLE: 0.9513\n",
      "0:\tlearn: 1.3403405\ttest: 1.3609807\tbest: 1.3609807 (0)\ttotal: 357ms\tremaining: 11m 52s\n",
      "50:\tlearn: 0.9006785\ttest: 0.8433044\tbest: 0.8422195 (48)\ttotal: 18.2s\tremaining: 11m 35s\n",
      "100:\tlearn: 0.8180775\ttest: 0.8336095\tbest: 0.8334392 (99)\ttotal: 36.3s\tremaining: 11m 22s\n",
      "150:\tlearn: 0.7589476\ttest: 0.8257890\tbest: 0.8257890 (150)\ttotal: 54.1s\tremaining: 11m 1s\n",
      "200:\tlearn: 0.7124425\ttest: 0.8211359\tbest: 0.8211359 (200)\ttotal: 1m 11s\tremaining: 10m 42s\n",
      "250:\tlearn: 0.6782908\ttest: 0.8175755\tbest: 0.8167371 (245)\ttotal: 1m 29s\tremaining: 10m 24s\n",
      "Stopped by overfitting detector  (50 iterations wait)\n",
      "\n",
      "bestTest = 0.8167371421\n",
      "bestIteration = 245\n",
      "\n",
      "Shrink model to first 246 iterations.\n",
      "fit fold=8118.823[s]\n",
      "Fold 8 RMSLE: 0.8167\n",
      "0:\tlearn: 1.3833806\ttest: 1.1448178\tbest: 1.1448178 (0)\ttotal: 336ms\tremaining: 11m 11s\n",
      "50:\tlearn: 0.8963103\ttest: 0.9865194\tbest: 0.9857363 (48)\ttotal: 17.3s\tremaining: 11m 2s\n",
      "100:\tlearn: 0.8219615\ttest: 0.9672231\tbest: 0.9672231 (100)\ttotal: 34.7s\tremaining: 10m 51s\n",
      "150:\tlearn: 0.7600990\ttest: 0.9552866\tbest: 0.9552866 (150)\ttotal: 51.8s\tremaining: 10m 33s\n",
      "200:\tlearn: 0.7120174\ttest: 0.9547755\tbest: 0.9508822 (167)\ttotal: 1m 9s\tremaining: 10m 17s\n",
      "Stopped by overfitting detector  (50 iterations wait)\n",
      "\n",
      "bestTest = 0.9508822293\n",
      "bestIteration = 167\n",
      "\n",
      "Shrink model to first 168 iterations.\n",
      "fit fold=988.703[s]\n",
      "Fold 9 RMSLE: 0.9509\n",
      "0:\tlearn: 1.3338040\ttest: 1.4117296\tbest: 1.4117296 (0)\ttotal: 348ms\tremaining: 11m 34s\n",
      "50:\tlearn: 0.8762223\ttest: 1.1589328\tbest: 1.1589328 (50)\ttotal: 17.7s\tremaining: 11m 16s\n",
      "100:\tlearn: 0.8049522\ttest: 1.1434177\tbest: 1.1420991 (88)\ttotal: 35.1s\tremaining: 11m\n",
      "150:\tlearn: 0.7397963\ttest: 1.1471190\tbest: 1.1407881 (106)\ttotal: 52.2s\tremaining: 10m 39s\n",
      "Stopped by overfitting detector  (50 iterations wait)\n",
      "\n",
      "bestTest = 1.140788053\n",
      "bestIteration = 106\n",
      "\n",
      "Shrink model to first 107 iterations.\n",
      "fit fold=1067.929[s]\n",
      "Fold 10 RMSLE: 1.1408\n",
      "FINISHED | Whole RMSLE: 1.0530\n"
     ]
    }
   ],
   "source": [
    "cv = split_by_groups(train_df['Publisher'])\r\n",
    "cat_oof_pred['grouped'], cat_models['grouped'] = fit_catboost(train_feat_df.values, y, cv, params=cat_params)"
   ]
  },
  {
   "cell_type": "markdown",
   "metadata": {
    "id": "gkgCVgDvN364"
   },
   "source": [
    "### Stratified K Fold on Global Sales Bins"
   ]
  },
  {
   "cell_type": "code",
   "execution_count": null,
   "metadata": {
    "colab": {
     "base_uri": "https://localhost:8080/"
    },
    "executionInfo": {
     "elapsed": 1048562,
     "status": "ok",
     "timestamp": 1607843490379,
     "user": {
      "displayName": "김준형",
      "photoUrl": "https://lh3.googleusercontent.com/a-/AOh14GjoucIizMtFKPEd5GLr281FF-qhH43HTCNZtxOuTzA=s64",
      "userId": "17669351473013187910"
     },
     "user_tz": -540
    },
    "id": "VGfDiL7mNz-b",
    "outputId": "22774f88-c6ac-44c6-a616-61890e59bf88"
   },
   "outputs": [
    {
     "name": "stderr",
     "output_type": "stream",
     "text": [
      "The least populated class in y has only 1 members, which is less than n_splits=10.\n"
     ]
    },
    {
     "name": "stdout",
     "output_type": "stream",
     "text": [
      "0:\tlearn: 1.3347389\ttest: 1.4212111\tbest: 1.4212111 (0)\ttotal: 653ms\tremaining: 21m 44s\n",
      "50:\tlearn: 0.8796296\ttest: 1.2024137\tbest: 1.1458357 (31)\ttotal: 18.6s\tremaining: 11m 52s\n",
      "Stopped by overfitting detector  (50 iterations wait)\n",
      "\n",
      "bestTest = 1.145835722\n",
      "bestIteration = 31\n",
      "\n",
      "Shrink model to first 32 iterations.\n",
      "fit fold=143.095[s]\n",
      "Fold 1 RMSLE: 1.1458\n",
      "0:\tlearn: 1.3446252\ttest: 1.3810002\tbest: 1.3810002 (0)\ttotal: 342ms\tremaining: 11m 24s\n",
      "50:\tlearn: 0.8787236\ttest: 1.0769400\tbest: 1.0769400 (50)\ttotal: 17.5s\tremaining: 11m 7s\n",
      "100:\tlearn: 0.8082747\ttest: 1.0520346\tbest: 1.0520346 (100)\ttotal: 34.5s\tremaining: 10m 49s\n",
      "150:\tlearn: 0.7439673\ttest: 1.0383584\tbest: 1.0377408 (137)\ttotal: 51.5s\tremaining: 10m 30s\n",
      "200:\tlearn: 0.7080284\ttest: 1.0388443\tbest: 1.0352893 (186)\ttotal: 1m 8s\tremaining: 10m 10s\n",
      "250:\tlearn: 0.6705614\ttest: 1.0360973\tbest: 1.0346601 (230)\ttotal: 1m 25s\tremaining: 9m 54s\n",
      "300:\tlearn: 0.6385102\ttest: 1.0328794\tbest: 1.0324830 (288)\ttotal: 1m 42s\tremaining: 9m 37s\n",
      "Stopped by overfitting detector  (50 iterations wait)\n",
      "\n",
      "bestTest = 1.032483002\n",
      "bestIteration = 288\n",
      "\n",
      "Shrink model to first 289 iterations.\n",
      "fit fold=2129.231[s]\n",
      "Fold 2 RMSLE: 1.0325\n",
      "0:\tlearn: 1.3563524\ttest: 1.2293582\tbest: 1.2293582 (0)\ttotal: 367ms\tremaining: 12m 12s\n",
      "50:\tlearn: 0.8894868\ttest: 0.9848608\tbest: 0.9848608 (50)\ttotal: 17.6s\tremaining: 11m 12s\n",
      "100:\tlearn: 0.8182861\ttest: 0.9583489\tbest: 0.9583480 (99)\ttotal: 34.7s\tremaining: 10m 53s\n",
      "150:\tlearn: 0.7548806\ttest: 0.9364885\tbest: 0.9364885 (150)\ttotal: 51.8s\tremaining: 10m 34s\n",
      "200:\tlearn: 0.7096570\ttest: 0.9329492\tbest: 0.9328167 (186)\ttotal: 1m 8s\tremaining: 10m 16s\n",
      "250:\tlearn: 0.6751746\ttest: 0.9337543\tbest: 0.9292672 (237)\ttotal: 1m 25s\tremaining: 9m 57s\n",
      "Stopped by overfitting detector  (50 iterations wait)\n",
      "\n",
      "bestTest = 0.9292672378\n",
      "bestIteration = 237\n",
      "\n",
      "Shrink model to first 238 iterations.\n",
      "fit fold=3112.619[s]\n",
      "Fold 3 RMSLE: 0.9293\n",
      "0:\tlearn: 1.3534864\ttest: 1.2753925\tbest: 1.2753925 (0)\ttotal: 338ms\tremaining: 11m 14s\n",
      "50:\tlearn: 0.8910039\ttest: 0.9670376\tbest: 0.9670119 (49)\ttotal: 17.3s\tremaining: 10m 59s\n",
      "100:\tlearn: 0.8172053\ttest: 0.9528173\tbest: 0.9478011 (92)\ttotal: 34s\tremaining: 10m 38s\n",
      "Stopped by overfitting detector  (50 iterations wait)\n",
      "\n",
      "bestTest = 0.9478011198\n",
      "bestIteration = 92\n",
      "\n",
      "Shrink model to first 93 iterations.\n",
      "fit fold=461.626[s]\n",
      "Fold 4 RMSLE: 0.9478\n",
      "0:\tlearn: 1.3379389\ttest: 1.4257991\tbest: 1.4257991 (0)\ttotal: 341ms\tremaining: 11m 22s\n",
      "50:\tlearn: 0.8846244\ttest: 1.0334978\tbest: 1.0334978 (50)\ttotal: 17.2s\tremaining: 10m 58s\n",
      "100:\tlearn: 0.8120182\ttest: 1.0027998\tbest: 1.0027998 (100)\ttotal: 33.7s\tremaining: 10m 33s\n",
      "150:\tlearn: 0.7418720\ttest: 0.9984785\tbest: 0.9944067 (138)\ttotal: 50.5s\tremaining: 10m 18s\n",
      "200:\tlearn: 0.6952865\ttest: 1.0090994\tbest: 0.9941470 (173)\ttotal: 1m 8s\tremaining: 10m 10s\n",
      "Stopped by overfitting detector  (50 iterations wait)\n",
      "\n",
      "bestTest = 0.9941469564\n",
      "bestIteration = 173\n",
      "\n",
      "Shrink model to first 174 iterations.\n",
      "fit fold=589.940[s]\n",
      "Fold 5 RMSLE: 0.9941\n",
      "0:\tlearn: 1.3425351\ttest: 1.3430550\tbest: 1.3430550 (0)\ttotal: 349ms\tremaining: 11m 37s\n",
      "50:\tlearn: 0.8960755\ttest: 0.9117403\tbest: 0.9117403 (50)\ttotal: 17.5s\tremaining: 11m 7s\n",
      "100:\tlearn: 0.8238678\ttest: 0.8810210\tbest: 0.8809413 (99)\ttotal: 34.4s\tremaining: 10m 47s\n",
      "150:\tlearn: 0.7563942\ttest: 0.8643021\tbest: 0.8635622 (149)\ttotal: 51.7s\tremaining: 10m 32s\n",
      "200:\tlearn: 0.7093661\ttest: 0.8553521\tbest: 0.8553521 (200)\ttotal: 1m 8s\tremaining: 10m 14s\n",
      "250:\tlearn: 0.6771817\ttest: 0.8487352\tbest: 0.8486857 (249)\ttotal: 1m 25s\tremaining: 9m 56s\n",
      "300:\tlearn: 0.6445826\ttest: 0.8457927\tbest: 0.8457927 (300)\ttotal: 1m 42s\tremaining: 9m 40s\n",
      "350:\tlearn: 0.6195947\ttest: 0.8445294\tbest: 0.8445294 (350)\ttotal: 1m 59s\tremaining: 9m 23s\n",
      "400:\tlearn: 0.5963646\ttest: 0.8420365\tbest: 0.8418169 (392)\ttotal: 2m 16s\tremaining: 9m 5s\n",
      "450:\tlearn: 0.5741966\ttest: 0.8405985\tbest: 0.8405985 (450)\ttotal: 2m 33s\tremaining: 8m 48s\n",
      "500:\tlearn: 0.5587965\ttest: 0.8403276\tbest: 0.8392733 (473)\ttotal: 2m 50s\tremaining: 8m 31s\n",
      "Stopped by overfitting detector  (50 iterations wait)\n",
      "\n",
      "bestTest = 0.8392733017\n",
      "bestIteration = 473\n",
      "\n",
      "Shrink model to first 474 iterations.\n",
      "fit fold=6192.863[s]\n",
      "Fold 6 RMSLE: 0.8393\n",
      "0:\tlearn: 1.3525448\ttest: 1.2698845\tbest: 1.2698845 (0)\ttotal: 341ms\tremaining: 11m 21s\n",
      "50:\tlearn: 0.8985337\ttest: 0.8499259\tbest: 0.8499259 (50)\ttotal: 17.6s\tremaining: 11m 13s\n",
      "100:\tlearn: 0.8309220\ttest: 0.8288524\tbest: 0.8288524 (100)\ttotal: 34.7s\tremaining: 10m 51s\n",
      "150:\tlearn: 0.7628722\ttest: 0.8148047\tbest: 0.8148047 (150)\ttotal: 51.6s\tremaining: 10m 32s\n",
      "200:\tlearn: 0.7156146\ttest: 0.8093711\tbest: 0.8093029 (199)\ttotal: 1m 8s\tremaining: 10m 14s\n",
      "250:\tlearn: 0.6777081\ttest: 0.8035385\tbest: 0.8035385 (250)\ttotal: 1m 25s\tremaining: 9m 57s\n",
      "300:\tlearn: 0.6482725\ttest: 0.8005428\tbest: 0.7994845 (285)\ttotal: 1m 42s\tremaining: 9m 40s\n",
      "Stopped by overfitting detector  (50 iterations wait)\n",
      "\n",
      "bestTest = 0.7994844699\n",
      "bestIteration = 285\n",
      "\n",
      "Shrink model to first 286 iterations.\n",
      "fit fold=7128.783[s]\n",
      "Fold 7 RMSLE: 0.7995\n",
      "0:\tlearn: 1.3474747\ttest: 1.3315116\tbest: 1.3315116 (0)\ttotal: 335ms\tremaining: 11m 10s\n",
      "50:\tlearn: 0.9042250\ttest: 0.8389058\tbest: 0.8389018 (49)\ttotal: 17s\tremaining: 10m 47s\n",
      "100:\tlearn: 0.8315739\ttest: 0.8252874\tbest: 0.8244983 (96)\ttotal: 33.8s\tremaining: 10m 34s\n",
      "150:\tlearn: 0.7681161\ttest: 0.8135303\tbest: 0.8135303 (150)\ttotal: 50.6s\tremaining: 10m 19s\n",
      "200:\tlearn: 0.7178413\ttest: 0.8108219\tbest: 0.8108165 (199)\ttotal: 1m 7s\tremaining: 10m 5s\n",
      "250:\tlearn: 0.6798324\ttest: 0.8078028\tbest: 0.8066463 (239)\ttotal: 1m 24s\tremaining: 9m 51s\n",
      "300:\tlearn: 0.6482654\ttest: 0.8082258\tbest: 0.8063812 (263)\ttotal: 1m 42s\tremaining: 9m 36s\n",
      "Stopped by overfitting detector  (50 iterations wait)\n",
      "\n",
      "bestTest = 0.8063811723\n",
      "bestIteration = 263\n",
      "\n",
      "Shrink model to first 264 iterations.\n",
      "fit fold=8119.989[s]\n",
      "Fold 8 RMSLE: 0.8064\n",
      "0:\tlearn: 1.3350817\ttest: 1.4157283\tbest: 1.4157283 (0)\ttotal: 352ms\tremaining: 11m 43s\n",
      "50:\tlearn: 0.9019537\ttest: 0.8866809\tbest: 0.8866809 (50)\ttotal: 17.4s\tremaining: 11m 3s\n",
      "100:\tlearn: 0.8330405\ttest: 0.8846991\tbest: 0.8668580 (77)\ttotal: 34.4s\tremaining: 10m 45s\n",
      "Stopped by overfitting detector  (50 iterations wait)\n",
      "\n",
      "bestTest = 0.8668580014\n",
      "bestIteration = 77\n",
      "\n",
      "Shrink model to first 78 iterations.\n",
      "fit fold=957.697[s]\n",
      "Fold 9 RMSLE: 0.8669\n",
      "0:\tlearn: 1.3323575\ttest: 1.4475958\tbest: 1.4475958 (0)\ttotal: 341ms\tremaining: 11m 22s\n",
      "50:\tlearn: 0.8880551\ttest: 1.0981145\tbest: 1.0981145 (50)\ttotal: 17.7s\tremaining: 11m 15s\n",
      "100:\tlearn: 0.8183634\ttest: 1.0880730\tbest: 1.0873613 (99)\ttotal: 34.8s\tremaining: 10m 55s\n",
      "150:\tlearn: 0.7543695\ttest: 1.0559754\tbest: 1.0559754 (150)\ttotal: 52s\tremaining: 10m 37s\n",
      "200:\tlearn: 0.7133238\ttest: 1.0569170\tbest: 1.0549818 (177)\ttotal: 1m 9s\tremaining: 10m 17s\n",
      "Stopped by overfitting detector  (50 iterations wait)\n",
      "\n",
      "bestTest = 1.054981784\n",
      "bestIteration = 177\n",
      "\n",
      "Shrink model to first 178 iterations.\n",
      "fit fold=1091.598[s]\n",
      "Fold 10 RMSLE: 1.0550\n",
      "FINISHED | Whole RMSLE: 0.9480\n"
     ]
    }
   ],
   "source": [
    "cv = create_folds(train_feat_df.values, y)\r\n",
    "cat_oof_pred['binned'], cat_models['binned'] = fit_catboost(train_feat_df.values, y, cv, params=cat_params)"
   ]
  },
  {
   "cell_type": "markdown",
   "metadata": {
    "id": "SVGmERcW5bTf"
   },
   "source": [
    "## Note"
   ]
  },
  {
   "cell_type": "markdown",
   "metadata": {
    "id": "ysATPmZOEuP4"
   },
   "source": [
    "### Feature Importance\r\n",
    "\r\n"
   ]
  },
  {
   "cell_type": "code",
   "execution_count": null,
   "metadata": {
    "id": "jCXyUzoTyMkA"
   },
   "outputs": [],
   "source": [
    "!pip install shap\r\n",
    "clear_output()\r\n",
    "\r\n",
    "import shap"
   ]
  },
  {
   "cell_type": "code",
   "execution_count": null,
   "metadata": {
    "id": "BOmIi1_vyhZs"
   },
   "outputs": [],
   "source": [
    "shap_values = np.zeros(test_feat_df.shape)\r\n",
    "\r\n",
    "for i in range(len(lgb_models['grouped'])):\r\n",
    "  shap_values += shap.TreeExplainer(lgb_models['grouped'][i]).shap_values(test_feat_df)\r\n",
    "\r\n",
    "shap_values /= len(lgb_models['grouped'])\r\n",
    "\r\n",
    "shap.summary_plot(shap_values, test_feat_df)"
   ]
  },
  {
   "cell_type": "code",
   "execution_count": null,
   "metadata": {
    "id": "cG5x4l0o8TjA"
   },
   "outputs": [],
   "source": [
    "shap_values = np.zeros(test_feat_df.shape)\r\n",
    "\r\n",
    "for i in range(len(lgb_models['binned'])):\r\n",
    "  shap_values += shap.TreeExplainer(lgb_models['binned'][i]).shap_values(test_feat_df)\r\n",
    "\r\n",
    "shap_values /= len(lgb_models['binned'])\r\n",
    "\r\n",
    "shap.summary_plot(shap_values, test_feat_df)"
   ]
  },
  {
   "cell_type": "code",
   "execution_count": null,
   "metadata": {
    "id": "mqd-0CNH_BEz"
   },
   "outputs": [],
   "source": [
    "shap_values = np.zeros(test_feat_df.shape)\r\n",
    "\r\n",
    "for i in range(len(cat_models['grouped'])):\r\n",
    "  shap_values += shap.TreeExplainer(cat_models['grouped'][i]).shap_values(test_feat_df)\r\n",
    "\r\n",
    "shap_values /= len(cat_models['grouped'])\r\n",
    "\r\n",
    "shap.summary_plot(shap_values, test_feat_df)"
   ]
  },
  {
   "cell_type": "code",
   "execution_count": null,
   "metadata": {
    "id": "9mFQW_rQ8WTj"
   },
   "outputs": [],
   "source": [
    "shap_values = np.zeros(test_feat_df.shape)\r\n",
    "\r\n",
    "for i in range(len(cat_models['binned'])):\r\n",
    "  shap_values += shap.TreeExplainer(cat_models['binned'][i]).shap_values(test_feat_df)\r\n",
    "\r\n",
    "shap_values /= len(cat_models['binned'])\r\n",
    "\r\n",
    "shap.summary_plot(shap_values, test_feat_df)"
   ]
  },
  {
   "cell_type": "code",
   "execution_count": 1,
   "metadata": {
    "executionInfo": {
     "elapsed": 1146,
     "status": "ok",
     "timestamp": 1608044689520,
     "user": {
      "displayName": "김준형",
      "photoUrl": "https://lh3.googleusercontent.com/a-/AOh14GjoucIizMtFKPEd5GLr281FF-qhH43HTCNZtxOuTzA=s64",
      "userId": "17669351473013187910"
     },
     "user_tz": -540
    },
    "id": "DdMzi0KIDBVL"
   },
   "outputs": [],
   "source": [
    "def visualize_importance(models, feat_train_df, importance_type='gain'):\n",
    "  feature_importance_df = pd.DataFrame()\n",
    "\n",
    "  for i, model in enumerate(models):\n",
    "    _df = pd.DataFrame()\n",
    "    _df['feature_importance'] = model.feature_importance(importance_type)\n",
    "    _df['column'] = feat_train_df.columns\n",
    "    _df['fold'] = i + 1\n",
    "\n",
    "    feature_importance_df = pd.concat([feature_importance_df,\n",
    "                                       _df], axis=0, ignore_index=True)\n",
    "    \n",
    "  order = feature_importance_df.groupby('column')\\\n",
    "        .sum()[['feature_importance']]\\\n",
    "        .sort_values('feature_importance', ascending=False).index[:50]\n",
    "\n",
    "  fig, ax = plt.subplots(figsize=(max(6, len(order) * .4), 7))\n",
    "  sns.boxenplot(data=feature_importance_df, \n",
    "                y='column', \n",
    "                x='feature_importance',\n",
    "                order=order,\n",
    "                ax=ax,\n",
    "                orient='h',\n",
    "                palette='viridis')\n",
    "  ax.tick_params(axis='x', rotation=90)\n",
    "  ax.grid(True)\n",
    "  fig.tight_layout()\n",
    "  return fig, ax"
   ]
  },
  {
   "cell_type": "code",
   "execution_count": 2,
   "metadata": {
    "colab": {
     "base_uri": "https://localhost:8080/"
    },
    "executionInfo": {
     "elapsed": 2384,
     "status": "error",
     "timestamp": 1608044690782,
     "user": {
      "displayName": "김준형",
      "photoUrl": "https://lh3.googleusercontent.com/a-/AOh14GjoucIizMtFKPEd5GLr281FF-qhH43HTCNZtxOuTzA=s64",
      "userId": "17669351473013187910"
     },
     "user_tz": -540
    },
    "id": "5SdGEMjLHtjY",
    "outputId": "30120b5f-f5a3-496c-dc46-e1e452ea061f"
   },
   "outputs": [
    {
     "ename": "NameError",
     "evalue": "ignored",
     "output_type": "error",
     "traceback": [
      "\u001b[0;31m---------------------------------------------------------------------------\u001b[0m",
      "\u001b[0;31mNameError\u001b[0m                                 Traceback (most recent call last)",
      "\u001b[0;32m<ipython-input-2-7de0e93b97c4>\u001b[0m in \u001b[0;36m<module>\u001b[0;34m()\u001b[0m\n\u001b[0;32m----> 1\u001b[0;31m \u001b[0mfig\u001b[0m\u001b[0;34m,\u001b[0m \u001b[0max\u001b[0m \u001b[0;34m=\u001b[0m \u001b[0mvisualize_importance\u001b[0m\u001b[0;34m(\u001b[0m\u001b[0mlgb_models\u001b[0m\u001b[0;34m[\u001b[0m\u001b[0;34m'grouped'\u001b[0m\u001b[0;34m]\u001b[0m\u001b[0;34m,\u001b[0m \u001b[0mtrain_feat_df\u001b[0m\u001b[0;34m)\u001b[0m\u001b[0;34m\u001b[0m\u001b[0;34m\u001b[0m\u001b[0m\n\u001b[0m",
      "\u001b[0;31mNameError\u001b[0m: name 'lgb_models' is not defined"
     ]
    }
   ],
   "source": [
    "fig, ax = visualize_importance(lgb_models['grouped'], train_feat_df)"
   ]
  },
  {
   "cell_type": "code",
   "execution_count": null,
   "metadata": {
    "colab": {
     "base_uri": "https://localhost:8080/",
     "height": 422
    },
    "executionInfo": {
     "elapsed": 4740,
     "status": "ok",
     "timestamp": 1607849692368,
     "user": {
      "displayName": "김준형",
      "photoUrl": "https://lh3.googleusercontent.com/a-/AOh14GjoucIizMtFKPEd5GLr281FF-qhH43HTCNZtxOuTzA=s64",
      "userId": "17669351473013187910"
     },
     "user_tz": -540
    },
    "id": "bpJN5aJ-9oaQ",
    "outputId": "a02fcc8c-0a82-4aa1-e7dc-afe40f20ff8b"
   },
   "outputs": [
    {
     "data": {
      "image/png": "[encoded data removed]",
      "text/plain": [
       "<Figure size 1440x504 with 1 Axes>"
      ]
     },
     "metadata": {
      "needs_background": "dark",
      "tags": []
     },
     "output_type": "display_data"
    }
   ],
   "source": [
    "fig, ax = visualize_importance(lgb_models['binned'], train_feat_df)"
   ]
  },
  {
   "cell_type": "markdown",
   "metadata": {
    "id": "9wtqVf_fucJl"
   },
   "source": [
    "## Submission"
   ]
  },
  {
   "cell_type": "markdown",
   "metadata": {
    "id": "VFQF8_yFPGyg"
   },
   "source": [
    "### CV"
   ]
  },
  {
   "cell_type": "code",
   "execution_count": null,
   "metadata": {
    "colab": {
     "base_uri": "https://localhost:8080/"
    },
    "executionInfo": {
     "elapsed": 919,
     "status": "ok",
     "timestamp": 1607849704149,
     "user": {
      "displayName": "김준형",
      "photoUrl": "https://lh3.googleusercontent.com/a-/AOh14GjoucIizMtFKPEd5GLr281FF-qhH43HTCNZtxOuTzA=s64",
      "userId": "17669351473013187910"
     },
     "user_tz": -540
    },
    "id": "sirri3YqGFHq",
    "outputId": "b28d1543-75e7-4c27-f31d-87afcea541b0"
   },
   "outputs": [
    {
     "name": "stdout",
     "output_type": "stream",
     "text": [
      "FINISHED | Whole RMSLE: 0.9566\n"
     ]
    }
   ],
   "source": [
    "score = MSLE(y, (lgb_oof_pred['grouped']+lgb_oof_pred['binned'])/2) ** .5\r\n",
    "print(f'FINISHED | Whole RMSLE: {score:.4f}')"
   ]
  },
  {
   "cell_type": "code",
   "execution_count": null,
   "metadata": {
    "id": "Vrsa2y86J24Y"
   },
   "outputs": [],
   "source": [
    "pred = np.array([model.predict(test_feat_df.values) for model in lgb_models['grouped'] + lgb_models['binned']])\n",
    "pred = np.expm1(pred)\n",
    "pred = np.mean(pred, axis=0)\n",
    "pred = np.where(pred < 0, 0, pred)\n",
    "sub_df = pd.DataFrame({ 'Global_Sales': pred })\n",
    "sub_df.to_csv('submission.csv', index=False)"
   ]
  },
  {
   "cell_type": "code",
   "execution_count": null,
   "metadata": {
    "colab": {
     "base_uri": "https://localhost:8080/",
     "height": 537
    },
    "executionInfo": {
     "elapsed": 14743,
     "status": "ok",
     "timestamp": 1607849720049,
     "user": {
      "displayName": "김준형",
      "photoUrl": "https://lh3.googleusercontent.com/a-/AOh14GjoucIizMtFKPEd5GLr281FF-qhH43HTCNZtxOuTzA=s64",
      "userId": "17669351473013187910"
     },
     "user_tz": -540
    },
    "id": "4FEFfsbKKAES",
    "outputId": "042e4030-ec79-4f8d-aad9-58eb2ad62be2"
   },
   "outputs": [
    {
     "name": "stderr",
     "output_type": "stream",
     "text": [
      "`distplot` is a deprecated function and will be removed in a future version. Please adapt your code to use either `displot` (a figure-level function with similar flexibility) or `histplot` (an axes-level function for histograms).\n",
      "`distplot` is a deprecated function and will be removed in a future version. Please adapt your code to use either `displot` (a figure-level function with similar flexibility) or `histplot` (an axes-level function for histograms).\n"
     ]
    },
    {
     "data": {
      "image/png": "[encoded data removed]",
      "text/plain": [
       "<Figure size 576x576 with 1 Axes>"
      ]
     },
     "metadata": {
      "needs_background": "dark",
      "tags": []
     },
     "output_type": "display_data"
    }
   ],
   "source": [
    "fig, ax = plt.subplots(figsize=(8, 8))\n",
    "sns.distplot(np.log1p(pred), label='Test Predict')\n",
    "sns.distplot((np.log1p(lgb_oof_pred['grouped']) + np.log1p(lgb_oof_pred['binned']))/2, label='Out Of Fold')\n",
    "ax.legend()\n",
    "ax.grid()"
   ]
  },
  {
   "cell_type": "markdown",
   "metadata": {
    "id": "7RNW5ighJvGa"
   },
   "source": [
    "### Stacking"
   ]
  },
  {
   "cell_type": "code",
   "execution_count": null,
   "metadata": {
    "id": "5R6MGkoFHqL6"
   },
   "outputs": [],
   "source": [
    "from sklearn.linear_model import ElasticNet\r\n",
    "from lightgbm import LGBMRegressor"
   ]
  },
  {
   "cell_type": "code",
   "execution_count": null,
   "metadata": {
    "id": "RlpTWkMZHRbS"
   },
   "outputs": [],
   "source": [
    "lv_1_train_pred = np.array([model.predict(train_feat_df.values) for model in\\\r\n",
    "                            lgb_models['grouped'] + cat_models['grouped'] + lgb_models['binned'] + cat_models['binned']]).T\r\n",
    "lv_1_test_pred = np.array([model.predict(test_feat_df.values) for model in\\\r\n",
    "                           lgb_models['grouped'] + cat_models['grouped'] + lgb_models['binned'] + cat_models['binned']]).T\r\n",
    "\r\n",
    "meta_regressor = ElasticNet().fit(lv_1_train_pred, np.log1p(y))"
   ]
  },
  {
   "cell_type": "code",
   "execution_count": null,
   "metadata": {
    "id": "MZGy_oVLIdyt"
   },
   "outputs": [],
   "source": [
    "lv_2_test_pred = meta_regressor.predict(lv_1_test_pred)\r\n",
    "lv_2_test_pred = np.expm1(lv_2_test_pred)\r\n",
    "lv_2_test_pred = np.where(lv_2_test_pred < 0, 0, lv_2_test_pred)"
   ]
  },
  {
   "cell_type": "code",
   "execution_count": null,
   "metadata": {
    "id": "BBRQ0r9VJGkh"
   },
   "outputs": [],
   "source": [
    "sub_df = pd.DataFrame({ 'Global_Sales': lv_2_test_pred })\r\n",
    "sub_df.to_csv('submission.csv', index=False)"
   ]
  },
  {
   "cell_type": "code",
   "execution_count": null,
   "metadata": {
    "colab": {
     "base_uri": "https://localhost:8080/",
     "height": 537
    },
    "executionInfo": {
     "elapsed": 1386,
     "status": "ok",
     "timestamp": 1607844118891,
     "user": {
      "displayName": "김준형",
      "photoUrl": "https://lh3.googleusercontent.com/a-/AOh14GjoucIizMtFKPEd5GLr281FF-qhH43HTCNZtxOuTzA=s64",
      "userId": "17669351473013187910"
     },
     "user_tz": -540
    },
    "id": "pEG9BX_YJ03Q",
    "outputId": "39dfb564-35d2-40a0-97d1-99ae092dd7cc"
   },
   "outputs": [
    {
     "name": "stderr",
     "output_type": "stream",
     "text": [
      "`distplot` is a deprecated function and will be removed in a future version. Please adapt your code to use either `displot` (a figure-level function with similar flexibility) or `histplot` (an axes-level function for histograms).\n",
      "`distplot` is a deprecated function and will be removed in a future version. Please adapt your code to use either `displot` (a figure-level function with similar flexibility) or `histplot` (an axes-level function for histograms).\n"
     ]
    },
    {
     "data": {
      "image/png": "[encoded data removed]",
      "text/plain": [
       "<Figure size 576x576 with 1 Axes>"
      ]
     },
     "metadata": {
      "needs_background": "dark",
      "tags": []
     },
     "output_type": "display_data"
    }
   ],
   "source": [
    "fig, ax = plt.subplots(figsize=(8, 8))\r\n",
    "sns.distplot(np.log1p(lv_2_test_pred), label='Test Predict')\r\n",
    "sns.distplot(np.log1p(\r\n",
    "    (lgb_oof_pred['grouped'] + cat_oof_pred['grouped'] + lgb_oof_pred['binned'] + cat_oof_pred['binned'])/4), label='Out Of Fold')\r\n",
    "ax.legend()\r\n",
    "ax.grid()"
   ]
  },
  {
   "cell_type": "markdown",
   "metadata": {
    "id": "8FfFEqTSs_je"
   },
   "source": [
    "### CV Blending"
   ]
  },
  {
   "cell_type": "code",
   "execution_count": null,
   "metadata": {
    "id": "7QQ621zCvq5m"
   },
   "outputs": [],
   "source": [
    "meta_regressor =  LGBMRegressor(importance_type='gain')"
   ]
  },
  {
   "cell_type": "code",
   "execution_count": null,
   "metadata": {
    "colab": {
     "base_uri": "https://localhost:8080/"
    },
    "executionInfo": {
     "elapsed": 26338,
     "status": "ok",
     "timestamp": 1607841683447,
     "user": {
      "displayName": "김준형",
      "photoUrl": "https://lh3.googleusercontent.com/a-/AOh14GjoucIizMtFKPEd5GLr281FF-qhH43HTCNZtxOuTzA=s64",
      "userId": "17669351473013187910"
     },
     "user_tz": -540
    },
    "id": "d1UFg_ESufrE",
    "outputId": "9f0d30cc-1e70-4462-d509-98c2a0546f9d"
   },
   "outputs": [
    {
     "data": {
      "text/plain": [
       "LGBMRegressor(boosting_type='gbdt', class_weight=None, colsample_bytree=1.0,\n",
       "              importance_type='gain', learning_rate=0.1, max_depth=-1,\n",
       "              min_child_samples=20, min_child_weight=0.001, min_split_gain=0.0,\n",
       "              n_estimators=100, n_jobs=-1, num_leaves=31, objective=None,\n",
       "              random_state=None, reg_alpha=0.0, reg_lambda=0.0, silent=True,\n",
       "              subsample=1.0, subsample_for_bin=200000, subsample_freq=0)"
      ]
     },
     "execution_count": 119,
     "metadata": {
      "tags": []
     },
     "output_type": "execute_result"
    }
   ],
   "source": [
    "meta_regressor.fit(\r\n",
    "    X=pd.concat([train_feat_df, \r\n",
    "                 pd.DataFrame(np.log1p(lgb_oof_pred['grouped']), columns=['lv1_lgb_train_pred']),\r\n",
    "                 pd.DataFrame(np.log1p(cat_oof_pred['grouped']), columns=['lv1_cat_train_pred'])\r\n",
    "                ], axis=1),\r\n",
    "    y=np.log1p(y)\r\n",
    ")"
   ]
  },
  {
   "cell_type": "code",
   "execution_count": null,
   "metadata": {
    "id": "Xf4_0PmMwq8p"
   },
   "outputs": [],
   "source": [
    "lgb_pred = np.mean([model.predict(test_feat_df.values) for model in lgb_models['grouped']], axis=0)\r\n",
    "cat_pred = np.mean([model.predict(test_feat_df.values) for model in cat_models['grouped']], axis=0)"
   ]
  },
  {
   "cell_type": "code",
   "execution_count": null,
   "metadata": {
    "id": "GZkwEJLlJ2Ra"
   },
   "outputs": [],
   "source": [
    "lv2_test_pred = meta_regressor.predict(\r\n",
    "    pd.concat([test_feat_df,\r\n",
    "               pd.DataFrame(lgb_pred, columns=['lv1_lgb_test_pred']),\r\n",
    "              #  pd.DataFrame(cat_pred, columns=['lv1_cat_test_pred'])\r\n",
    "    ], axis=1))\r\n",
    "\r\n",
    "lv_2_test_pred = np.expm1(lv_2_test_pred)\r\n",
    "lv_2_test_pred = np.where(lv_2_test_pred < 0, 0, lv_2_test_pred)"
   ]
  },
  {
   "cell_type": "code",
   "execution_count": null,
   "metadata": {
    "id": "mCzDLZHDtsKn"
   },
   "outputs": [],
   "source": [
    "sub_df = pd.DataFrame({ 'Global_Sales': lv_2_test_pred })\r\n",
    "sub_df.to_csv('submission.csv', index=False)"
   ]
  },
  {
   "cell_type": "code",
   "execution_count": null,
   "metadata": {
    "colab": {
     "base_uri": "https://localhost:8080/",
     "height": 537
    },
    "executionInfo": {
     "elapsed": 1214,
     "status": "ok",
     "timestamp": 1607841245199,
     "user": {
      "displayName": "김준형",
      "photoUrl": "https://lh3.googleusercontent.com/a-/AOh14GjoucIizMtFKPEd5GLr281FF-qhH43HTCNZtxOuTzA=s64",
      "userId": "17669351473013187910"
     },
     "user_tz": -540
    },
    "id": "IzeoNlZQxayc",
    "outputId": "f9353665-4105-4fff-de31-a7c7898d7be1"
   },
   "outputs": [
    {
     "name": "stderr",
     "output_type": "stream",
     "text": [
      "`distplot` is a deprecated function and will be removed in a future version. Please adapt your code to use either `displot` (a figure-level function with similar flexibility) or `histplot` (an axes-level function for histograms).\n",
      "`distplot` is a deprecated function and will be removed in a future version. Please adapt your code to use either `displot` (a figure-level function with similar flexibility) or `histplot` (an axes-level function for histograms).\n"
     ]
    },
    {
     "data": {
      "image/png": "[encoded data removed]",
      "text/plain": [
       "<Figure size 576x576 with 1 Axes>"
      ]
     },
     "metadata": {
      "needs_background": "dark",
      "tags": []
     },
     "output_type": "display_data"
    }
   ],
   "source": [
    "fig, ax = plt.subplots(figsize=(8, 8))\r\n",
    "sns.distplot(np.log1p(lv_2_test_pred), label='Test Predict')\r\n",
    "sns.distplot(np.log1p(lgb_oof_pred['grouped']), label='Out Of Fold')\r\n",
    "ax.legend()\r\n",
    "ax.grid()"
   ]
  },
  {
   "cell_type": "code",
   "execution_count": null,
   "metadata": {
    "id": "Lzs9Al0Axcax"
   },
   "outputs": [],
   "source": []
  }
 ],
 "metadata": {
  "colab": {
   "authorship_tag": "ABX9TyO1L03i9G9zj5StFOUQM1xV",
   "collapsed_sections": [
    "7MAm6Jkqg-Vc"
   ],
   "mount_file_id": "1nefhiYG4eNLHcFdP27aFf66rcMkxDqXF",
   "name": "atmaCup8_Challenger.ipynb",
   "provenance": []
  },
  "kernelspec": {
   "display_name": "Python 3",
   "language": "python",
   "name": "python3"
  },
  "language_info": {
   "codemirror_mode": {
    "name": "ipython",
    "version": 3
   },
   "file_extension": ".py",
   "mimetype": "text/x-python",
   "name": "python",
   "nbconvert_exporter": "python",
   "pygments_lexer": "ipython3",
   "version": "3.9.1"
  }
 },
 "nbformat": 4,
 "nbformat_minor": 4
}
